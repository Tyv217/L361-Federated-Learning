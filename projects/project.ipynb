{
  "cells": [
    {
      "cell_type": "markdown",
      "metadata": {
        "id": "_RVKTUExooKZ"
      },
      "source": [
        "# 1. Initialization\n",
        "\n",
        "This section contains code for initialization. It contains code from the labs relating to dataset preparation, setting up the experiments, and helper functions etc.\n",
        "\n"
      ]
    },
    {
      "cell_type": "code",
      "execution_count": 1,
      "metadata": {
        "colab": {
          "base_uri": "https://localhost:8080/"
        },
        "id": "Bbc-zZGqJDJB",
        "outputId": "7379aefd-6504-4eb9-ccee-1b4cc32cc2e4"
      },
      "outputs": [
        {
          "output_type": "stream",
          "name": "stdout",
          "text": [
            "\u001b[2K     \u001b[90m━━━━━━━━━━━━━━━━━━━━━━━━━━━━━━━━━━━━━━━━\u001b[0m \u001b[32m2.1/2.1 MB\u001b[0m \u001b[31m8.5 MB/s\u001b[0m eta \u001b[36m0:00:00\u001b[0m\n",
            "\u001b[?25h  Installing build dependencies ... \u001b[?25l\u001b[?25hdone\n",
            "  Getting requirements to build wheel ... \u001b[?25l\u001b[?25hdone\n",
            "  Preparing metadata (pyproject.toml) ... \u001b[?25l\u001b[?25hdone\n",
            "\u001b[2K   \u001b[90m━━━━━━━━━━━━━━━━━━━━━━━━━━━━━━━━━━━━━━━━\u001b[0m \u001b[32m56.9/56.9 MB\u001b[0m \u001b[31m2.8 MB/s\u001b[0m eta \u001b[36m0:00:00\u001b[0m\n",
            "\u001b[2K   \u001b[90m━━━━━━━━━━━━━━━━━━━━━━━━━━━━━━━━━━━━━━━━\u001b[0m \u001b[32m4.4/4.4 MB\u001b[0m \u001b[31m2.7 MB/s\u001b[0m eta \u001b[36m0:00:00\u001b[0m\n",
            "\u001b[2K   \u001b[90m━━━━━━━━━━━━━━━━━━━━━━━━━━━━━━━━━━━━━━━━\u001b[0m \u001b[32m2.1/2.1 MB\u001b[0m \u001b[31m2.2 MB/s\u001b[0m eta \u001b[36m0:00:00\u001b[0m\n",
            "\u001b[?25h  Building wheel for flwr (pyproject.toml) ... \u001b[?25l\u001b[?25hdone\n",
            "\u001b[33mWARNING: Running pip as the 'root' user can result in broken permissions and conflicting behaviour with the system package manager. It is recommended to use a virtual environment instead: https://pip.pypa.io/warnings/venv\u001b[0m\u001b[33m\n",
            "\u001b[0m"
          ]
        }
      ],
      "source": [
        "! pip install --quiet --upgrade \"pip\"\n",
        "! pip install --quiet git+https://github.com/Iacob-Alexandru-Andrei/flower.git@teaching torch torchvision matplotlib gdown tqdm ray==\"2.6.3\" seaborn"
      ]
    },
    {
      "cell_type": "code",
      "execution_count": 5,
      "metadata": {
        "id": "99aC-H3gr5ey"
      },
      "outputs": [],
      "source": [
        "# Imports\n",
        "\n",
        "import sys\n",
        "import random\n",
        "from collections.abc import Callable, Sequence\n",
        "from copy import deepcopy\n",
        "from pathlib import Path\n",
        "from typing import Any\n",
        "from logging import INFO\n",
        "from datetime import timezone\n",
        "from datetime import datetime\n",
        "\n",
        "import flwr as fl\n",
        "import gdown\n",
        "import matplotlib.pyplot as plt\n",
        "import numpy as np\n",
        "import csv\n",
        "\n",
        "\n",
        "import seaborn as sns\n",
        "import pandas as pd\n",
        "import torch\n",
        "from torch import nn\n",
        "import json\n",
        "import torch.nn.functional as F\n",
        "import torchvision\n",
        "from flwr.common.parameter import ndarrays_to_parameters\n",
        "from flwr.common.typing import NDArrays, Parameters, Scalar\n",
        "from flwr.common.logger import log\n",
        "from flwr.server import ServerConfig, History\n",
        "from flwr.server.strategy import FedAvg, Strategy\n",
        "from torch.nn import Module\n",
        "from torch.utils.data import DataLoader, Dataset\n",
        "from torchvision import transforms\n",
        "from tqdm import tqdm\n",
        "from enum import IntEnum\n",
        "from flwr.client import Client\n",
        "\n",
        "\n",
        "# Add new seeds here for easy autocomplete\n",
        "class Seeds(IntEnum):\n",
        "    DEFAULT = 1337\n",
        "\n",
        "\n",
        "np.random.seed(Seeds.DEFAULT)\n",
        "random.seed(Seeds.DEFAULT)\n",
        "torch.manual_seed(Seeds.DEFAULT)\n",
        "torch.backends.cudnn.benchmark = False\n",
        "torch.backends.cudnn.deterministic = True\n",
        "\n",
        "\n",
        "def fit_client_seeded(client, params, conf, seed=Seeds.DEFAULT):\n",
        "    \"\"\"Wrapper to always seed client training.\"\"\"\n",
        "    np.random.seed(seed)\n",
        "    torch.manual_seed(seed)\n",
        "    random.seed(seed)\n",
        "    return client.fit(params, conf)\n",
        "\n",
        "\n",
        "PathType = Path | str | None"
      ]
    },
    {
      "cell_type": "markdown",
      "source": [
        "The following contains code for preparing the dataset. This project uses CIFAR10 instead of FEMNIST and the code is changed accordingly."
      ],
      "metadata": {
        "id": "wvlgytFAA2ii"
      }
    },
    {
      "cell_type": "code",
      "execution_count": 3,
      "metadata": {
        "id": "2hQhnTM0JU9y"
      },
      "outputs": [],
      "source": [
        "home_dir = content if (content := Path(\"/content\")).exists() else Path.cwd()\n",
        "dataset_dir: Path = home_dir / \"cifar10\"\n",
        "data_dir: Path = dataset_dir / \"data\"\n",
        "centralized_partition: Path = dataset_dir / \"client_data_mappings\" / \"centralized\"\n",
        "centralized_mapping: Path = dataset_dir / \"client_data_mappings\" / \"centralized\" / \"0\""
      ]
    },
    {
      "cell_type": "code",
      "source": [
        "cifar10_train = torchvision.datasets.CIFAR10(dataset_dir, train = True, download = True)\n",
        "cifar10_test = torchvision.datasets.CIFAR10(dataset_dir, train = False, download = True)"
      ],
      "metadata": {
        "id": "05qpjt5ABum2",
        "outputId": "4ec1fe1f-2b2d-458d-fe93-1d33fe93fe95",
        "colab": {
          "base_uri": "https://localhost:8080/"
        }
      },
      "execution_count": 6,
      "outputs": [
        {
          "output_type": "stream",
          "name": "stdout",
          "text": [
            "Downloading https://www.cs.toronto.edu/~kriz/cifar-10-python.tar.gz to /content/cifar10/cifar-10-python.tar.gz\n"
          ]
        },
        {
          "output_type": "stream",
          "name": "stderr",
          "text": [
            "100%|██████████| 170498071/170498071 [00:02<00:00, 63411142.18it/s]\n"
          ]
        },
        {
          "output_type": "stream",
          "name": "stdout",
          "text": [
            "Extracting /content/cifar10/cifar-10-python.tar.gz to /content/cifar10\n",
            "Files already downloaded and verified\n"
          ]
        }
      ]
    },
    {
      "cell_type": "code",
      "source": [
        "sample = next(iter(cifar10_train))\n",
        "sample[0]"
      ],
      "metadata": {
        "id": "XHdCCkikCB0e",
        "outputId": "cfe196b9-fcaa-4816-8d1d-f4bded905399",
        "colab": {
          "base_uri": "https://localhost:8080/",
          "height": 49
        }
      },
      "execution_count": 7,
      "outputs": [
        {
          "output_type": "execute_result",
          "data": {
            "text/plain": [
              "<PIL.Image.Image image mode=RGB size=32x32>"
            ],
            "image/png": "[encoded data removed]"
          },
          "metadata": {},
          "execution_count": 7
        }
      ]
    },
    {
      "cell_type": "code",
      "source": [
        "# Helper functions and experiment setup functions\n",
        "def convert(o: Any) -> int | float:\n",
        "    \"\"\"Convert input object to Python numerical if numpy.\"\"\"\n",
        "    # type: ignore[reportGeneralTypeIssues]\n",
        "    if isinstance(o, np.int32 | np.int64):\n",
        "        return int(o)\n",
        "    # type: ignore[reportGeneralTypeIssues]\n",
        "    if isinstance(o, np.float32 | np.float64):\n",
        "        return float(o)\n",
        "    raise TypeError\n",
        "\n",
        "\n",
        "def save_history(hist: History, name: str) -> None:\n",
        "    \"\"\"Save history from simulation to file.\"\"\"\n",
        "    time = int(datetime.now(timezone.utc).timestamp())\n",
        "    path = home_dir / \"histories\"\n",
        "    path.mkdir(exist_ok=True)\n",
        "    path = path / f\"hist_{time}_{name}.json\"\n",
        "    with open(path, \"w\", encoding=\"utf-8\") as f:\n",
        "        json.dump(hist.__dict__, f, ensure_ascii=False, indent=4, default=convert)\n",
        "\n",
        "\n",
        "def start_seeded_simulation(\n",
        "    client_fn: Callable[[str], Client],\n",
        "    num_clients: int,\n",
        "    config: ServerConfig,\n",
        "    strategy: Strategy,\n",
        "    name: str,\n",
        "    seed: int = Seeds.DEFAULT,\n",
        "    iteration: int = 0,\n",
        ") -> tuple[list[tuple[int, NDArrays]], History]:\n",
        "    \"\"\"Wrap simulation to always seed client selection.\"\"\"\n",
        "    np.random.seed(seed ^ iteration)\n",
        "    torch.manual_seed(seed ^ iteration)\n",
        "    random.seed(seed ^ iteration)\n",
        "    parameter_list, hist = fl.simulation.start_simulation_no_ray(\n",
        "        client_fn=client_fn,\n",
        "        num_clients=num_clients,\n",
        "        client_resources={},\n",
        "        config=config,\n",
        "        strategy=strategy,\n",
        "    )\n",
        "    save_history(hist, name)\n",
        "    return parameter_list, hist"
      ],
      "metadata": {
        "id": "Y4qq8gTTBLIl"
      },
      "execution_count": 8,
      "outputs": []
    },
    {
      "cell_type": "code",
      "source": [
        "if not (home_dir / \"common\").exists():\n",
        "    ! git clone \"https://github.com/camlsys/L361-Federated-Learning.git\" temp_repo\n",
        "\n",
        "    # Copy the folder to the current directory\n",
        "    ! cp -r \"temp_repo/labs/common\" {home_dir}\n",
        "\n",
        "    # Delete the cloned repository\n",
        "    ! rm -rf temp_repo\n",
        "\n",
        "    # Create the __init__.py file\n",
        "    (home_dir / \"__init__.py\").open(mode=\"a+\")"
      ],
      "metadata": {
        "id": "xLbpNynNHEnd",
        "outputId": "fcbd3718-9f55-4c78-a9cd-7188b5d65488",
        "colab": {
          "base_uri": "https://localhost:8080/"
        }
      },
      "execution_count": 9,
      "outputs": [
        {
          "output_type": "stream",
          "name": "stdout",
          "text": [
            "Cloning into 'temp_repo'...\n",
            "remote: Enumerating objects: 214, done.\u001b[K\n",
            "remote: Counting objects: 100% (79/79), done.\u001b[K\n",
            "remote: Compressing objects: 100% (45/45), done.\u001b[K\n",
            "remote: Total 214 (delta 54), reused 50 (delta 34), pack-reused 135\u001b[K\n",
            "Receiving objects: 100% (214/214), 648.81 KiB | 5.15 MiB/s, done.\n",
            "Resolving deltas: 100% (121/121), done.\n"
          ]
        }
      ]
    },
    {
      "cell_type": "code",
      "source": [
        "from common.client_utils import (\n",
        "    to_tensor_transform,\n",
        "    get_model_parameters,\n",
        "    set_model_parameters,\n",
        "    get_federated_evaluation_function,\n",
        "    aggregate_weighted_average,\n",
        "    get_device,\n",
        ")\n",
        "from common.client import FlowerClient, get_flower_client_generator"
      ],
      "metadata": {
        "id": "ngnYpVnBATFX"
      },
      "execution_count": 10,
      "outputs": []
    },
    {
      "cell_type": "markdown",
      "source": [
        "# 2. Setup\n",
        "\n",
        "Additional experimental setup functions. This includes code for partitioning (as CIFAR10 is not a FL dataset), the models we will be using, and code for setting up the FL experiments."
      ],
      "metadata": {
        "id": "SpsM6V5HaKPr"
      }
    },
    {
      "cell_type": "code",
      "source": [
        "# Some variables\n",
        "\n",
        "NUM_CLIENTS = 100\n",
        "lda_concentrations = [0.1, 1.0, 1000.]\n",
        "lda_concentration_string = [\"0_1\", \"1\", \"1000\"]"
      ],
      "metadata": {
        "id": "Ikw20Ltf-ZqK"
      },
      "execution_count": 11,
      "outputs": []
    },
    {
      "cell_type": "code",
      "source": [
        "# Creating centralized partition\n",
        "train_data_dir: Path = data_dir / \"train\"\n",
        "test_data_dir: Path = data_dir / \"test\"\n",
        "data_dir.mkdir(parents=True, exist_ok=True)\n",
        "train_data_dir.mkdir(parents=True, exist_ok=True)\n",
        "test_data_dir.mkdir(parents=True, exist_ok=True)\n",
        "\n",
        "images_train, labels_train = zip(*cifar10_train)\n",
        "for i, image in enumerate(images_train):\n",
        "  image.save(f\"{train_data_dir}/train_{i}.png\")\n",
        "image_train_paths = [f\"train_{i}.png\" for i, image in enumerate(images_train)]\n",
        "\n",
        "images_test, labels_test = zip(*cifar10_test)\n",
        "for i, image in enumerate(images_test):\n",
        "  image.save(f\"{test_data_dir}/test_{i}.png\")\n",
        "image_test_paths = [f\"test_{i}.png\" for i, image in enumerate(images_test)]\n",
        "\n",
        "centralized_mapping.mkdir(parents=True, exist_ok=True)\n",
        "\n",
        "train_path: Path = centralized_mapping / \"train.csv\"\n",
        "test_path: Path = centralized_mapping / \"test.csv\"\n",
        "\n",
        "pd.DataFrame(\n",
        "    {\n",
        "        \"client_id\": [0] * len(image_train_paths),\n",
        "        \"sample_path\": image_train_paths,\n",
        "        \"sample_id\": range(len(image_train_paths)),\n",
        "        \"label\": labels_train,\n",
        "    }\n",
        ").to_csv(train_path, index=False, mode=\"w\")\n",
        "pd.DataFrame(\n",
        "    {\n",
        "        \"client_id\": [0] * len(image_test_paths),\n",
        "        \"sample_path\": image_test_paths,\n",
        "        \"sample_id\": range(len(image_test_paths)),\n",
        "        \"label\": labels_test,\n",
        "    }\n",
        ").to_csv(test_path, index=False, mode=\"w\")"
      ],
      "metadata": {
        "id": "785Rc1rH-RdD"
      },
      "execution_count": 22,
      "outputs": []
    },
    {
      "cell_type": "code",
      "source": [
        "# Creating federated partition using LDA\n",
        "\n",
        "from common.lda_utils import create_lda_partitions\n",
        "\n",
        "for i, concentration in enumerate(lda_concentrations):\n",
        "  images_train, labels_train = zip(*cifar10_train)\n",
        "  image_train_paths = np.array([f\"train_{i}.png\" for i, image in enumerate(images_train)])\n",
        "  labels_train = np.array(labels_train)\n",
        "  train_clients_partitions, dist = create_lda_partitions(\n",
        "      dataset=(image_train_paths, labels_train),\n",
        "      dirichlet_dist=None,\n",
        "      num_partitions=NUM_CLIENTS,\n",
        "      concentration=concentration,\n",
        "      accept_imbalanced=True,\n",
        "      seed=Seeds.DEFAULT,\n",
        "  )\n",
        "  images_test, labels_test = zip(*cifar10_test)\n",
        "  image_test_paths = np.array([f\"test_{i}.png\" for i, image in enumerate(images_test)])\n",
        "  labels_test = np.array(labels_test)\n",
        "  test_clients_partitions, dist = create_lda_partitions(\n",
        "      dataset=(image_test_paths, labels_test),\n",
        "      dirichlet_dist=dist,\n",
        "      num_partitions=NUM_CLIENTS,\n",
        "      concentration=concentration,\n",
        "      accept_imbalanced=True,\n",
        "      seed=Seeds.DEFAULT,\n",
        "  )\n",
        "  lda_partition: Path = dataset_dir / \"client_data_mappings\" / \"lda\" / lda_concentration_string[i]\n",
        "  if lda_partition.exists():\n",
        "      ! rm -rf {str(lda_partition)}\n",
        "  lda_partition.mkdir(parents=True, exist_ok=True)\n",
        "\n",
        "  for j, (train_set, test_set) in enumerate(\n",
        "      zip(train_clients_partitions, test_clients_partitions, strict=True)\n",
        "  ):\n",
        "      folder_path: Path = lda_partition / str(j)\n",
        "      folder_path.mkdir(parents=True, exist_ok=True)\n",
        "\n",
        "      train_path: Path = folder_path / \"train.csv\"\n",
        "      test_path: Path = folder_path / \"test.csv\"\n",
        "\n",
        "      pd.DataFrame(\n",
        "          {\n",
        "              \"client_id\": [0] * len(train_set[0]),\n",
        "              \"sample_path\": train_set[0],\n",
        "              \"sample_id\": range(len(train_set[0])),\n",
        "              \"label\": train_set[1],\n",
        "          }\n",
        "      ).to_csv(train_path, index=False, mode=\"w\")\n",
        "      pd.DataFrame(\n",
        "          {\n",
        "              \"client_id\": [0] * len(test_set[0]),\n",
        "              \"sample_path\": test_set[0],\n",
        "              \"sample_id\": range(len(test_set[0])),\n",
        "              \"label\": test_set[1],\n",
        "          }\n",
        "      ).to_csv(test_path, index=False, mode=\"w\")"
      ],
      "metadata": {
        "id": "07GGFGlycRKQ"
      },
      "execution_count": 19,
      "outputs": []
    },
    {
      "cell_type": "code",
      "source": [
        "from PIL import Image\n",
        "from PIL.Image import Image as ImageType\n",
        "class ImageDataset(Dataset):\n",
        "\n",
        "    def __init__(\n",
        "        self,\n",
        "        mapping: Path,\n",
        "        data_dir: Path,\n",
        "        name: str = \"train\",\n",
        "        transform: Callable[[ImageType], Any] | None = None,\n",
        "        target_transform: Callable[[int], Any] | None = None,\n",
        "    ) -> None:\n",
        "        \"\"\"\n",
        "        Args:\n",
        "            mapping (Path): path to the mapping folder containing the .csv files.\n",
        "            data_dir (Path): path to the dataset folder. Defaults to data_dir.\n",
        "            name (str): name of the dataset to load, train or test.\n",
        "            transform (Optional[Callable[[ImageType], Any]], optional):\n",
        "                    transform function to be applied to the ImageType object.\n",
        "            target_transform (Optional[Callable[[int], Any]], optional):\n",
        "                    transform function to be applied to the label.\n",
        "        \"\"\"\n",
        "        self.data_dir = data_dir\n",
        "        self.mapping = mapping\n",
        "        self.name = name\n",
        "\n",
        "        self.data: Sequence[tuple[str, int]] = self._load_dataset()\n",
        "        self.transform: Callable[[ImageType], Any] | None = transform\n",
        "        self.target_transform: Callable[[int], Any] | None = target_transform\n",
        "\n",
        "    def __getitem__(self, index: int) -> tuple[Any, Any]:\n",
        "        \"\"\"Get a sample.\n",
        "\n",
        "        Args:\n",
        "            index (_type_): index of the sample.\n",
        "\n",
        "        Returns\n",
        "        -------\n",
        "            Tuple[Any, Any]: couple (sample, label).\n",
        "        \"\"\"\n",
        "        sample_path, label = self.data[index]\n",
        "\n",
        "        # Convert to the full path\n",
        "        full_sample_path: Path = self.data_dir / self.name / sample_path\n",
        "\n",
        "        img: ImageType = Image.open(full_sample_path).convert(\"RGB\")\n",
        "\n",
        "        if self.transform is not None:\n",
        "            img = self.transform(img)\n",
        "\n",
        "        if self.target_transform is not None:\n",
        "            label = self.target_transform(label)\n",
        "\n",
        "        return img, label\n",
        "\n",
        "    def __len__(self) -> int:\n",
        "        \"\"\"Get the length of the dataset as number of samples.\n",
        "\n",
        "        Returns\n",
        "        -------\n",
        "            int: the length of the dataset.\n",
        "        \"\"\"\n",
        "        return len(self.data)\n",
        "\n",
        "    def _load_dataset(self) -> Sequence[tuple[str, int]]:\n",
        "        \"\"\"Load the paths and labels of the partition.\n",
        "\n",
        "        Preprocess the dataset for faster future loading\n",
        "        If opened for the first time\n",
        "\n",
        "        Raises\n",
        "        ------\n",
        "            ValueError: raised if the mapping file doesn't exists\n",
        "\n",
        "        Returns\n",
        "        -------\n",
        "            Sequence[Tuple[str, int]]:\n",
        "                partition asked as a sequence of couples (path_to_file, label)\n",
        "        \"\"\"\n",
        "        preprocessed_path: Path = (self.mapping / self.name).with_suffix(\".pt\")\n",
        "        if preprocessed_path.exists():\n",
        "            return torch.load(preprocessed_path)\n",
        "        else:\n",
        "            csv_path = (self.mapping / self.name).with_suffix(\".csv\")\n",
        "            if not csv_path.exists():\n",
        "                raise ValueError(f\"Required files do not exist, path: {csv_path}\")\n",
        "\n",
        "            with open(csv_path) as csv_file:\n",
        "                csv_reader = csv.reader(csv_file)\n",
        "                # Ignore header\n",
        "                next(csv_reader)\n",
        "\n",
        "                # Extract the samples and the labels\n",
        "                partition: Sequence[tuple[str, int]] = [\n",
        "                    (sample_path, int(label_id))\n",
        "                    for _, sample_path, _, label_id in csv_reader\n",
        "                ]\n",
        "\n",
        "                # Save for future loading\n",
        "                torch.save(partition, preprocessed_path)\n",
        "                return partition\n",
        "\n",
        "def load_dataset(  # noqa: N802\n",
        "    data_dir: Path, mapping: Path, name: str\n",
        ") -> Dataset:\n",
        "    transform = transforms.Compose([\n",
        "        transforms.ToTensor(),\n",
        "    ])\n",
        "    return ImageDataset(\n",
        "        mapping=mapping,\n",
        "        name=name,\n",
        "        data_dir=data_dir,\n",
        "        transform=transform,\n",
        "        target_transform=to_tensor_transform,\n",
        "    )"
      ],
      "metadata": {
        "id": "2w3eTL8TCgZW"
      },
      "execution_count": 54,
      "outputs": []
    },
    {
      "cell_type": "markdown",
      "source": [
        "We first define the models for training. These are simple CNNs and ViTs for CIFAR10."
      ],
      "metadata": {
        "id": "Ob47bicbdGFr"
      }
    },
    {
      "cell_type": "code",
      "source": [
        "class CIFAR10Net(nn.Module):\n",
        "\n",
        "    def __init__(self, num_labels) -> None:\n",
        "        super().__init__()\n",
        "        self.conv1 = nn.Conv2d(3, 32, 3)\n",
        "        self.conv2 = nn.Conv2d(32, 64, 3)\n",
        "        self.conv3 = nn.Conv2d(64, 128, 3)\n",
        "        self.pool = nn.MaxPool2d(2, 2)\n",
        "        self.fc1 = nn.Linear(2048, 128)\n",
        "        self.fc2 = nn.Linear(128, 64)\n",
        "        self.fc3 = nn.Linear(64, num_labels)\n",
        "\n",
        "    def forward(self, x: torch.Tensor) -> torch.Tensor:\n",
        "        \"\"\"\n",
        "        Perform a forward pass through the neural network.\n",
        "\n",
        "        Args:\n",
        "            x (torch.Tensor): The input tensor.\n",
        "\n",
        "        Returns\n",
        "        -------\n",
        "            torch.Tensor: The output tensor.\n",
        "        \"\"\"\n",
        "        x = self.pool(F.relu(self.conv1(x)))\n",
        "        x = self.pool(F.relu(self.conv2(x)))\n",
        "        x = F.relu(self.conv3(x))\n",
        "        x = torch.flatten(x, 1)  # flatten all dimensions except batch\n",
        "        x = F.relu(self.fc1(x))\n",
        "        x = F.relu(self.fc2(x))\n",
        "        x = self.fc3(x)\n",
        "        return x"
      ],
      "metadata": {
        "id": "03Atx3CHxkZF"
      },
      "execution_count": 55,
      "outputs": []
    },
    {
      "cell_type": "code",
      "source": [
        "from common.client import FlowerClient\n",
        "from collections.abc import Sized\n",
        "import logging\n",
        "\n",
        "def get_flower_client_generator(\n",
        "    model_generator: Callable[[], Module],\n",
        "    partition_dir: Path,\n",
        "    data_dir: Path,\n",
        "    mapping_fn: Callable[[int], int] | None = None,\n",
        "    client_class = FlowerClient,\n",
        "    *args,\n",
        "    **kwargs,\n",
        ") -> Callable[[str], FlowerClient]:\n",
        "\n",
        "    def client_fn(cid: str) -> FlowerClient:\n",
        "        return client_class(\n",
        "            cid=mapping_fn(int(cid)) if mapping_fn is not None else int(cid),\n",
        "            partition_dir=partition_dir,\n",
        "            model_generator=model_generator,\n",
        "            data_dir=data_dir,\n",
        "            *args,\n",
        "            **kwargs,\n",
        "        )\n",
        "\n",
        "    return client_fn\n",
        "\n",
        "def get_federated_evaluation_function(\n",
        "    data_dir: Path,\n",
        "    centralized_mapping: Path,\n",
        "    device: str,\n",
        "    batch_size: int,\n",
        "    num_workers: int,\n",
        "    model_generator: Callable[[], Module],\n",
        "    criterion: Module,\n",
        ") -> Callable[[int, NDArrays, dict[str, Any]], tuple[float, dict[str, Scalar]]]:\n",
        "    \"\"\"Wrap function for the external federated evaluation function.\n",
        "\n",
        "    It provides the external federated evaluation function with some\n",
        "    parameters for the dataloader, the model generator function, and\n",
        "    the criterion used in the evaluation.\n",
        "\n",
        "    Args:\n",
        "        data_dir (Path): path to the dataset folder.\n",
        "        centralized_mapping (Path): path to the mapping .csv file chosen.\n",
        "        device (str):  device name onto which perform the computation.\n",
        "        batch_size (int): batch size of the test set to use.\n",
        "        num_workers (int): correspond to `num_workers` param in the Dataloader object.\n",
        "        model_generator (Callable[[], Module]):  model generator function.\n",
        "        criterion (Module): PyTorch Module containing the criterion.\n",
        "\n",
        "    Returns\n",
        "    -------\n",
        "        Callable[[int, NDArrays, dict[str, Any]], tuple[float, dict[str, Scalar]]]:\n",
        "            external federated evaluation function.\n",
        "    \"\"\"\n",
        "    full_file: Path = centralized_mapping\n",
        "    dataset: Dataset = load_dataset(data_dir, full_file, \"test\")\n",
        "    num_samples = len(cast(Sized, dataset))\n",
        "    index_list = list(range(num_samples))\n",
        "    prng = np.random.RandomState(1337)\n",
        "    prng.shuffle(index_list)\n",
        "    index_list = index_list[:1500]\n",
        "    dataset = torch.utils.data.Subset(dataset, index_list)\n",
        "\n",
        "    log(\n",
        "        logging.INFO,\n",
        "        \"Reduced federated test_set size from %s to a size of %s mean index: %s\",\n",
        "        num_samples,\n",
        "        len(cast(Sized, dataset)),\n",
        "        np.mean(index_list),\n",
        "    )\n",
        "\n",
        "    def federated_evaluation_function(\n",
        "        server_round: int,\n",
        "        parameters: NDArrays,\n",
        "        fed_eval_config: dict[\n",
        "            str, Any\n",
        "        ],  # mandatory argument, even if it's not being used\n",
        "    ) -> tuple[float, dict[str, Scalar]]:\n",
        "        net: Module = set_model_parameters(model_generator(), parameters)\n",
        "        net.to(device)\n",
        "\n",
        "        test_loader = DataLoader(\n",
        "            dataset=dataset,\n",
        "            batch_size=batch_size,\n",
        "            shuffle=False,\n",
        "            num_workers=num_workers,\n",
        "            drop_last=False,\n",
        "        )\n",
        "\n",
        "        loss, acc = test(\n",
        "            net=net,\n",
        "            test_loader=test_loader,\n",
        "            device=device,\n",
        "            criterion=criterion,\n",
        "        )\n",
        "        return loss, {\"accuracy\": acc}\n",
        "\n",
        "    return federated_evaluation_function"
      ],
      "metadata": {
        "id": "3TwEoqT0kdpm"
      },
      "execution_count": 56,
      "outputs": []
    },
    {
      "cell_type": "code",
      "source": [
        "# Basic Strategy (Weighted FedAvg)\n",
        "from flwr.server.client_proxy import ClientProxy\n",
        "from flwr.common import FitRes, parameters_to_ndarrays\n",
        "\n",
        "class WrappedFedAvg(FedAvg):\n",
        "    clients_models: dict[int, list[tuple[int, NDArrays]]] = {}\n",
        "\n",
        "    def aggregate_fit(\n",
        "        self,\n",
        "        server_round: int,\n",
        "        results: list[tuple[ClientProxy, FitRes]],\n",
        "        failures: list[tuple[ClientProxy, FitRes] | BaseException],\n",
        "    ) -> tuple[Parameters | None, dict[str, Scalar]]:\n",
        "        \"\"\"Aggregate fit results using weighted average.\"\"\"\n",
        "        # Call FedAvg original aggregate_fit, so that it handles the failures\n",
        "        ret = super().aggregate_fit(server_round, results, failures)\n",
        "        # Append clients' model parameters to the list\n",
        "        self.clients_models[server_round] = [\n",
        "            (i, parameters_to_ndarrays(fit_res.parameters))\n",
        "            for i, (_, fit_res) in enumerate(results)\n",
        "        ]\n",
        "        # Return the original return value\n",
        "        return ret"
      ],
      "metadata": {
        "id": "5Rod_R4yDGtW"
      },
      "execution_count": 57,
      "outputs": []
    },
    {
      "cell_type": "code",
      "source": [
        "def get_network_generator_cnn():\n",
        "    untrained_net: CIFAR10Net = CIFAR10Net(num_labels = 10)\n",
        "    def generated_net():\n",
        "        return deepcopy(untrained_net)\n",
        "    return generated_net\n",
        "\n",
        "def fit_client_seeded(client, params, conf, seed=Seeds.DEFAULT):\n",
        "    \"\"\"Wrapper to always seed client training.\"\"\"\n",
        "    np.random.seed(seed)\n",
        "    torch.manual_seed(seed)\n",
        "    random.seed(seed)\n",
        "    return client.fit(params, conf)"
      ],
      "metadata": {
        "id": "bGS6TsICr0b4"
      },
      "execution_count": 58,
      "outputs": []
    },
    {
      "cell_type": "markdown",
      "source": [
        "# 3. Experiments\n",
        "\n",
        "The following contains code to be running the experiments. This is split into the basic requirements, and the extensions part. The basic requirements looks into FedOpt and how the different FedOpt strategies perform under different data heterogeneity levels."
      ],
      "metadata": {
        "id": "bX2V4A-yFHU5"
      }
    },
    {
      "cell_type": "markdown",
      "source": [
        "In order to save computing resources and focus more on per-round effects in FL, in this project we use models trained with 50% of steps necessary for full training as the starting model in FL experiments. To determine the number of steps necessary for full training, we train a centralized model until its performance stops improving. The following is a simple FlowerClient which performs validation during training and stops training when the performance on the validation dataset stops improving."
      ],
      "metadata": {
        "id": "YYuRap-EpGUg"
      }
    },
    {
      "cell_type": "code",
      "source": [
        "from typing import cast\n",
        "\n",
        "def test(  # noqa: N802\n",
        "    net: Module,\n",
        "    test_loader: DataLoader,\n",
        "    device: str,\n",
        "    criterion: Module,\n",
        "    max_batches: int | None = None,\n",
        "    **kwargs: dict[str, Any],\n",
        ") -> tuple[float, float]:\n",
        "    batch_cnt = 0\n",
        "    correct, total, loss = 0, 0, 0.0\n",
        "    net.eval()\n",
        "\n",
        "    with torch.no_grad():\n",
        "        for data, labels in tqdm(test_loader):\n",
        "\n",
        "            if max_batches is not None and batch_cnt >= max_batches:\n",
        "                break\n",
        "            batch_cnt += 1\n",
        "\n",
        "            data, labels = data.to(device), labels.to(device)\n",
        "            outputs = net(data)\n",
        "\n",
        "            loss += criterion(outputs, labels).item()\n",
        "            _, predicted = torch.max(outputs.data, 1)\n",
        "            total += labels.size(0)\n",
        "            correct += (predicted == labels).sum().item()\n",
        "\n",
        "    accuracy = correct / total\n",
        "    return loss, accuracy\n",
        "\n",
        "\n",
        "class FlowerEarlyStoppingClient(FlowerClient):\n",
        "  def __init__(\n",
        "        self,\n",
        "        cid: int,\n",
        "        partition_dir: Path,\n",
        "        model_generator: Callable[[], Module],\n",
        "        data_dir: Path,\n",
        "        validation_config: dict\n",
        "    ):\n",
        "    self.cid = cid\n",
        "    log(INFO, \"Creating client with cid: %s\", self.cid)\n",
        "    self.partition_dir = partition_dir\n",
        "    self.data_dir = data_dir\n",
        "    self.device = get_device()\n",
        "    self.model_generator: Callable[[], Module] = model_generator\n",
        "    self.properties: dict[str, Scalar] = {\"tensor_type\": \"numpy.ndarray\"}\n",
        "    self.validation_config = validation_config\n",
        "    self.epochs_trained = 0\n",
        "\n",
        "  # def fit(\n",
        "  #     self, parameters: NDArrays, config: dict[str, Scalar]\n",
        "  # ) -> tuple[NDArrays, int, dict]:\n",
        "  #     \"\"\"Receive and train a model on the local client data.\n",
        "\n",
        "  #     It uses the instruction passed through the config dict.\n",
        "\n",
        "  #     Args:\n",
        "  #         net (NDArrays): Pytorch model parameters\n",
        "  #         config (dict[str, Scalar]): dictionary describing the training parameters\n",
        "\n",
        "  #     Returns\n",
        "  #     -------\n",
        "  #         tuple[NDArrays, int, dict]: Returns the updated model, the size of the local\n",
        "  #             dataset and other metrics\n",
        "  #     \"\"\"\n",
        "  #     # Only create model right before training/testing\n",
        "  #     # To lower memory usage when idle\n",
        "  #     net = self.set_parameters(parameters)\n",
        "  #     net.to(self.device)\n",
        "\n",
        "  #     train_loader: DataLoader = self._create_data_loader(config, name=\"train\")\n",
        "  #     train_loss = self._train(net, train_loader=train_loader, config=config)\n",
        "  #     return get_model_parameters(net), len(train_loader), {\"train_loss\": train_loss}\n",
        "\n",
        "  # def evaluate(\n",
        "  #     self, parameters: NDArrays, config: dict[str, Scalar]\n",
        "  # ) -> tuple[float, int, dict]:\n",
        "  #     \"\"\"Receive and test a model on the local client data.\n",
        "\n",
        "  #     It uses the instruction passed through the config dict.\n",
        "\n",
        "  #     Args:\n",
        "  #         net (NDArrays): Pytorch model parameters\n",
        "  #         config (dict[str, Scalar]): dictionary describing the testing parameters\n",
        "\n",
        "  #     Returns\n",
        "  #     -------\n",
        "  #         tuple[float, int, dict]: Returns the loss accumulate during testing, the\n",
        "  #             size of the local dataset and other metrics such as accuracy\n",
        "  #     \"\"\"\n",
        "  #     net = self.set_parameters(parameters)\n",
        "  #     net.to(self.device)\n",
        "\n",
        "  #     test_loader: DataLoader = self._create_data_loader(config, name=\"test\")\n",
        "  #     loss, accuracy = self._test(net, test_loader=test_loader, config=config)\n",
        "  #     return loss, len(test_loader), {\"local_accuracy\": accuracy}\n",
        "\n",
        "  def _train(\n",
        "        self, net: Module, train_loader: DataLoader, config: dict[str, Scalar]\n",
        "    ) -> float:\n",
        "      running_loss, total = 0.0, 0\n",
        "      min_validation_loss = float('inf')\n",
        "      early_stopping_counter = 0\n",
        "      if(config[\"optimizer\"] == \"sgd\"):\n",
        "        optimizer = torch.optim.SGD(\n",
        "            net.parameters(),\n",
        "            lr = float(config[\"client_learning_rate\"]),\n",
        "            weight_decay=float(config[\"weight_decay\"])\n",
        "        )\n",
        "      elif(config[\"optimizer\"] == \"adam\"):\n",
        "        optimizer=torch.optim.AdamW(\n",
        "            net.parameters(),\n",
        "            lr=float(config[\"client_learning_rate\"]),\n",
        "            weight_decay=float(config[\"weight_decay\"])\n",
        "        )\n",
        "      criterion=torch.nn.CrossEntropyLoss()\n",
        "      max_batches=cast(int | None, config[\"max_batches\"])\n",
        "      for epoch in tqdm(range(int(config[\"epochs\"]))):\n",
        "          net.train()\n",
        "          running_loss = 0.0\n",
        "          total, batch_cnt = 0, 0\n",
        "          train_size = int(self.validation_config[\"train_dataloader_ratio\"] * len(train_loader.dataset))\n",
        "          valid_size = len(train_loader.dataset) - train_size\n",
        "          train_dataset, valid_dataset = torch.utils.data.random_split(train_loader.dataset, [train_size, valid_size])\n",
        "          train_dataloader = DataLoader(train_dataset, batch_size=train_loader.batch_size, shuffle=True)\n",
        "          valid_dataloader = DataLoader(valid_dataset, batch_size=train_loader.batch_size, shuffle=False)\n",
        "          for i, (data, labels) in enumerate(train_dataloader):\n",
        "              data, labels = data.to(self.device), labels.to(self.device)\n",
        "              optimizer.zero_grad()\n",
        "              outputs = net(data)\n",
        "              loss = criterion(outputs, labels)\n",
        "              running_loss += loss.item()\n",
        "              total += labels.size(0)\n",
        "              loss.backward()\n",
        "              optimizer.step()\n",
        "\n",
        "              # Break if we have exceeded the upper limit\n",
        "              # On training batches for a given round\n",
        "              # Simulate enumerate counting for train/test parity\n",
        "              if max_batches and batch_cnt > max_batches:\n",
        "                  break\n",
        "              batch_cnt += 1\n",
        "          self.epochs_trained += 1\n",
        "          net.eval()\n",
        "          validation_loss = 0.\n",
        "          for i, (data, labels) in enumerate(valid_dataloader):\n",
        "                data, labels = data.to(self.device), labels.to(self.device)\n",
        "                optimizer.zero_grad()\n",
        "                outputs = net(data)\n",
        "                loss = criterion(outputs, labels)\n",
        "                running_loss += loss.item()\n",
        "                validation_loss += loss.item()\n",
        "                total += labels.size(0)\n",
        "          if (validation_loss - min_validation_loss) < self.validation_config[\"min_delta\"]:\n",
        "            min_validation_loss = min(validation_loss, min_validation_loss)\n",
        "            early_stopping_counter = 0\n",
        "          else:\n",
        "            min_validation_loss = min(validation_loss, min_validation_loss)\n",
        "            early_stopping_counter += 1\n",
        "            if(early_stopping_counter > self.validation_config[\"patience\"]):\n",
        "              break\n",
        "\n",
        "      return running_loss / total\n",
        "  def _load_dataset(self, name: str) -> Dataset:\n",
        "        full_file: Path = self.partition_dir / str(self.cid)\n",
        "        return load_dataset(\n",
        "            mapping=full_file,\n",
        "            name=name,\n",
        "            data_dir=self.data_dir,\n",
        "        )"
      ],
      "metadata": {
        "id": "lUzBGAOopU-w"
      },
      "execution_count": 74,
      "outputs": []
    },
    {
      "cell_type": "code",
      "source": [
        "torch.manual_seed(Seeds.DEFAULT)\n",
        "network_generator_cnn = get_network_generator_cnn()\n",
        "\n",
        "centralized_early_stopping_flower_client_generator: Callable[\n",
        "    [int], FlowerClient\n",
        "] = get_flower_client_generator(\n",
        "    model_generator=network_generator_cnn,\n",
        "    partition_dir=centralized_partition,\n",
        "    data_dir=data_dir,\n",
        "    client_class=FlowerEarlyStoppingClient,\n",
        "    validation_config = {\n",
        "        \"min_delta\": 0,\n",
        "        \"patience\": 5,\n",
        "        \"train_dataloader_ratio\": 0.95\n",
        "    }\n",
        ")\n",
        "centralized_train_config: dict[str, Any] = {\n",
        "    \"epochs\": 100,\n",
        "    \"batch_size\": 32,\n",
        "    \"optimizer\": \"adam\",\n",
        "    \"client_learning_rate\": 0.01,\n",
        "    \"weight_decay\": 0.001,\n",
        "    \"max_batches\": None,\n",
        "    \"num_workers\": 0\n",
        "}\n",
        "\n",
        "test_config: dict[str, Any] = {\n",
        "    \"batch_size\": 32,\n",
        "    \"num_workers\": 0,\n",
        "}\n",
        "\n",
        "federated_evaluation_function = get_federated_evaluation_function(\n",
        "    data_dir=data_dir,\n",
        "    centralized_mapping=centralized_mapping,\n",
        "    device=get_device(),\n",
        "    batch_size=test_config[\"batch_size\"],\n",
        "    num_workers=test_config[\"num_workers\"],\n",
        "    model_generator=network_generator_cnn,\n",
        "    criterion=nn.CrossEntropyLoss()\n",
        ")\n",
        "\n",
        "centralized_early_stopping_flower_client = centralized_early_stopping_flower_client_generator(0)\n",
        "seed_net_cnn = network_generator_cnn()\n",
        "randomly_seeded_parameters = get_model_parameters(seed_net_cnn)\n",
        "\n",
        "trained_params, num_examples, train_metrics = fit_client_seeded(\n",
        "    centralized_early_stopping_flower_client,\n",
        "    params=randomly_seeded_parameters,\n",
        "    conf=centralized_train_config,\n",
        ")"
      ],
      "metadata": {
        "colab": {
          "base_uri": "https://localhost:8080/",
          "height": 463
        },
        "id": "aQ6ViCZr_anL",
        "outputId": "4f37476b-234f-4d9e-a8e6-5600be0a15d8"
      },
      "execution_count": 75,
      "outputs": [
        {
          "output_type": "stream",
          "name": "stderr",
          "text": [
            "INFO flwr 2024-02-29 01:05:58,684 | <ipython-input-56-ee17c45357c9>:65 | Reduced federated test_set size from 10000 to a size of 1500 mean index: 4924.406\n",
            "INFO:flwr:Reduced federated test_set size from 10000 to a size of 1500 mean index: 4924.406\n",
            "INFO flwr 2024-02-29 01:05:58,688 | <ipython-input-74-4978315838c4>:44 | Creating client with cid: 0\n",
            "INFO:flwr:Creating client with cid: 0\n",
            "  0%|          | 0/100 [00:13<?, ?it/s]\n"
          ]
        },
        {
          "output_type": "error",
          "ename": "KeyboardInterrupt",
          "evalue": "",
          "traceback": [
            "\u001b[0;31m---------------------------------------------------------------------------\u001b[0m",
            "\u001b[0;31mKeyboardInterrupt\u001b[0m                         Traceback (most recent call last)",
            "\u001b[0;32m<ipython-input-75-dfff3b9cd93c>\u001b[0m in \u001b[0;36m<cell line: 46>\u001b[0;34m()\u001b[0m\n\u001b[1;32m     44\u001b[0m \u001b[0mrandomly_seeded_parameters\u001b[0m \u001b[0;34m=\u001b[0m \u001b[0mget_model_parameters\u001b[0m\u001b[0;34m(\u001b[0m\u001b[0mseed_net_cnn\u001b[0m\u001b[0;34m)\u001b[0m\u001b[0;34m\u001b[0m\u001b[0;34m\u001b[0m\u001b[0m\n\u001b[1;32m     45\u001b[0m \u001b[0;34m\u001b[0m\u001b[0m\n\u001b[0;32m---> 46\u001b[0;31m trained_params, num_examples, train_metrics = fit_client_seeded(\n\u001b[0m\u001b[1;32m     47\u001b[0m     \u001b[0mcentralized_early_stopping_flower_client\u001b[0m\u001b[0;34m,\u001b[0m\u001b[0;34m\u001b[0m\u001b[0;34m\u001b[0m\u001b[0m\n\u001b[1;32m     48\u001b[0m     \u001b[0mparams\u001b[0m\u001b[0;34m=\u001b[0m\u001b[0mrandomly_seeded_parameters\u001b[0m\u001b[0;34m,\u001b[0m\u001b[0;34m\u001b[0m\u001b[0;34m\u001b[0m\u001b[0m\n",
            "\u001b[0;32m<ipython-input-58-1969b300fbb2>\u001b[0m in \u001b[0;36mfit_client_seeded\u001b[0;34m(client, params, conf, seed)\u001b[0m\n\u001b[1;32m     10\u001b[0m     \u001b[0mtorch\u001b[0m\u001b[0;34m.\u001b[0m\u001b[0mmanual_seed\u001b[0m\u001b[0;34m(\u001b[0m\u001b[0mseed\u001b[0m\u001b[0;34m)\u001b[0m\u001b[0;34m\u001b[0m\u001b[0;34m\u001b[0m\u001b[0m\n\u001b[1;32m     11\u001b[0m     \u001b[0mrandom\u001b[0m\u001b[0;34m.\u001b[0m\u001b[0mseed\u001b[0m\u001b[0;34m(\u001b[0m\u001b[0mseed\u001b[0m\u001b[0;34m)\u001b[0m\u001b[0;34m\u001b[0m\u001b[0;34m\u001b[0m\u001b[0m\n\u001b[0;32m---> 12\u001b[0;31m     \u001b[0;32mreturn\u001b[0m \u001b[0mclient\u001b[0m\u001b[0;34m.\u001b[0m\u001b[0mfit\u001b[0m\u001b[0;34m(\u001b[0m\u001b[0mparams\u001b[0m\u001b[0;34m,\u001b[0m \u001b[0mconf\u001b[0m\u001b[0;34m)\u001b[0m\u001b[0;34m\u001b[0m\u001b[0;34m\u001b[0m\u001b[0m\n\u001b[0m",
            "\u001b[0;32m/content/common/client.py\u001b[0m in \u001b[0;36mfit\u001b[0;34m(self, parameters, config)\u001b[0m\n\u001b[1;32m    114\u001b[0m \u001b[0;34m\u001b[0m\u001b[0m\n\u001b[1;32m    115\u001b[0m         \u001b[0mtrain_loader\u001b[0m\u001b[0;34m:\u001b[0m \u001b[0mDataLoader\u001b[0m \u001b[0;34m=\u001b[0m \u001b[0mself\u001b[0m\u001b[0;34m.\u001b[0m\u001b[0m_create_data_loader\u001b[0m\u001b[0;34m(\u001b[0m\u001b[0mconfig\u001b[0m\u001b[0;34m,\u001b[0m \u001b[0mname\u001b[0m\u001b[0;34m=\u001b[0m\u001b[0;34m\"train\"\u001b[0m\u001b[0;34m)\u001b[0m\u001b[0;34m\u001b[0m\u001b[0;34m\u001b[0m\u001b[0m\n\u001b[0;32m--> 116\u001b[0;31m         \u001b[0mtrain_loss\u001b[0m \u001b[0;34m=\u001b[0m \u001b[0mself\u001b[0m\u001b[0;34m.\u001b[0m\u001b[0m_train\u001b[0m\u001b[0;34m(\u001b[0m\u001b[0mnet\u001b[0m\u001b[0;34m,\u001b[0m \u001b[0mtrain_loader\u001b[0m\u001b[0;34m=\u001b[0m\u001b[0mtrain_loader\u001b[0m\u001b[0;34m,\u001b[0m \u001b[0mconfig\u001b[0m\u001b[0;34m=\u001b[0m\u001b[0mconfig\u001b[0m\u001b[0;34m)\u001b[0m\u001b[0;34m\u001b[0m\u001b[0;34m\u001b[0m\u001b[0m\n\u001b[0m\u001b[1;32m    117\u001b[0m         \u001b[0;32mreturn\u001b[0m \u001b[0mget_model_parameters\u001b[0m\u001b[0;34m(\u001b[0m\u001b[0mnet\u001b[0m\u001b[0;34m)\u001b[0m\u001b[0;34m,\u001b[0m \u001b[0mlen\u001b[0m\u001b[0;34m(\u001b[0m\u001b[0mtrain_loader\u001b[0m\u001b[0;34m)\u001b[0m\u001b[0;34m,\u001b[0m \u001b[0;34m{\u001b[0m\u001b[0;34m\"train_loss\"\u001b[0m\u001b[0;34m:\u001b[0m \u001b[0mtrain_loss\u001b[0m\u001b[0;34m}\u001b[0m\u001b[0;34m\u001b[0m\u001b[0;34m\u001b[0m\u001b[0m\n\u001b[1;32m    118\u001b[0m \u001b[0;34m\u001b[0m\u001b[0m\n",
            "\u001b[0;32m<ipython-input-74-4978315838c4>\u001b[0m in \u001b[0;36m_train\u001b[0;34m(self, net, train_loader, config)\u001b[0m\n\u001b[1;32m    131\u001b[0m               \u001b[0mdata\u001b[0m\u001b[0;34m,\u001b[0m \u001b[0mlabels\u001b[0m \u001b[0;34m=\u001b[0m \u001b[0mdata\u001b[0m\u001b[0;34m.\u001b[0m\u001b[0mto\u001b[0m\u001b[0;34m(\u001b[0m\u001b[0mself\u001b[0m\u001b[0;34m.\u001b[0m\u001b[0mdevice\u001b[0m\u001b[0;34m)\u001b[0m\u001b[0;34m,\u001b[0m \u001b[0mlabels\u001b[0m\u001b[0;34m.\u001b[0m\u001b[0mto\u001b[0m\u001b[0;34m(\u001b[0m\u001b[0mself\u001b[0m\u001b[0;34m.\u001b[0m\u001b[0mdevice\u001b[0m\u001b[0;34m)\u001b[0m\u001b[0;34m\u001b[0m\u001b[0;34m\u001b[0m\u001b[0m\n\u001b[1;32m    132\u001b[0m               \u001b[0moptimizer\u001b[0m\u001b[0;34m.\u001b[0m\u001b[0mzero_grad\u001b[0m\u001b[0;34m(\u001b[0m\u001b[0;34m)\u001b[0m\u001b[0;34m\u001b[0m\u001b[0;34m\u001b[0m\u001b[0m\n\u001b[0;32m--> 133\u001b[0;31m               \u001b[0moutputs\u001b[0m \u001b[0;34m=\u001b[0m \u001b[0mnet\u001b[0m\u001b[0;34m(\u001b[0m\u001b[0mdata\u001b[0m\u001b[0;34m)\u001b[0m\u001b[0;34m\u001b[0m\u001b[0;34m\u001b[0m\u001b[0m\n\u001b[0m\u001b[1;32m    134\u001b[0m               \u001b[0mloss\u001b[0m \u001b[0;34m=\u001b[0m \u001b[0mcriterion\u001b[0m\u001b[0;34m(\u001b[0m\u001b[0moutputs\u001b[0m\u001b[0;34m,\u001b[0m \u001b[0mlabels\u001b[0m\u001b[0;34m)\u001b[0m\u001b[0;34m\u001b[0m\u001b[0;34m\u001b[0m\u001b[0m\n\u001b[1;32m    135\u001b[0m               \u001b[0mrunning_loss\u001b[0m \u001b[0;34m+=\u001b[0m \u001b[0mloss\u001b[0m\u001b[0;34m.\u001b[0m\u001b[0mitem\u001b[0m\u001b[0;34m(\u001b[0m\u001b[0;34m)\u001b[0m\u001b[0;34m\u001b[0m\u001b[0;34m\u001b[0m\u001b[0m\n",
            "\u001b[0;32m/usr/local/lib/python3.10/dist-packages/torch/nn/modules/module.py\u001b[0m in \u001b[0;36m_wrapped_call_impl\u001b[0;34m(self, *args, **kwargs)\u001b[0m\n\u001b[1;32m   1516\u001b[0m             \u001b[0;32mreturn\u001b[0m \u001b[0mself\u001b[0m\u001b[0;34m.\u001b[0m\u001b[0m_compiled_call_impl\u001b[0m\u001b[0;34m(\u001b[0m\u001b[0;34m*\u001b[0m\u001b[0margs\u001b[0m\u001b[0;34m,\u001b[0m \u001b[0;34m**\u001b[0m\u001b[0mkwargs\u001b[0m\u001b[0;34m)\u001b[0m  \u001b[0;31m# type: ignore[misc]\u001b[0m\u001b[0;34m\u001b[0m\u001b[0;34m\u001b[0m\u001b[0m\n\u001b[1;32m   1517\u001b[0m         \u001b[0;32melse\u001b[0m\u001b[0;34m:\u001b[0m\u001b[0;34m\u001b[0m\u001b[0;34m\u001b[0m\u001b[0m\n\u001b[0;32m-> 1518\u001b[0;31m             \u001b[0;32mreturn\u001b[0m \u001b[0mself\u001b[0m\u001b[0;34m.\u001b[0m\u001b[0m_call_impl\u001b[0m\u001b[0;34m(\u001b[0m\u001b[0;34m*\u001b[0m\u001b[0margs\u001b[0m\u001b[0;34m,\u001b[0m \u001b[0;34m**\u001b[0m\u001b[0mkwargs\u001b[0m\u001b[0;34m)\u001b[0m\u001b[0;34m\u001b[0m\u001b[0;34m\u001b[0m\u001b[0m\n\u001b[0m\u001b[1;32m   1519\u001b[0m \u001b[0;34m\u001b[0m\u001b[0m\n\u001b[1;32m   1520\u001b[0m     \u001b[0;32mdef\u001b[0m \u001b[0m_call_impl\u001b[0m\u001b[0;34m(\u001b[0m\u001b[0mself\u001b[0m\u001b[0;34m,\u001b[0m \u001b[0;34m*\u001b[0m\u001b[0margs\u001b[0m\u001b[0;34m,\u001b[0m \u001b[0;34m**\u001b[0m\u001b[0mkwargs\u001b[0m\u001b[0;34m)\u001b[0m\u001b[0;34m:\u001b[0m\u001b[0;34m\u001b[0m\u001b[0;34m\u001b[0m\u001b[0m\n",
            "\u001b[0;32m/usr/local/lib/python3.10/dist-packages/torch/nn/modules/module.py\u001b[0m in \u001b[0;36m_call_impl\u001b[0;34m(self, *args, **kwargs)\u001b[0m\n\u001b[1;32m   1525\u001b[0m                 \u001b[0;32mor\u001b[0m \u001b[0m_global_backward_pre_hooks\u001b[0m \u001b[0;32mor\u001b[0m \u001b[0m_global_backward_hooks\u001b[0m\u001b[0;34m\u001b[0m\u001b[0;34m\u001b[0m\u001b[0m\n\u001b[1;32m   1526\u001b[0m                 or _global_forward_hooks or _global_forward_pre_hooks):\n\u001b[0;32m-> 1527\u001b[0;31m             \u001b[0;32mreturn\u001b[0m \u001b[0mforward_call\u001b[0m\u001b[0;34m(\u001b[0m\u001b[0;34m*\u001b[0m\u001b[0margs\u001b[0m\u001b[0;34m,\u001b[0m \u001b[0;34m**\u001b[0m\u001b[0mkwargs\u001b[0m\u001b[0;34m)\u001b[0m\u001b[0;34m\u001b[0m\u001b[0;34m\u001b[0m\u001b[0m\n\u001b[0m\u001b[1;32m   1528\u001b[0m \u001b[0;34m\u001b[0m\u001b[0m\n\u001b[1;32m   1529\u001b[0m         \u001b[0;32mtry\u001b[0m\u001b[0;34m:\u001b[0m\u001b[0;34m\u001b[0m\u001b[0;34m\u001b[0m\u001b[0m\n",
            "\u001b[0;32m<ipython-input-55-6fa9d6dae045>\u001b[0m in \u001b[0;36mforward\u001b[0;34m(self, x)\u001b[0m\n\u001b[1;32m     23\u001b[0m         \"\"\"\n\u001b[1;32m     24\u001b[0m         \u001b[0mx\u001b[0m \u001b[0;34m=\u001b[0m \u001b[0mself\u001b[0m\u001b[0;34m.\u001b[0m\u001b[0mpool\u001b[0m\u001b[0;34m(\u001b[0m\u001b[0mF\u001b[0m\u001b[0;34m.\u001b[0m\u001b[0mrelu\u001b[0m\u001b[0;34m(\u001b[0m\u001b[0mself\u001b[0m\u001b[0;34m.\u001b[0m\u001b[0mconv1\u001b[0m\u001b[0;34m(\u001b[0m\u001b[0mx\u001b[0m\u001b[0;34m)\u001b[0m\u001b[0;34m)\u001b[0m\u001b[0;34m)\u001b[0m\u001b[0;34m\u001b[0m\u001b[0;34m\u001b[0m\u001b[0m\n\u001b[0;32m---> 25\u001b[0;31m         \u001b[0mx\u001b[0m \u001b[0;34m=\u001b[0m \u001b[0mself\u001b[0m\u001b[0;34m.\u001b[0m\u001b[0mpool\u001b[0m\u001b[0;34m(\u001b[0m\u001b[0mF\u001b[0m\u001b[0;34m.\u001b[0m\u001b[0mrelu\u001b[0m\u001b[0;34m(\u001b[0m\u001b[0mself\u001b[0m\u001b[0;34m.\u001b[0m\u001b[0mconv2\u001b[0m\u001b[0;34m(\u001b[0m\u001b[0mx\u001b[0m\u001b[0;34m)\u001b[0m\u001b[0;34m)\u001b[0m\u001b[0;34m)\u001b[0m\u001b[0;34m\u001b[0m\u001b[0;34m\u001b[0m\u001b[0m\n\u001b[0m\u001b[1;32m     26\u001b[0m         \u001b[0mx\u001b[0m \u001b[0;34m=\u001b[0m \u001b[0mF\u001b[0m\u001b[0;34m.\u001b[0m\u001b[0mrelu\u001b[0m\u001b[0;34m(\u001b[0m\u001b[0mself\u001b[0m\u001b[0;34m.\u001b[0m\u001b[0mconv3\u001b[0m\u001b[0;34m(\u001b[0m\u001b[0mx\u001b[0m\u001b[0;34m)\u001b[0m\u001b[0;34m)\u001b[0m\u001b[0;34m\u001b[0m\u001b[0;34m\u001b[0m\u001b[0m\n\u001b[1;32m     27\u001b[0m         \u001b[0mx\u001b[0m \u001b[0;34m=\u001b[0m \u001b[0mtorch\u001b[0m\u001b[0;34m.\u001b[0m\u001b[0mflatten\u001b[0m\u001b[0;34m(\u001b[0m\u001b[0mx\u001b[0m\u001b[0;34m,\u001b[0m \u001b[0;36m1\u001b[0m\u001b[0;34m)\u001b[0m  \u001b[0;31m# flatten all dimensions except batch\u001b[0m\u001b[0;34m\u001b[0m\u001b[0;34m\u001b[0m\u001b[0m\n",
            "\u001b[0;32m/usr/local/lib/python3.10/dist-packages/torch/nn/modules/module.py\u001b[0m in \u001b[0;36m_wrapped_call_impl\u001b[0;34m(self, *args, **kwargs)\u001b[0m\n\u001b[1;32m   1516\u001b[0m             \u001b[0;32mreturn\u001b[0m \u001b[0mself\u001b[0m\u001b[0;34m.\u001b[0m\u001b[0m_compiled_call_impl\u001b[0m\u001b[0;34m(\u001b[0m\u001b[0;34m*\u001b[0m\u001b[0margs\u001b[0m\u001b[0;34m,\u001b[0m \u001b[0;34m**\u001b[0m\u001b[0mkwargs\u001b[0m\u001b[0;34m)\u001b[0m  \u001b[0;31m# type: ignore[misc]\u001b[0m\u001b[0;34m\u001b[0m\u001b[0;34m\u001b[0m\u001b[0m\n\u001b[1;32m   1517\u001b[0m         \u001b[0;32melse\u001b[0m\u001b[0;34m:\u001b[0m\u001b[0;34m\u001b[0m\u001b[0;34m\u001b[0m\u001b[0m\n\u001b[0;32m-> 1518\u001b[0;31m             \u001b[0;32mreturn\u001b[0m \u001b[0mself\u001b[0m\u001b[0;34m.\u001b[0m\u001b[0m_call_impl\u001b[0m\u001b[0;34m(\u001b[0m\u001b[0;34m*\u001b[0m\u001b[0margs\u001b[0m\u001b[0;34m,\u001b[0m \u001b[0;34m**\u001b[0m\u001b[0mkwargs\u001b[0m\u001b[0;34m)\u001b[0m\u001b[0;34m\u001b[0m\u001b[0;34m\u001b[0m\u001b[0m\n\u001b[0m\u001b[1;32m   1519\u001b[0m \u001b[0;34m\u001b[0m\u001b[0m\n\u001b[1;32m   1520\u001b[0m     \u001b[0;32mdef\u001b[0m \u001b[0m_call_impl\u001b[0m\u001b[0;34m(\u001b[0m\u001b[0mself\u001b[0m\u001b[0;34m,\u001b[0m \u001b[0;34m*\u001b[0m\u001b[0margs\u001b[0m\u001b[0;34m,\u001b[0m \u001b[0;34m**\u001b[0m\u001b[0mkwargs\u001b[0m\u001b[0;34m)\u001b[0m\u001b[0;34m:\u001b[0m\u001b[0;34m\u001b[0m\u001b[0;34m\u001b[0m\u001b[0m\n",
            "\u001b[0;32m/usr/local/lib/python3.10/dist-packages/torch/nn/modules/module.py\u001b[0m in \u001b[0;36m_call_impl\u001b[0;34m(self, *args, **kwargs)\u001b[0m\n\u001b[1;32m   1525\u001b[0m                 \u001b[0;32mor\u001b[0m \u001b[0m_global_backward_pre_hooks\u001b[0m \u001b[0;32mor\u001b[0m \u001b[0m_global_backward_hooks\u001b[0m\u001b[0;34m\u001b[0m\u001b[0;34m\u001b[0m\u001b[0m\n\u001b[1;32m   1526\u001b[0m                 or _global_forward_hooks or _global_forward_pre_hooks):\n\u001b[0;32m-> 1527\u001b[0;31m             \u001b[0;32mreturn\u001b[0m \u001b[0mforward_call\u001b[0m\u001b[0;34m(\u001b[0m\u001b[0;34m*\u001b[0m\u001b[0margs\u001b[0m\u001b[0;34m,\u001b[0m \u001b[0;34m**\u001b[0m\u001b[0mkwargs\u001b[0m\u001b[0;34m)\u001b[0m\u001b[0;34m\u001b[0m\u001b[0;34m\u001b[0m\u001b[0m\n\u001b[0m\u001b[1;32m   1528\u001b[0m \u001b[0;34m\u001b[0m\u001b[0m\n\u001b[1;32m   1529\u001b[0m         \u001b[0;32mtry\u001b[0m\u001b[0;34m:\u001b[0m\u001b[0;34m\u001b[0m\u001b[0;34m\u001b[0m\u001b[0m\n",
            "\u001b[0;32m/usr/local/lib/python3.10/dist-packages/torch/nn/modules/conv.py\u001b[0m in \u001b[0;36mforward\u001b[0;34m(self, input)\u001b[0m\n\u001b[1;32m    458\u001b[0m \u001b[0;34m\u001b[0m\u001b[0m\n\u001b[1;32m    459\u001b[0m     \u001b[0;32mdef\u001b[0m \u001b[0mforward\u001b[0m\u001b[0;34m(\u001b[0m\u001b[0mself\u001b[0m\u001b[0;34m,\u001b[0m \u001b[0minput\u001b[0m\u001b[0;34m:\u001b[0m \u001b[0mTensor\u001b[0m\u001b[0;34m)\u001b[0m \u001b[0;34m->\u001b[0m \u001b[0mTensor\u001b[0m\u001b[0;34m:\u001b[0m\u001b[0;34m\u001b[0m\u001b[0;34m\u001b[0m\u001b[0m\n\u001b[0;32m--> 460\u001b[0;31m         \u001b[0;32mreturn\u001b[0m \u001b[0mself\u001b[0m\u001b[0;34m.\u001b[0m\u001b[0m_conv_forward\u001b[0m\u001b[0;34m(\u001b[0m\u001b[0minput\u001b[0m\u001b[0;34m,\u001b[0m \u001b[0mself\u001b[0m\u001b[0;34m.\u001b[0m\u001b[0mweight\u001b[0m\u001b[0;34m,\u001b[0m \u001b[0mself\u001b[0m\u001b[0;34m.\u001b[0m\u001b[0mbias\u001b[0m\u001b[0;34m)\u001b[0m\u001b[0;34m\u001b[0m\u001b[0;34m\u001b[0m\u001b[0m\n\u001b[0m\u001b[1;32m    461\u001b[0m \u001b[0;34m\u001b[0m\u001b[0m\n\u001b[1;32m    462\u001b[0m \u001b[0;32mclass\u001b[0m \u001b[0mConv3d\u001b[0m\u001b[0;34m(\u001b[0m\u001b[0m_ConvNd\u001b[0m\u001b[0;34m)\u001b[0m\u001b[0;34m:\u001b[0m\u001b[0;34m\u001b[0m\u001b[0;34m\u001b[0m\u001b[0m\n",
            "\u001b[0;32m/usr/local/lib/python3.10/dist-packages/torch/nn/modules/conv.py\u001b[0m in \u001b[0;36m_conv_forward\u001b[0;34m(self, input, weight, bias)\u001b[0m\n\u001b[1;32m    454\u001b[0m                             \u001b[0mweight\u001b[0m\u001b[0;34m,\u001b[0m \u001b[0mbias\u001b[0m\u001b[0;34m,\u001b[0m \u001b[0mself\u001b[0m\u001b[0;34m.\u001b[0m\u001b[0mstride\u001b[0m\u001b[0;34m,\u001b[0m\u001b[0;34m\u001b[0m\u001b[0;34m\u001b[0m\u001b[0m\n\u001b[1;32m    455\u001b[0m                             _pair(0), self.dilation, self.groups)\n\u001b[0;32m--> 456\u001b[0;31m         return F.conv2d(input, weight, bias, self.stride,\n\u001b[0m\u001b[1;32m    457\u001b[0m                         self.padding, self.dilation, self.groups)\n\u001b[1;32m    458\u001b[0m \u001b[0;34m\u001b[0m\u001b[0m\n",
            "\u001b[0;31mKeyboardInterrupt\u001b[0m: "
          ]
        }
      ]
    },
    {
      "cell_type": "markdown",
      "metadata": {
        "id": "cLx7-YaNud_e"
      },
      "source": [
        "### 2.1 Feature distribution skew\n"
      ]
    },
    {
      "cell_type": "markdown",
      "metadata": {
        "id": "P25sgH4ZH2Xg"
      },
      "source": [
        "Statisticians and data scientists refer to this property as \"covariate shift”. It happens when different clients present samples which describe ideally the same objects having slightly different features. That is the case for two different writers hand-writing the same word, since these may have different stroke widths, slants, etc.\n",
        "What happens to an FL setting in which this property is strong is not always predictable. Ideally, the global model, obtained using FedAvg, will try to learn a shared representation between clients. This could be problematic since clients have different features to represent their data. We could simply expect that the same seed model trained separately on local clients may perform better than a global model obtained in an FL training.\n",
        "\n",
        "To see this property in our chosen dataset we will show two images for the same number taken from different clients.\n",
        "_NOTE: the choice of clients and samples in the following is not random, but suitably made to show you the property._\n"
      ]
    },
    {
      "cell_type": "code",
      "execution_count": null,
      "metadata": {
        "id": "GQSu0BsBw_tO"
      },
      "outputs": [],
      "source": [
        "client_0_dataset: FEMNIST = FEMNIST(\n",
        "    mapping=federated_partition / \"0\", data_dir=data_dir, name=\"train\"\n",
        ")\n",
        "client_1000_dataset: FEMNIST = FEMNIST(\n",
        "    mapping=federated_partition / \"1000\", data_dir=data_dir, name=\"train\"\n",
        ")\n",
        "img_a, label_a = client_0_dataset[4]\n",
        "img_b, label_b = client_1000_dataset[0]\n",
        "\n",
        "log(INFO, f\"For client 0, sample 4 has label {label_a}\")\n",
        "log(INFO, f\"For client 1000, sample 0 has label {label_b}\")\n",
        "# display images\n",
        "fig, ax = plt.subplots(1, 2)\n",
        "ax[0].imshow(img_a)\n",
        "ax[1].imshow(img_b)"
      ]
    },
    {
      "cell_type": "markdown",
      "metadata": {
        "id": "o8BULdP73HYV"
      },
      "source": [
        "We can also compare the average values of all the features for all the samples of these clients having the label chosen. You can try to execute the cell below choosing different labels.\n"
      ]
    },
    {
      "cell_type": "code",
      "execution_count": null,
      "metadata": {
        "id": "9xS7S-xk07dQ"
      },
      "outputs": [],
      "source": [
        "label_chosen = 4\n",
        "features_0 = []\n",
        "for img, lbl in client_0_dataset:\n",
        "    if lbl == label_chosen:\n",
        "        features_0.append(np.asarray(img).flatten())\n",
        "\n",
        "features_1000 = []\n",
        "for img, lbl in client_1000_dataset:\n",
        "    if lbl == label_chosen:\n",
        "        features_1000.append(np.asarray(img).flatten())\n",
        "\n",
        "# display images\n",
        "fig, ax = plt.subplots(1, 2)\n",
        "ax[0].imshow((np.sum(features_0, axis=0) / len(features_0)).reshape((28, 28)))\n",
        "ax[1].imshow((np.sum(features_1000, axis=0) / len(features_1000)).reshape((28, 28)))"
      ]
    },
    {
      "cell_type": "code",
      "execution_count": null,
      "metadata": {
        "id": "KbPKX2SuWFcr"
      },
      "outputs": [],
      "source": [
        "label_chosen = 1\n",
        "features_0 = []\n",
        "for img, lbl in client_0_dataset:\n",
        "    if lbl == label_chosen:\n",
        "        features_0.append(np.asarray(img).flatten())\n",
        "\n",
        "features_1000 = []\n",
        "for img, lbl in client_1000_dataset:\n",
        "    if lbl == label_chosen:\n",
        "        features_1000.append(np.asarray(img).flatten())\n",
        "\n",
        "# display images\n",
        "fig, ax = plt.subplots(1, 2)\n",
        "ax[0].imshow((np.sum(features_0, axis=0) / len(features_0)).reshape((28, 28)))\n",
        "ax[1].imshow((np.sum(features_1000, axis=0) / len(features_1000)).reshape((28, 28)))"
      ]
    },
    {
      "cell_type": "markdown",
      "metadata": {
        "id": "1MbYTin-77BR"
      },
      "source": [
        "It is worth having a glance on what are the consequences of this property on an FL experiment. To do that we will re-use the code for training an FL client from the previous lab.\n",
        "\n",
        "The following cell is thus meant to import objects and methods you have already used in the previous lab. There's nothing new in the cell below.\n"
      ]
    },
    {
      "cell_type": "code",
      "execution_count": null,
      "metadata": {
        "id": "Hb6M0AD4FdOP"
      },
      "outputs": [],
      "source": [
        "from common.client_utils import (\n",
        "    to_tensor_transform,\n",
        "    get_network_generator_mlp,\n",
        "    get_network_generator_cnn,\n",
        "    get_model_parameters,\n",
        "    get_federated_evaluation_function,\n",
        "    aggregate_weighted_average,\n",
        "    get_device,\n",
        ")\n",
        "from common.client import FlowerClient, get_flower_client_generator"
      ]
    },
    {
      "cell_type": "markdown",
      "metadata": {
        "id": "F_hZ8ZKqAwsY"
      },
      "source": [
        "In order to show on a small scale what can happen to FL training setups where clients have feature distribution skew, we will now build two toy settings. We choose the most populated client---the one with the most samples in the federation. We will then construct a second version of this same client by artificially changing its features by inverting the underlying images--- transforming each image into its negative. Furthermore, we need a specific `get_flower_client_generator` able to invert the images of a specific client.\n",
        "\n",
        "In the following, we provide the relevant methods to do that. These methods are simplified taking advantage of the federation being composed of just two clients.\n"
      ]
    },
    {
      "cell_type": "code",
      "execution_count": null,
      "metadata": {
        "id": "Y420LYKH_8BL"
      },
      "outputs": [],
      "source": [
        "def load_FEMNIST_inverted_dataset(mapping: Path, name: str) -> Dataset:\n",
        "    \"\"\"Load the filterd FEMNIST dataset given the mapping .csv file.\n",
        "\n",
        "    The relevant transforms are automatically applied.\n",
        "    Note that the last transform will invert images, getting their negative\n",
        "    representation.\n",
        "\n",
        "    Args:\n",
        "        mapping (Path): path to the mapping .csv file chosen.\n",
        "        name (str): name of the dataset to load, train or test.\n",
        "\n",
        "    Returns\n",
        "    -------\n",
        "        Dataset: FEMNIST dataset object, ready to use.\n",
        "    \"\"\"\n",
        "    transform = transforms.Compose(\n",
        "        [\n",
        "            transforms.ToTensor(),\n",
        "            transforms.functional.invert,\n",
        "        ]\n",
        "    )\n",
        "\n",
        "    return FEMNIST(\n",
        "        mapping=mapping,\n",
        "        name=name,\n",
        "        data_dir=data_dir,\n",
        "        transform=transform,\n",
        "        target_transform=to_tensor_transform,\n",
        "    )\n",
        "\n",
        "\n",
        "# NOTE: We need the self to use this for replacing an internal of a class\n",
        "\n",
        "\n",
        "def _load_inverted_dataset(self, name: str) -> Dataset:\n",
        "    full_file: Path = self.partition_dir / str(self.cid)\n",
        "    return load_FEMNIST_inverted_dataset(mapping=full_file, name=name)\n",
        "\n",
        "\n",
        "def get_mod_flower_client_generator(\n",
        "    model_generator: Callable[[], Module],\n",
        "    data_dir: Path,\n",
        "    partition_dir: Path,\n",
        "    mapping_fn: Callable[[int], int] | None = None,\n",
        ") -> Callable[[str], FlowerClient]:\n",
        "    \"\"\"Wrap the function for the client instance generator.\n",
        "\n",
        "    This provides the client generator with a model generator function.\n",
        "    Also, the partition directory must be passed.\n",
        "    A mapping function could be used for filtering/ordering clients.\n",
        "    Note that the \"even\" clients here will have a modified `_load_dataset` function.\n",
        "    The new `_load_dataset` has been chosen to be the one inverting the images.\n",
        "\n",
        "    Args:\n",
        "        data_dir (Path): path to the dataset folder.\n",
        "        model_generator (Callable[[], Module]): model generator function.\n",
        "        partition_dir (Path): directory containing the partition.\n",
        "        mapping_fn (Optional[Callable[[int], int]]): function mapping sorted/filtered\n",
        "            ids to real cid.\n",
        "\n",
        "    Returns\n",
        "    -------\n",
        "        Callable[[str], FlowerClient]: client instance.\n",
        "    \"\"\"\n",
        "\n",
        "    def client_fn(cid: str) -> FlowerClient:\n",
        "        \"\"\"Create a single client instance given the client id `cid`.\n",
        "\n",
        "        Args:\n",
        "            cid (str): client id, Flower requires this to of type str.\n",
        "\n",
        "        Returns\n",
        "        -------\n",
        "            FlowerClient: client instance.\n",
        "        \"\"\"\n",
        "        log(INFO, f\"Getting client with id {cid}\")\n",
        "        actual_cid = mapping_fn(int(cid)) if mapping_fn is not None else int(cid)\n",
        "        client = FlowerClient(\n",
        "            cid=actual_cid,\n",
        "            data_dir=data_dir,\n",
        "            partition_dir=partition_dir,\n",
        "            model_generator=model_generator,\n",
        "        )\n",
        "        # Pay attention to the following two lines\n",
        "        if int(cid) % 2 == 0:\n",
        "            client._load_dataset = _load_inverted_dataset.__get__(client, FlowerClient)\n",
        "        return client\n",
        "\n",
        "    return client_fn"
      ]
    },
    {
      "cell_type": "markdown",
      "metadata": {
        "id": "V6-ipEzaY8QY"
      },
      "source": [
        "We will now try to train separately the two clients generated this way. The mapping function will be provided to point both client IDs to the data of the most populated client.\n",
        "\n",
        "```python\n",
        "mapping_dict = {0: '178', 1: '178'}\n",
        "```\n",
        "\n",
        "_NOTE: you may want *to experiment \\_with \\_different\\_\\_ clients here*. After having completed the lab, feel free to try!_\n",
        "\n",
        "The following cell will set the relevant configuration for both training and testing of the client and its inverted version.\n",
        "\n",
        "> **IMPORTANT: The architecture used here is an MLP because it is affected by inversion of images. Also, note that we must seed the model parameters here.**\n"
      ]
    },
    {
      "cell_type": "code",
      "execution_count": null,
      "metadata": {
        "id": "8_ZCNLJRZoah"
      },
      "outputs": [],
      "source": [
        "# Seed the model\n",
        "torch.manual_seed(Seeds.DEFAULT)\n",
        "network_generator_mlp = get_network_generator_mlp()\n",
        "seed_net_mlp = network_generator_mlp()\n",
        "seed_model_mlp_params: NDArrays = get_model_parameters(seed_net_mlp)\n",
        "# Set up config for both train and eval\n",
        "train_config: dict[str, Any] = {\n",
        "    \"epochs\": 8,\n",
        "    \"batch_size\": 32,\n",
        "    \"client_learning_rate\": 0.01,\n",
        "    \"weight_decay\": 0.001,\n",
        "    \"num_workers\": 2,\n",
        "    \"max_batches\": None,\n",
        "}\n",
        "test_config: dict[str, Any] = {\n",
        "    \"batch_size\": 32,\n",
        "    \"num_workers\": 2,\n",
        "    \"max_batches\": None,\n",
        "}\n",
        "# Here is the mapping\n",
        "mapping_dict = {0: \"178\", 1: \"178\"}\n",
        "# NOTE: we are using here the `get_mod_flower_client_generator`\n",
        "federated_mod_flower_client_generator: Callable[\n",
        "    [int], FlowerClient\n",
        "] = get_mod_flower_client_generator(\n",
        "    model_generator=network_generator_mlp,\n",
        "    data_dir=data_dir,\n",
        "    partition_dir=federated_partition,\n",
        "    mapping_fn=lambda x: mapping_dict[x],\n",
        ")\n",
        "# NOTE: we are using here the `get_flower_client_generator`\n",
        "federated_flower_client_generator: Callable[\n",
        "    [int], FlowerClient\n",
        "] = get_flower_client_generator(\n",
        "    model_generator=network_generator_mlp,\n",
        "    data_dir=data_dir,\n",
        "    partition_dir=federated_partition,\n",
        "    mapping_fn=lambda x: mapping_dict[x],\n",
        ")"
      ]
    },
    {
      "cell_type": "markdown",
      "metadata": {
        "id": "zLqrKFqtaIYh"
      },
      "source": [
        "Let's train separately the two versions of the client and then mutually evaluate their models.\n"
      ]
    },
    {
      "cell_type": "code",
      "execution_count": null,
      "metadata": {
        "id": "fWYktaFiaH3d"
      },
      "outputs": [],
      "source": [
        "# Create clients\n",
        "client_0 = federated_mod_flower_client_generator(0)\n",
        "client_1 = federated_mod_flower_client_generator(1)\n",
        "# Fit client 0\n",
        "client_0_params, *rest = fit_client_seeded(\n",
        "    client_0, seed_model_mlp_params, train_config\n",
        ")\n",
        "log(INFO, f\"Results of fitting the seed model on client 0:\\n\\t{rest}\")\n",
        "# Evaluate client 0 on model trained on client 0\n",
        "client_0_res = client_0.evaluate(client_0_params, test_config)\n",
        "log(\n",
        "    INFO,\n",
        "    \"Results of model eval trained on client 0 on the test set of client 0:\\n\\t%s\",\n",
        "    client_0_res,\n",
        ")\n",
        "# Fit client 1\n",
        "client_1_params, *rest = fit_client_seeded(\n",
        "    client_1, seed_model_mlp_params, train_config\n",
        ")\n",
        "log(INFO, f\"Results of fitting the seed model on client 1:\\n\\t{rest}\")\n",
        "# Evaluate client 1 on model trained on client 1\n",
        "client_1_res = client_1.evaluate(client_1_params, test_config)\n",
        "log(\n",
        "    INFO,\n",
        "    \"Results of model eval trained on client 1 on the test set of client 1:\\n\\t%s\",\n",
        "    client_1_res,\n",
        ")\n",
        "# Evaluate client 0 on model trained on client 0\n",
        "client_0_res = client_0.evaluate(client_1_params, test_config)\n",
        "log(\n",
        "    INFO,\n",
        "    \"Results of model eval trained on client 1 on the test set of client 0:\\n\\t%s\",\n",
        "    client_0_res,\n",
        ")\n",
        "# Evaluate client 1 on model trained on client 1\n",
        "client_1_res = client_1.evaluate(client_0_params, test_config)\n",
        "log(\n",
        "    INFO,\n",
        "    \"Results of model eval trained on client 0 on the test set of client 1:\\n\\t%s\",\n",
        "    client_1_res,\n",
        ")"
      ]
    },
    {
      "cell_type": "markdown",
      "metadata": {
        "id": "T2I9CswibRCb"
      },
      "source": [
        "In the following cell, we will set up all the relevant methods and parameters to run an FL simulation.\n"
      ]
    },
    {
      "cell_type": "code",
      "execution_count": null,
      "metadata": {
        "id": "9pEHYQedk8xW"
      },
      "outputs": [],
      "source": [
        "def _on_fit_config_fn(server_round: int) -> dict[str, Scalar]:\n",
        "    return train_config.update({\"server_round\": server_round})\n",
        "\n",
        "\n",
        "def _on_evaluate_config_fn(server_round: int) -> dict[str, Scalar]:\n",
        "    return test_config.update({\"server_round\": server_round})\n",
        "\n",
        "\n",
        "# NOTE: We don't need the `federated_evaluation_function`. We care about the\n",
        "# distributed accuracy, thus we skip centralised evaluation.\n",
        "strategy = FedAvg(\n",
        "    fraction_fit=sys.float_info.min,\n",
        "    fraction_evaluate=sys.float_info.min,\n",
        "    min_fit_clients=2,\n",
        "    min_evaluate_clients=2,\n",
        "    min_available_clients=2,\n",
        "    on_fit_config_fn=_on_fit_config_fn,\n",
        "    on_evaluate_config_fn=_on_evaluate_config_fn,\n",
        "    initial_parameters=ndarrays_to_parameters(seed_model_mlp_params),\n",
        "    accept_failures=False,\n",
        "    fit_metrics_aggregation_fn=aggregate_weighted_average,\n",
        "    evaluate_metrics_aggregation_fn=aggregate_weighted_average,\n",
        ")"
      ]
    },
    {
      "cell_type": "markdown",
      "metadata": {
        "id": "6DZfkIkaYPME"
      },
      "source": [
        "**Question 1 (Part II ✅):**\n",
        "\n",
        "(You need to provide the answer with **code** and **plots** for this question. A short written argumentation is recommended.)\n",
        "\n",
        "1. Using the methods implemented so far, set up two FL settings composed of the clients above. One has both clients with their original dataset, and the other has one client with their features inverted. _(Hint: use `federated_flower_client_generator` for the first setting and `federated_mod_flower_client_generator` for the second setting)_\n",
        "2. Train the two settings generated at 1) for 5 rounds using `fl.simulation.start_simulation`. Set `num_clients=2` to use only client IDs in `[0,1]`. Use the `strategy` from the cell above.\n",
        "3. Take note of the evaluation metrics of both FL experiments that you have done. Compare the two using those metrics (plots are recommended). Briefly discuss the results.\n"
      ]
    },
    {
      "cell_type": "markdown",
      "metadata": {
        "id": "0mTgAc5yYVny"
      },
      "source": [
        "### 2.2 Label distribution skew\n"
      ]
    },
    {
      "cell_type": "markdown",
      "metadata": {
        "id": "IE6yFy4sH79L"
      },
      "source": [
        "The flavour of data heterogeneity we are dealing with in this subsection is often called “prior probability shift\". In a few words, this occurs when, given a particular label, the distribution of samples having that label differs from client to client. In our running example, we can see whether in FEMNIST happens that different clients have drawn different distributions of symbols.\n",
        "We can think about what could happen to an FL training in this situation simplifying a bit the actors in a play. Let's imagine that the federation has a subset of clients (one client: client 0) that is the only one having a specific subset of labels (say letters). A global model trained using FedAvg on that federation won't ever be able to learn well the representation of that subset of labels (letters). There exist methods to mitigate this particular situation, but often they involve sharing statistics about local datasets, thus creating privacy concerns.\n",
        "\n",
        "We will select two clients, then we will plot the histogram of the labels for each of them on the same canvas. Thus, we will be able to evaluate whether there is a qualitative difference between the two.\n"
      ]
    },
    {
      "cell_type": "code",
      "execution_count": null,
      "metadata": {
        "id": "CobK_i5-cwxI"
      },
      "outputs": [],
      "source": [
        "client_3000_dataset: FEMNIST = FEMNIST(\n",
        "    mapping=federated_partition / \"3000\", data_dir=data_dir, name=\"train\"\n",
        ")\n",
        "plt.hist(\n",
        "    [int(x[1]) for x in client_0_dataset],\n",
        "    bins=62,\n",
        "    color=\"blue\",\n",
        "    alpha=0.7,\n",
        "    label=\"client 0\",\n",
        ")\n",
        "plt.hist(\n",
        "    [int(x[1]) for x in client_3000_dataset],\n",
        "    bins=62,\n",
        "    color=\"orange\",\n",
        "    alpha=0.7,\n",
        "    label=\"client 3000\",\n",
        ")\n",
        "plt.legend()"
      ]
    },
    {
      "cell_type": "markdown",
      "metadata": {
        "id": "3ekusyXpeLy3"
      },
      "source": [
        "**Question 2 (Part II ✅ | Part III/MPhil ✅):**\n",
        "\n",
        "(These are meant to be conceptual questions. You should provide written answers for these. **No more than 3 sentences each**. **No code** is needed)\n",
        "\n",
        "1. If we ignore the privacy assumption of FL and allow the overall label distribution to be known, how could we balance the set of selected clients to guide the federated model towards a similar per-class accuracy that the centralised model can achieve? Assume FedAvg and the usual client implementation in your reasoning.\n",
        "2. Can you design an automatic data-driven procedure to mitigate label skew? Assume you are operating on a client level, keeping data private, and using standard FedAvg with random client selection.\n"
      ]
    },
    {
      "cell_type": "markdown",
      "source": [
        "Question 2\n",
        "\n",
        "1. If we knew the label distribution, we could simply select clients such that the distribution of labels among the selected clients is similar to the distribution of labels among all the clients, and the model updates averaged from these clients will yield similar per-class accuracy as centralized model due to similar class distributions.\n",
        "\n",
        "2. We could change the client selection to favour clients that have been selected less for training, for example by only sampling from clients that have not been selected yet, such that the data on each client contributes similarly to the global model."
      ],
      "metadata": {
        "id": "-NruO_sxY3o7"
      }
    },
    {
      "cell_type": "markdown",
      "metadata": {
        "id": "ZR7M2rpHJ5kO"
      },
      "source": [
        "### 2.3 Quantity skew\n"
      ]
    },
    {
      "cell_type": "markdown",
      "metadata": {
        "id": "amXbWzGcIACk"
      },
      "source": [
        "The last kind of heterogeneity we will discuss in detail is the _quantity skew_, which occurs when clients possess different numbers of samples. Last, but not least, it is the most investigated property that real FL datasets have. Also called “unbalancedness\", it has been tackled using many techniques spanning from data manipulation to optimization algorithm design. Even if the literature regarding such techniques is quite broad, relative to FL being a new topic of research, there is still not any agreement about how to deal with unbalancedness. Often different solutions have different accuracy depending on the task and how unbalanced the FL dataset is.\n",
        "\n",
        "Those of you that have well-trained observation skills may recall a plot in the last lab that spoiled this property. Now we'll try to get the global view of FEMNIST data from this perspective.\n"
      ]
    },
    {
      "cell_type": "code",
      "execution_count": null,
      "metadata": {
        "id": "T-bzX0KvhZ5z"
      },
      "outputs": [],
      "source": [
        "sns.histplot(\n",
        "    alpha=0.15,\n",
        "    legend=True,\n",
        "    data=[\n",
        "        len(\n",
        "            FEMNIST(\n",
        "                mapping=federated_partition / str(i), data_dir=data_dir, name=\"train\"\n",
        "            )\n",
        "        )\n",
        "        for i in range(3229)\n",
        "    ],\n",
        "    fill=True,\n",
        "    kde=True,\n",
        "    element=\"step\",\n",
        "    stat=\"density\",\n",
        "    common_norm=False,\n",
        "    common_bins=True,\n",
        "    cbar=True,\n",
        "    palette=\"dark\",\n",
        ")\n",
        "plt.xlabel(\"# samples\")\n",
        "plt.show()"
      ]
    },
    {
      "cell_type": "markdown",
      "metadata": {
        "id": "sCkfjXY1hX7D"
      },
      "source": [
        "**Question 3 (Part II ✅ | Part III/MPhil ✅):**\n",
        "\n",
        "(These are meant to be conceptual questions. You should provide written answers for these. **No more than 3 sentences each**. **No code** is needed)\n",
        "\n",
        "1. Given the skewness of number of samples held by each client plotted above, list one potential advantage and one potential disadvantage of training only clients with a number of samples close to the mean (e.g., within one $\\sigma$ of the mean).\n"
      ]
    },
    {
      "cell_type": "markdown",
      "source": [
        "Question 3\n",
        "\n",
        "1. One advantage is that this effectively mitigates quantity skewness as all clients used for training have similar number of samples, a disadvantage is that it may amplify other types of skewness such as label distribution skewness as certain clients are never sampled."
      ],
      "metadata": {
        "id": "E0eYj0W9aI0M"
      }
    },
    {
      "cell_type": "markdown",
      "metadata": {
        "id": "RFYZaMvAcaYV"
      },
      "source": [
        "# 3. The behaviour of FL under data heterogeneity/creating heterogeneous partitions\n"
      ]
    },
    {
      "cell_type": "markdown",
      "metadata": {
        "id": "zemO_m5s2Bff"
      },
      "source": [
        "## FEMNIST folder structure\n"
      ]
    },
    {
      "cell_type": "markdown",
      "metadata": {
        "id": "OsTGyV4ms_bm"
      },
      "source": [
        "By default, FEMNIST will be split as follows:\n",
        "\n",
        "- `femnist`: the location of the relevant data\n",
        "  - `client_data_mappings`: contains different partitions\n",
        "    - `centralized`: mappings from writer_id -> `[image_path, label]` for the centralized dataset\n",
        "    - `fed_natural`: mappings from writer_id -> `[image_path, label]` for the naturally federated dataset\n",
        "  - `data`: contains the macro partitions between test, train, and val\n",
        "    - `train`: contains the raw images---samples of the train set\n",
        "    - `test`: contains the raw images---samples of the test set\n",
        "    - `val`: contains the raw images---samples of the val set\n",
        "- `femnist.tar.gz`: the compressed dataset\n",
        "\n",
        "We will store client datasets in sequentially labelled folders within each partition and do all necessary remapping in python.\n"
      ]
    },
    {
      "cell_type": "code",
      "execution_count": null,
      "metadata": {
        "colab": {
          "base_uri": "https://localhost:8080/"
        },
        "id": "oZjU-2dyrVxC",
        "outputId": "915e26b2-eb4c-4168-d745-92177f2cfdb1"
      },
      "outputs": [
        {
          "output_type": "stream",
          "name": "stdout",
          "text": [
            "\u001b[01;34m./\u001b[0m\n",
            "├── \u001b[01;34mcommon\u001b[0m\n",
            "│   └── \u001b[01;34m__pycache__\u001b[0m\n",
            "├── \u001b[01;34mfemnist\u001b[0m\n",
            "│   ├── \u001b[01;34mclient_data_mappings\u001b[0m\n",
            "│   │   ├── \u001b[01;34mcentralized\u001b[0m\n",
            "│   │   └── \u001b[01;34mfed_natural\u001b[0m\n",
            "│   └── \u001b[01;34mdata\u001b[0m\n",
            "│       ├── \u001b[01;34mtest\u001b[0m\n",
            "│       ├── \u001b[01;34mtrain\u001b[0m\n",
            "│       └── \u001b[01;34mval\u001b[0m\n",
            "└── \u001b[01;34msample_data\u001b[0m\n",
            "\n",
            "11 directories\n"
          ]
        }
      ],
      "source": [
        "# Showing resulting folder tree\n",
        "! tree -dC -L 3 ./"
      ]
    },
    {
      "cell_type": "markdown",
      "metadata": {
        "id": "O_QqLvPZ2Bff"
      },
      "source": [
        "## Test sets for FL\n"
      ]
    },
    {
      "cell_type": "markdown",
      "metadata": {
        "id": "VhsBuoiOtDzE"
      },
      "source": [
        "Prior to constructing our centralized partition, it is necessary to discuss what a test set even means for FL.\n",
        "\n",
        "A testing set can generally be either a **federated test set** or a **local test set**:\n",
        "\n",
        "- A federated test set contains data representative of the entire federated network and is used to provide a form of centralized-like evaluation of the federated model. In production scenarios, this would be data that has been consensually gathered from a multitude of users and is legal/efficient to store on the server or clients which have been kept out of the training loop. For research purposes it can be constructed in one of the two following ways:\n",
        "  - Take x% of data from all clients and save it separately.\n",
        "  - Leave y% of clients utterly unavailable for federated training and use their data as a test/validation set. **This is the version we shall use during the lab for the federated test set.**\n",
        "- A local test set is formed via data from a specific client which has not been seen during training. There are as many local test sets as there are clients. As such, they can be used to test the model on a specific client or to accumulate average statistics to determine its performance.\n"
      ]
    },
    {
      "cell_type": "markdown",
      "metadata": {
        "id": "PEnNRUzntSHQ"
      },
      "source": [
        "## Creating and using partitions\n"
      ]
    },
    {
      "cell_type": "markdown",
      "metadata": {
        "id": "8XBPXfzPtkJe"
      },
      "source": [
        "### Class unbalancedness\n"
      ]
    },
    {
      "cell_type": "markdown",
      "metadata": {
        "id": "xEzJSW4TvEmK"
      },
      "source": [
        "We will start creating class unbalanced partitions. The most representative example, as often happens, is the extreme one. Thus, we are going to create a partition of the dataset in which each client possesses one class only. This aim sets one parameter for the creation of the current partition, but we need to choose also another parameter: the number of clients we want to create or the number of samples per client that we want to infer. These last are two antagonist parameters that describe the same thing. The larger the number of clients is, the lower the number of samples per client is.\n",
        "\n",
        "Let's start by looking at how labels are distributed in the entire dataset (test set only), by treating the dataset as centralized.\n"
      ]
    },
    {
      "cell_type": "code",
      "execution_count": null,
      "metadata": {
        "colab": {
          "base_uri": "https://localhost:8080/",
          "height": 463
        },
        "id": "yLEQJLkjwM4u",
        "outputId": "e3e3c24b-265d-4916-e320-0624d6785387"
      },
      "outputs": [
        {
          "output_type": "execute_result",
          "data": {
            "text/plain": [
              "<matplotlib.legend.Legend at 0x7c8e5007a170>"
            ]
          },
          "metadata": {},
          "execution_count": 37
        },
        {
          "output_type": "display_data",
          "data": {
            "text/plain": [
              "<Figure size 1000x500 with 2 Axes>"
            ],
            "image/png": "[encoded data removed]"
          },
          "metadata": {}
        }
      ],
      "source": [
        "centralized_train_dataset: FEMNIST = FEMNIST(\n",
        "    mapping=centralized_partition / \"0\", data_dir=data_dir, name=\"train\"\n",
        ")\n",
        "centralized_test_dataset: FEMNIST = FEMNIST(\n",
        "    mapping=centralized_partition / \"0\", data_dir=data_dir, name=\"test\"\n",
        ")\n",
        "fig, ax = plt.subplots(1, 2, figsize=(10, 5))\n",
        "train_histo = ax[0].hist(\n",
        "    [int(x[1]) for x in centralized_train_dataset.data],\n",
        "    bins=62,\n",
        "    color=\"blue\",\n",
        "    alpha=0.7,\n",
        "    label=\"centralized train dataset\",\n",
        ")\n",
        "test_histo = ax[1].hist(\n",
        "    [int(x[1]) for x in centralized_test_dataset.data],\n",
        "    bins=62,\n",
        "    color=\"orange\",\n",
        "    alpha=0.7,\n",
        "    label=\"centralized test dataset\",\n",
        ")\n",
        "ax[0].legend()\n",
        "ax[1].legend()"
      ]
    },
    {
      "cell_type": "markdown",
      "metadata": {
        "id": "0AWfsLZo9jmi"
      },
      "source": [
        "Since the distribution is all but uniform, we need to make a further choice. We want to build a federation of 62 clients each of them having one class only. We want all the classes to be represented in the federation. Likewise, we also want FedAvg to treat equally all the clients in the federation. Thus, we will need to partition clients taking into account the population of the least represented class in both the `train` and the `test` set.\n"
      ]
    },
    {
      "cell_type": "code",
      "execution_count": null,
      "metadata": {
        "colab": {
          "base_uri": "https://localhost:8080/"
        },
        "id": "1_yGo1zI9UyA",
        "outputId": "d1ca99f5-5c11-4497-9df2-9dc23b94d4bf"
      },
      "outputs": [
        {
          "output_type": "stream",
          "name": "stderr",
          "text": [
            "INFO flwr 2024-02-10 14:27:02,762 | <ipython-input-38-319cf1b2fc68>:1 | The least represented class in the train set has 1786.0 samples\n",
            "INFO:flwr:The least represented class in the train set has 1786.0 samples\n",
            "INFO flwr 2024-02-10 14:27:02,767 | <ipython-input-38-319cf1b2fc68>:6 | The least represented class in the test set has 233.0 samples\n",
            "INFO:flwr:The least represented class in the test set has 233.0 samples\n"
          ]
        }
      ],
      "source": [
        "log(\n",
        "    INFO,\n",
        "    \"The least represented class in the train set has %s samples\",\n",
        "    min(train_histo[0]),\n",
        ")\n",
        "log(\n",
        "    INFO,\n",
        "    \"The least represented class in the test set has %s samples\",\n",
        "    min(test_histo[0]),\n",
        ")\n",
        "max_train_samples = int(min(train_histo[0]))\n",
        "max_test_samples = int(min(test_histo[0]))"
      ]
    },
    {
      "cell_type": "markdown",
      "metadata": {
        "id": "OuvZvcU3_eq0"
      },
      "source": [
        "Let's now create the function that creates the partition. We will stick to the folder structure the dataset has.\n"
      ]
    },
    {
      "cell_type": "code",
      "execution_count": null,
      "metadata": {
        "id": "fvJS4NX5_r-F"
      },
      "outputs": [],
      "source": [
        "class_unbalanced_partition: Path = (\n",
        "    dataset_dir / \"client_data_mappings\" / \"class_unbalanced\"\n",
        ")\n",
        "class_unbalanced_partition.mkdir(parents=True, exist_ok=True)\n",
        "train_df = pd.read_csv(centralized_mapping / \"train.csv\")\n",
        "test_df = pd.read_csv(centralized_mapping / \"test.csv\")\n",
        "max_train_samples = 200\n",
        "max_test_samples = 50\n",
        "for i in range(62):\n",
        "    folder_path: Path = class_unbalanced_partition / str(i)\n",
        "    folder_path.mkdir(parents=True, exist_ok=True)\n",
        "\n",
        "    train_path: Path = folder_path / \"train.csv\"\n",
        "    test_path: Path = folder_path / \"test.csv\"\n",
        "\n",
        "    client_df = deepcopy(\n",
        "        train_df[train_df.label == i].sample(frac=1)[:max_train_samples]\n",
        "    ).reset_index()\n",
        "    client_df[\"client_id\"] = i\n",
        "    client_df.drop(columns=[\"level_0\"], inplace=True)\n",
        "    client_df.to_csv(train_path, index=False)\n",
        "    client_df = deepcopy(\n",
        "        test_df[test_df.label == i].sample(frac=1)[:max_test_samples]\n",
        "    ).reset_index()\n",
        "    client_df[\"client_id\"] = i\n",
        "    client_df.drop(columns=[\"level_0\"], inplace=True)\n",
        "    client_df.to_csv(test_path, index=False)"
      ]
    },
    {
      "cell_type": "markdown",
      "metadata": {
        "id": "PcuMI5TzW08E"
      },
      "source": [
        "Here, we seed the initial model parameters to come from a partially trained model on the centralized dataset.\n"
      ]
    },
    {
      "cell_type": "code",
      "execution_count": null,
      "metadata": {
        "id": "z0Bj3btM9llx",
        "outputId": "3859bb1c-b536-4605-9342-8d0e4cd07658",
        "colab": {
          "base_uri": "https://localhost:8080/"
        }
      },
      "outputs": [
        {
          "output_type": "stream",
          "name": "stderr",
          "text": [
            "INFO flwr 2024-02-10 14:27:04,471 | client.py:57 | Creating client with cid: 0\n",
            "INFO:flwr:Creating client with cid: 0\n"
          ]
        }
      ],
      "source": [
        "torch.manual_seed(Seeds.DEFAULT)\n",
        "network_generator_cnn = get_network_generator_cnn()\n",
        "seed_net_cnn = network_generator_cnn()\n",
        "centralized_flower_client_generator: Callable[\n",
        "    [int], FlowerClient\n",
        "] = get_flower_client_generator(\n",
        "    model_generator=network_generator_cnn,\n",
        "    partition_dir=centralized_partition,\n",
        "    data_dir=data_dir,\n",
        ")\n",
        "centralized_flower_client = centralized_flower_client_generator(0)\n",
        "centralized_train_config: dict[str, Any] = {\n",
        "    \"epochs\": 1,\n",
        "    \"batch_size\": 32,\n",
        "    \"client_learning_rate\": 0.01,\n",
        "    \"weight_decay\": 0.001,\n",
        "    \"num_workers\": 2,\n",
        "    \"max_batches\": 1000,\n",
        "}\n",
        "test_config: dict[str, Any] = {\n",
        "    \"batch_size\": 32,\n",
        "    \"num_workers\": 2,\n",
        "    \"max_batches\": None,\n",
        "}\n",
        "# Train parameters on the centralised dataset\n",
        "trained_params, num_examples, train_metrics = fit_client_seeded(\n",
        "    centralized_flower_client,\n",
        "    params=get_model_parameters(seed_net_cnn),\n",
        "    conf=centralized_train_config,\n",
        ")\n",
        "initial_parameters: Parameters = ndarrays_to_parameters(trained_params)"
      ]
    },
    {
      "cell_type": "markdown",
      "metadata": {
        "id": "4ytbOMN2W08F"
      },
      "source": [
        "We also create the centralised evaluation function that will be executed by the server at the end of every round if requested.\n"
      ]
    },
    {
      "cell_type": "code",
      "execution_count": null,
      "metadata": {
        "id": "pRiXe-eU9m4u",
        "outputId": "fc0920d2-37e8-4596-bf7e-10d628c3e94c",
        "colab": {
          "base_uri": "https://localhost:8080/"
        }
      },
      "outputs": [
        {
          "output_type": "stream",
          "name": "stderr",
          "text": [
            "INFO flwr 2024-02-10 14:27:30,994 | client_utils.py:388 | Reduced federated test_set size from 28510 to a size of 1500 mean index: 14726.628666666667\n",
            "INFO:flwr:Reduced federated test_set size from 28510 to a size of 1500 mean index: 14726.628666666667\n"
          ]
        }
      ],
      "source": [
        "federated_evaluation_function = get_federated_evaluation_function(\n",
        "    data_dir=data_dir,\n",
        "    centralized_mapping=centralized_mapping,\n",
        "    device=get_device(),\n",
        "    batch_size=test_config[\"batch_size\"],\n",
        "    num_workers=test_config[\"num_workers\"],\n",
        "    model_generator=network_generator_cnn,\n",
        "    criterion=nn.CrossEntropyLoss()\n",
        ")"
      ]
    },
    {
      "cell_type": "markdown",
      "metadata": {
        "id": "CGghXFCiW08F"
      },
      "source": [
        "Finally, the client generator function.\n"
      ]
    },
    {
      "cell_type": "code",
      "execution_count": null,
      "metadata": {
        "id": "Z0Ohncc3DLJG"
      },
      "outputs": [],
      "source": [
        "unbalanced_flower_client_generator: Callable[\n",
        "    [int], FlowerClient\n",
        "] = get_flower_client_generator(\n",
        "    model_generator=network_generator_cnn,\n",
        "    data_dir=data_dir,\n",
        "    partition_dir=class_unbalanced_partition,\n",
        ")"
      ]
    },
    {
      "cell_type": "markdown",
      "metadata": {
        "id": "eJxlg3wEW08F"
      },
      "source": [
        "Let's see how these clients look like.\n"
      ]
    },
    {
      "cell_type": "code",
      "execution_count": null,
      "metadata": {
        "id": "sa1YUA70W08F",
        "outputId": "ff8dd0fc-5829-40a3-cb0d-2284fe7b8b8d",
        "colab": {
          "base_uri": "https://localhost:8080/",
          "height": 519
        }
      },
      "outputs": [
        {
          "output_type": "stream",
          "name": "stderr",
          "text": [
            "INFO flwr 2024-02-10 14:27:31,015 | client.py:57 | Creating client with cid: 0\n",
            "INFO:flwr:Creating client with cid: 0\n",
            "INFO flwr 2024-02-10 14:27:31,107 | client.py:57 | Creating client with cid: 1\n",
            "INFO:flwr:Creating client with cid: 1\n"
          ]
        },
        {
          "output_type": "execute_result",
          "data": {
            "text/plain": [
              "<matplotlib.legend.Legend at 0x7c8e11263040>"
            ]
          },
          "metadata": {},
          "execution_count": 43
        },
        {
          "output_type": "display_data",
          "data": {
            "text/plain": [
              "<Figure size 640x480 with 1 Axes>"
            ],
            "image/png": "[encoded data removed]"
          },
          "metadata": {}
        }
      ],
      "source": [
        "N_CLASSES = 62\n",
        "plt.hist(\n",
        "    [\n",
        "        int(x[1])\n",
        "        for x in unbalanced_flower_client_generator(0)._load_dataset(\"train\").data\n",
        "    ],\n",
        "    bins=N_CLASSES,\n",
        "    color=\"blue\",\n",
        "    alpha=0.7,\n",
        "    label=\"client 0 train set\",\n",
        ")\n",
        "plt.hist(\n",
        "    [\n",
        "        int(x[1])\n",
        "        for x in unbalanced_flower_client_generator(1)._load_dataset(\"train\").data\n",
        "    ],\n",
        "    bins=N_CLASSES,\n",
        "    color=\"orange\",\n",
        "    alpha=0.7,\n",
        "    label=\"client 1 train set\",\n",
        ")\n",
        "plt.legend()"
      ]
    },
    {
      "cell_type": "markdown",
      "metadata": {
        "id": "5Oh84SnSW08G"
      },
      "source": [
        "We will now create a wrapper for the strategy that will be used to extract the clients' model parameters obtained during the training for the next question.\n"
      ]
    },
    {
      "cell_type": "code",
      "execution_count": null,
      "metadata": {
        "id": "qTYpbRDbW08G"
      },
      "outputs": [],
      "source": [
        "from flwr.server.client_proxy import ClientProxy\n",
        "from flwr.common import FitRes, parameters_to_ndarrays\n",
        "\n",
        "\n",
        "class WrappedFedAvg(FedAvg):\n",
        "    clients_models: dict[int, list[tuple[int, NDArrays]]] = {}\n",
        "\n",
        "    def aggregate_fit(\n",
        "        self,\n",
        "        server_round: int,\n",
        "        results: list[tuple[ClientProxy, FitRes]],\n",
        "        failures: list[tuple[ClientProxy, FitRes] | BaseException],\n",
        "    ) -> tuple[Parameters | None, dict[str, Scalar]]:\n",
        "        \"\"\"Aggregate fit results using weighted average.\"\"\"\n",
        "        # Call FedAvg original aggregate_fit, so that it handles the failures\n",
        "        ret = super().aggregate_fit(server_round, results, failures)\n",
        "        # Append clients' model parameters to the list\n",
        "        self.clients_models[server_round] = [\n",
        "            (i, parameters_to_ndarrays(fit_res.parameters))\n",
        "            for i, (_, fit_res) in enumerate(results)\n",
        "        ]\n",
        "        # Return the original return value\n",
        "        return ret"
      ]
    },
    {
      "cell_type": "code",
      "execution_count": null,
      "metadata": {
        "id": "iuSAFGmXDgYT"
      },
      "outputs": [],
      "source": [
        "train_config: dict[str, Any] = {\n",
        "    \"epochs\": 8,\n",
        "    \"batch_size\": 32,\n",
        "    \"client_learning_rate\": 0.01,\n",
        "    \"weight_decay\": 0.001,\n",
        "    \"num_workers\": 2,\n",
        "    \"max_batches\": None,\n",
        "}\n",
        "\n",
        "\n",
        "def _on_fit_config_fn(server_round: int) -> dict[str, Scalar]:\n",
        "    return train_config | {\"server_round\": server_round}\n",
        "\n",
        "\n",
        "num_total_clients = 62\n",
        "num_clients_per_round: int = 5\n",
        "num_evaluate_clients: int = 5\n",
        "\n",
        "strategy = WrappedFedAvg(\n",
        "    fraction_fit=sys.float_info.min,\n",
        "    fraction_evaluate=sys.float_info.min,\n",
        "    min_fit_clients=num_clients_per_round,\n",
        "    min_evaluate_clients=num_evaluate_clients,\n",
        "    min_available_clients=max(num_clients_per_round, num_evaluate_clients),\n",
        "    on_fit_config_fn=_on_fit_config_fn,\n",
        "    on_evaluate_config_fn=None,\n",
        "    evaluate_fn=federated_evaluation_function,\n",
        "    initial_parameters=initial_parameters,\n",
        "    accept_failures=False,\n",
        "    fit_metrics_aggregation_fn=aggregate_weighted_average,\n",
        "    evaluate_metrics_aggregation_fn=aggregate_weighted_average,\n",
        ")"
      ]
    },
    {
      "cell_type": "code",
      "execution_count": null,
      "metadata": {
        "colab": {
          "base_uri": "https://localhost:8080/",
          "height": 1000
        },
        "id": "5sFPqF0k596b",
        "outputId": "560e8020-1f0e-4103-fd6d-bb0ffb7e60d1"
      },
      "outputs": [
        {
          "output_type": "stream",
          "name": "stderr",
          "text": [
            "INFO flwr 2024-02-10 14:27:31,649 | app.py:149 | Starting Flower simulation, config: ServerConfig(num_rounds=5, round_timeout=None)\n",
            "INFO:flwr:Starting Flower simulation, config: ServerConfig(num_rounds=5, round_timeout=None)\n",
            "INFO flwr 2024-02-10 14:27:31,652 | server_returns_parameters.py:81 | Initializing global parameters\n",
            "INFO:flwr:Initializing global parameters\n",
            "INFO flwr 2024-02-10 14:27:31,656 | server_returns_parameters.py:273 | Using initial parameters provided by strategy\n",
            "INFO:flwr:Using initial parameters provided by strategy\n",
            "INFO flwr 2024-02-10 14:27:31,666 | server_returns_parameters.py:84 | Evaluating initial parameters\n",
            "INFO:flwr:Evaluating initial parameters\n",
            "100%|██████████| 47/47 [00:01<00:00, 40.54it/s]\n",
            "INFO flwr 2024-02-10 14:27:32,848 | server_returns_parameters.py:87 | initial parameters (loss, other metrics): 58.245476484298706, {'accuracy': 0.5813333333333334}\n",
            "INFO:flwr:initial parameters (loss, other metrics): 58.245476484298706, {'accuracy': 0.5813333333333334}\n",
            "INFO flwr 2024-02-10 14:27:32,851 | server_returns_parameters.py:97 | FL starting\n",
            "INFO:flwr:FL starting\n",
            "DEBUG flwr 2024-02-10 14:27:32,855 | server_returns_parameters.py:223 | fit_round 1: strategy sampled 5 clients (out of 62)\n",
            "DEBUG:flwr:fit_round 1: strategy sampled 5 clients (out of 62)\n",
            "INFO flwr 2024-02-10 14:27:32,862 | client.py:57 | Creating client with cid: 39\n",
            "INFO:flwr:Creating client with cid: 39\n",
            "INFO flwr 2024-02-10 14:27:32,862 | client.py:57 | Creating client with cid: 59\n",
            "INFO:flwr:Creating client with cid: 59\n",
            "INFO flwr 2024-02-10 14:27:32,869 | client.py:57 | Creating client with cid: 34\n",
            "INFO:flwr:Creating client with cid: 34\n",
            "INFO flwr 2024-02-10 14:27:32,880 | client.py:57 | Creating client with cid: 45\n",
            "INFO flwr 2024-02-10 14:27:32,881 | client.py:57 | Creating client with cid: 23\n",
            "INFO:flwr:Creating client with cid: 45\n",
            "INFO:flwr:Creating client with cid: 23\n",
            "ERROR flwr 2024-02-10 14:27:41,431 | app.py:189 | DataLoader worker (pid 6073) exited unexpectedly with exit code 1. Details are lost due to multiprocessing. Rerunning with num_workers=0 may give better error trace.\n",
            "ERROR:flwr:DataLoader worker (pid 6073) exited unexpectedly with exit code 1. Details are lost due to multiprocessing. Rerunning with num_workers=0 may give better error trace.\n",
            "ERROR flwr 2024-02-10 14:27:41,477 | app.py:190 | Traceback (most recent call last):\n",
            "  File \"/usr/local/lib/python3.10/dist-packages/flwr/server/server_returns_parameters.py\", line 338, in fit_clients\n",
            "    finished_fs, _ = concurrent.futures.wait(\n",
            "  File \"/usr/lib/python3.10/concurrent/futures/_base.py\", line 307, in wait\n",
            "    waiter.event.wait(timeout)\n",
            "  File \"/usr/lib/python3.10/threading.py\", line 607, in wait\n",
            "    signaled = self._cond.wait(timeout)\n",
            "  File \"/usr/lib/python3.10/threading.py\", line 320, in wait\n",
            "    waiter.acquire()\n",
            "  File \"/usr/local/lib/python3.10/dist-packages/torch/utils/data/_utils/signal_handling.py\", line 66, in handler\n",
            "    _error_if_any_worker_fails()\n",
            "RuntimeError: DataLoader worker (pid 5690) exited unexpectedly with exit code 1. Details are lost due to multiprocessing. Rerunning with num_workers=0 may give better error trace.\n",
            "\n",
            "During handling of the above exception, another exception occurred:\n",
            "\n",
            "Traceback (most recent call last):\n",
            "  File \"/usr/local/lib/python3.10/dist-packages/flwr/simulation/app.py\", line 184, in start_simulation_no_ray\n",
            "    parameters_list, hist = run_fl_return_parameters(\n",
            "  File \"/usr/local/lib/python3.10/dist-packages/flwr/server/app.py\", line 249, in run_fl_return_parameters\n",
            "    parameters_list, hist = server.fit(num_rounds=config.num_rounds, timeout=config.round_timeout)\n",
            "  File \"/usr/local/lib/python3.10/dist-packages/flwr/server/server_returns_parameters.py\", line 102, in fit\n",
            "    res_fit = self.fit_round(\n",
            "  File \"/usr/local/lib/python3.10/dist-packages/flwr/server/server_returns_parameters.py\", line 232, in fit_round\n",
            "    results, failures = fit_clients(\n",
            "  File \"/usr/local/lib/python3.10/dist-packages/flwr/server/server_returns_parameters.py\", line 333, in fit_clients\n",
            "    with concurrent.futures.ThreadPoolExecutor(max_workers=max_workers) as executor:\n",
            "  File \"/usr/lib/python3.10/concurrent/futures/_base.py\", line 649, in __exit__\n",
            "    self.shutdown(wait=True)\n",
            "  File \"/usr/lib/python3.10/concurrent/futures/thread.py\", line 235, in shutdown\n",
            "    t.join()\n",
            "  File \"/usr/lib/python3.10/threading.py\", line 1096, in join\n",
            "    self._wait_for_tstate_lock()\n",
            "  File \"/usr/lib/python3.10/threading.py\", line 1116, in _wait_for_tstate_lock\n",
            "    if lock.acquire(block, timeout):\n",
            "  File \"/usr/local/lib/python3.10/dist-packages/torch/utils/data/_utils/signal_handling.py\", line 66, in handler\n",
            "    _error_if_any_worker_fails()\n",
            "RuntimeError: DataLoader worker (pid 6073) exited unexpectedly with exit code 1. Details are lost due to multiprocessing. Rerunning with num_workers=0 may give better error trace.\n",
            "\n",
            "ERROR:flwr:Traceback (most recent call last):\n",
            "  File \"/usr/local/lib/python3.10/dist-packages/flwr/server/server_returns_parameters.py\", line 338, in fit_clients\n",
            "    finished_fs, _ = concurrent.futures.wait(\n",
            "  File \"/usr/lib/python3.10/concurrent/futures/_base.py\", line 307, in wait\n",
            "    waiter.event.wait(timeout)\n",
            "  File \"/usr/lib/python3.10/threading.py\", line 607, in wait\n",
            "    signaled = self._cond.wait(timeout)\n",
            "  File \"/usr/lib/python3.10/threading.py\", line 320, in wait\n",
            "    waiter.acquire()\n",
            "  File \"/usr/local/lib/python3.10/dist-packages/torch/utils/data/_utils/signal_handling.py\", line 66, in handler\n",
            "    _error_if_any_worker_fails()\n",
            "RuntimeError: DataLoader worker (pid 5690) exited unexpectedly with exit code 1. Details are lost due to multiprocessing. Rerunning with num_workers=0 may give better error trace.\n",
            "\n",
            "During handling of the above exception, another exception occurred:\n",
            "\n",
            "Traceback (most recent call last):\n",
            "  File \"/usr/local/lib/python3.10/dist-packages/flwr/simulation/app.py\", line 184, in start_simulation_no_ray\n",
            "    parameters_list, hist = run_fl_return_parameters(\n",
            "  File \"/usr/local/lib/python3.10/dist-packages/flwr/server/app.py\", line 249, in run_fl_return_parameters\n",
            "    parameters_list, hist = server.fit(num_rounds=config.num_rounds, timeout=config.round_timeout)\n",
            "  File \"/usr/local/lib/python3.10/dist-packages/flwr/server/server_returns_parameters.py\", line 102, in fit\n",
            "    res_fit = self.fit_round(\n",
            "  File \"/usr/local/lib/python3.10/dist-packages/flwr/server/server_returns_parameters.py\", line 232, in fit_round\n",
            "    results, failures = fit_clients(\n",
            "  File \"/usr/local/lib/python3.10/dist-packages/flwr/server/server_returns_parameters.py\", line 333, in fit_clients\n",
            "    with concurrent.futures.ThreadPoolExecutor(max_workers=max_workers) as executor:\n",
            "  File \"/usr/lib/python3.10/concurrent/futures/_base.py\", line 649, in __exit__\n",
            "    self.shutdown(wait=True)\n",
            "  File \"/usr/lib/python3.10/concurrent/futures/thread.py\", line 235, in shutdown\n",
            "    t.join()\n",
            "  File \"/usr/lib/python3.10/threading.py\", line 1096, in join\n",
            "    self._wait_for_tstate_lock()\n",
            "  File \"/usr/lib/python3.10/threading.py\", line 1116, in _wait_for_tstate_lock\n",
            "    if lock.acquire(block, timeout):\n",
            "  File \"/usr/local/lib/python3.10/dist-packages/torch/utils/data/_utils/signal_handling.py\", line 66, in handler\n",
            "    _error_if_any_worker_fails()\n",
            "RuntimeError: DataLoader worker (pid 6073) exited unexpectedly with exit code 1. Details are lost due to multiprocessing. Rerunning with num_workers=0 may give better error trace.\n",
            "\n",
            "ERROR flwr 2024-02-10 14:27:41,488 | app.py:191 | Your simulation crashed :(. This could be because of several reasons.The most common are: \n",
            "\t > Your system couldn't fit a single VirtualClient: try lowering `client_resources`.\n",
            "\t > All the actors in your pool crashed. This could be because: \n",
            "\t\t - You clients hit an out-of-memory (OOM) error and actors couldn't recover from it. Try launching your simulation with more generous `client_resources` setting (i.e. it seems {} is not enough for your workload). Use fewer concurrent actors. \n",
            "\t\t - You were running a multi-node simulation and all worker nodes disconnected. The head node might still be alive but cannot accommodate any actor with resources: {}.\n",
            "ERROR:flwr:Your simulation crashed :(. This could be because of several reasons.The most common are: \n",
            "\t > Your system couldn't fit a single VirtualClient: try lowering `client_resources`.\n",
            "\t > All the actors in your pool crashed. This could be because: \n",
            "\t\t - You clients hit an out-of-memory (OOM) error and actors couldn't recover from it. Try launching your simulation with more generous `client_resources` setting (i.e. it seems {} is not enough for your workload). Use fewer concurrent actors. \n",
            "\t\t - You were running a multi-node simulation and all worker nodes disconnected. The head node might still be alive but cannot accommodate any actor with resources: {}.\n"
          ]
        },
        {
          "output_type": "error",
          "ename": "RuntimeError",
          "evalue": "Simulation crashed.",
          "traceback": [
            "\u001b[0;31m---------------------------------------------------------------------------\u001b[0m",
            "\u001b[0;31mRuntimeError\u001b[0m                              Traceback (most recent call last)",
            "\u001b[0;32m/usr/local/lib/python3.10/dist-packages/flwr/server/server_returns_parameters.py\u001b[0m in \u001b[0;36mfit_clients\u001b[0;34m(client_instructions, max_workers, timeout)\u001b[0m\n\u001b[1;32m    337\u001b[0m         }\n\u001b[0;32m--> 338\u001b[0;31m         finished_fs, _ = concurrent.futures.wait(\n\u001b[0m\u001b[1;32m    339\u001b[0m             \u001b[0mfs\u001b[0m\u001b[0;34m=\u001b[0m\u001b[0msubmitted_fs\u001b[0m\u001b[0;34m,\u001b[0m\u001b[0;34m\u001b[0m\u001b[0;34m\u001b[0m\u001b[0m\n",
            "\u001b[0;32m/usr/lib/python3.10/concurrent/futures/_base.py\u001b[0m in \u001b[0;36mwait\u001b[0;34m(fs, timeout, return_when)\u001b[0m\n\u001b[1;32m    306\u001b[0m \u001b[0;34m\u001b[0m\u001b[0m\n\u001b[0;32m--> 307\u001b[0;31m     \u001b[0mwaiter\u001b[0m\u001b[0;34m.\u001b[0m\u001b[0mevent\u001b[0m\u001b[0;34m.\u001b[0m\u001b[0mwait\u001b[0m\u001b[0;34m(\u001b[0m\u001b[0mtimeout\u001b[0m\u001b[0;34m)\u001b[0m\u001b[0;34m\u001b[0m\u001b[0;34m\u001b[0m\u001b[0m\n\u001b[0m\u001b[1;32m    308\u001b[0m     \u001b[0;32mfor\u001b[0m \u001b[0mf\u001b[0m \u001b[0;32min\u001b[0m \u001b[0mfs\u001b[0m\u001b[0;34m:\u001b[0m\u001b[0;34m\u001b[0m\u001b[0;34m\u001b[0m\u001b[0m\n",
            "\u001b[0;32m/usr/lib/python3.10/threading.py\u001b[0m in \u001b[0;36mwait\u001b[0;34m(self, timeout)\u001b[0m\n\u001b[1;32m    606\u001b[0m             \u001b[0;32mif\u001b[0m \u001b[0;32mnot\u001b[0m \u001b[0msignaled\u001b[0m\u001b[0;34m:\u001b[0m\u001b[0;34m\u001b[0m\u001b[0;34m\u001b[0m\u001b[0m\n\u001b[0;32m--> 607\u001b[0;31m                 \u001b[0msignaled\u001b[0m \u001b[0;34m=\u001b[0m \u001b[0mself\u001b[0m\u001b[0;34m.\u001b[0m\u001b[0m_cond\u001b[0m\u001b[0;34m.\u001b[0m\u001b[0mwait\u001b[0m\u001b[0;34m(\u001b[0m\u001b[0mtimeout\u001b[0m\u001b[0;34m)\u001b[0m\u001b[0;34m\u001b[0m\u001b[0;34m\u001b[0m\u001b[0m\n\u001b[0m\u001b[1;32m    608\u001b[0m             \u001b[0;32mreturn\u001b[0m \u001b[0msignaled\u001b[0m\u001b[0;34m\u001b[0m\u001b[0;34m\u001b[0m\u001b[0m\n",
            "\u001b[0;32m/usr/lib/python3.10/threading.py\u001b[0m in \u001b[0;36mwait\u001b[0;34m(self, timeout)\u001b[0m\n\u001b[1;32m    319\u001b[0m             \u001b[0;32mif\u001b[0m \u001b[0mtimeout\u001b[0m \u001b[0;32mis\u001b[0m \u001b[0;32mNone\u001b[0m\u001b[0;34m:\u001b[0m\u001b[0;34m\u001b[0m\u001b[0;34m\u001b[0m\u001b[0m\n\u001b[0;32m--> 320\u001b[0;31m                 \u001b[0mwaiter\u001b[0m\u001b[0;34m.\u001b[0m\u001b[0macquire\u001b[0m\u001b[0;34m(\u001b[0m\u001b[0;34m)\u001b[0m\u001b[0;34m\u001b[0m\u001b[0;34m\u001b[0m\u001b[0m\n\u001b[0m\u001b[1;32m    321\u001b[0m                 \u001b[0mgotit\u001b[0m \u001b[0;34m=\u001b[0m \u001b[0;32mTrue\u001b[0m\u001b[0;34m\u001b[0m\u001b[0;34m\u001b[0m\u001b[0m\n",
            "\u001b[0;32m/usr/local/lib/python3.10/dist-packages/torch/utils/data/_utils/signal_handling.py\u001b[0m in \u001b[0;36mhandler\u001b[0;34m(signum, frame)\u001b[0m\n\u001b[1;32m     65\u001b[0m         \u001b[0;31m# Python can still get and update the process status successfully.\u001b[0m\u001b[0;34m\u001b[0m\u001b[0;34m\u001b[0m\u001b[0m\n\u001b[0;32m---> 66\u001b[0;31m         \u001b[0m_error_if_any_worker_fails\u001b[0m\u001b[0;34m(\u001b[0m\u001b[0;34m)\u001b[0m\u001b[0;34m\u001b[0m\u001b[0;34m\u001b[0m\u001b[0m\n\u001b[0m\u001b[1;32m     67\u001b[0m         \u001b[0;32mif\u001b[0m \u001b[0mprevious_handler\u001b[0m \u001b[0;32mis\u001b[0m \u001b[0;32mnot\u001b[0m \u001b[0;32mNone\u001b[0m\u001b[0;34m:\u001b[0m\u001b[0;34m\u001b[0m\u001b[0;34m\u001b[0m\u001b[0m\n",
            "\u001b[0;31mRuntimeError\u001b[0m: DataLoader worker (pid 5690) exited unexpectedly with exit code 1. Details are lost due to multiprocessing. Rerunning with num_workers=0 may give better error trace.",
            "\nDuring handling of the above exception, another exception occurred:\n",
            "\u001b[0;31mRuntimeError\u001b[0m                              Traceback (most recent call last)",
            "\u001b[0;32m/usr/local/lib/python3.10/dist-packages/flwr/simulation/app.py\u001b[0m in \u001b[0;36mstart_simulation_no_ray\u001b[0;34m(client_fn, num_clients, clients_ids, client_resources, server, config, strategy, client_manager)\u001b[0m\n\u001b[1;32m    183\u001b[0m         \u001b[0;31m# Start training\u001b[0m\u001b[0;34m\u001b[0m\u001b[0;34m\u001b[0m\u001b[0m\n\u001b[0;32m--> 184\u001b[0;31m         parameters_list, hist = run_fl_return_parameters(\n\u001b[0m\u001b[1;32m    185\u001b[0m             \u001b[0mserver\u001b[0m\u001b[0;34m=\u001b[0m\u001b[0minitialized_server\u001b[0m\u001b[0;34m,\u001b[0m\u001b[0;34m\u001b[0m\u001b[0;34m\u001b[0m\u001b[0m\n",
            "\u001b[0;32m/usr/local/lib/python3.10/dist-packages/flwr/server/app.py\u001b[0m in \u001b[0;36mrun_fl_return_parameters\u001b[0;34m(server, config)\u001b[0m\n\u001b[1;32m    248\u001b[0m     \u001b[0;34m\"\"\"Train a model on the given server and return the History object.\"\"\"\u001b[0m\u001b[0;34m\u001b[0m\u001b[0;34m\u001b[0m\u001b[0m\n\u001b[0;32m--> 249\u001b[0;31m     \u001b[0mparameters_list\u001b[0m\u001b[0;34m,\u001b[0m \u001b[0mhist\u001b[0m \u001b[0;34m=\u001b[0m \u001b[0mserver\u001b[0m\u001b[0;34m.\u001b[0m\u001b[0mfit\u001b[0m\u001b[0;34m(\u001b[0m\u001b[0mnum_rounds\u001b[0m\u001b[0;34m=\u001b[0m\u001b[0mconfig\u001b[0m\u001b[0;34m.\u001b[0m\u001b[0mnum_rounds\u001b[0m\u001b[0;34m,\u001b[0m \u001b[0mtimeout\u001b[0m\u001b[0;34m=\u001b[0m\u001b[0mconfig\u001b[0m\u001b[0;34m.\u001b[0m\u001b[0mround_timeout\u001b[0m\u001b[0;34m)\u001b[0m\u001b[0;34m\u001b[0m\u001b[0;34m\u001b[0m\u001b[0m\n\u001b[0m\u001b[1;32m    250\u001b[0m     \u001b[0mlog\u001b[0m\u001b[0;34m(\u001b[0m\u001b[0mINFO\u001b[0m\u001b[0;34m,\u001b[0m \u001b[0;34m\"app_fit: losses_distributed %s\"\u001b[0m\u001b[0;34m,\u001b[0m \u001b[0mstr\u001b[0m\u001b[0;34m(\u001b[0m\u001b[0mhist\u001b[0m\u001b[0;34m.\u001b[0m\u001b[0mlosses_distributed\u001b[0m\u001b[0;34m)\u001b[0m\u001b[0;34m)\u001b[0m\u001b[0;34m\u001b[0m\u001b[0;34m\u001b[0m\u001b[0m\n",
            "\u001b[0;32m/usr/local/lib/python3.10/dist-packages/flwr/server/server_returns_parameters.py\u001b[0m in \u001b[0;36mfit\u001b[0;34m(self, num_rounds, timeout)\u001b[0m\n\u001b[1;32m    101\u001b[0m             \u001b[0;31m# Train model and replace previous global model\u001b[0m\u001b[0;34m\u001b[0m\u001b[0;34m\u001b[0m\u001b[0m\n\u001b[0;32m--> 102\u001b[0;31m             res_fit = self.fit_round(\n\u001b[0m\u001b[1;32m    103\u001b[0m                 \u001b[0mserver_round\u001b[0m\u001b[0;34m=\u001b[0m\u001b[0mcurrent_round\u001b[0m\u001b[0;34m,\u001b[0m\u001b[0;34m\u001b[0m\u001b[0;34m\u001b[0m\u001b[0m\n",
            "\u001b[0;32m/usr/local/lib/python3.10/dist-packages/flwr/server/server_returns_parameters.py\u001b[0m in \u001b[0;36mfit_round\u001b[0;34m(self, server_round, timeout)\u001b[0m\n\u001b[1;32m    231\u001b[0m         \u001b[0;31m# Collect `fit` results from all clients participating in this round\u001b[0m\u001b[0;34m\u001b[0m\u001b[0;34m\u001b[0m\u001b[0m\n\u001b[0;32m--> 232\u001b[0;31m         results, failures = fit_clients(\n\u001b[0m\u001b[1;32m    233\u001b[0m             \u001b[0mclient_instructions\u001b[0m\u001b[0;34m=\u001b[0m\u001b[0mclient_instructions\u001b[0m\u001b[0;34m,\u001b[0m\u001b[0;34m\u001b[0m\u001b[0;34m\u001b[0m\u001b[0m\n",
            "\u001b[0;32m/usr/local/lib/python3.10/dist-packages/flwr/server/server_returns_parameters.py\u001b[0m in \u001b[0;36mfit_clients\u001b[0;34m(client_instructions, max_workers, timeout)\u001b[0m\n\u001b[1;32m    332\u001b[0m     \u001b[0;34m\"\"\"Refine parameters concurrently on all selected clients.\"\"\"\u001b[0m\u001b[0;34m\u001b[0m\u001b[0;34m\u001b[0m\u001b[0m\n\u001b[0;32m--> 333\u001b[0;31m     \u001b[0;32mwith\u001b[0m \u001b[0mconcurrent\u001b[0m\u001b[0;34m.\u001b[0m\u001b[0mfutures\u001b[0m\u001b[0;34m.\u001b[0m\u001b[0mThreadPoolExecutor\u001b[0m\u001b[0;34m(\u001b[0m\u001b[0mmax_workers\u001b[0m\u001b[0;34m=\u001b[0m\u001b[0mmax_workers\u001b[0m\u001b[0;34m)\u001b[0m \u001b[0;32mas\u001b[0m \u001b[0mexecutor\u001b[0m\u001b[0;34m:\u001b[0m\u001b[0;34m\u001b[0m\u001b[0;34m\u001b[0m\u001b[0m\n\u001b[0m\u001b[1;32m    334\u001b[0m         submitted_fs = {\n",
            "\u001b[0;32m/usr/lib/python3.10/concurrent/futures/_base.py\u001b[0m in \u001b[0;36m__exit__\u001b[0;34m(self, exc_type, exc_val, exc_tb)\u001b[0m\n\u001b[1;32m    648\u001b[0m     \u001b[0;32mdef\u001b[0m \u001b[0m__exit__\u001b[0m\u001b[0;34m(\u001b[0m\u001b[0mself\u001b[0m\u001b[0;34m,\u001b[0m \u001b[0mexc_type\u001b[0m\u001b[0;34m,\u001b[0m \u001b[0mexc_val\u001b[0m\u001b[0;34m,\u001b[0m \u001b[0mexc_tb\u001b[0m\u001b[0;34m)\u001b[0m\u001b[0;34m:\u001b[0m\u001b[0;34m\u001b[0m\u001b[0;34m\u001b[0m\u001b[0m\n\u001b[0;32m--> 649\u001b[0;31m         \u001b[0mself\u001b[0m\u001b[0;34m.\u001b[0m\u001b[0mshutdown\u001b[0m\u001b[0;34m(\u001b[0m\u001b[0mwait\u001b[0m\u001b[0;34m=\u001b[0m\u001b[0;32mTrue\u001b[0m\u001b[0;34m)\u001b[0m\u001b[0;34m\u001b[0m\u001b[0;34m\u001b[0m\u001b[0m\n\u001b[0m\u001b[1;32m    650\u001b[0m         \u001b[0;32mreturn\u001b[0m \u001b[0;32mFalse\u001b[0m\u001b[0;34m\u001b[0m\u001b[0;34m\u001b[0m\u001b[0m\n",
            "\u001b[0;32m/usr/lib/python3.10/concurrent/futures/thread.py\u001b[0m in \u001b[0;36mshutdown\u001b[0;34m(self, wait, cancel_futures)\u001b[0m\n\u001b[1;32m    234\u001b[0m             \u001b[0;32mfor\u001b[0m \u001b[0mt\u001b[0m \u001b[0;32min\u001b[0m \u001b[0mself\u001b[0m\u001b[0;34m.\u001b[0m\u001b[0m_threads\u001b[0m\u001b[0;34m:\u001b[0m\u001b[0;34m\u001b[0m\u001b[0;34m\u001b[0m\u001b[0m\n\u001b[0;32m--> 235\u001b[0;31m                 \u001b[0mt\u001b[0m\u001b[0;34m.\u001b[0m\u001b[0mjoin\u001b[0m\u001b[0;34m(\u001b[0m\u001b[0;34m)\u001b[0m\u001b[0;34m\u001b[0m\u001b[0;34m\u001b[0m\u001b[0m\n\u001b[0m\u001b[1;32m    236\u001b[0m     \u001b[0mshutdown\u001b[0m\u001b[0;34m.\u001b[0m\u001b[0m__doc__\u001b[0m \u001b[0;34m=\u001b[0m \u001b[0m_base\u001b[0m\u001b[0;34m.\u001b[0m\u001b[0mExecutor\u001b[0m\u001b[0;34m.\u001b[0m\u001b[0mshutdown\u001b[0m\u001b[0;34m.\u001b[0m\u001b[0m__doc__\u001b[0m\u001b[0;34m\u001b[0m\u001b[0;34m\u001b[0m\u001b[0m\n",
            "\u001b[0;32m/usr/lib/python3.10/threading.py\u001b[0m in \u001b[0;36mjoin\u001b[0;34m(self, timeout)\u001b[0m\n\u001b[1;32m   1095\u001b[0m         \u001b[0;32mif\u001b[0m \u001b[0mtimeout\u001b[0m \u001b[0;32mis\u001b[0m \u001b[0;32mNone\u001b[0m\u001b[0;34m:\u001b[0m\u001b[0;34m\u001b[0m\u001b[0;34m\u001b[0m\u001b[0m\n\u001b[0;32m-> 1096\u001b[0;31m             \u001b[0mself\u001b[0m\u001b[0;34m.\u001b[0m\u001b[0m_wait_for_tstate_lock\u001b[0m\u001b[0;34m(\u001b[0m\u001b[0;34m)\u001b[0m\u001b[0;34m\u001b[0m\u001b[0;34m\u001b[0m\u001b[0m\n\u001b[0m\u001b[1;32m   1097\u001b[0m         \u001b[0;32melse\u001b[0m\u001b[0;34m:\u001b[0m\u001b[0;34m\u001b[0m\u001b[0;34m\u001b[0m\u001b[0m\n",
            "\u001b[0;32m/usr/lib/python3.10/threading.py\u001b[0m in \u001b[0;36m_wait_for_tstate_lock\u001b[0;34m(self, block, timeout)\u001b[0m\n\u001b[1;32m   1115\u001b[0m         \u001b[0;32mtry\u001b[0m\u001b[0;34m:\u001b[0m\u001b[0;34m\u001b[0m\u001b[0;34m\u001b[0m\u001b[0m\n\u001b[0;32m-> 1116\u001b[0;31m             \u001b[0;32mif\u001b[0m \u001b[0mlock\u001b[0m\u001b[0;34m.\u001b[0m\u001b[0macquire\u001b[0m\u001b[0;34m(\u001b[0m\u001b[0mblock\u001b[0m\u001b[0;34m,\u001b[0m \u001b[0mtimeout\u001b[0m\u001b[0;34m)\u001b[0m\u001b[0;34m:\u001b[0m\u001b[0;34m\u001b[0m\u001b[0;34m\u001b[0m\u001b[0m\n\u001b[0m\u001b[1;32m   1117\u001b[0m                 \u001b[0mlock\u001b[0m\u001b[0;34m.\u001b[0m\u001b[0mrelease\u001b[0m\u001b[0;34m(\u001b[0m\u001b[0;34m)\u001b[0m\u001b[0;34m\u001b[0m\u001b[0;34m\u001b[0m\u001b[0m\n",
            "\u001b[0;32m/usr/local/lib/python3.10/dist-packages/torch/utils/data/_utils/signal_handling.py\u001b[0m in \u001b[0;36mhandler\u001b[0;34m(signum, frame)\u001b[0m\n\u001b[1;32m     65\u001b[0m         \u001b[0;31m# Python can still get and update the process status successfully.\u001b[0m\u001b[0;34m\u001b[0m\u001b[0;34m\u001b[0m\u001b[0m\n\u001b[0;32m---> 66\u001b[0;31m         \u001b[0m_error_if_any_worker_fails\u001b[0m\u001b[0;34m(\u001b[0m\u001b[0;34m)\u001b[0m\u001b[0;34m\u001b[0m\u001b[0;34m\u001b[0m\u001b[0m\n\u001b[0m\u001b[1;32m     67\u001b[0m         \u001b[0;32mif\u001b[0m \u001b[0mprevious_handler\u001b[0m \u001b[0;32mis\u001b[0m \u001b[0;32mnot\u001b[0m \u001b[0;32mNone\u001b[0m\u001b[0;34m:\u001b[0m\u001b[0;34m\u001b[0m\u001b[0;34m\u001b[0m\u001b[0m\n",
            "\u001b[0;31mRuntimeError\u001b[0m: DataLoader worker (pid 6073) exited unexpectedly with exit code 1. Details are lost due to multiprocessing. Rerunning with num_workers=0 may give better error trace.",
            "\nThe above exception was the direct cause of the following exception:\n",
            "\u001b[0;31mRuntimeError\u001b[0m                              Traceback (most recent call last)",
            "\u001b[0;32m<ipython-input-46-3ad272161034>\u001b[0m in \u001b[0;36m<cell line: 1>\u001b[0;34m()\u001b[0m\n\u001b[0;32m----> 1\u001b[0;31m params, hist = start_seeded_simulation(\n\u001b[0m\u001b[1;32m      2\u001b[0m     \u001b[0mclient_fn\u001b[0m\u001b[0;34m=\u001b[0m\u001b[0;32mlambda\u001b[0m \u001b[0mcid\u001b[0m\u001b[0;34m:\u001b[0m \u001b[0munbalanced_flower_client_generator\u001b[0m\u001b[0;34m(\u001b[0m\u001b[0mcid\u001b[0m\u001b[0;34m)\u001b[0m\u001b[0;34m.\u001b[0m\u001b[0mto_client\u001b[0m\u001b[0;34m(\u001b[0m\u001b[0;34m)\u001b[0m\u001b[0;34m,\u001b[0m\u001b[0;34m\u001b[0m\u001b[0;34m\u001b[0m\u001b[0m\n\u001b[1;32m      3\u001b[0m     \u001b[0mnum_clients\u001b[0m\u001b[0;34m=\u001b[0m\u001b[0mnum_total_clients\u001b[0m\u001b[0;34m,\u001b[0m\u001b[0;34m\u001b[0m\u001b[0;34m\u001b[0m\u001b[0m\n\u001b[1;32m      4\u001b[0m     \u001b[0mconfig\u001b[0m\u001b[0;34m=\u001b[0m\u001b[0mServerConfig\u001b[0m\u001b[0;34m(\u001b[0m\u001b[0mnum_rounds\u001b[0m\u001b[0;34m=\u001b[0m\u001b[0;36m5\u001b[0m\u001b[0;34m)\u001b[0m\u001b[0;34m,\u001b[0m\u001b[0;34m\u001b[0m\u001b[0;34m\u001b[0m\u001b[0m\n\u001b[1;32m      5\u001b[0m     \u001b[0mstrategy\u001b[0m\u001b[0;34m=\u001b[0m\u001b[0mstrategy\u001b[0m\u001b[0;34m,\u001b[0m\u001b[0;34m\u001b[0m\u001b[0;34m\u001b[0m\u001b[0m\n",
            "\u001b[0;32m<ipython-input-23-f00ead899963>\u001b[0m in \u001b[0;36mstart_seeded_simulation\u001b[0;34m(client_fn, num_clients, config, strategy, name, seed, iteration)\u001b[0m\n\u001b[1;32m     33\u001b[0m     \u001b[0mtorch\u001b[0m\u001b[0;34m.\u001b[0m\u001b[0mmanual_seed\u001b[0m\u001b[0;34m(\u001b[0m\u001b[0mseed\u001b[0m \u001b[0;34m^\u001b[0m \u001b[0miteration\u001b[0m\u001b[0;34m)\u001b[0m\u001b[0;34m\u001b[0m\u001b[0;34m\u001b[0m\u001b[0m\n\u001b[1;32m     34\u001b[0m     \u001b[0mrandom\u001b[0m\u001b[0;34m.\u001b[0m\u001b[0mseed\u001b[0m\u001b[0;34m(\u001b[0m\u001b[0mseed\u001b[0m \u001b[0;34m^\u001b[0m \u001b[0miteration\u001b[0m\u001b[0;34m)\u001b[0m\u001b[0;34m\u001b[0m\u001b[0;34m\u001b[0m\u001b[0m\n\u001b[0;32m---> 35\u001b[0;31m     parameter_list, hist = fl.simulation.start_simulation_no_ray(\n\u001b[0m\u001b[1;32m     36\u001b[0m         \u001b[0mclient_fn\u001b[0m\u001b[0;34m=\u001b[0m\u001b[0mclient_fn\u001b[0m\u001b[0;34m,\u001b[0m\u001b[0;34m\u001b[0m\u001b[0;34m\u001b[0m\u001b[0m\n\u001b[1;32m     37\u001b[0m         \u001b[0mnum_clients\u001b[0m\u001b[0;34m=\u001b[0m\u001b[0mnum_clients\u001b[0m\u001b[0;34m,\u001b[0m\u001b[0;34m\u001b[0m\u001b[0;34m\u001b[0m\u001b[0m\n",
            "\u001b[0;32m/usr/local/lib/python3.10/dist-packages/flwr/simulation/app.py\u001b[0m in \u001b[0;36mstart_simulation_no_ray\u001b[0;34m(client_fn, num_clients, clients_ids, client_resources, server, config, strategy, client_manager)\u001b[0m\n\u001b[1;32m    206\u001b[0m             \u001b[0mclient_resources\u001b[0m\u001b[0;34m,\u001b[0m\u001b[0;34m\u001b[0m\u001b[0;34m\u001b[0m\u001b[0m\n\u001b[1;32m    207\u001b[0m         )\n\u001b[0;32m--> 208\u001b[0;31m         \u001b[0;32mraise\u001b[0m \u001b[0mRuntimeError\u001b[0m\u001b[0;34m(\u001b[0m\u001b[0;34m\"Simulation crashed.\"\u001b[0m\u001b[0;34m)\u001b[0m \u001b[0;32mfrom\u001b[0m \u001b[0mex\u001b[0m\u001b[0;34m\u001b[0m\u001b[0;34m\u001b[0m\u001b[0m\n\u001b[0m\u001b[1;32m    209\u001b[0m \u001b[0;34m\u001b[0m\u001b[0m\n\u001b[1;32m    210\u001b[0m \u001b[0;34m\u001b[0m\u001b[0m\n",
            "\u001b[0;31mRuntimeError\u001b[0m: Simulation crashed."
          ]
        }
      ],
      "source": [
        "params, hist = start_seeded_simulation(\n",
        "    client_fn=lambda cid: unbalanced_flower_client_generator(cid).to_client(),\n",
        "    num_clients=num_total_clients,\n",
        "    config=ServerConfig(num_rounds=5),\n",
        "    strategy=strategy,\n",
        "    name=\"unbalanced\",\n",
        ")"
      ]
    },
    {
      "cell_type": "markdown",
      "metadata": {
        "id": "HfHiEN9MW08H"
      },
      "source": [
        "We will now investigate how such a partition behaves in an FL setting. In particular, we will try to understand what happens to the global model and the clients' updates as the training progresses.\n"
      ]
    },
    {
      "cell_type": "markdown",
      "metadata": {
        "id": "uzG9xF-lgb51"
      },
      "source": [
        "**Question 4 (Part II ✅):**\n",
        "\n",
        "(You need to provide the answer with **code** and **plots** for this question. A short written argumentation is recommended.)\n",
        "\n",
        "1. For each round, retrieve the clients' models and the global model using the appropriate attribute of the `WrappedFedAvg` strategy.\n",
        "2. Inspect the models collected for each round as follows:\n",
        "   - Extract the \"softmax-ed\" activations of the last layer of each clients' model when the model is fed with random inputs. (HINT: `from common.client_utils import get_activations_from_random_input`, give a motivation for the choice of the parameters of this function if you decide to use it)\n",
        "   - Compute the pairwise cosine-similarity (you can use functions similar to those used in the previous Lab) between the values obtained in the previous step.\n",
        "   - Plot the results of this computation in a confusion matrix. The confusion matrix will have the shape `n_clients_per_round`x`n_clients_per_round`.\n",
        "   - Repeat the same procedure for computing and compare the pairwise KL divergence between the \"softmax-ed\" activations of the last layer of each clients' model when the model is fed with random inputs. (HINT: `from scipy.stats import entropy`).\n",
        "3. Compare the confusion matrices obtained. What do you observe, and how does it compare with your expectations? Briefly discuss the results.\n"
      ]
    },
    {
      "cell_type": "markdown",
      "metadata": {
        "id": "VKm-X5MBW08H"
      },
      "source": [
        "**Question 5 (Part III/MPhil ✅):**\n",
        "\n",
        "(This is meant to be a conceptual question. You should provide a written answer to this. **No more than 3 sentences**. **No code** is needed)\n",
        "\n",
        "1. How does the concept of a client relate to a task in Multi-task Learning (MTL)?\n"
      ]
    },
    {
      "cell_type": "markdown",
      "source": [
        "Question 5\n",
        "\n",
        "1. If we imagine a task in MTL to be \"fitting a model for data on a client\", then each client would correspond to a task in MTL, where Federated Learning corresponds to learning to solve multiple of such learning tasks at the same time by exploiting similarities and differences between data across clients."
      ],
      "metadata": {
        "id": "fG_tTmz-au5U"
      }
    },
    {
      "cell_type": "markdown",
      "metadata": {
        "id": "I64eyic-tnWF"
      },
      "source": [
        "### LDA partitions\n"
      ]
    },
    {
      "cell_type": "markdown",
      "metadata": {
        "id": "iLFg0zOBh77Q"
      },
      "source": [
        "The most popular method for creating heterogeneous partitions from a centralized dataset in terms of class unbalancing is [Latent Dirichlet Allocation (LDA)](https://web.archive.org/web/20120501152722/http://jmlr.csail.mit.edu/papers/v3/blei03a.html). LDA is a generative probabilistic model for collections of discrete data. The paper linked above provides all the theoretical details about the method.\n",
        "\n",
        "The important detail for you to understand about LDA is that the `concentration` parameter controls the degree of heterogeneity in the distribution while `num_partitions` controls how many clients are generated following the specified distribution.\n",
        "\n",
        "A `concentration=0` implies a completely heterogeneous distribution where each client may only contain examples from one class. Thus, if for a `concentration=0` we were to set the `num_partitions` argument to the number of classes we will get the same partitioning as the one we manually created above.\n",
        "\n",
        "> **Important:** The LDA partitioning only approaches a fully i.i.d distribution when `concentration` tends towards $\\infty$. The most appropriate value of the `concentration` to generate a completely i.i.d. partition is dataset dependent. Feel free to try out different values of `concentration` and `num_partitions` to see how the partitioning changes.\n"
      ]
    },
    {
      "cell_type": "code",
      "execution_count": null,
      "metadata": {
        "id": "QNho5BDtlpbh"
      },
      "outputs": [],
      "source": [
        "from common.lda_utils import create_lda_partitions"
      ]
    },
    {
      "cell_type": "markdown",
      "metadata": {
        "id": "ueTmkfi-W08I"
      },
      "source": [
        "Let's create the partitions using LDA with `concentration=2.5` and `num_partitions=1000`. This will result in a non-i.i.d. partitioning.\n"
      ]
    },
    {
      "cell_type": "code",
      "execution_count": null,
      "metadata": {
        "id": "ztmKkBPLhBVP"
      },
      "outputs": [],
      "source": [
        "N_TOTAL_CLIENTS = 1_000\n",
        "concentration = 2.5\n",
        "# Create partitions\n",
        "x = np.array([x[0] for x in centralized_train_dataset.data])\n",
        "y = np.array([x[1] for x in centralized_train_dataset.data])\n",
        "train_clients_partitions, dist = create_lda_partitions(\n",
        "    dataset=(x, y),\n",
        "    dirichlet_dist=None,\n",
        "    num_partitions=N_TOTAL_CLIENTS,\n",
        "    concentration=concentration,\n",
        "    accept_imbalanced=True,\n",
        "    seed=Seeds.DEFAULT,\n",
        ")\n",
        "x = np.array([x[0] for x in centralized_test_dataset.data])\n",
        "y = np.array([x[1] for x in centralized_test_dataset.data])\n",
        "test_clients_partitions, dist = create_lda_partitions(\n",
        "    dataset=(x, y),\n",
        "    dirichlet_dist=dist,\n",
        "    num_partitions=N_TOTAL_CLIENTS,\n",
        "    concentration=concentration,\n",
        "    accept_imbalanced=True,\n",
        "    seed=Seeds.DEFAULT,\n",
        ")"
      ]
    },
    {
      "cell_type": "markdown",
      "metadata": {
        "id": "HQtlY6DJW08I"
      },
      "source": [
        "Let's store the partitions in the folder structure we have been using so far.\n"
      ]
    },
    {
      "cell_type": "code",
      "execution_count": null,
      "metadata": {
        "id": "_EFfE0fVqnCB"
      },
      "outputs": [],
      "source": [
        "lda_partition: Path = dataset_dir / \"client_data_mappings\" / \"lda\"\n",
        "if lda_partition.exists():\n",
        "    ! rm -rf {str(lda_partition)}\n",
        "lda_partition.mkdir(parents=True, exist_ok=True)\n",
        "\n",
        "for i, (train_set, test_set) in enumerate(\n",
        "    zip(train_clients_partitions, test_clients_partitions, strict=True)\n",
        "):\n",
        "    folder_path: Path = lda_partition / str(i)\n",
        "    folder_path.mkdir(parents=True, exist_ok=True)\n",
        "\n",
        "    train_path: Path = folder_path / \"train.csv\"\n",
        "    test_path: Path = folder_path / \"test.csv\"\n",
        "\n",
        "    pd.DataFrame(\n",
        "        {\n",
        "            \"client_id\": [0] * len(train_set[0]),\n",
        "            \"sample_path\": train_set[0],\n",
        "            \"sample_id\": range(len(train_set[0])),\n",
        "            \"label\": train_set[1],\n",
        "        }\n",
        "    ).to_csv(train_path, index=False, mode=\"w\")\n",
        "    pd.DataFrame(\n",
        "        {\n",
        "            \"client_id\": [0] * len(test_set[0]),\n",
        "            \"sample_path\": test_set[0],\n",
        "            \"sample_id\": range(len(test_set[0])),\n",
        "            \"label\": test_set[1],\n",
        "        }\n",
        "    ).to_csv(test_path, index=False, mode=\"w\")"
      ]
    },
    {
      "cell_type": "markdown",
      "metadata": {
        "id": "oFN4SR8wW08J"
      },
      "source": [
        "We instantiate a client generator function.\n"
      ]
    },
    {
      "cell_type": "code",
      "execution_count": null,
      "metadata": {
        "id": "pm6IBCqGqgHD"
      },
      "outputs": [],
      "source": [
        "lda_flower_client_generator: Callable[\n",
        "    [int], FlowerClient\n",
        "] = get_flower_client_generator(\n",
        "    model_generator=network_generator_cnn,\n",
        "    data_dir=data_dir,\n",
        "    partition_dir=lda_partition,\n",
        ")"
      ]
    },
    {
      "cell_type": "markdown",
      "metadata": {
        "id": "UIRf74QPW08J"
      },
      "source": [
        "We can also plot two clients' labels distributions to see how different they are.\n"
      ]
    },
    {
      "cell_type": "code",
      "execution_count": null,
      "metadata": {
        "id": "EGf3J7SytbIc",
        "outputId": "5b0843ed-5197-40b9-b970-0ea43da8819f",
        "colab": {
          "base_uri": "https://localhost:8080/",
          "height": 519
        }
      },
      "outputs": [
        {
          "output_type": "stream",
          "name": "stderr",
          "text": [
            "INFO flwr 2024-02-10 14:31:01,569 | client.py:57 | Creating client with cid: 0\n",
            "INFO:flwr:Creating client with cid: 0\n",
            "INFO flwr 2024-02-10 14:31:01,641 | client.py:57 | Creating client with cid: 1\n",
            "INFO:flwr:Creating client with cid: 1\n"
          ]
        },
        {
          "output_type": "execute_result",
          "data": {
            "text/plain": [
              "<matplotlib.legend.Legend at 0x7c8e135ab6d0>"
            ]
          },
          "metadata": {},
          "execution_count": 51
        },
        {
          "output_type": "display_data",
          "data": {
            "text/plain": [
              "<Figure size 640x480 with 1 Axes>"
            ],
            "image/png": "[encoded data removed]"
          },
          "metadata": {}
        }
      ],
      "source": [
        "N_CLASSES = 62\n",
        "plt.hist(\n",
        "    [int(x[1]) for x in lda_flower_client_generator(0)._load_dataset(\"train\").data],\n",
        "    bins=N_CLASSES,\n",
        "    color=\"blue\",\n",
        "    alpha=0.7,\n",
        "    label=\"client 0 train set\",\n",
        ")\n",
        "plt.hist(\n",
        "    [int(x[1]) for x in lda_flower_client_generator(1)._load_dataset(\"train\").data],\n",
        "    bins=N_CLASSES,\n",
        "    color=\"orange\",\n",
        "    alpha=0.7,\n",
        "    label=\"client 1 train set\",\n",
        ")\n",
        "plt.legend()"
      ]
    },
    {
      "cell_type": "markdown",
      "metadata": {
        "id": "AI2rsUVbW08J"
      },
      "source": [
        "We try now to run an FL simulation is such challenging setting.\n"
      ]
    },
    {
      "cell_type": "code",
      "execution_count": null,
      "metadata": {
        "id": "JWbg6Ty6s7c0"
      },
      "outputs": [],
      "source": [
        "train_config: dict[str, Any] = {\n",
        "    \"epochs\": 1,\n",
        "    \"batch_size\": 32,\n",
        "    \"client_learning_rate\": 0.01,\n",
        "    \"weight_decay\": 0.001,\n",
        "    \"num_workers\": 2,\n",
        "    \"max_batches\": None,\n",
        "}\n",
        "\n",
        "\n",
        "def _on_fit_config_fn(server_round: int) -> dict[str, Scalar]:\n",
        "    return train_config | {\"server_round\": server_round}\n",
        "\n",
        "\n",
        "num_total_clients = N_TOTAL_CLIENTS\n",
        "num_clients_per_round: int = 5\n",
        "num_evaluate_clients: int = 0\n",
        "\n",
        "strategy = FedAvg(\n",
        "    fraction_fit=sys.float_info.min,\n",
        "    fraction_evaluate=sys.float_info.min,\n",
        "    min_fit_clients=num_clients_per_round,\n",
        "    min_evaluate_clients=num_evaluate_clients,\n",
        "    min_available_clients=max(num_clients_per_round, num_evaluate_clients),\n",
        "    on_fit_config_fn=_on_fit_config_fn,\n",
        "    on_evaluate_config_fn=None,\n",
        "    evaluate_fn=federated_evaluation_function,\n",
        "    initial_parameters=initial_parameters,\n",
        "    accept_failures=False,\n",
        "    fit_metrics_aggregation_fn=aggregate_weighted_average,\n",
        "    evaluate_metrics_aggregation_fn=aggregate_weighted_average,\n",
        ")"
      ]
    },
    {
      "cell_type": "code",
      "execution_count": null,
      "metadata": {
        "id": "7PscXeuI6Dpo",
        "outputId": "5c7a2141-d743-4276-da2e-a83a937efae6",
        "colab": {
          "base_uri": "https://localhost:8080/"
        }
      },
      "outputs": [
        {
          "output_type": "stream",
          "name": "stderr",
          "text": [
            "INFO flwr 2024-02-10 14:31:02,072 | app.py:149 | Starting Flower simulation, config: ServerConfig(num_rounds=5, round_timeout=None)\n",
            "INFO:flwr:Starting Flower simulation, config: ServerConfig(num_rounds=5, round_timeout=None)\n",
            "INFO flwr 2024-02-10 14:31:02,084 | server_returns_parameters.py:81 | Initializing global parameters\n",
            "INFO:flwr:Initializing global parameters\n",
            "INFO flwr 2024-02-10 14:31:02,089 | server_returns_parameters.py:273 | Using initial parameters provided by strategy\n",
            "INFO:flwr:Using initial parameters provided by strategy\n",
            "INFO flwr 2024-02-10 14:31:02,097 | server_returns_parameters.py:84 | Evaluating initial parameters\n",
            "INFO:flwr:Evaluating initial parameters\n",
            "100%|██████████| 47/47 [00:00<00:00, 72.85it/s]\n",
            "INFO flwr 2024-02-10 14:31:02,762 | server_returns_parameters.py:87 | initial parameters (loss, other metrics): 58.245476484298706, {'accuracy': 0.5813333333333334}\n",
            "INFO:flwr:initial parameters (loss, other metrics): 58.245476484298706, {'accuracy': 0.5813333333333334}\n",
            "INFO flwr 2024-02-10 14:31:02,767 | server_returns_parameters.py:97 | FL starting\n",
            "INFO:flwr:FL starting\n",
            "DEBUG flwr 2024-02-10 14:31:02,769 | server_returns_parameters.py:223 | fit_round 1: strategy sampled 5 clients (out of 1000)\n",
            "DEBUG:flwr:fit_round 1: strategy sampled 5 clients (out of 1000)\n",
            "INFO flwr 2024-02-10 14:31:02,776 | client.py:57 | Creating client with cid: 632\n",
            "INFO:flwr:Creating client with cid: 632\n",
            "INFO flwr 2024-02-10 14:31:02,776 | client.py:57 | Creating client with cid: 947\n",
            "INFO:flwr:Creating client with cid: 947\n",
            "INFO flwr 2024-02-10 14:31:02,777 | client.py:57 | Creating client with cid: 546\n",
            "INFO:flwr:Creating client with cid: 546\n",
            "INFO flwr 2024-02-10 14:31:02,784 | client.py:57 | Creating client with cid: 726\n",
            "INFO:flwr:Creating client with cid: 726\n",
            "INFO flwr 2024-02-10 14:31:02,814 | client.py:57 | Creating client with cid: 374\n",
            "INFO:flwr:Creating client with cid: 374\n",
            "DEBUG flwr 2024-02-10 14:31:05,732 | server_returns_parameters.py:237 | fit_round 1 received 5 results and 0 failures\n",
            "DEBUG:flwr:fit_round 1 received 5 results and 0 failures\n",
            "100%|██████████| 47/47 [00:01<00:00, 43.38it/s]\n",
            "INFO flwr 2024-02-10 14:31:06,857 | server_returns_parameters.py:120 | fit progress: (1, 67.41769367456436, {'accuracy': 0.662}, 4.08818971200003)\n",
            "INFO:flwr:fit progress: (1, 67.41769367456436, {'accuracy': 0.662}, 4.08818971200003)\n",
            "INFO flwr 2024-02-10 14:31:06,859 | server_returns_parameters.py:171 | evaluate_round 1: no clients selected, cancel\n",
            "INFO:flwr:evaluate_round 1: no clients selected, cancel\n",
            "DEBUG flwr 2024-02-10 14:31:06,862 | server_returns_parameters.py:223 | fit_round 2: strategy sampled 5 clients (out of 1000)\n",
            "DEBUG:flwr:fit_round 2: strategy sampled 5 clients (out of 1000)\n",
            "INFO flwr 2024-02-10 14:31:06,867 | client.py:57 | Creating client with cid: 584\n",
            "INFO:flwr:Creating client with cid: 584\n",
            "INFO flwr 2024-02-10 14:31:06,875 | client.py:57 | Creating client with cid: 599\n",
            "INFO:flwr:Creating client with cid: 599\n",
            "INFO flwr 2024-02-10 14:31:06,886 | client.py:57 | Creating client with cid: 749\n",
            "INFO:flwr:Creating client with cid: 749\n",
            "INFO flwr 2024-02-10 14:31:06,906 | client.py:57 | Creating client with cid: 169\n",
            "INFO:flwr:Creating client with cid: 169\n",
            "INFO flwr 2024-02-10 14:31:06,924 | client.py:57 | Creating client with cid: 793\n",
            "INFO:flwr:Creating client with cid: 793\n",
            "DEBUG flwr 2024-02-10 14:31:10,084 | server_returns_parameters.py:237 | fit_round 2 received 5 results and 0 failures\n",
            "DEBUG:flwr:fit_round 2 received 5 results and 0 failures\n",
            "100%|██████████| 47/47 [00:00<00:00, 66.33it/s]\n",
            "INFO flwr 2024-02-10 14:31:10,818 | server_returns_parameters.py:120 | fit progress: (2, 62.74609237909317, {'accuracy': 0.6833333333333333}, 8.049464950000129)\n",
            "INFO:flwr:fit progress: (2, 62.74609237909317, {'accuracy': 0.6833333333333333}, 8.049464950000129)\n",
            "INFO flwr 2024-02-10 14:31:10,822 | server_returns_parameters.py:171 | evaluate_round 2: no clients selected, cancel\n",
            "INFO:flwr:evaluate_round 2: no clients selected, cancel\n",
            "DEBUG flwr 2024-02-10 14:31:10,827 | server_returns_parameters.py:223 | fit_round 3: strategy sampled 5 clients (out of 1000)\n",
            "DEBUG:flwr:fit_round 3: strategy sampled 5 clients (out of 1000)\n",
            "INFO flwr 2024-02-10 14:31:10,832 | client.py:57 | Creating client with cid: 844\n",
            "INFO:flwr:Creating client with cid: 844\n",
            "INFO flwr 2024-02-10 14:31:10,840 | client.py:57 | Creating client with cid: 340\n",
            "INFO:flwr:Creating client with cid: 340\n",
            "INFO flwr 2024-02-10 14:31:10,840 | client.py:57 | Creating client with cid: 392\n",
            "INFO:flwr:Creating client with cid: 392\n",
            "INFO flwr 2024-02-10 14:31:10,841 | client.py:57 | Creating client with cid: 650\n",
            "INFO:flwr:Creating client with cid: 650\n",
            "INFO flwr 2024-02-10 14:31:10,867 | client.py:57 | Creating client with cid: 808\n",
            "INFO:flwr:Creating client with cid: 808\n",
            "DEBUG flwr 2024-02-10 14:31:12,972 | server_returns_parameters.py:237 | fit_round 3 received 5 results and 0 failures\n",
            "DEBUG:flwr:fit_round 3 received 5 results and 0 failures\n",
            "100%|██████████| 47/47 [00:00<00:00, 71.96it/s]\n",
            "INFO flwr 2024-02-10 14:31:13,653 | server_returns_parameters.py:120 | fit progress: (3, 73.6429991722107, {'accuracy': 0.68}, 10.884522896000135)\n",
            "INFO:flwr:fit progress: (3, 73.6429991722107, {'accuracy': 0.68}, 10.884522896000135)\n",
            "INFO flwr 2024-02-10 14:31:13,656 | server_returns_parameters.py:171 | evaluate_round 3: no clients selected, cancel\n",
            "INFO:flwr:evaluate_round 3: no clients selected, cancel\n",
            "DEBUG flwr 2024-02-10 14:31:13,659 | server_returns_parameters.py:223 | fit_round 4: strategy sampled 5 clients (out of 1000)\n",
            "DEBUG:flwr:fit_round 4: strategy sampled 5 clients (out of 1000)\n",
            "INFO flwr 2024-02-10 14:31:13,667 | client.py:57 | Creating client with cid: 368\n",
            "INFO:flwr:Creating client with cid: 368\n",
            "INFO flwr 2024-02-10 14:31:13,675 | client.py:57 | Creating client with cid: 943\n",
            "INFO:flwr:Creating client with cid: 943\n",
            "INFO flwr 2024-02-10 14:31:13,679 | client.py:57 | Creating client with cid: 315\n",
            "INFO:flwr:Creating client with cid: 315\n",
            "INFO flwr 2024-02-10 14:31:13,685 | client.py:57 | Creating client with cid: 400\n",
            "INFO:flwr:Creating client with cid: 400\n",
            "INFO flwr 2024-02-10 14:31:13,702 | client.py:57 | Creating client with cid: 713\n",
            "INFO:flwr:Creating client with cid: 713\n",
            "DEBUG flwr 2024-02-10 14:31:15,693 | server_returns_parameters.py:237 | fit_round 4 received 5 results and 0 failures\n",
            "DEBUG:flwr:fit_round 4 received 5 results and 0 failures\n",
            "100%|██████████| 47/47 [00:00<00:00, 70.67it/s]\n",
            "INFO flwr 2024-02-10 14:31:16,387 | server_returns_parameters.py:120 | fit progress: (4, 74.57913506031036, {'accuracy': 0.6966666666666667}, 13.619005068999968)\n",
            "INFO:flwr:fit progress: (4, 74.57913506031036, {'accuracy': 0.6966666666666667}, 13.619005068999968)\n",
            "INFO flwr 2024-02-10 14:31:16,390 | server_returns_parameters.py:171 | evaluate_round 4: no clients selected, cancel\n",
            "INFO:flwr:evaluate_round 4: no clients selected, cancel\n",
            "DEBUG flwr 2024-02-10 14:31:16,393 | server_returns_parameters.py:223 | fit_round 5: strategy sampled 5 clients (out of 1000)\n",
            "DEBUG:flwr:fit_round 5: strategy sampled 5 clients (out of 1000)\n",
            "INFO flwr 2024-02-10 14:31:16,399 | client.py:57 | Creating client with cid: 209\n",
            "INFO:flwr:Creating client with cid: 209\n",
            "INFO flwr 2024-02-10 14:31:16,414 | client.py:57 | Creating client with cid: 779\n",
            "INFO:flwr:Creating client with cid: 779\n",
            "INFO flwr 2024-02-10 14:31:16,426 | client.py:57 | Creating client with cid: 672\n",
            "INFO:flwr:Creating client with cid: 672\n",
            "INFO flwr 2024-02-10 14:31:16,440 | client.py:57 | Creating client with cid: 884\n",
            "INFO:flwr:Creating client with cid: 884\n",
            "INFO flwr 2024-02-10 14:31:16,448 | client.py:57 | Creating client with cid: 934\n",
            "INFO:flwr:Creating client with cid: 934\n",
            "DEBUG flwr 2024-02-10 14:31:18,532 | server_returns_parameters.py:237 | fit_round 5 received 5 results and 0 failures\n",
            "DEBUG:flwr:fit_round 5 received 5 results and 0 failures\n",
            "100%|██████████| 47/47 [00:00<00:00, 70.86it/s]\n",
            "INFO flwr 2024-02-10 14:31:19,221 | server_returns_parameters.py:120 | fit progress: (5, 77.24941498041153, {'accuracy': 0.69}, 16.45215275700002)\n",
            "INFO:flwr:fit progress: (5, 77.24941498041153, {'accuracy': 0.69}, 16.45215275700002)\n",
            "INFO flwr 2024-02-10 14:31:19,226 | server_returns_parameters.py:171 | evaluate_round 5: no clients selected, cancel\n",
            "INFO:flwr:evaluate_round 5: no clients selected, cancel\n",
            "INFO flwr 2024-02-10 14:31:19,230 | server_returns_parameters.py:150 | FL finished in 16.46175988699997\n",
            "INFO:flwr:FL finished in 16.46175988699997\n",
            "INFO flwr 2024-02-10 14:31:19,232 | app.py:250 | app_fit: losses_distributed []\n",
            "INFO:flwr:app_fit: losses_distributed []\n",
            "INFO flwr 2024-02-10 14:31:19,236 | app.py:251 | app_fit: metrics_distributed_fit {'train_loss': [(1, {'avg': 0.024912073076702655, 'all': [(20, 0.029112376598641278), (20, 0.024296989291906358), (20, 0.021277979668229818), (20, 0.013403004198335112), (20, 0.03647001562640071)]}), (2, {'avg': 0.031598609038628635, 'all': [(20, 0.07301894035190344), (20, 0.017685759509913624), (20, 0.0156875669490546), (20, 0.023578989040106534), (20, 0.028021789342164993)]}), (3, {'avg': 0.024837994929403067, 'all': [(20, 0.04414435103535652), (20, 0.014282949967309833), (20, 0.014507869305089117), (20, 0.01718271542340517), (20, 0.03407208891585469)]}), (4, {'avg': 0.028647088253637775, 'all': [(20, 0.03275457136332989), (20, 0.010841719451127574), (20, 0.049212072510272264), (20, 0.017381841922178863), (20, 0.03304523602128029)]}), (5, {'avg': 0.03052163648768328, 'all': [(20, 0.01821103598922491), (20, 0.011807468783808872), (20, 0.011693413811735809), (20, 0.01998460649047047), (20, 0.09091165736317634)]})]}\n",
            "INFO:flwr:app_fit: metrics_distributed_fit {'train_loss': [(1, {'avg': 0.024912073076702655, 'all': [(20, 0.029112376598641278), (20, 0.024296989291906358), (20, 0.021277979668229818), (20, 0.013403004198335112), (20, 0.03647001562640071)]}), (2, {'avg': 0.031598609038628635, 'all': [(20, 0.07301894035190344), (20, 0.017685759509913624), (20, 0.0156875669490546), (20, 0.023578989040106534), (20, 0.028021789342164993)]}), (3, {'avg': 0.024837994929403067, 'all': [(20, 0.04414435103535652), (20, 0.014282949967309833), (20, 0.014507869305089117), (20, 0.01718271542340517), (20, 0.03407208891585469)]}), (4, {'avg': 0.028647088253637775, 'all': [(20, 0.03275457136332989), (20, 0.010841719451127574), (20, 0.049212072510272264), (20, 0.017381841922178863), (20, 0.03304523602128029)]}), (5, {'avg': 0.03052163648768328, 'all': [(20, 0.01821103598922491), (20, 0.011807468783808872), (20, 0.011693413811735809), (20, 0.01998460649047047), (20, 0.09091165736317634)]})]}\n",
            "INFO flwr 2024-02-10 14:31:19,240 | app.py:252 | app_fit: metrics_distributed {}\n",
            "INFO:flwr:app_fit: metrics_distributed {}\n",
            "INFO flwr 2024-02-10 14:31:19,243 | app.py:253 | app_fit: losses_centralized [(0, 58.245476484298706), (1, 67.41769367456436), (2, 62.74609237909317), (3, 73.6429991722107), (4, 74.57913506031036), (5, 77.24941498041153)]\n",
            "INFO:flwr:app_fit: losses_centralized [(0, 58.245476484298706), (1, 67.41769367456436), (2, 62.74609237909317), (3, 73.6429991722107), (4, 74.57913506031036), (5, 77.24941498041153)]\n",
            "INFO flwr 2024-02-10 14:31:19,247 | app.py:254 | app_fit: metrics_centralized {'accuracy': [(0, 0.5813333333333334), (1, 0.662), (2, 0.6833333333333333), (3, 0.68), (4, 0.6966666666666667), (5, 0.69)]}\n",
            "INFO:flwr:app_fit: metrics_centralized {'accuracy': [(0, 0.5813333333333334), (1, 0.662), (2, 0.6833333333333333), (3, 0.68), (4, 0.6966666666666667), (5, 0.69)]}\n"
          ]
        }
      ],
      "source": [
        "params, hist = start_seeded_simulation(\n",
        "    client_fn=lambda cid: lda_flower_client_generator(cid).to_client(),\n",
        "    num_clients=num_total_clients,\n",
        "    config=ServerConfig(num_rounds=5),\n",
        "    strategy=strategy,\n",
        "    name=\"fedavg_lda_example\",\n",
        ")"
      ]
    },
    {
      "cell_type": "markdown",
      "metadata": {
        "id": "8GK6PX9kW08K"
      },
      "source": [
        "**Question 6 (Part II ✅):**\n",
        "\n",
        "(You need to provide the answer with **code** and **plots** for this question. A short written argumentation is recommended.)\n",
        "\n",
        "1. Produce a set of LDA partitions with `concentration` in `[0.001, 0.1, 1e3]`.\n",
        "2. Train an FL setting for every partition you have produced using the same hyperparameter we used in the cell above, but with `num_clients_per_round=62` and `ServerConfig(num_rounds=1)`.\n",
        "3. Why do you think one-shot averaging works well for full i.i.d data and not for very heterogeneous clients?\n"
      ]
    },
    {
      "cell_type": "markdown",
      "metadata": {
        "id": "872EAMGYW08K"
      },
      "source": [
        "Use the configuration provided by the following cell.\n",
        "\n",
        "> **IMPORTANT**: Be careful when using the strategy object. You must ensure that the different experiments will use the same initial parameters. Inspect `flwr.server.strategy.FedAvg` to understand how these are used.\n"
      ]
    },
    {
      "cell_type": "code",
      "execution_count": null,
      "metadata": {
        "id": "v6AaV9zgW08K"
      },
      "outputs": [],
      "source": [
        "# NOTE: We are using randomly initialized parameters here.\n",
        "torch.manual_seed(Seeds.DEFAULT)\n",
        "network_generator_cnn = get_network_generator_cnn()\n",
        "seed_net_cnn = network_generator_cnn()\n",
        "q6_initial_parameters: Parameters = ndarrays_to_parameters(\n",
        "    get_model_parameters(seed_net_cnn)\n",
        ")\n",
        "# Set up experiment configuration\n",
        "N_TOTAL_CLIENTS = 100\n",
        "N_TOTAL_ROUNDS = 1\n",
        "train_config: dict[str, Any] = {\n",
        "    \"epochs\": 1,\n",
        "    \"batch_size\": 32,\n",
        "    \"client_learning_rate\": 0.001,\n",
        "    \"weight_decay\": 0.001,\n",
        "    \"num_workers\": 2,\n",
        "    \"max_batches\": None,\n",
        "}\n",
        "\n",
        "\n",
        "def _on_fit_config_fn(server_round: int) -> dict[str, Scalar]:\n",
        "    return train_config | {\"server_round\": server_round}\n",
        "\n",
        "\n",
        "num_total_clients = N_TOTAL_CLIENTS\n",
        "num_clients_per_round: int = 62\n",
        "num_evaluate_clients: int = 0\n",
        "fraction_fit: float = float(num_clients_per_round) / num_total_clients\n",
        "fraction_evaluate: float = float(num_evaluate_clients) / num_total_clients\n",
        "# Set up strategy\n",
        "strategy = FedAvg(\n",
        "    fraction_fit=sys.float_info.min,\n",
        "    fraction_evaluate=sys.float_info.min,\n",
        "    min_fit_clients=num_clients_per_round,\n",
        "    min_evaluate_clients=num_evaluate_clients,\n",
        "    min_available_clients=max(num_clients_per_round, num_evaluate_clients),\n",
        "    on_fit_config_fn=_on_fit_config_fn,\n",
        "    on_evaluate_config_fn=None,\n",
        "    evaluate_fn=federated_evaluation_function,\n",
        "    initial_parameters=q6_initial_parameters,\n",
        "    accept_failures=False,\n",
        "    fit_metrics_aggregation_fn=aggregate_weighted_average,\n",
        "    evaluate_metrics_aggregation_fn=aggregate_weighted_average,\n",
        ")"
      ]
    },
    {
      "cell_type": "markdown",
      "metadata": {
        "id": "i0_aN4dkcvv8"
      },
      "source": [
        "# 4. FL Strategies tackling heterogeneity\n"
      ]
    },
    {
      "cell_type": "markdown",
      "metadata": {
        "id": "9ayxhgBa-8Oi"
      },
      "source": [
        "The challenge of dealing with non-iidness in FL has been discussed extensively since the publication of the first paper about FL. Many approaches have been proposed, but still, the literature doesn't agree on a general approach or a rule of thumb. A natural method is to modify/extend FedAvg or develop another algorithm specifically oriented to mitigating heterogeneity. In some applications, augmenting data to make it more similar between clients is possible. Some works assume a small dataset that is shared between clients to serve as a reference.\n",
        "\n",
        "Every time a new approach has been proposed, many related questions have arisen. It is no longer clear that treating all examples of all the clients equally make sense. Some works proposed limiting the contributions of data from any client in the federation. The notion of fairness has been introduced and defined in many ways in order to set up principles that could result in new approaches, for example emphasizing underperforming clients during aggregation. It is not even clear whether a single global model is the correct objective for FL---works related to this question gave birth to Personalised Federated Learning (PFL), a sub-branch of research.\n",
        "\n",
        "We started to think that we should be able to turn the non-iid problem from a bug into a feature treated similarly to a task in MTL. The number of works that start with this perspective is however limited.\n",
        "\n",
        "Even if FedAvg can partially mitigate heterogeneity, it is not working well in all situations, as we saw previously. From the many new algorithms that were introduced, it is worth mentioning: [FedProx](https://www.researchgate.net/profile/Anit-Sahu/publication/329734586_On_the_Convergence_of_Federated_Optimization_in_Heterogeneous_Networks/links/5c1bdd5e299bf12be38ee52d/On-the-Convergence-of-Federated-Optimization-in-Heterogeneous-Networks.pdf), [q-FedAvg](https://arxiv.org/abs/1905.10497), [SCAFFOLD](http://proceedings.mlr.press/v119/karimireddy20a.html). For a matter of time, we will now explore just one of these algorithms introduced for tackling the non-iid problem specifically. We chose FedProx since it is the simplest to demonstrate.\n"
      ]
    },
    {
      "cell_type": "markdown",
      "metadata": {
        "id": "W3xe9fHHc5Sc"
      },
      "source": [
        "## FedProx\n"
      ]
    },
    {
      "cell_type": "markdown",
      "metadata": {
        "id": "xNyYEsRnId3C"
      },
      "source": [
        "The Federated Proximal (FedProx) method was developed in the context of tuning and benchmarking FedAvg in a heterogeneous setting. The authors of FedAvg proposed carefully tuning the learning rate and the number of local epochs to increase the accuracy in such settings but turned out clear that something more was necessary. Based on the client's heterogeneity, local updates change the global model not only in different directions in the loss space but also at different rates. This phenomenon is called client divergence or drifting.\n",
        "\n",
        "Using FedAvg we would like to have a different number of local epochs for each client based on its characteristics. Thus, heuristically setting the number of local updates is not always optimal, because clients are all different from each other. Limiting the number of local updates through a more flexible tool is beneficial. Thus, FedProx proposes to incorporate a term in the local objective function that penalizes big changes from the current model at the server. In each node $k$, instead of minimizing the local loss function $F_k$, the local solver tries to approximately minimize:\n",
        "\n",
        "$\\min_wh_w(w;w^t)=F_k(w)+\\frac{\\mu}{2}||w-w^t||^2$,\n",
        "\n",
        "where $||w-w^t||^2$ is the new proximal term.\n",
        "\n",
        "FedProx acts as FedAvg apart from the change in the local objective. This new objective enforces limited local model updates more explicitly than FedAvg. Using FedProx, it is no longer necessary to tune the number of local epochs for each client to minimize divergence.\n",
        "\n",
        "We will now implement and test FedProx on the natural partition of FEMNIST. Implementing FedProx just involves modifying the local training function of our `FlowerRayClient`. We will then write the new function and build a new `client_generator` function that overwrites the relevant methods of our client.\n"
      ]
    },
    {
      "cell_type": "code",
      "execution_count": null,
      "metadata": {
        "id": "BoGXFQALRRkR"
      },
      "outputs": [],
      "source": [
        "def train_fedprox_FEMNIST(\n",
        "    net: Module,\n",
        "    train_loader: DataLoader,\n",
        "    epochs: int,\n",
        "    device: str,\n",
        "    optimizer: torch.optim.Optimizer,\n",
        "    criterion: Module,\n",
        "    proximal_mu: float,\n",
        ") -> float:\n",
        "    \"\"\"Trains the network on the training set using FedProx.\n",
        "\n",
        "    Args:\n",
        "        net (Module): generic module object describing the network to train.\n",
        "        train_loader (DataLoader): dataloader to iterate during the training.\n",
        "        epochs (int): number of epochs of training.\n",
        "        device (str): device name onto which perform the computation.\n",
        "        optimizer (torch.optim.Optimizer): optimizer object.\n",
        "        criterion (Module): generic module describing the loss function.\n",
        "        proximal_mu (float): parameter for the weight of the proximal term.\n",
        "\n",
        "    Returns\n",
        "    -------\n",
        "        float: the final epoch mean train loss.\n",
        "    \"\"\"\n",
        "    global_params: Module = deepcopy(net)\n",
        "    global_params.requires_grad_(False)\n",
        "    global_params = [val for _, val in global_params.state_dict().items()]\n",
        "    net.train()\n",
        "    running_loss, total = 0.0, 0\n",
        "    for _ in tqdm(range(epochs)):\n",
        "        running_loss = 0.0\n",
        "        total = 0\n",
        "        for data, labels in train_loader:\n",
        "            data, labels = data.to(device), labels.to(device)\n",
        "            optimizer.zero_grad()\n",
        "            # NOTE: here comes the implementation of FedProx algorithm\n",
        "            proximal_term = 0.0\n",
        "            for local_weights, global_weights in zip(\n",
        "                net.parameters(), global_params, strict=True\n",
        "            ):\n",
        "                proximal_term += (local_weights - global_weights).norm(2)\n",
        "            loss = criterion(net(data), labels) + (proximal_mu / 2) * proximal_term\n",
        "            running_loss += loss.item()\n",
        "            total += labels.size(0)\n",
        "            loss.backward()\n",
        "            optimizer.step()\n",
        "    return running_loss / total\n",
        "\n",
        "\n",
        "def _train_fedprox(\n",
        "    self, net: Module, train_loader: DataLoader, config: dict[str, Scalar]\n",
        ") -> float:\n",
        "    return train_fedprox_FEMNIST(\n",
        "        net=net,\n",
        "        train_loader=train_loader,\n",
        "        epochs=int(config[\"epochs\"]),\n",
        "        device=self.device,\n",
        "        optimizer=torch.optim.AdamW(\n",
        "            net.parameters(),\n",
        "            lr=float(config[\"client_learning_rate\"]),\n",
        "            weight_decay=float(config[\"weight_decay\"]),\n",
        "        ),\n",
        "        criterion=torch.nn.CrossEntropyLoss(),\n",
        "        proximal_mu=config[\"proximal_mu\"],\n",
        "    )\n",
        "\n",
        "\n",
        "def get_fedprox_flower_client_generator(\n",
        "    model_generator: Callable[[], Module],\n",
        "    data_dir: Path,\n",
        "    partition_dir: Path,\n",
        ") -> Callable[[str], FlowerClient]:\n",
        "    \"\"\"Implement a wrapper function for the client instance generator.\n",
        "\n",
        "    This provides the client generator with a model generator function.\n",
        "    Also, the partition directory must be passed.\n",
        "    The clients generated will train using FedProx algorithm.\n",
        "\n",
        "    Args:\n",
        "        data_dir (Path): path to the dataset folder.\n",
        "        model_generator (Callable[[], Module]): model generator function.\n",
        "        partition_dir (Path): directory containing the partition.\n",
        "\n",
        "    Returns\n",
        "    -------\n",
        "        Callable[[str], WrappedClient]: client instance.\n",
        "    \"\"\"\n",
        "\n",
        "    def client_fn(cid: str) -> FlowerClient:\n",
        "        \"\"\"Create a single client instance given the client id `cid`.\n",
        "\n",
        "        Args:\n",
        "            cid (str): client id, Flower requires this to of type str.\n",
        "\n",
        "        Returns\n",
        "        -------\n",
        "            WrappedClient: client instance.\n",
        "        \"\"\"\n",
        "        log(INFO, f\"Getting client with id {cid}\")\n",
        "        client = FlowerClient(\n",
        "            cid=cid,\n",
        "            data_dir=data_dir,\n",
        "            partition_dir=partition_dir,\n",
        "            model_generator=model_generator,\n",
        "        )\n",
        "        # Pay attention to the following line\n",
        "        client._train = _train_fedprox.__get__(client, FlowerClient)\n",
        "        return client\n",
        "\n",
        "    return client_fn"
      ]
    },
    {
      "cell_type": "code",
      "execution_count": null,
      "metadata": {
        "id": "rOEq5uvEW08M"
      },
      "outputs": [],
      "source": [
        "torch.manual_seed(Seeds.DEFAULT)\n",
        "N_TOTAL_CLIENTS = 1000\n",
        "CONCENTRATION = 0.1\n",
        "# Create partitions\n",
        "x = np.array([x[0] for x in centralized_train_dataset.data])\n",
        "y = np.array([x[1] for x in centralized_train_dataset.data])\n",
        "train_clients_partitions, dist = create_lda_partitions(\n",
        "    dataset=(x, y),\n",
        "    dirichlet_dist=None,\n",
        "    num_partitions=N_TOTAL_CLIENTS,\n",
        "    concentration=CONCENTRATION,\n",
        "    accept_imbalanced=True,\n",
        "    seed=Seeds.DEFAULT,\n",
        ")\n",
        "x = np.array([x[0] for x in centralized_test_dataset.data])\n",
        "y = np.array([x[1] for x in centralized_test_dataset.data])\n",
        "test_clients_partitions, dist = create_lda_partitions(\n",
        "    dataset=(x, y),\n",
        "    dirichlet_dist=dist,\n",
        "    num_partitions=N_TOTAL_CLIENTS,\n",
        "    concentration=CONCENTRATION,\n",
        "    accept_imbalanced=True,\n",
        ")\n",
        "# Store partitions\n",
        "lda_partition: Path = dataset_dir / \"client_data_mappings\" / f\"lda_{CONCENTRATION}\"\n",
        "if lda_partition.exists():\n",
        "    ! rm -rf {str(lda_partition)}\n",
        "lda_partition.mkdir(parents=True, exist_ok=True)\n",
        "\n",
        "for i, (train_set, test_set) in enumerate(\n",
        "    zip(train_clients_partitions, test_clients_partitions, strict=True)\n",
        "):\n",
        "    folder_path: Path = lda_partition / str(i)\n",
        "    folder_path.mkdir(parents=True, exist_ok=True)\n",
        "\n",
        "    train_path: Path = folder_path / \"train.csv\"\n",
        "    test_path: Path = folder_path / \"test.csv\"\n",
        "\n",
        "    pd.DataFrame(\n",
        "        {\n",
        "            \"client_id\": [0] * len(train_set[0]),\n",
        "            \"sample_path\": train_set[0],\n",
        "            \"sample_id\": range(len(train_set[0])),\n",
        "            \"label\": train_set[1],\n",
        "        }\n",
        "    ).to_csv(train_path, index=False)\n",
        "    pd.DataFrame(\n",
        "        {\n",
        "            \"client_id\": [0] * len(test_set[0]),\n",
        "            \"sample_path\": test_set[0],\n",
        "            \"sample_id\": range(len(test_set[0])),\n",
        "            \"label\": test_set[1],\n",
        "        }\n",
        "    ).to_csv(test_path, index=False)"
      ]
    },
    {
      "cell_type": "markdown",
      "metadata": {
        "id": "wjiLOOddl6cw"
      },
      "source": [
        "We are now able to train an FL setting using FedProx.\n"
      ]
    },
    {
      "cell_type": "code",
      "execution_count": null,
      "metadata": {
        "id": "Sbd8Ks4Hl-Uz"
      },
      "outputs": [],
      "source": [
        "# NOTE: we are using here the `get_fedprox_flower_client_generator`\n",
        "federated_fedprox_flower_client_generator: Callable[\n",
        "    [int], FlowerClient\n",
        "] = get_fedprox_flower_client_generator(\n",
        "    model_generator=network_generator_cnn,\n",
        "    data_dir=data_dir,\n",
        "    partition_dir=lda_partition,\n",
        ")\n",
        "N_TOTAL_ROUNDS = 5\n",
        "# Set up experiment configuration\n",
        "train_config: dict[str, Any] = {\n",
        "    \"epochs\": 1,\n",
        "    \"batch_size\": 32,\n",
        "    \"client_learning_rate\": 0.1,\n",
        "    \"weight_decay\": 0.001,\n",
        "    \"num_workers\": 2,\n",
        "    \"max_batches\": None,\n",
        "    \"proximal_mu\": 0.01,\n",
        "}\n",
        "\n",
        "\n",
        "def _on_fit_config_fn(server_round: int) -> dict[str, Scalar]:\n",
        "    return train_config | {\"server_round\": server_round}\n",
        "\n",
        "\n",
        "num_total_clients = N_TOTAL_CLIENTS\n",
        "num_clients_per_round: int = 5\n",
        "num_evaluate_clients: int = 0\n",
        "fraction_fit: float = float(num_clients_per_round) / num_total_clients\n",
        "fraction_evaluate: float = float(num_evaluate_clients) / num_total_clients\n",
        "# Set up strategy\n",
        "strategy = FedAvg(\n",
        "    fraction_fit=sys.float_info.min,\n",
        "    fraction_evaluate=sys.float_info.min,\n",
        "    min_fit_clients=num_clients_per_round,\n",
        "    min_evaluate_clients=num_evaluate_clients,\n",
        "    min_available_clients=max(num_clients_per_round, num_evaluate_clients),\n",
        "    on_fit_config_fn=_on_fit_config_fn,\n",
        "    on_evaluate_config_fn=None,\n",
        "    evaluate_fn=federated_evaluation_function,\n",
        "    initial_parameters=initial_parameters,\n",
        "    accept_failures=False,\n",
        "    fit_metrics_aggregation_fn=aggregate_weighted_average,\n",
        "    evaluate_metrics_aggregation_fn=aggregate_weighted_average,\n",
        ")"
      ]
    },
    {
      "cell_type": "code",
      "execution_count": null,
      "metadata": {
        "id": "7cg576GQBRWS",
        "outputId": "359b31d0-a748-4912-e0e1-f8dde074a1f5",
        "colab": {
          "base_uri": "https://localhost:8080/"
        }
      },
      "outputs": [
        {
          "output_type": "stream",
          "name": "stderr",
          "text": [
            "INFO flwr 2024-02-10 14:42:10,025 | app.py:149 | Starting Flower simulation, config: ServerConfig(num_rounds=5, round_timeout=None)\n",
            "INFO:flwr:Starting Flower simulation, config: ServerConfig(num_rounds=5, round_timeout=None)\n",
            "INFO flwr 2024-02-10 14:42:10,036 | server_returns_parameters.py:81 | Initializing global parameters\n",
            "INFO:flwr:Initializing global parameters\n",
            "INFO flwr 2024-02-10 14:42:10,041 | server_returns_parameters.py:273 | Using initial parameters provided by strategy\n",
            "INFO:flwr:Using initial parameters provided by strategy\n",
            "INFO flwr 2024-02-10 14:42:10,045 | server_returns_parameters.py:84 | Evaluating initial parameters\n",
            "INFO:flwr:Evaluating initial parameters\n",
            "100%|██████████| 47/47 [00:00<00:00, 71.62it/s]\n",
            "INFO flwr 2024-02-10 14:42:10,721 | server_returns_parameters.py:87 | initial parameters (loss, other metrics): 58.245476484298706, {'accuracy': 0.5813333333333334}\n",
            "INFO:flwr:initial parameters (loss, other metrics): 58.245476484298706, {'accuracy': 0.5813333333333334}\n",
            "INFO flwr 2024-02-10 14:42:10,725 | server_returns_parameters.py:97 | FL starting\n",
            "INFO:flwr:FL starting\n",
            "DEBUG flwr 2024-02-10 14:42:10,727 | server_returns_parameters.py:223 | fit_round 1: strategy sampled 5 clients (out of 1000)\n",
            "DEBUG:flwr:fit_round 1: strategy sampled 5 clients (out of 1000)\n",
            "INFO flwr 2024-02-10 14:42:10,734 | <ipython-input-55-382d20eccbda>:99 | Getting client with id 632\n",
            "INFO:flwr:Getting client with id 632\n",
            "INFO flwr 2024-02-10 14:42:10,735 | <ipython-input-55-382d20eccbda>:99 | Getting client with id 947\n",
            "INFO flwr 2024-02-10 14:42:10,737 | <ipython-input-55-382d20eccbda>:99 | Getting client with id 546\n",
            "INFO:flwr:Getting client with id 947\n",
            "INFO:flwr:Getting client with id 546\n",
            "INFO flwr 2024-02-10 14:42:10,738 | client.py:57 | Creating client with cid: 632\n",
            "INFO flwr 2024-02-10 14:42:10,739 | <ipython-input-55-382d20eccbda>:99 | Getting client with id 726\n",
            "INFO flwr 2024-02-10 14:42:10,743 | client.py:57 | Creating client with cid: 947\n",
            "INFO flwr 2024-02-10 14:42:10,747 | client.py:57 | Creating client with cid: 546\n",
            "INFO:flwr:Creating client with cid: 632\n",
            "INFO:flwr:Getting client with id 726\n",
            "INFO flwr 2024-02-10 14:42:10,751 | <ipython-input-55-382d20eccbda>:99 | Getting client with id 374\n",
            "INFO flwr 2024-02-10 14:42:10,757 | client.py:57 | Creating client with cid: 726\n",
            "INFO:flwr:Creating client with cid: 947\n",
            "INFO:flwr:Creating client with cid: 546\n",
            "INFO:flwr:Getting client with id 374\n",
            "INFO flwr 2024-02-10 14:42:10,793 | client.py:57 | Creating client with cid: 374\n",
            "INFO:flwr:Creating client with cid: 726\n",
            "INFO:flwr:Creating client with cid: 374\n",
            "  0%|          | 0/1 [00:00<?, ?it/s]\n",
            "  0%|          | 0/1 [00:00<?, ?it/s]\u001b[A\n",
            "\n",
            "  0%|          | 0/1 [00:00<?, ?it/s]\u001b[A\u001b[A\n",
            "\n",
            "\n",
            "  0%|          | 0/1 [00:00<?, ?it/s]\u001b[A\u001b[A\u001b[A\n",
            "\n",
            "\n",
            "\n",
            "  0%|          | 0/1 [00:00<?, ?it/s]\u001b[A\u001b[A\u001b[A\u001b[A\n",
            "\n",
            "\n",
            "100%|██████████| 1/1 [00:02<00:00,  2.64s/it]\n",
            "100%|██████████| 1/1 [00:02<00:00,  2.91s/it]\n",
            "\n",
            "\n",
            "\n",
            "\n",
            "100%|██████████| 1/1 [00:02<00:00,  2.62s/it]\n",
            "\n",
            "100%|██████████| 1/1 [00:02<00:00,  2.99s/it]\n",
            "\n",
            "\n",
            "100%|██████████| 1/1 [00:02<00:00,  2.95s/it]\n",
            "DEBUG flwr 2024-02-10 14:42:13,918 | server_returns_parameters.py:237 | fit_round 1 received 5 results and 0 failures\n",
            "DEBUG:flwr:fit_round 1 received 5 results and 0 failures\n",
            "100%|██████████| 47/47 [00:00<00:00, 73.50it/s]\n",
            "INFO flwr 2024-02-10 14:42:14,585 | server_returns_parameters.py:120 | fit progress: (1, 190.52885580062866, {'accuracy': 0.006}, 3.8586848690001716)\n",
            "INFO:flwr:fit progress: (1, 190.52885580062866, {'accuracy': 0.006}, 3.8586848690001716)\n",
            "INFO flwr 2024-02-10 14:42:14,588 | server_returns_parameters.py:171 | evaluate_round 1: no clients selected, cancel\n",
            "INFO:flwr:evaluate_round 1: no clients selected, cancel\n",
            "DEBUG flwr 2024-02-10 14:42:14,590 | server_returns_parameters.py:223 | fit_round 2: strategy sampled 5 clients (out of 1000)\n",
            "DEBUG:flwr:fit_round 2: strategy sampled 5 clients (out of 1000)\n",
            "INFO flwr 2024-02-10 14:42:14,596 | <ipython-input-55-382d20eccbda>:99 | Getting client with id 584\n",
            "INFO:flwr:Getting client with id 584\n",
            "INFO flwr 2024-02-10 14:42:14,596 | <ipython-input-55-382d20eccbda>:99 | Getting client with id 599\n",
            "INFO:flwr:Getting client with id 599\n",
            "INFO flwr 2024-02-10 14:42:14,607 | client.py:57 | Creating client with cid: 599\n",
            "INFO:flwr:Creating client with cid: 599\n",
            "INFO flwr 2024-02-10 14:42:14,604 | client.py:57 | Creating client with cid: 584\n",
            "INFO:flwr:Creating client with cid: 584\n",
            "INFO flwr 2024-02-10 14:42:14,605 | <ipython-input-55-382d20eccbda>:99 | Getting client with id 169\n",
            "INFO:flwr:Getting client with id 169\n",
            "INFO flwr 2024-02-10 14:42:14,605 | <ipython-input-55-382d20eccbda>:99 | Getting client with id 749\n",
            "INFO:flwr:Getting client with id 749\n",
            "INFO flwr 2024-02-10 14:42:14,609 | <ipython-input-55-382d20eccbda>:99 | Getting client with id 793\n",
            "INFO flwr 2024-02-10 14:42:14,636 | client.py:57 | Creating client with cid: 169\n",
            "INFO:flwr:Getting client with id 793\n",
            "INFO flwr 2024-02-10 14:42:14,648 | client.py:57 | Creating client with cid: 749\n",
            "  0%|          | 0/1 [00:00<?, ?it/s]INFO:flwr:Creating client with cid: 169\n",
            "INFO flwr 2024-02-10 14:42:14,651 | client.py:57 | Creating client with cid: 793\n",
            "INFO:flwr:Creating client with cid: 749\n",
            "\n",
            "INFO:flwr:Creating client with cid: 793\n",
            "  0%|          | 0/1 [00:00<?, ?it/s]\u001b[A\n",
            "\n",
            "  0%|          | 0/1 [00:00<?, ?it/s]\u001b[A\u001b[A\n",
            "\n",
            "\n",
            "  0%|          | 0/1 [00:00<?, ?it/s]\u001b[A\u001b[A\u001b[A\n",
            "\n",
            "\n",
            "\n",
            "100%|██████████| 1/1 [00:01<00:00,  1.94s/it]\n",
            "\n",
            "\n",
            "100%|██████████| 1/1 [00:01<00:00,  1.84s/it]\n",
            "\n",
            "\n",
            "\n",
            "100%|██████████| 1/1 [00:01<00:00,  1.80s/it]\n",
            "\n",
            "100%|██████████| 1/1 [00:02<00:00,  2.01s/it]\n",
            "\n",
            "\n",
            "\n",
            "\n",
            "100%|██████████| 1/1 [00:01<00:00,  1.94s/it]\n",
            "DEBUG flwr 2024-02-10 14:42:16,970 | server_returns_parameters.py:237 | fit_round 2 received 5 results and 0 failures\n",
            "DEBUG:flwr:fit_round 2 received 5 results and 0 failures\n",
            "100%|██████████| 47/47 [00:00<00:00, 74.60it/s]\n",
            "INFO flwr 2024-02-10 14:42:17,630 | server_returns_parameters.py:120 | fit progress: (2, 206.56386399269104, {'accuracy': 0.05733333333333333}, 6.903314070000306)\n",
            "INFO:flwr:fit progress: (2, 206.56386399269104, {'accuracy': 0.05733333333333333}, 6.903314070000306)\n",
            "INFO flwr 2024-02-10 14:42:17,635 | server_returns_parameters.py:171 | evaluate_round 2: no clients selected, cancel\n",
            "INFO:flwr:evaluate_round 2: no clients selected, cancel\n",
            "DEBUG flwr 2024-02-10 14:42:17,639 | server_returns_parameters.py:223 | fit_round 3: strategy sampled 5 clients (out of 1000)\n",
            "DEBUG:flwr:fit_round 3: strategy sampled 5 clients (out of 1000)\n",
            "INFO flwr 2024-02-10 14:42:17,644 | <ipython-input-55-382d20eccbda>:99 | Getting client with id 844\n",
            "INFO:flwr:Getting client with id 844\n",
            "INFO flwr 2024-02-10 14:42:17,646 | <ipython-input-55-382d20eccbda>:99 | Getting client with id 392\n",
            "INFO:flwr:Getting client with id 392\n",
            "INFO flwr 2024-02-10 14:42:17,645 | <ipython-input-55-382d20eccbda>:99 | Getting client with id 340\n",
            "INFO:flwr:Getting client with id 340\n",
            "INFO flwr 2024-02-10 14:42:17,647 | client.py:57 | Creating client with cid: 844\n",
            "INFO flwr 2024-02-10 14:42:17,648 | <ipython-input-55-382d20eccbda>:99 | Getting client with id 650\n",
            "INFO:flwr:Creating client with cid: 844\n",
            "INFO flwr 2024-02-10 14:42:17,651 | <ipython-input-55-382d20eccbda>:99 | Getting client with id 808\n",
            "INFO:flwr:Getting client with id 650\n",
            "INFO flwr 2024-02-10 14:42:17,652 | client.py:57 | Creating client with cid: 392\n",
            "INFO:flwr:Getting client with id 808\n",
            "INFO:flwr:Creating client with cid: 392\n",
            "INFO flwr 2024-02-10 14:42:17,653 | client.py:57 | Creating client with cid: 340\n",
            "INFO:flwr:Creating client with cid: 340\n",
            "INFO flwr 2024-02-10 14:42:17,666 | client.py:57 | Creating client with cid: 650\n",
            "INFO:flwr:Creating client with cid: 650\n",
            "INFO flwr 2024-02-10 14:42:17,668 | client.py:57 | Creating client with cid: 808\n",
            "  0%|          | 0/1 [00:00<?, ?it/s]INFO:flwr:Creating client with cid: 808\n",
            "\n",
            "\n",
            "  0%|          | 0/1 [00:00<?, ?it/s]\u001b[A\u001b[A\n",
            "  0%|          | 0/1 [00:00<?, ?it/s]\u001b[A\n",
            "\n",
            "\n",
            "  0%|          | 0/1 [00:00<?, ?it/s]\u001b[A\u001b[A\u001b[A\n",
            "\n",
            "\n",
            "\n",
            "  0%|          | 0/1 [00:00<?, ?it/s]\u001b[A\u001b[A\u001b[A\u001b[A\n",
            "\n",
            "100%|██████████| 1/1 [00:01<00:00,  1.74s/it]\n",
            "100%|██████████| 1/1 [00:01<00:00,  1.98s/it]\n",
            "\n",
            "100%|██████████| 1/1 [00:01<00:00,  1.87s/it]\n",
            "\n",
            "\n",
            "\n",
            "100%|██████████| 1/1 [00:02<00:00,  2.04s/it]\n",
            "\n",
            "\n",
            "\n",
            "\n",
            "100%|██████████| 1/1 [00:02<00:00,  2.23s/it]\n",
            "DEBUG flwr 2024-02-10 14:42:20,281 | server_returns_parameters.py:237 | fit_round 3 received 5 results and 0 failures\n",
            "DEBUG:flwr:fit_round 3 received 5 results and 0 failures\n",
            "100%|██████████| 47/47 [00:01<00:00, 26.68it/s]\n",
            "INFO flwr 2024-02-10 14:42:22,118 | server_returns_parameters.py:120 | fit progress: (3, 181.06872844696045, {'accuracy': 0.07333333333333333}, 11.391062022999904)\n",
            "INFO:flwr:fit progress: (3, 181.06872844696045, {'accuracy': 0.07333333333333333}, 11.391062022999904)\n",
            "INFO flwr 2024-02-10 14:42:22,122 | server_returns_parameters.py:171 | evaluate_round 3: no clients selected, cancel\n",
            "INFO:flwr:evaluate_round 3: no clients selected, cancel\n",
            "DEBUG flwr 2024-02-10 14:42:22,128 | server_returns_parameters.py:223 | fit_round 4: strategy sampled 5 clients (out of 1000)\n",
            "DEBUG:flwr:fit_round 4: strategy sampled 5 clients (out of 1000)\n",
            "INFO flwr 2024-02-10 14:42:22,130 | <ipython-input-55-382d20eccbda>:99 | Getting client with id 368\n",
            "INFO:flwr:Getting client with id 368\n",
            "INFO flwr 2024-02-10 14:42:22,145 | <ipython-input-55-382d20eccbda>:99 | Getting client with id 943\n",
            "INFO:flwr:Getting client with id 943\n",
            "INFO flwr 2024-02-10 14:42:22,149 | client.py:57 | Creating client with cid: 368\n",
            "INFO:flwr:Creating client with cid: 368\n",
            "INFO flwr 2024-02-10 14:42:22,149 | <ipython-input-55-382d20eccbda>:99 | Getting client with id 315\n",
            "INFO:flwr:Getting client with id 315\n",
            "INFO flwr 2024-02-10 14:42:22,174 | <ipython-input-55-382d20eccbda>:99 | Getting client with id 713\n",
            "INFO:flwr:Getting client with id 713\n",
            "INFO flwr 2024-02-10 14:42:22,187 | client.py:57 | Creating client with cid: 713\n",
            "INFO:flwr:Creating client with cid: 713\n",
            "INFO flwr 2024-02-10 14:42:22,175 | client.py:57 | Creating client with cid: 315\n",
            "INFO:flwr:Creating client with cid: 315\n",
            "INFO flwr 2024-02-10 14:42:22,154 | client.py:57 | Creating client with cid: 943\n",
            "INFO:flwr:Creating client with cid: 943\n",
            "INFO flwr 2024-02-10 14:42:22,155 | <ipython-input-55-382d20eccbda>:99 | Getting client with id 400\n",
            "INFO:flwr:Getting client with id 400\n",
            "  0%|          | 0/1 [00:00<?, ?it/s]INFO flwr 2024-02-10 14:42:22,251 | client.py:57 | Creating client with cid: 400\n",
            "INFO:flwr:Creating client with cid: 400\n",
            "\n",
            "\n",
            "  0%|          | 0/1 [00:00<?, ?it/s]\u001b[A\u001b[A\n",
            "  0%|          | 0/1 [00:00<?, ?it/s]\u001b[A\n",
            "\n",
            "\n",
            "  0%|          | 0/1 [00:00<?, ?it/s]\u001b[A\u001b[A\u001b[A\n",
            "\n",
            "\n",
            "\n",
            "100%|██████████| 1/1 [00:03<00:00,  3.78s/it]\n",
            "\n",
            "100%|██████████| 1/1 [00:03<00:00,  3.90s/it]\n",
            "\n",
            "\n",
            "100%|██████████| 1/1 [00:04<00:00,  4.05s/it]\n",
            "\n",
            "\n",
            "\n",
            "100%|██████████| 1/1 [00:03<00:00,  3.94s/it]\n",
            "\n",
            "\n",
            "\n",
            "\n",
            "100%|██████████| 1/1 [00:03<00:00,  3.43s/it]\n",
            "DEBUG flwr 2024-02-10 14:42:26,638 | server_returns_parameters.py:237 | fit_round 4 received 5 results and 0 failures\n",
            "DEBUG:flwr:fit_round 4 received 5 results and 0 failures\n",
            "100%|██████████| 47/47 [00:00<00:00, 71.79it/s]\n",
            "INFO flwr 2024-02-10 14:42:27,335 | server_returns_parameters.py:120 | fit progress: (4, 192.76110243797302, {'accuracy': 0.07533333333333334}, 16.60806684499994)\n",
            "INFO:flwr:fit progress: (4, 192.76110243797302, {'accuracy': 0.07533333333333334}, 16.60806684499994)\n",
            "INFO flwr 2024-02-10 14:42:27,339 | server_returns_parameters.py:171 | evaluate_round 4: no clients selected, cancel\n",
            "INFO:flwr:evaluate_round 4: no clients selected, cancel\n",
            "DEBUG flwr 2024-02-10 14:42:27,342 | server_returns_parameters.py:223 | fit_round 5: strategy sampled 5 clients (out of 1000)\n",
            "DEBUG:flwr:fit_round 5: strategy sampled 5 clients (out of 1000)\n",
            "INFO flwr 2024-02-10 14:42:27,351 | <ipython-input-55-382d20eccbda>:99 | Getting client with id 209\n",
            "INFO:flwr:Getting client with id 209\n",
            "INFO flwr 2024-02-10 14:42:27,352 | <ipython-input-55-382d20eccbda>:99 | Getting client with id 779\n",
            "INFO flwr 2024-02-10 14:42:27,353 | <ipython-input-55-382d20eccbda>:99 | Getting client with id 672\n",
            "INFO:flwr:Getting client with id 779\n",
            "INFO:flwr:Getting client with id 672\n",
            "INFO flwr 2024-02-10 14:42:27,360 | client.py:57 | Creating client with cid: 209\n",
            "INFO:flwr:Creating client with cid: 209\n",
            "INFO flwr 2024-02-10 14:42:27,362 | client.py:57 | Creating client with cid: 779\n",
            "INFO:flwr:Creating client with cid: 779\n",
            "INFO flwr 2024-02-10 14:42:27,362 | <ipython-input-55-382d20eccbda>:99 | Getting client with id 884\n",
            "INFO flwr 2024-02-10 14:42:27,363 | client.py:57 | Creating client with cid: 672\n",
            "INFO:flwr:Getting client with id 884\n",
            "INFO flwr 2024-02-10 14:42:27,368 | <ipython-input-55-382d20eccbda>:99 | Getting client with id 934\n",
            "INFO:flwr:Creating client with cid: 672\n",
            "INFO flwr 2024-02-10 14:42:27,387 | client.py:57 | Creating client with cid: 884\n",
            "INFO:flwr:Getting client with id 934\n",
            "INFO flwr 2024-02-10 14:42:27,398 | client.py:57 | Creating client with cid: 934\n",
            "INFO:flwr:Creating client with cid: 884\n",
            "INFO:flwr:Creating client with cid: 934\n",
            "\n",
            "  0%|          | 0/1 [00:00<?, ?it/s]\n",
            "\n",
            "  0%|          | 0/1 [00:00<?, ?it/s]\u001b[A\u001b[A\n",
            "\n",
            "\n",
            "  0%|          | 0/1 [00:00<?, ?it/s]\u001b[A\u001b[A\u001b[A\n",
            "\n",
            "\n",
            "\n",
            "  0%|          | 0/1 [00:00<?, ?it/s]\u001b[A\u001b[A\u001b[A\u001b[A\n",
            "100%|██████████| 1/1 [00:02<00:00,  2.05s/it]\n",
            "\n",
            "\n",
            "100%|██████████| 1/1 [00:02<00:00,  2.54s/it]\n",
            "100%|██████████| 1/1 [00:02<00:00,  2.62s/it]\n",
            "\n",
            "\n",
            "\n",
            "\n",
            "100%|██████████| 1/1 [00:02<00:00,  2.45s/it]\n",
            "\n",
            "\n",
            "\n",
            "100%|██████████| 1/1 [00:02<00:00,  2.56s/it]\n",
            "DEBUG flwr 2024-02-10 14:42:30,148 | server_returns_parameters.py:237 | fit_round 5 received 5 results and 0 failures\n",
            "DEBUG:flwr:fit_round 5 received 5 results and 0 failures\n",
            "100%|██████████| 47/47 [00:00<00:00, 48.76it/s]\n",
            "INFO flwr 2024-02-10 14:42:31,337 | server_returns_parameters.py:120 | fit progress: (5, 180.44808506965637, {'accuracy': 0.07333333333333333}, 20.610429306000242)\n",
            "INFO:flwr:fit progress: (5, 180.44808506965637, {'accuracy': 0.07333333333333333}, 20.610429306000242)\n",
            "INFO flwr 2024-02-10 14:42:31,345 | server_returns_parameters.py:171 | evaluate_round 5: no clients selected, cancel\n",
            "INFO:flwr:evaluate_round 5: no clients selected, cancel\n",
            "INFO flwr 2024-02-10 14:42:31,352 | server_returns_parameters.py:150 | FL finished in 20.624936871000045\n",
            "INFO:flwr:FL finished in 20.624936871000045\n",
            "INFO flwr 2024-02-10 14:42:31,357 | app.py:250 | app_fit: losses_distributed []\n",
            "INFO:flwr:app_fit: losses_distributed []\n",
            "INFO flwr 2024-02-10 14:42:31,363 | app.py:251 | app_fit: metrics_distributed_fit {'train_loss': [(1, {'avg': 0.08071763393469154, 'all': [(20, 0.1079472559504211), (20, 0.05742798540741205), (20, 0.14925501737743616), (20, 0.06254632845520973), (20, 0.0264115824829787)]}), (2, {'avg': 0.05537538843229413, 'all': [(20, 0.05838445406407118), (20, 0.07544974889606237), (20, 0.03932849634438753), (20, 0.06374443192034959), (20, 0.03996981093659997)]}), (3, {'avg': 0.050546578383073214, 'all': [(20, 0.037792375683784483), (20, 0.07853928599506617), (20, 0.009368053218349815), (20, 0.07110068276524543), (20, 0.05593249425292015)]}), (4, {'avg': 0.05643579972442239, 'all': [(20, 0.03146925689652562), (20, 0.02731993345078081), (20, 0.08386124186217785), (20, 0.07753031961619854), (20, 0.06199824679642916)]}), (5, {'avg': 0.05934031143784523, 'all': [(20, 0.061150654405355456), (20, 0.08372788727283478), (20, 0.0634509289637208), (20, 0.03565534511581063), (20, 0.05271674143150449)]})]}\n",
            "INFO:flwr:app_fit: metrics_distributed_fit {'train_loss': [(1, {'avg': 0.08071763393469154, 'all': [(20, 0.1079472559504211), (20, 0.05742798540741205), (20, 0.14925501737743616), (20, 0.06254632845520973), (20, 0.0264115824829787)]}), (2, {'avg': 0.05537538843229413, 'all': [(20, 0.05838445406407118), (20, 0.07544974889606237), (20, 0.03932849634438753), (20, 0.06374443192034959), (20, 0.03996981093659997)]}), (3, {'avg': 0.050546578383073214, 'all': [(20, 0.037792375683784483), (20, 0.07853928599506617), (20, 0.009368053218349815), (20, 0.07110068276524543), (20, 0.05593249425292015)]}), (4, {'avg': 0.05643579972442239, 'all': [(20, 0.03146925689652562), (20, 0.02731993345078081), (20, 0.08386124186217785), (20, 0.07753031961619854), (20, 0.06199824679642916)]}), (5, {'avg': 0.05934031143784523, 'all': [(20, 0.061150654405355456), (20, 0.08372788727283478), (20, 0.0634509289637208), (20, 0.03565534511581063), (20, 0.05271674143150449)]})]}\n",
            "INFO flwr 2024-02-10 14:42:31,368 | app.py:252 | app_fit: metrics_distributed {}\n",
            "INFO:flwr:app_fit: metrics_distributed {}\n",
            "INFO flwr 2024-02-10 14:42:31,374 | app.py:253 | app_fit: losses_centralized [(0, 58.245476484298706), (1, 190.52885580062866), (2, 206.56386399269104), (3, 181.06872844696045), (4, 192.76110243797302), (5, 180.44808506965637)]\n",
            "INFO:flwr:app_fit: losses_centralized [(0, 58.245476484298706), (1, 190.52885580062866), (2, 206.56386399269104), (3, 181.06872844696045), (4, 192.76110243797302), (5, 180.44808506965637)]\n",
            "INFO flwr 2024-02-10 14:42:31,378 | app.py:254 | app_fit: metrics_centralized {'accuracy': [(0, 0.5813333333333334), (1, 0.006), (2, 0.05733333333333333), (3, 0.07333333333333333), (4, 0.07533333333333334), (5, 0.07333333333333333)]}\n",
            "INFO:flwr:app_fit: metrics_centralized {'accuracy': [(0, 0.5813333333333334), (1, 0.006), (2, 0.05733333333333333), (3, 0.07333333333333333), (4, 0.07533333333333334), (5, 0.07333333333333333)]}\n"
          ]
        }
      ],
      "source": [
        "params_list, hist = start_seeded_simulation(\n",
        "    client_fn=lambda cid: federated_fedprox_flower_client_generator(cid).to_client(),\n",
        "    num_clients=N_TOTAL_CLIENTS,\n",
        "    config=ServerConfig(num_rounds=N_TOTAL_ROUNDS),\n",
        "    strategy=strategy,\n",
        "    name=\"fedprox\",\n",
        ")"
      ]
    },
    {
      "cell_type": "markdown",
      "metadata": {
        "id": "Qfu-DErGW08N"
      },
      "source": [
        "**Question 7 (Part II ✅):**\n",
        "\n",
        "(You need to provide the answer with **code** and **plots** for this question. A short written argumentation is recommended.)\n",
        "\n",
        "1. Train the FL setting composed of LDA partitions with `concentration=1.0` using FedProx with values of `proximal_mu` in $\\{10.0, 0.1, 1e-5\\}$. Keep `num_clients_per_round=5` and `ServerConfig(num_rounds=10)`. Use the experimental configurations bellow.\n",
        "2. Plot convergence curves for both `proximal_mu`.\n"
      ]
    },
    {
      "cell_type": "code",
      "execution_count": null,
      "metadata": {
        "id": "iCn1RFBgW08N",
        "outputId": "e01aad83-c5a4-4280-e53d-90c141ae72b4",
        "colab": {
          "base_uri": "https://localhost:8080/"
        }
      },
      "outputs": [
        {
          "output_type": "stream",
          "name": "stderr",
          "text": [
            "INFO flwr 2024-02-10 14:42:31,887 | client.py:57 | Creating client with cid: 0\n",
            "INFO:flwr:Creating client with cid: 0\n"
          ]
        }
      ],
      "source": [
        "torch.manual_seed(Seeds.DEFAULT)\n",
        "network_generator_cnn = get_network_generator_cnn()\n",
        "seed_net_cnn = network_generator_cnn()\n",
        "centralized_flower_client_generator: Callable[\n",
        "    [int], FlowerClient\n",
        "] = get_flower_client_generator(\n",
        "    model_generator=network_generator_cnn,\n",
        "    partition_dir=centralized_partition,\n",
        "    data_dir=data_dir,\n",
        ")\n",
        "centralized_flower_client = centralized_flower_client_generator(0)\n",
        "centralized_train_config: dict[str, Any] = {\n",
        "    \"epochs\": 1,\n",
        "    \"batch_size\": 32,\n",
        "    \"client_learning_rate\": 0.01,\n",
        "    \"weight_decay\": 0.001,\n",
        "    \"num_workers\": 2,\n",
        "    \"max_batches\": 1000,\n",
        "}\n",
        "# Train parameters on the centralised dataset\n",
        "trained_params, num_examples, train_metrics = fit_client_seeded(\n",
        "    centralized_flower_client,\n",
        "    params=get_model_parameters(seed_net_cnn),\n",
        "    conf=centralized_train_config,\n",
        ")\n",
        "q7_initial_parameters_pretrained = ndarrays_to_parameters(trained_params)"
      ]
    },
    {
      "cell_type": "code",
      "execution_count": null,
      "metadata": {
        "id": "d7YangTtW08N"
      },
      "outputs": [],
      "source": [
        "N_TOTAL_CLIENTS = 1000\n",
        "N_TOTAL_ROUNDS = 10\n",
        "N_CLIENTS_PER_ROUND = 5\n",
        "CONCENTRATION = 1.0\n",
        "# Set up experiment configuration\n",
        "train_config: dict[str, Any] = {\n",
        "    \"epochs\": 5,\n",
        "    \"batch_size\": 32,\n",
        "    \"client_learning_rate\": 0.01,\n",
        "    \"weight_decay\": 0.001,\n",
        "    \"num_workers\": 2,\n",
        "    \"max_batches\": None,\n",
        "    # NOTE: This must be adjusted according to the requests\n",
        "    \"proximal_mu\": ...,\n",
        "}\n",
        "\n",
        "\n",
        "def _on_fit_config_fn(server_round: int) -> dict[str, Scalar]:\n",
        "    return train_config | {\"server_round\": server_round}\n",
        "\n",
        "\n",
        "num_total_clients = N_TOTAL_CLIENTS\n",
        "num_clients_per_round: int = N_CLIENTS_PER_ROUND\n",
        "num_evaluate_clients: int = 0\n",
        "fraction_fit: float = float(num_clients_per_round) / num_total_clients\n",
        "fraction_evaluate: float = float(num_evaluate_clients) / num_total_clients\n",
        "# Set up strategy\n",
        "strategy = FedAvg(\n",
        "    fraction_fit=sys.float_info.min,\n",
        "    fraction_evaluate=sys.float_info.min,\n",
        "    min_fit_clients=num_clients_per_round,\n",
        "    min_evaluate_clients=num_evaluate_clients,\n",
        "    min_available_clients=max(num_clients_per_round, num_evaluate_clients),\n",
        "    on_fit_config_fn=_on_fit_config_fn,\n",
        "    on_evaluate_config_fn=None,\n",
        "    evaluate_fn=federated_evaluation_function,\n",
        "    initial_parameters=q7_initial_parameters_pretrained,\n",
        "    accept_failures=False,\n",
        "    fit_metrics_aggregation_fn=aggregate_weighted_average,\n",
        "    evaluate_metrics_aggregation_fn=aggregate_weighted_average,\n",
        ")\n",
        "\n",
        "# Create partitions\n",
        "x = np.array([x[0] for x in centralized_train_dataset.data])\n",
        "y = np.array([x[1] for x in centralized_train_dataset.data])\n",
        "train_clients_partitions, dist = create_lda_partitions(\n",
        "    dataset=(x, y),\n",
        "    dirichlet_dist=None,\n",
        "    num_partitions=N_TOTAL_CLIENTS,\n",
        "    concentration=CONCENTRATION,\n",
        "    accept_imbalanced=True,\n",
        ")\n",
        "x = np.array([x[0] for x in centralized_test_dataset.data])\n",
        "y = np.array([x[1] for x in centralized_test_dataset.data])\n",
        "test_clients_partitions, dist = create_lda_partitions(\n",
        "    dataset=(x, y),\n",
        "    dirichlet_dist=dist,\n",
        "    num_partitions=N_TOTAL_CLIENTS,\n",
        "    concentration=CONCENTRATION,\n",
        "    accept_imbalanced=True,\n",
        ")\n",
        "# Store partitions\n",
        "lda_partition: Path = dataset_dir / \"client_data_mappings\" / f\"lda_{CONCENTRATION}\"\n",
        "if lda_partition.exists():\n",
        "    ! rm -rf {lda_partition}\n",
        "lda_partition.mkdir(parents=True, exist_ok=True)\n",
        "\n",
        "for i, (train_set, test_set) in enumerate(\n",
        "    zip(train_clients_partitions, test_clients_partitions, strict=True)\n",
        "):\n",
        "    folder_path: Path = lda_partition / str(i)\n",
        "    folder_path.mkdir(parents=True, exist_ok=True)\n",
        "\n",
        "    train_path: Path = folder_path / \"train.csv\"\n",
        "    test_path: Path = folder_path / \"test.csv\"\n",
        "\n",
        "    pd.DataFrame(\n",
        "        {\n",
        "            \"client_id\": [0] * len(train_set[0]),\n",
        "            \"sample_path\": train_set[0],\n",
        "            \"sample_id\": range(len(train_set[0])),\n",
        "            \"label\": train_set[1],\n",
        "        }\n",
        "    ).to_csv(train_path, index=False)\n",
        "    pd.DataFrame(\n",
        "        {\n",
        "            \"client_id\": [0] * len(test_set[0]),\n",
        "            \"sample_path\": test_set[0],\n",
        "            \"sample_id\": range(len(test_set[0])),\n",
        "            \"label\": test_set[1],\n",
        "        }\n",
        "    ).to_csv(test_path, index=False)\n",
        "# Create the client generator\n",
        "fedprox_flower_client_generator: Callable[\n",
        "    [int], FlowerClient\n",
        "] = get_fedprox_flower_client_generator(\n",
        "    model_generator=network_generator_cnn,\n",
        "    data_dir=data_dir,\n",
        "    partition_dir=lda_partition,\n",
        ")"
      ]
    },
    {
      "cell_type": "markdown",
      "metadata": {
        "id": "5K1N62Obm679"
      },
      "source": [
        "**Question 8 (Part II ✅ | Part III/MPhil ✅):**\n",
        "\n",
        "(These are meant to be conceptual questions. You should provide written answers for these. **No more than 3 sentences each**. No code is needed)\n",
        "\n",
        "In FL, fairness is generally defined as the variance of the accuracy of the global model on local clients' test sets. If two models have the same average accuracy, the one with the lower variance between clients is the fairer.\n",
        "\n",
        "- In light of this, is it reasonable to say that analysing the fairness of the model across clients, i.e. the distributed accuracy, could be used as a tool to measure the data heterogeneity? Motivate your answer.\n",
        "- Both FedAvg and FedProx are training a single global model, so we will always measure some unfairness. Do you think we could improve fairness by finetuning the global model on the local clients just before evaluating it on their local test set?\n"
      ]
    },
    {
      "cell_type": "markdown",
      "source": [
        "Question 8\n",
        "\n",
        "1. Fairness of the same model across different sets of clients could be used as a metric to compare the degree of data heterogeneity, however simply using the fairness of one model across clients may not always be an accurate measure of data heterogeneity as a lot of other factors could affect it, such as the generalizability of the model, the specific model architecture etc.\n",
        "\n",
        "2. I think in most cases this would improve accuracy, as finetuning the model on the local client dataset would make it perfom better on local client data, and assuming the local training data has similar distribution to local test set this would improve accuracy. This should also improve fairness as if a client's data distribution is very different from global data distribution and it has low accuracy, then this would increase its accuracy more compared to clients with data distributions similar to the global distribution, and thus even out the accuracies."
      ],
      "metadata": {
        "id": "pvEshF-LeB_d"
      }
    },
    {
      "cell_type": "markdown",
      "metadata": {
        "id": "ICOGgdnJRd1b"
      },
      "source": [
        "(c) 2024 Alexandru-Andrei Iacob, Lorenzo Sani\n"
      ]
    }
  ],
  "metadata": {
    "accelerator": "GPU",
    "colab": {
      "provenance": [],
      "gpuType": "T4"
    },
    "kernelspec": {
      "display_name": "Python 3",
      "name": "python3"
    },
    "language_info": {
      "codemirror_mode": {
        "name": "ipython",
        "version": 3
      },
      "file_extension": ".py",
      "mimetype": "text/x-python",
      "name": "python",
      "nbconvert_exporter": "python",
      "pygments_lexer": "ipython3",
      "version": "3.10.12"
    },
    "vscode": {
      "interpreter": {
        "hash": "f60f5a2c15992c74df12f0554524b987217e124a6a47cf1bc494002bece5a18b"
      }
    }
  },
  "nbformat": 4,
  "nbformat_minor": 0
}