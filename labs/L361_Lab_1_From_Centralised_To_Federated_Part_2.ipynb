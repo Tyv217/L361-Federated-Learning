{
  "cells": [
    {
      "cell_type": "markdown",
      "metadata": {
        "id": "wTR0VzOm2B5d"
      },
      "source": [
        "# 0. Marking.\n",
        "\n",
        "***IMPORTANT***: Save a copy of this notebook into your Drive before you start.\n",
        "- Please attempt all the questions marked for your group (Part II ✅ | Part III/MPhil ✅).\n",
        "\n",
        "Please submit a zip file, containing both parts, consiting of of:\n",
        "1. A text file with a publicly visible link to your notebooks in Google Colab or GitHub.\n",
        "2. A downloaded copy (ipynb) of your notebooks or your zipped cloned GitHub repo. You may treat these as a report: we will not be re-executing the code you used to produce the answers unless required.\n",
        "\n",
        "If you find yourself enjoying the material, feel free to attempt more! Provide your answers in a new cell below the question cell."
      ]
    },
    {
      "cell_type": "markdown",
      "metadata": {
        "id": "Y1P9epXi-IZ0"
      },
      "source": [
        "### Globals.\n"
      ]
    },
    {
      "cell_type": "code",
      "execution_count": 1,
      "metadata": {
        "id": "fTM8comw-IZ2",
        "outputId": "69d2b8a3-d099-4829-f079-bb75897a0bca",
        "colab": {
          "base_uri": "https://localhost:8080/"
        }
      },
      "outputs": [
        {
          "output_type": "stream",
          "name": "stdout",
          "text": [
            "\u001b[2K     \u001b[90m━━━━━━━━━━━━━━━━━━━━━━━━━━━━━━━━━━━━━━━━\u001b[0m \u001b[32m2.1/2.1 MB\u001b[0m \u001b[31m8.9 MB/s\u001b[0m eta \u001b[36m0:00:00\u001b[0m\n",
            "\u001b[?25h  Installing build dependencies ... \u001b[?25l\u001b[?25hdone\n",
            "  Getting requirements to build wheel ... \u001b[?25l\u001b[?25hdone\n",
            "  Preparing metadata (pyproject.toml) ... \u001b[?25l\u001b[?25hdone\n",
            "\u001b[2K   \u001b[90m━━━━━━━━━━━━━━━━━━━━━━━━━━━━━━━━━━━━━━━━\u001b[0m \u001b[32m56.9/56.9 MB\u001b[0m \u001b[31m11.0 MB/s\u001b[0m eta \u001b[36m0:00:00\u001b[0m\n",
            "\u001b[2K   \u001b[90m━━━━━━━━━━━━━━━━━━━━━━━━━━━━━━━━━━━━━━━━\u001b[0m \u001b[32m4.4/4.4 MB\u001b[0m \u001b[31m44.5 MB/s\u001b[0m eta \u001b[36m0:00:00\u001b[0m\n",
            "\u001b[2K   \u001b[90m━━━━━━━━━━━━━━━━━━━━━━━━━━━━━━━━━━━━━━━━\u001b[0m \u001b[32m2.1/2.1 MB\u001b[0m \u001b[31m48.3 MB/s\u001b[0m eta \u001b[36m0:00:00\u001b[0m\n",
            "\u001b[?25h  Building wheel for flwr (pyproject.toml) ... \u001b[?25l\u001b[?25hdone\n",
            "\u001b[33mWARNING: Running pip as the 'root' user can result in broken permissions and conflicting behaviour with the system package manager. It is recommended to use a virtual environment instead: https://pip.pypa.io/warnings/venv\u001b[0m\u001b[33m\n",
            "\u001b[0m"
          ]
        }
      ],
      "source": [
        "# The simulation component of the flower framework uses RAY under the hood.\n",
        "# `pip` could produce some errors. Do not worry about them.\n",
        "# The execution has been verified; it's working anyway.\n",
        "! pip install --quiet --upgrade \"pip\"\n",
        "! pip install --quiet git+https://github.com/Iacob-Alexandru-Andrei/flower.git@teaching torch torchvision matplotlib gdown tqdm ray==\"2.6.3\" seaborn\n",
        "# The following is just needed to show the folder tree"
      ]
    },
    {
      "cell_type": "code",
      "execution_count": 2,
      "metadata": {
        "id": "G9YC7eFA-IZ1"
      },
      "outputs": [],
      "source": [
        "from typing import *"
      ]
    },
    {
      "cell_type": "markdown",
      "metadata": {
        "id": "_zl2hUa1-IZ2"
      },
      "source": [
        "### Imports.\n"
      ]
    },
    {
      "cell_type": "code",
      "execution_count": 3,
      "metadata": {
        "id": "Z7xM_SyD-IZ4"
      },
      "outputs": [],
      "source": [
        "# Imports\n",
        "\n",
        "import numbers\n",
        "import random\n",
        "from collections import OrderedDict, defaultdict\n",
        "from pathlib import Path\n",
        "\n",
        "import flwr as fl\n",
        "import gdown\n",
        "import numpy as np\n",
        "import torch\n",
        "from torch import nn\n",
        "from flwr.common.parameter import ndarrays_to_parameters\n",
        "from flwr.common.typing import NDArrays, Parameters, Scalar\n",
        "from flwr.server import ServerConfig, History\n",
        "from flwr.client import Client\n",
        "from flwr.server.strategy import FedAvgM as FedAvg, Strategy\n",
        "from torch.nn import Module\n",
        "from torch.utils.data import DataLoader, Dataset\n",
        "from enum import IntEnum\n",
        "from datetime import datetime\n",
        "from datetime import timezone\n",
        "import json\n",
        "from typing import Optional\n",
        "\n",
        "\n",
        "# Add new seeds here for easy autocomplete\n",
        "class Seeds(IntEnum):\n",
        "    DEFAULT = 1337\n",
        "\n",
        "\n",
        "np.random.seed(Seeds.DEFAULT)\n",
        "random.seed(Seeds.DEFAULT)\n",
        "torch.manual_seed(Seeds.DEFAULT)\n",
        "torch.backends.cudnn.benchmark = False  # type: ignore\n",
        "torch.backends.cudnn.deterministic = True  # type: ignore\n",
        "\n",
        "\n",
        "def convert(o):\n",
        "    if isinstance(o, np.int32 | np.int64):\n",
        "        return int(o)\n",
        "    if isinstance(o, np.float32 | np.float64):\n",
        "        return float(o)\n",
        "    raise TypeError\n",
        "\n",
        "\n",
        "def fit_client_seeded(client, params, conf, seed=Seeds.DEFAULT, **kwargs):\n",
        "    \"\"\"Wrapper to always seed client training.\"\"\"\n",
        "    np.random.seed(seed)\n",
        "    torch.manual_seed(seed)\n",
        "    random.seed(seed)\n",
        "    return client.fit(params, conf, **kwargs)\n",
        "\n",
        "\n",
        "PathType = Optional[Path | str]\n",
        "\n",
        "\n",
        "def get_device() -> str:\n",
        "    device = \"cpu\"\n",
        "    if torch.cuda.is_available():\n",
        "        device = \"cuda\"\n",
        "    elif torch.backends.mps.is_available() and torch.backends.mps.is_built():\n",
        "        device = \"mps\"\n",
        "    return device"
      ]
    },
    {
      "cell_type": "code",
      "execution_count": 4,
      "metadata": {
        "id": "341p1c5o-IZ4",
        "outputId": "b0e62db5-79a0-4f3a-c9e7-18e033f643c1",
        "colab": {
          "base_uri": "https://localhost:8080/"
        }
      },
      "outputs": [
        {
          "output_type": "stream",
          "name": "stderr",
          "text": [
            "Downloading...\n",
            "From: https://drive.google.com/uc?export=download&confirm=pbef&id=1-CI6-QoEmGiInV23-n_l6Yd8QGWerw8-\n",
            "To: /content/femnist.tar.gz\n",
            "100%|██████████| 223M/223M [00:08<00:00, 25.7MB/s]\n"
          ]
        },
        {
          "output_type": "stream",
          "name": "stdout",
          "text": [
            "Dataset extracted in /content/femnist\n"
          ]
        }
      ],
      "source": [
        "home_dir = content if (content := Path(\"/content\")).exists() else Path.cwd()\n",
        "dataset_dir: Path = home_dir / \"femnist\"\n",
        "data_dir: Path = dataset_dir / \"data\"\n",
        "centralized_partition: Path = dataset_dir / \"client_data_mappings\" / \"centralized\"\n",
        "centralized_mapping: Path = dataset_dir / \"client_data_mappings\" / \"centralized\" / \"0\"\n",
        "federated_partition: Path = dataset_dir / \"client_data_mappings\" / \"fed_natural\"\n",
        "\n",
        "#  Download compressed dataset\n",
        "if not (home_dir / \"femnist.tar.gz\").exists():\n",
        "    id = \"1-CI6-QoEmGiInV23-n_l6Yd8QGWerw8-\"\n",
        "    gdown.download(\n",
        "        f\"https://drive.google.com/uc?export=download&confirm=pbef&id={id}\",\n",
        "        str(home_dir / \"femnist.tar.gz\"),\n",
        "    )\n",
        "\n",
        "# Decompress dataset\n",
        "if not dataset_dir.exists():\n",
        "    !tar -xf {str(home_dir)}/femnist.tar.gz -C {str(home_dir)} 2> /dev/null\n",
        "    print(f\"Dataset extracted in {dataset_dir}\")"
      ]
    },
    {
      "cell_type": "code",
      "execution_count": 5,
      "metadata": {
        "id": "82ktoKJ4-IZ5",
        "outputId": "dc3d77d2-00c9-4af1-8b36-486c1b6fee8e",
        "colab": {
          "base_uri": "https://localhost:8080/"
        }
      },
      "outputs": [
        {
          "output_type": "stream",
          "name": "stdout",
          "text": [
            "Cloning into 'temp_repo'...\n",
            "remote: Enumerating objects: 150, done.\u001b[K\n",
            "remote: Counting objects: 100% (51/51), done.\u001b[K\n",
            "remote: Compressing objects: 100% (44/44), done.\u001b[K\n",
            "remote: Total 150 (delta 26), reused 14 (delta 7), pack-reused 99\u001b[K\n",
            "Receiving objects: 100% (150/150), 558.58 KiB | 5.22 MiB/s, done.\n",
            "Resolving deltas: 100% (79/79), done.\n"
          ]
        },
        {
          "output_type": "execute_result",
          "data": {
            "text/plain": [
              "<_io.TextIOWrapper name='/content/__init__.py' mode='a+' encoding='UTF-8'>"
            ]
          },
          "metadata": {},
          "execution_count": 5
        }
      ],
      "source": [
        "if not (home_dir / \"common\").exists():\n",
        "    ! git clone \"https://github.com/camlsys/L361-Federated-Learning.git\" temp_repo\n",
        "\n",
        "    # Copy the folder to the current directory\n",
        "    ! cp -r \"temp_repo/labs/common\" {home_dir}\n",
        "\n",
        "    # Delete the cloned repository\n",
        "    ! rm -rf temp_repo\n",
        "\n",
        "(home_dir / \"__init__.py\").open(mode=\"a+\")"
      ]
    },
    {
      "cell_type": "code",
      "execution_count": 6,
      "metadata": {
        "id": "6bLMKg-y-IZ5"
      },
      "outputs": [],
      "source": [
        "from common.client_utils import (\n",
        "    Net,\n",
        "    load_FEMNIST_dataset,\n",
        "    get_network_generator_cnn as get_network_generator,\n",
        "    train_FEMNIST,\n",
        "    test_FEMNIST,\n",
        ")"
      ]
    },
    {
      "cell_type": "markdown",
      "metadata": {
        "id": "C6Q6qaJbjac5"
      },
      "source": [
        "# 5. Building a Flower FL client."
      ]
    },
    {
      "cell_type": "markdown",
      "metadata": {
        "id": "sUEPLGXCxhDe"
      },
      "source": [
        "Our first client abstraction shall be as simple as possible and will require adjustment to match the structure that the flower framework expects. However, it shall be conceptually identical and require only light API changes."
      ]
    },
    {
      "cell_type": "markdown",
      "metadata": {
        "id": "Dh6ebOepFBUC"
      },
      "source": [
        "Moving from centralised ML to server-client FL requires us to provide a means of communication between the respective server and clients. The Flower Framework is ML-framework agnostic and allows various means of transmitting model parameters in the federated network. Since you may have limited resources in these labs, we will only tangentially follow the Flower framework while keeping the computational requirements to a minimum.\n",
        "\n",
        "The simplest and most common encoding for models is the mere transmission of model parameters as NumPy arrays instead of the stateful PyTorch models. The following functions allow for seamless conversions between the two."
      ]
    },
    {
      "cell_type": "code",
      "execution_count": 7,
      "metadata": {
        "id": "Oh2wjiNsVTZI"
      },
      "outputs": [],
      "source": [
        "def set_model_parameters(net: Module, parameters: NDArrays) -> Module:\n",
        "    \"\"\"Function to put a set of parameters into the model object.\n",
        "\n",
        "    Args:\n",
        "        net (Module): model object.\n",
        "        parameters (NDArrays): set of parameters to put into the model.\n",
        "\n",
        "    Returns\n",
        "    -------\n",
        "        Module: updated model object.\n",
        "    \"\"\"\n",
        "    weights = parameters\n",
        "    params_dict = zip(net.state_dict().keys(), weights, strict=False)\n",
        "    state_dict = OrderedDict({k: torch.from_numpy(np.copy(v)) for k, v in params_dict})\n",
        "    net.load_state_dict(state_dict, strict=True)\n",
        "    return net\n",
        "\n",
        "\n",
        "def get_model_parameters(net: Module) -> NDArrays:\n",
        "    \"\"\"Function to get the current model parameters as NDArrays.\n",
        "\n",
        "    Args:\n",
        "        net (Module): current model object.\n",
        "\n",
        "    Returns\n",
        "    -------\n",
        "        NDArrays: set of parameters from the current model.\n",
        "    \"\"\"\n",
        "    return [val.cpu().numpy() for _, val in net.state_dict().items()]"
      ]
    },
    {
      "cell_type": "markdown",
      "metadata": {
        "id": "uHJGcNa7FBUD"
      },
      "source": [
        "With them in place, making the client abstraction compatible with Flower requires only a bit of boilerplate such as allowing NumPy arrays to be received and sent instead of PyTorch models. To achieve this, we provide a model generator capable of creating a network and using the received parameters.\n",
        "\n",
        "To keep client objects light in the memory when not used by the Flower FL simulator, the model generator is only called as needed for either `fit` or `evaluate`."
      ]
    },
    {
      "cell_type": "code",
      "execution_count": 8,
      "metadata": {
        "id": "SCqhfpnJobOZ"
      },
      "outputs": [],
      "source": [
        "class FlowerRayClient(fl.client.NumPyClient):\n",
        "    def __init__(\n",
        "        self,\n",
        "        cid: int,\n",
        "        partition_dir: Path,\n",
        "        model_generator: Callable[[], Module],\n",
        "    ) -> None:\n",
        "        \"\"\"Function to initialise the client with its unique id\n",
        "        and the directory from which it can load its data.\n",
        "\n",
        "        Args:\n",
        "            cid (int): Unique client id for a client used to map it to its data partition\n",
        "            partition_dir (Path): The directory containing data for each client/client id\n",
        "            model_generator (Callable[[], Module]): The model generator function\n",
        "        \"\"\"\n",
        "        self.cid = cid\n",
        "        print(\"cid: \", self.cid)\n",
        "        self.partition_dir = partition_dir\n",
        "        self.device = str(\n",
        "            torch.device(\"cuda:0\" if torch.cuda.is_available() else \"cpu\")\n",
        "        )\n",
        "        self.model_generator: Callable[[], Module] = model_generator\n",
        "        self.properties: Dict[str, Scalar] = {\"tensor_type\": \"numpy.ndarray\"}\n",
        "\n",
        "    def set_parameters(self, parameters: NDArrays) -> Module:\n",
        "        \"\"\"Loads weights inside the network.\n",
        "\n",
        "        Args:\n",
        "            parameters (NDArrays): set of weights to be loaded.\n",
        "\n",
        "        Returns\n",
        "        -------\n",
        "            [Module]: Network with new set of weights.\n",
        "        \"\"\"\n",
        "        net = self.model_generator()\n",
        "        return set_model_parameters(net, parameters)\n",
        "\n",
        "    def get_parameters(self, config: Dict[int, Scalar]) -> NDArrays:\n",
        "        \"\"\"Returns weights from a given model. If no model is passed, then a\n",
        "        local model is created. This can be used to initialise a model in the\n",
        "        server.\n",
        "        The config param is not used but is mandatory in Flower.\n",
        "\n",
        "        Args:\n",
        "            config (Dict[int, Scalar]): dictionary containing configuration info.\n",
        "\n",
        "        Returns\n",
        "        -------\n",
        "            NDArrays: weights from the model.\n",
        "        \"\"\"\n",
        "        net = self.model_generator()\n",
        "        return get_model_parameters(net)\n",
        "\n",
        "    def fit(\n",
        "        self, parameters: NDArrays, config: Dict[str, Scalar]\n",
        "    ) -> Tuple[NDArrays, int, dict]:\n",
        "        \"\"\"Function which receives and trains a model on the local client data using parameters from the config dict\n",
        "\n",
        "        Args:\n",
        "            net (NDArrays): Pytorch model parameters\n",
        "            config (Dict[str, Scalar]): Dictionary describing the training parameters\n",
        "\n",
        "        Returns\n",
        "        -------\n",
        "            Tuple[NDArrays, int, dict]: Returns the updated model, the size of the local dataset and other metrics\n",
        "        \"\"\"\n",
        "        # Only create model right before training/testing\n",
        "        # To lower memory usage when idle\n",
        "        net = self.set_parameters(parameters)\n",
        "        net.to(self.device)\n",
        "\n",
        "        train_loader: DataLoader = self._create_data_loader(config, name=\"train\")\n",
        "        train_loss = self._train(net, train_loader=train_loader, config=config)\n",
        "        return get_model_parameters(net), len(train_loader), {\"train_loss\": train_loss}\n",
        "\n",
        "    def evaluate(\n",
        "        self, parameters: NDArrays, config: Dict[str, Scalar]\n",
        "    ) -> Tuple[float, int, dict]:\n",
        "        \"\"\"Function which receives and tests a model on the local client data using parameters from the config dict\n",
        "\n",
        "        Args:\n",
        "            net (NDArrays): Pytorch model parameters\n",
        "            config (Dict[str, Scalar]): Dictionary describing the testing parameters\n",
        "\n",
        "        Returns\n",
        "        -------\n",
        "            Tuple[float, int, dict]: Returns the loss accumulate during testing, the size of the local dataset and other metrics such as accuracy\n",
        "        \"\"\"\n",
        "        net = self.set_parameters(parameters)\n",
        "        net.to(self.device)\n",
        "\n",
        "        test_loader: DataLoader = self._create_data_loader(config, name=\"test\")\n",
        "        loss, accuracy = self._test(net, test_loader=test_loader, config=config)\n",
        "        return loss, len(test_loader), {\"local_accuracy\": accuracy}\n",
        "\n",
        "    def _create_data_loader(self, config: Dict[str, Scalar], name: str) -> DataLoader:\n",
        "        \"\"\"Creates the data loader using the specified config parameters\n",
        "\n",
        "        Args:\n",
        "            config (Dict[str, Scalar]): Dictionary containing dataloader and dataset parameters\n",
        "            mode (str): Load the training or testing set for the client\n",
        "\n",
        "        Returns\n",
        "        -------\n",
        "            DataLoader: A pytorch dataloader iterable for training/testing\n",
        "        \"\"\"\n",
        "        batch_size = int(config[\"batch_size\"])\n",
        "        num_workers = int(config[\"num_workers\"])\n",
        "        dataset = self._load_dataset(name)\n",
        "        return DataLoader(\n",
        "            dataset=dataset,\n",
        "            batch_size=batch_size,\n",
        "            shuffle=True,\n",
        "            num_workers=num_workers,\n",
        "            drop_last=(name == \"train\"),\n",
        "        )\n",
        "\n",
        "    def _load_dataset(self, name) -> Dataset:\n",
        "        full_file: Path = self.partition_dir / str(self.cid)\n",
        "        return load_FEMNIST_dataset(\n",
        "            mapping=full_file,\n",
        "            name=name,\n",
        "            data_dir=data_dir,\n",
        "        )\n",
        "\n",
        "    def _train(\n",
        "        self, net: Module, train_loader: DataLoader, config: Dict[str, Scalar]\n",
        "    ) -> float:\n",
        "        return train_FEMNIST(\n",
        "            net=net,\n",
        "            train_loader=train_loader,\n",
        "            epochs=int(config[\"epochs\"]),\n",
        "            device=self.device,\n",
        "            optimizer=torch.optim.AdamW(\n",
        "                net.parameters(),\n",
        "                lr=float(config[\"client_learning_rate\"]),\n",
        "                weight_decay=float(config[\"weight_decay\"]),\n",
        "            ),\n",
        "            criterion=torch.nn.CrossEntropyLoss(),\n",
        "            max_batches=config[\"max_batches\"],\n",
        "        )\n",
        "\n",
        "    def _test(\n",
        "        self, net, test_loader: DataLoader, config: Dict[str, Scalar]\n",
        "    ) -> Tuple[float, float]:\n",
        "        return test_FEMNIST(\n",
        "            net=net,\n",
        "            test_loader=test_loader,\n",
        "            device=self.device,\n",
        "            criterion=torch.nn.CrossEntropyLoss(),\n",
        "            max_batches=config[\"max_batches\"],\n",
        "        )\n",
        "\n",
        "    def get_properties(self, config: Dict[str, Scalar]) -> Dict[str, Scalar]:\n",
        "        \"\"\"Returns properties for this client.\n",
        "\n",
        "        Args:\n",
        "            config (Dict[str, Scalar]): Options to be used for selecting specific\n",
        "            properties.\n",
        "\n",
        "        Returns\n",
        "        -------\n",
        "            Dict[str, Scalar]: Returned properties.\n",
        "        \"\"\"\n",
        "        # pylint: disable=unused-argument\n",
        "        return self.properties\n",
        "\n",
        "    def get_train_set_size(self) -> int:\n",
        "        \"\"\"Returns the client train set size.\n",
        "\n",
        "        Returns\n",
        "        -------\n",
        "            int: train set size of the client.\n",
        "        \"\"\"\n",
        "        return len(self._load_dataset(\"train\"))  # type: ignore\n",
        "\n",
        "    def get_test_set_size(self) -> int:\n",
        "        \"\"\"Returns the client test set size.\n",
        "\n",
        "        Returns\n",
        "        -------\n",
        "            int: test set size of the client.\n",
        "        \"\"\"\n",
        "        return len(self._load_dataset(\"test\"))  # type: ignore"
      ]
    },
    {
      "cell_type": "markdown",
      "metadata": {
        "id": "7HdLT_IBFBUD"
      },
      "source": [
        "The underlying FL simulator used by Flower is based on [Ray](https://www.ray.io/). It expects each client only to require a client ID for instantiation. Therefore, using the following generator function, we can determine the specific network used for FL together with the FEMNIST partition to which the `cid` refers.\n",
        "\n",
        "While we will not use `Ray` in this lab due to its heavyweight nature, we will keep all code API compatible with the default flower framework."
      ]
    },
    {
      "cell_type": "code",
      "execution_count": 9,
      "metadata": {
        "id": "Mwfh5JZmUcfd"
      },
      "outputs": [],
      "source": [
        "def get_flower_client_generator(\n",
        "    model_generator: Callable[[], Module],\n",
        "    partition_dir: Path,\n",
        "    mapping_fn: Callable[[int], int] | None = None,\n",
        ") -> Callable[[str], FlowerRayClient]:\n",
        "    \"\"\"Wrapper function for the client instance generator.\n",
        "    This provides the client generator with a model generator function.\n",
        "    Also, the partition directory must be passed.\n",
        "    A mapping function could be used for filtering/ordering clients.\n",
        "\n",
        "    Args:\n",
        "        model_generator (Callable[[], Module]): model generator function.\n",
        "        partition_dir (Path): directory containing the partition.\n",
        "        mapping_fn (Optional[Callable[[int], int]]): function mapping sorted/filtered ids to real cid.\n",
        "\n",
        "    Returns\n",
        "    -------\n",
        "        Callable[[str], FlowerRayClient]: client instance.\n",
        "    \"\"\"\n",
        "\n",
        "    def client_fn(cid: str) -> FlowerRayClient:\n",
        "        \"\"\"Creates a single client instance given the client id `cid`.\n",
        "\n",
        "        Args:\n",
        "            cid (str): client id, Flower requires this to be of type str.\n",
        "\n",
        "        Returns\n",
        "        -------\n",
        "            FlowerRayClient: client instance.\n",
        "        \"\"\"\n",
        "        return FlowerRayClient(\n",
        "            cid=mapping_fn(int(cid)) if mapping_fn is not None else int(cid),\n",
        "            partition_dir=partition_dir,\n",
        "            model_generator=model_generator,\n",
        "        )\n",
        "\n",
        "    return client_fn"
      ]
    },
    {
      "cell_type": "markdown",
      "metadata": {
        "id": "z4rBKYJqU3bf"
      },
      "source": [
        "To ensure the Flower client behaves the same as our simple demo client, a simple test using the centralised partition we defined earlier should suffice."
      ]
    },
    {
      "cell_type": "code",
      "execution_count": 10,
      "metadata": {
        "id": "udMWNQ0xU8VD",
        "outputId": "29fca21b-d885-467f-e508-2d7f4598cfb1",
        "colab": {
          "base_uri": "https://localhost:8080/"
        }
      },
      "outputs": [
        {
          "output_type": "stream",
          "name": "stdout",
          "text": [
            "cid:  0\n"
          ]
        }
      ],
      "source": [
        "network_generator = get_network_generator()\n",
        "seed_net: Net = network_generator()\n",
        "seed_model_params: NDArrays = get_model_parameters(seed_net)\n",
        "\n",
        "centralized_flower_client_generator: Callable[\n",
        "    [int], FlowerRayClient\n",
        "] = get_flower_client_generator(network_generator, centralized_partition)  # type: ignore\n",
        "centralized_flower_client = centralized_flower_client_generator(0)"
      ]
    },
    {
      "cell_type": "code",
      "execution_count": 11,
      "metadata": {
        "id": "GJima3hoFBUD",
        "outputId": "3f88b28d-10fa-4f63-e3c8-b538219cd934",
        "colab": {
          "base_uri": "https://localhost:8080/"
        }
      },
      "outputs": [
        {
          "output_type": "stream",
          "name": "stdout",
          "text": [
            "{'train_loss': 0.11729214809834958}\n"
          ]
        }
      ],
      "source": [
        "centralized_train_config: Dict[str, Any] = {\n",
        "    \"epochs\": 1,\n",
        "    \"batch_size\": 32,\n",
        "    \"client_learning_rate\": 0.01,\n",
        "    \"weight_decay\": 0.001,\n",
        "    \"num_workers\": 0,\n",
        "    \"max_batches\": 100,\n",
        "}\n",
        "\n",
        "test_config: Dict[str, Any] = {\n",
        "    \"batch_size\": 32,\n",
        "    \"num_workers\": 0,\n",
        "    \"max_batches\": 100,\n",
        "}\n",
        "\n",
        "# Train parameters on the centralised dataset\n",
        "trained_params, num_examples, train_metrics = fit_client_seeded(\n",
        "    centralized_flower_client, params=seed_model_params, conf=centralized_train_config\n",
        ")\n",
        "print(train_metrics)"
      ]
    },
    {
      "cell_type": "code",
      "execution_count": 12,
      "metadata": {
        "id": "EdzCbOf0wOWC",
        "outputId": "7169aed6-f40b-492c-86d1-e0350db32305",
        "colab": {
          "base_uri": "https://localhost:8080/"
        }
      },
      "outputs": [
        {
          "output_type": "stream",
          "name": "stderr",
          "text": [
            "  4%|▍         | 100/2329 [00:01<00:40, 54.50it/s]"
          ]
        },
        {
          "output_type": "stream",
          "name": "stdout",
          "text": [
            "370.11396503448486 {'local_accuracy': 0.059375}\n"
          ]
        },
        {
          "output_type": "stream",
          "name": "stderr",
          "text": [
            "\n"
          ]
        }
      ],
      "source": [
        "# Test trained parameters on the centralised dataset\n",
        "loss, num_examples, test_metrics = centralized_flower_client.evaluate(\n",
        "    parameters=trained_params, config=test_config\n",
        ")\n",
        "print(loss, test_metrics)"
      ]
    },
    {
      "cell_type": "markdown",
      "metadata": {
        "id": "IXwkNqUED40K"
      },
      "source": [
        "# 6. FL with natural partitions"
      ]
    },
    {
      "cell_type": "markdown",
      "metadata": {
        "id": "OC0MPZAIM-JC"
      },
      "source": [
        "Given its naturally-partitioned nature, we can easily construct a realistic FL experiment by mapping clients one-to-one with the writers of the original symbols.\n",
        "\n",
        "To pursue this aim, we shall use the “naturally federated” partition instead of the \"centralised” one. We are then using the entire `train.csv` and `test.csv` contained in the subfolders of `client_data_mappings/fed_natural`. Each subfolder is named after the clients' ID in the dataset, i.e., from `0` to `3229`.\n",
        "\n",
        "To guarantee that each client has sufficient training data to participate meaningfully, a common practice is to set a lower bound on the number of samples a selected client is allowed to have. Generally, this threshold should be equivalent to at least one batch. We will now implement a function to sample clients from the federation that satisfies the abovementioned filter in the train set."
      ]
    },
    {
      "cell_type": "code",
      "execution_count": 13,
      "metadata": {
        "id": "6QQv15XxXhvJ"
      },
      "outputs": [],
      "source": [
        "def sample_random_clients(\n",
        "    total_clients: int,\n",
        "    filter_less: int,\n",
        "    partition: Path,\n",
        "    seed: int | None = Seeds.DEFAULT,\n",
        ") -> Sequence[int]:\n",
        "    \"\"\"Function to randomly sample clients.\n",
        "    A filter on the client train set size is performed.\n",
        "\n",
        "    Args:\n",
        "        total_clients (int): total number of clients to sample.\n",
        "        filter_less (int): max number of train samples for which the client is **discarded**.\n",
        "        partition (Path): path to the folder containing the partitioning.\n",
        "        seed (Optional[int], optional): seed for the random generator. Defaults to None.\n",
        "\n",
        "    Returns\n",
        "    -------\n",
        "        Sequence[int]: list of sample client ids as int.\n",
        "    \"\"\"\n",
        "    real_federated_cid_client_generator: Callable[\n",
        "        [int], FlowerRayClient\n",
        "    ] = get_flower_client_generator(network_generator, federated_partition)  # type: ignore\n",
        "    if seed is not None:\n",
        "        random.seed(seed)\n",
        "    list_of_ids = []\n",
        "    while len(list_of_ids) < total_clients:\n",
        "        current_id = random.randint(0, 3229)\n",
        "        if (\n",
        "            real_federated_cid_client_generator(current_id).get_train_set_size()\n",
        "            > filter_less\n",
        "        ):\n",
        "            list_of_ids.append(current_id)\n",
        "    return list_of_ids"
      ]
    },
    {
      "cell_type": "markdown",
      "metadata": {
        "id": "togXum333D1L"
      },
      "source": [
        "While FEMNIST has more than 3000 clients, our small-scale experiments will not require more than 100 at any point."
      ]
    },
    {
      "cell_type": "code",
      "execution_count": 14,
      "metadata": {
        "id": "e-s7oVYNXkwf",
        "outputId": "8e4d548a-b40a-416d-acfa-9c66b74419d2",
        "colab": {
          "base_uri": "https://localhost:8080/"
        }
      },
      "outputs": [
        {
          "output_type": "stream",
          "name": "stdout",
          "text": [
            "cid:  2530\n",
            "cid:  2184\n",
            "cid:  2907\n",
            "cid:  1498\n",
            "cid:  2338\n",
            "cid:  2399\n",
            "cid:  2997\n",
            "cid:  678\n",
            "cid:  3175\n",
            "cid:  1363\n",
            "cid:  1571\n",
            "cid:  2600\n",
            "cid:  1473\n",
            "cid:  1260\n",
            "cid:  1603\n",
            "cid:  2855\n",
            "cid:  839\n",
            "cid:  3119\n",
            "cid:  2688\n",
            "cid:  1494\n",
            "cid:  447\n",
            "cid:  1742\n",
            "cid:  2601\n",
            "cid:  1633\n",
            "cid:  267\n",
            "cid:  2070\n",
            "cid:  2863\n",
            "cid:  2736\n",
            "cid:  1425\n",
            "cid:  1653\n",
            "cid:  1652\n",
            "cid:  3020\n",
            "cid:  1273\n",
            "cid:  2718\n",
            "cid:  73\n",
            "cid:  1446\n",
            "cid:  2434\n",
            "cid:  485\n",
            "cid:  1887\n",
            "cid:  1009\n",
            "cid:  701\n",
            "cid:  1285\n",
            "cid:  2782\n",
            "cid:  2828\n",
            "cid:  2476\n",
            "cid:  1872\n",
            "cid:  2471\n",
            "cid:  1084\n",
            "cid:  823\n",
            "cid:  2243\n",
            "cid:  275\n",
            "cid:  2614\n",
            "cid:  2152\n",
            "cid:  2534\n",
            "cid:  2364\n",
            "cid:  3168\n",
            "cid:  179\n",
            "cid:  295\n",
            "cid:  1668\n",
            "cid:  2674\n",
            "cid:  2538\n",
            "cid:  220\n",
            "cid:  2767\n",
            "cid:  70\n",
            "cid:  2600\n",
            "cid:  806\n",
            "cid:  807\n",
            "cid:  428\n",
            "cid:  1167\n",
            "cid:  805\n",
            "cid:  1852\n",
            "cid:  3068\n",
            "cid:  2329\n",
            "cid:  1287\n",
            "cid:  51\n",
            "cid:  2501\n",
            "cid:  1366\n",
            "cid:  1770\n",
            "cid:  2343\n",
            "cid:  937\n",
            "cid:  2251\n",
            "cid:  187\n",
            "cid:  3178\n",
            "cid:  2274\n",
            "cid:  2975\n",
            "cid:  2645\n",
            "cid:  1258\n",
            "cid:  875\n",
            "cid:  2504\n",
            "cid:  740\n",
            "cid:  2167\n",
            "cid:  2157\n",
            "cid:  2164\n",
            "cid:  757\n",
            "cid:  3175\n",
            "cid:  2714\n",
            "cid:  206\n",
            "cid:  3057\n",
            "cid:  2026\n",
            "cid:  2882\n"
          ]
        }
      ],
      "source": [
        "total_clients: int = 100\n",
        "list_of_ids = sample_random_clients(\n",
        "    total_clients, centralized_train_config[\"batch_size\"], federated_partition\n",
        ")\n",
        "\n",
        "federated_client_generator: Callable[\n",
        "    [int], FlowerRayClient\n",
        "] = get_flower_client_generator(\n",
        "    network_generator, federated_partition, lambda seq_id: list_of_ids[seq_id]\n",
        ")  # type: ignore"
      ]
    },
    {
      "cell_type": "markdown",
      "metadata": {
        "id": "BUrsR0JJwZ5R"
      },
      "source": [
        "Now, to test that the newly partitioned clients can be trained."
      ]
    },
    {
      "cell_type": "code",
      "execution_count": 15,
      "metadata": {
        "id": "1HzR2ZY7nhPm"
      },
      "outputs": [],
      "source": [
        "one_epoch_config: Dict[str, Any] = {\n",
        "    \"epochs\": 1,\n",
        "    \"batch_size\": 32,\n",
        "    \"client_learning_rate\": 0.01,\n",
        "    \"weight_decay\": 0.001,\n",
        "    \"num_workers\": 0,\n",
        "    \"max_batches\": 100,\n",
        "}\n",
        "\n",
        "test_config: Dict[str, Any] = {\n",
        "    \"batch_size\": 32,\n",
        "    \"num_workers\": 0,\n",
        "    \"max_batches\": 100,\n",
        "}"
      ]
    },
    {
      "cell_type": "code",
      "execution_count": 27,
      "metadata": {
        "id": "wyoErIaM3D1L"
      },
      "outputs": [],
      "source": [
        "num_clients = 4\n",
        "clients = random.sample(list(range(total_clients)), num_clients)"
      ]
    },
    {
      "cell_type": "code",
      "execution_count": 28,
      "metadata": {
        "id": "FC1QOYivn_PX",
        "outputId": "6d0f7c2e-6f3f-4acf-950f-7799ef558e4d",
        "colab": {
          "base_uri": "https://localhost:8080/"
        }
      },
      "outputs": [
        {
          "output_type": "stream",
          "name": "stdout",
          "text": [
            "cid:  937\n",
            "cid:  1167\n",
            "cid:  2167\n",
            "cid:  2471\n"
          ]
        }
      ],
      "source": [
        "trained_models = [\n",
        "    fit_client_seeded(\n",
        "        federated_client_generator(cid), seed_model_params, one_epoch_config\n",
        "    )\n",
        "    for cid in clients\n",
        "]"
      ]
    },
    {
      "cell_type": "code",
      "execution_count": 29,
      "metadata": {
        "id": "ATLQPQ_fm9ph",
        "outputId": "24ab4bdc-7a76-4d1a-acba-af9837c2c415",
        "colab": {
          "base_uri": "https://localhost:8080/"
        }
      },
      "outputs": [
        {
          "output_type": "stream",
          "name": "stdout",
          "text": [
            "[[8, {'train_loss': 0.12624435313045979}], [7, {'train_loss': 0.12405696724142347}], [4, {'train_loss': 0.12207966484129429}], [4, {'train_loss': 0.12672988325357437}]]\n"
          ]
        }
      ],
      "source": [
        "trained_model_parameters = [model for model, *rest in trained_models]\n",
        "trained_model_metrics = [rest for _, *rest in trained_models]\n",
        "print(trained_model_metrics)"
      ]
    },
    {
      "cell_type": "markdown",
      "metadata": {
        "id": "qgg0G0i23D1L"
      },
      "source": [
        "**Question 5 (Part II ✅ | Part III/MPhil ✅):**\n",
        "\n",
        "(You need to provide the answer with **code** for this question. Written argumentation is **strongly** recommended.)\n",
        "\n",
        "If we index the weights of an ML model consecutively, with the assumed architecture being the same, we can visualize it as a single flattened 1-D vector. One, highly imperfect, metric for determining how similar two ML models are is cosine similarity. We can use this metric to compare the models our clients produce are.\n",
        "\n",
        "1. Write functions to:\n",
        "    - Flatten the `NDArrays` objects into a single 1-D vector.\n",
        "    - Compute the cosine similarity of two 1-D vectors based on their inner product and norms.\n",
        "2. Compute a similarity matrix between all client models and plot it.\n",
        "3. What happens to the similarity matrix if you increase the number of local epochs that clients train for to 5 from 1? Why do you think that is?\n",
        ">You may want to save the parameters calculated here separately from the deault ones as both sets will be needed in future questions."
      ]
    },
    {
      "cell_type": "code",
      "source": [
        "# Question 5 Part 1 & 2\n",
        "\n",
        "import seaborn as sns\n",
        "import matplotlib.pylab as plt\n",
        "def compute_similarity(arr1, arr2):\n",
        "  arr1 = np.array([x for xs in arr1 for x in xs.flatten()])\n",
        "  arr2 = np.array([x for xs in arr2 for x in xs.flatten()])\n",
        "  return np.sum(arr1 * arr2) / (np.linalg.norm(arr1) * np.linalg.norm(arr2))\n",
        "\n",
        "def compute_similarity_matrix(arr):\n",
        "  n = len(arr)\n",
        "  matrix = np.zeros((n,n))\n",
        "  for i in range(n):\n",
        "    matrix[i][i] = 1\n",
        "    for j in range(i+1, n):\n",
        "      matrix[i][j] = matrix[j][i] = compute_similarity(arr[i], arr[j])\n",
        "  return matrix\n",
        "\n",
        "def plot_similarity_matrix(arr):\n",
        "  matrix = compute_similarity_matrix(arr)\n",
        "  print(f\"Similarity matrix:\\n{matrix}\")\n",
        "  ax = sns.heatmap(matrix, vmin = 0., vmax = 1., linewidth=0.5)\n",
        "  plt.show()\n",
        "\n",
        "plot_similarity_matrix(trained_model_parameters)"
      ],
      "metadata": {
        "id": "CEGWJbIivBcE",
        "outputId": "3a8bce97-b224-49dd-8302-8ad80eb638aa",
        "colab": {
          "base_uri": "https://localhost:8080/",
          "height": 524
        }
      },
      "execution_count": 30,
      "outputs": [
        {
          "output_type": "stream",
          "name": "stdout",
          "text": [
            "Similarity matrix:\n",
            "[[1.         0.82618874 0.84209663 0.85894257]\n",
            " [0.82618874 1.         0.86272901 0.87421739]\n",
            " [0.84209663 0.86272901 1.         0.92222655]\n",
            " [0.85894257 0.87421739 0.92222655 1.        ]]\n"
          ]
        },
        {
          "output_type": "display_data",
          "data": {
            "text/plain": [
              "<Figure size 640x480 with 2 Axes>"
            ],
            "image/png": "[encoded data removed]"
          },
          "metadata": {}
        }
      ]
    },
    {
      "cell_type": "code",
      "source": [
        "five_epochs_config: Dict[str, Any] = {\n",
        "    \"epochs\": 5,\n",
        "    \"batch_size\": 32,\n",
        "    \"client_learning_rate\": 0.01,\n",
        "    \"weight_decay\": 0.001,\n",
        "    \"num_workers\": 2,\n",
        "    \"max_batches\": 100,\n",
        "}\n",
        "trained_models_5_epochs = [\n",
        "    fit_client_seeded(\n",
        "        federated_client_generator(cid), seed_model_params, five_epochs_config\n",
        "    )\n",
        "    for cid in clients\n",
        "]\n",
        "trained_model_parameters_5_epochs = [model for model, *rest in trained_models_5_epochs]\n",
        "plot_similarity_matrix(trained_model_parameters_5_epochs)"
      ],
      "metadata": {
        "id": "ujehMk7mvEQO",
        "outputId": "766db194-d7fb-4b34-a04c-f1e2ecf7c343",
        "colab": {
          "base_uri": "https://localhost:8080/",
          "height": 594
        }
      },
      "execution_count": 31,
      "outputs": [
        {
          "output_type": "stream",
          "name": "stdout",
          "text": [
            "cid:  937\n",
            "cid:  1167\n",
            "cid:  2167\n",
            "cid:  2471\n",
            "Similarity matrix:\n",
            "[[1.         0.63087285 0.66132742 0.6738463 ]\n",
            " [0.63087285 1.         0.69200444 0.68002325]\n",
            " [0.66132742 0.69200444 1.         0.76011479]\n",
            " [0.6738463  0.68002325 0.76011479 1.        ]]\n"
          ]
        },
        {
          "output_type": "display_data",
          "data": {
            "text/plain": [
              "<Figure size 640x480 with 2 Axes>"
            ],
            "image/png": "[encoded data removed]"
          },
          "metadata": {}
        }
      ]
    },
    {
      "cell_type": "markdown",
      "source": [
        "Question 5\n",
        "\n",
        "3. We note that when trained for 5 epochs, the values in the similarity matrix decrease indicating the models diverge, due to different and even not iid sets of data on the different clients, such that when we do not periodically aggregate the updates from all client models, the longer these clients are trained for, the more these local models diverge."
      ],
      "metadata": {
        "id": "APuAk3iyvIrp"
      }
    },
    {
      "cell_type": "markdown",
      "metadata": {
        "id": "CwWkQ6iixhDh"
      },
      "source": [
        "**Question 6 (Part III/MPhil ✅):**\n",
        "\n",
        "(You need to provide the answer with **code** for this question. Written argumentation is **strongly** recommended.)\n",
        "\n",
        "One reason that cosine similarity is an imperfect metric is because it considers weights from different layers to be equally important to the model in terms of its behavior and performance. We can thus create a slightly more detailed picture by tracking the cosine similarity across layers.\n",
        "\n",
        "1. Create a function which computes the pairwise cosine similarity between flattened model layers across clients, i.e. the cosine similarity between the flattened $l_i$ in `client_x` and the flattened $l_i$ in `client_y`.\n",
        "2. Plot the similarity of the models at each layer between the most similar client pair and the most disimilar client pair (as determined by the multi-epoch experiment) using the **one-epoch models**, how do the curves you observe relate to the general cosine similarity you computed for the flattened models.\n",
        "3. What happens to the curves if you increase the number of local epochs to 5? How does this behavior relate to what you observed in the previous exercise ?\n",
        "4. **Optional**: Do you think there is any connection to the underlying architecture? Why? Repeat the above experiments using an MLP such as the one provided by the  `get_network_generator_mlp` in `client_utils` and compare results against the CNN."
      ]
    },
    {
      "cell_type": "code",
      "source": [
        "# Question 6 Part 1 & 2\n",
        "\n",
        "def compute_similarity_layer(layer1, layer2):\n",
        "  layer1 = layer1.flatten()\n",
        "  layer2 = layer2.flatten()\n",
        "  return np.sum(layer1 * layer2) / (np.linalg.norm(layer1) * np.linalg.norm(layer2))\n",
        "\n",
        "def plot_similarity_layers(model_pairs, titles):\n",
        "\n",
        "  num_layers = len(model_pairs[0][0])\n",
        "\n",
        "  for model_pair, title in zip(model_pairs, titles[1:]):\n",
        "    pair_scores = [compute_similarity_layer(layer1, layer2) for (layer1, layer2) in zip(model_pair[0], model_pair[1])]\n",
        "\n",
        "    plt.plot(np.arange(num_layers), pair_scores, label=title)\n",
        "\n",
        "  plt.title(titles[0])\n",
        "\n",
        "  plt.xlabel('Layer number')\n",
        "  plt.ylabel('Cosine score')\n",
        "  plt.legend()\n",
        "  plt.show()\n",
        "\n",
        "model_pairs = [(trained_model_parameters[2], trained_model_parameters[3]), (trained_model_parameters[0], trained_model_parameters[1])]\n",
        "\n",
        "plot_similarity_layers(model_pairs,[\"Similarity score of 1 epoch models\", \"Most similar client pair\", \"Most dissimilar client pair\"])"
      ],
      "metadata": {
        "id": "vSUc5sbbvKt6",
        "outputId": "05c94582-0cc0-4218-f4dd-1a4fcfa0410d",
        "colab": {
          "base_uri": "https://localhost:8080/",
          "height": 472
        }
      },
      "execution_count": 42,
      "outputs": [
        {
          "output_type": "display_data",
          "data": {
            "text/plain": [
              "<Figure size 640x480 with 1 Axes>"
            ],
            "image/png": "[encoded data removed]"
          },
          "metadata": {}
        }
      ]
    },
    {
      "cell_type": "code",
      "source": [
        "model_pairs = [\n",
        "    (trained_model_parameters[2], trained_model_parameters[3]),\n",
        "     (trained_model_parameters[0], trained_model_parameters[1]),\n",
        "      (trained_model_parameters_5_epochs[2], trained_model_parameters_5_epochs[3]),\n",
        "       (trained_model_parameters_5_epochs[0], trained_model_parameters_5_epochs[1])\n",
        "]\n",
        "\n",
        "plot_similarity_layers(model_pairs,[\"Similarity scores\", \"Most similar client pair 1 epoch\", \"Most dissimilar client pair 1 epoch\",  \"Most similar client pair 5 epochs\", \"Most dissimilar client pair 5 epochs\"])"
      ],
      "metadata": {
        "id": "_sYzKnKnvLii",
        "outputId": "9a4d1735-7056-436a-a066-7a9f55fa8059",
        "colab": {
          "base_uri": "https://localhost:8080/",
          "height": 472
        }
      },
      "execution_count": 43,
      "outputs": [
        {
          "output_type": "display_data",
          "data": {
            "text/plain": [
              "<Figure size 640x480 with 1 Axes>"
            ],
            "image/png": "[encoded data removed]"
          },
          "metadata": {}
        }
      ]
    },
    {
      "cell_type": "markdown",
      "source": [
        "Question 6\n",
        "\n",
        "3. When we increase the number to 5 epochs, we notice that the curves have similar shape as the 1 epoch curves but with much more sharper drops indicating more dissimilar layers. This coincides with the observations previously on the flattened model parameters except that the amount each layer diverges depends on the layer."
      ],
      "metadata": {
        "id": "eTN7hCwpvO-h"
      }
    },
    {
      "cell_type": "markdown",
      "metadata": {
        "id": "ifI1FmOywjqL"
      },
      "source": [
        "# 7. Federated training with Flower"
      ]
    },
    {
      "cell_type": "markdown",
      "metadata": {
        "id": "pfDcWWoc2B5q"
      },
      "source": [
        "The two basic blocks of synchronous server-client FL systems are:\n",
        "- A client with some local training method and data---i.e., SGD. This is what we have built thus far.\n",
        "- A server which coordinates training sends the federated model to clients at the start of each round and aggregates model updates at the end of each round."
      ]
    },
    {
      "cell_type": "markdown",
      "metadata": {
        "id": "Fk9W7CTgoUxS"
      },
      "source": [
        "\n",
        "![picture](https://drive.google.com/uc?id=1Db_Uys2QPFHW6cMranZ_QXo2vC0A_C-N)"
      ]
    },
    {
      "cell_type": "markdown",
      "metadata": {
        "id": "Wdcfcz_e2B5q"
      },
      "source": [
        "While the variety of client local training methods is as wide as ML, server training varies depending on which **aggregation algorithm** combines the model updates and forms the new federated model. Flower refers to the component that controls the aggregation and train/test configuration as a **strategy**. For our labs, strategy and aggregation algorithms will be used interchangeably.\n",
        "\n",
        "The strategy we shall use is [FedAvg](https://arxiv.org/abs/1602.05629):\n",
        "\n",
        "$G^{r+1} = G^{r} + \\eta \\left( \\sum_{k=1}^{m} p_k G^r_k \\right)$,\n",
        "\n",
        "where $G^{r+1}$ is the model for the next round, which is formed by applying a model update to the current round model $G^{r}$ weighted by the aggregation learning rate $\\eta$. The model update is constructed by a sum of client models $G^{r}_k$ where each client model is weighted by $p_k$. The weight factor is usually set to $p_k = \\tfrac{n_k}{N}$---the number of training examples held by said client divided by the example count of each client in the round $N = \\sum_{k=1}^{m} n_k$.\n",
        "\n"
      ]
    },
    {
      "cell_type": "markdown",
      "metadata": {
        "id": "7unJaupF-IaB"
      },
      "source": [
        "**Question 7 (Part II ✅ | Part III/MPhil ✅):**\n",
        "\n",
        "(You need to provide the answer with **code** for this question. Written argumentation is **strongly** recommended.)\n",
        "\n",
        "Averaging models is meant to provide us with a reasonable compromise between the desired models of all clients involved. Given what you already know about the similarity of client models, we can test if this is true.\n",
        "1. Write a function to compute the weighted average of two `NDArrays` objects while preserving the layer-structure. Use the FedAvg equation above with $p_k = \\tfrac{n_k}{N}$.\n",
        "2. Compute the average model of the client models above, both the one-epoch and multi-epoch ones.\n",
        "3. Add the averaged models to the cosine-similarity matrices built above, how does it relate to the client models?"
      ]
    },
    {
      "cell_type": "code",
      "source": [
        "# Question 7 Part 1 & 2\n",
        "from copy import deepcopy\n",
        "\n",
        "def compute_weighted_average(models, weights):\n",
        "  weights /= np.sum(weights)\n",
        "\n",
        "  model = deepcopy(models[0])\n",
        "\n",
        "  for i in range(len(model)):\n",
        "    model[i] *= weights[0]\n",
        "\n",
        "  for i in range(1,len(models)):\n",
        "    for j in range(len(model)):\n",
        "      model[j] += models[i][j] * weights[i]\n",
        "\n",
        "  return model\n",
        "\n",
        "average_1_epoch = compute_weighted_average(trained_model_parameters, [1 for _ in range(len(trained_model_parameters))])\n",
        "average_5_epoch = compute_weighted_average(trained_model_parameters_5_epochs, [1 for _ in range(len(trained_model_parameters_5_epochs))])\n",
        "\n",
        "plot_similarity_matrix(trained_model_parameters + [average_1_epoch])"
      ],
      "metadata": {
        "id": "5qNltFFBAld4",
        "outputId": "e2128554-1e39-42fa-8175-ed54c2466c57",
        "colab": {
          "base_uri": "https://localhost:8080/",
          "height": 541
        }
      },
      "execution_count": 38,
      "outputs": [
        {
          "output_type": "stream",
          "name": "stdout",
          "text": [
            "Similarity matrix:\n",
            "[[1.         0.82618874 0.84209663 0.85894257 0.93256283]\n",
            " [0.82618874 1.         0.86272901 0.87421739 0.93979686]\n",
            " [0.84209663 0.86272901 1.         0.92222655 0.95563412]\n",
            " [0.85894257 0.87421739 0.92222655 1.         0.96307397]\n",
            " [0.93256283 0.93979686 0.95563412 0.96307397 1.        ]]\n"
          ]
        },
        {
          "output_type": "display_data",
          "data": {
            "text/plain": [
              "<Figure size 640x480 with 2 Axes>"
            ],
            "image/png": "[encoded data removed]"
          },
          "metadata": {}
        }
      ]
    },
    {
      "cell_type": "code",
      "source": [
        "plot_similarity_matrix(trained_model_parameters_5_epochs + [average_5_epoch])"
      ],
      "metadata": {
        "id": "KTFr5-5uBZx3",
        "outputId": "16ffdc17-257f-40a6-8c81-15b2a134ac0a",
        "colab": {
          "base_uri": "https://localhost:8080/",
          "height": 541
        }
      },
      "execution_count": 39,
      "outputs": [
        {
          "output_type": "stream",
          "name": "stdout",
          "text": [
            "Similarity matrix:\n",
            "[[1.         0.63087285 0.66132742 0.6738463  0.85815614]\n",
            " [0.63087285 1.         0.69200444 0.68002325 0.86073554]\n",
            " [0.66132742 0.69200444 1.         0.76011479 0.88633853]\n",
            " [0.6738463  0.68002325 0.76011479 1.         0.88645184]\n",
            " [0.85815614 0.86073554 0.88633853 0.88645184 1.        ]]\n"
          ]
        },
        {
          "output_type": "display_data",
          "data": {
            "text/plain": [
              "<Figure size 640x480 with 2 Axes>"
            ],
            "image/png": "[encoded data removed]"
          },
          "metadata": {}
        }
      ]
    },
    {
      "cell_type": "markdown",
      "source": [
        "Question 7\n",
        "\n",
        "3. We see that for both the 1-epoch and 5-epoch experiments, for each of the local client model, the model that has the highest cosine similarity to it (apart from itself) is the average model. This shows that the average model serves as a global approximation of all the local client models and in theory models the average of the behaviour of all local client models."
      ],
      "metadata": {
        "id": "peaWt8BBBeBb"
      }
    },
    {
      "cell_type": "markdown",
      "metadata": {
        "id": "RHlT2igu-IaB"
      },
      "source": [
        "**Question 8 (Part III/MPhil ✅):**\n",
        "\n",
        "(You need to provide the answer with **code** for this question. Written argumentation is **strongly** recommended.)\n",
        "\n",
        "\n",
        "1. Repeat the procedure above but for layer-wise cosine similarity and plot the cosine similarity of the two clients client most similar and most disimillar to the averaged model (as determined by the five-epoch condition) using the one-epoch models.\n",
        "2. How does the relationship change for the higher-epoch condition?"
      ]
    },
    {
      "cell_type": "markdown",
      "source": [
        "Question 8\n",
        "\n",
        "1. I am unsure what \"Repeat the procedure above but for layer-wise cosine similarity\" exactly means but in order to plot a similarity matrix for layer-wise cosine similarity, each entry in the similarity matrix will be computed by multiplying the layer-wise cosine similarity of each layer for the two corresponding models."
      ],
      "metadata": {
        "id": "Tyz_NeySB2NJ"
      }
    },
    {
      "cell_type": "code",
      "source": [
        "def compute_similarity_layer(arr1, arr2):\n",
        "  return np.sum(arr1 * arr2) / (np.linalg.norm(arr1) * np.linalg.norm(arr2))\n",
        "\n",
        "def compute_similarity_matrix_layer(arr):\n",
        "  n = len(arr)\n",
        "  matrix = np.zeros((n,n))\n",
        "  for i in range(n):\n",
        "    matrix[i][i] = 1\n",
        "    for j in range(i+1, n):\n",
        "      similarity = 1\n",
        "      for layer_idx in range(len(arr[i])):\n",
        "        similarity *= compute_similarity_layer(arr[i][layer_idx], arr[j][layer_idx])\n",
        "      matrix[i][j] = matrix[j][i] = similarity\n",
        "  return matrix\n",
        "\n",
        "def plot_similarity_matrix_layer(arr):\n",
        "  matrix = compute_similarity_matrix_layer(arr)\n",
        "  print(f\"Similarity matrix:\\n{matrix}\")\n",
        "  ax = sns.heatmap(matrix, vmin = 0., vmax = 1., linewidth=0.5)\n",
        "  plt.show()\n",
        "\n",
        "plot_similarity_matrix_layer(trained_model_parameters_5_epochs + [average_5_epoch])"
      ],
      "metadata": {
        "id": "IjVQmwCJCU3t",
        "outputId": "510fed1e-c3cc-4c9e-b430-d9dadc60da2b",
        "colab": {
          "base_uri": "https://localhost:8080/",
          "height": 541
        }
      },
      "execution_count": 40,
      "outputs": [
        {
          "output_type": "stream",
          "name": "stdout",
          "text": [
            "Similarity matrix:\n",
            "[[1.         0.02750659 0.03258667 0.04699711 0.31623073]\n",
            " [0.02750659 1.         0.02678584 0.02491059 0.26091906]\n",
            " [0.03258667 0.02678584 1.         0.13503276 0.35652186]\n",
            " [0.04699711 0.02491059 0.13503276 1.         0.3747573 ]\n",
            " [0.31623073 0.26091906 0.35652186 0.3747573  1.        ]]\n"
          ]
        },
        {
          "output_type": "display_data",
          "data": {
            "text/plain": [
              "<Figure size 640x480 with 2 Axes>"
            ],
            "image/png": "[encoded data removed]"
          },
          "metadata": {}
        }
      ]
    },
    {
      "cell_type": "markdown",
      "source": [
        "Fortunately, due to observations in previous questions where layer-wise cosine similarity corresponds to the overall cosine similarity, we observe that the client models most similar and most dissimilar to the average model found using overall cosine similarity or layer-wise cosine similarity are the same. We then plot the layer-wise cosine similarity graph using the two found pairs."
      ],
      "metadata": {
        "id": "2S5lR7SmCtr1"
      }
    },
    {
      "cell_type": "code",
      "source": [
        "model_pairs = [(trained_model_parameters[2], trained_model_parameters[3]), (trained_model_parameters[0], trained_model_parameters[1])]\n",
        "\n",
        "plot_similarity_layers(model_pairs,[\"Similarity score of 1 epoch models\", \"Pair most similar to average\", \"Pair most dissimilar to average\"])"
      ],
      "metadata": {
        "id": "dVcaF-i0DBd6",
        "outputId": "6103af50-52e5-4c33-c6bf-b31247f1898b",
        "colab": {
          "base_uri": "https://localhost:8080/",
          "height": 472
        }
      },
      "execution_count": 41,
      "outputs": [
        {
          "output_type": "display_data",
          "data": {
            "text/plain": [
              "<Figure size 640x480 with 1 Axes>"
            ],
            "image/png": "[encoded data removed]"
          },
          "metadata": {}
        }
      ]
    },
    {
      "cell_type": "markdown",
      "source": [
        "Interestingly, these two pairs are the same as the previously found most similar pair and most dissimilar pair. This suggests that the client models similar to the average models are the ones that diverge less, perhaps because the distribution of data they are trained on is more similar to the global distribution.\n",
        "\n",
        "2. If we then look at the similarity score of 5 epoch models:"
      ],
      "metadata": {
        "id": "Zct0L7pSDrmw"
      }
    },
    {
      "cell_type": "code",
      "source": [
        "model_pairs = [(trained_model_parameters_5_epochs[2], trained_model_parameters_5_epochs[3]), (trained_model_parameters_5_epochs[0], trained_model_parameters_5_epochs[1])]\n",
        "\n",
        "plot_similarity_layers(model_pairs,[\"Similarity score of 5 epoch models\", \"Pair most similar to average\", \"Pair most dissimilar to average\"])"
      ],
      "metadata": {
        "id": "lL41BzY7EgRI",
        "outputId": "bb5e8eca-6020-4135-9049-c92b424571dc",
        "colab": {
          "base_uri": "https://localhost:8080/",
          "height": 472
        }
      },
      "execution_count": 45,
      "outputs": [
        {
          "output_type": "display_data",
          "data": {
            "text/plain": [
              "<Figure size 640x480 with 1 Axes>"
            ],
            "image/png": "[encoded data removed]"
          },
          "metadata": {}
        }
      ]
    },
    {
      "cell_type": "markdown",
      "source": [
        "The relationship between the two pairs is similar to above, perhaps the biggest difference being the shapes of the two graphs becoming more similar where the dissimilar pair graph has sharper peaks and valleys. This shows that as training goes on and the local models converge, the layers where the models diverge become more and more similar, supporting the hypothesis that different layers have different importance (and hence diverge in different degrees)."
      ],
      "metadata": {
        "id": "qxF-XA3MEk9k"
      }
    },
    {
      "cell_type": "markdown",
      "metadata": {
        "id": "cxsFjUN03D1M"
      },
      "source": [
        "The pieces necessary for starting an FL simulation are now in play; we need to arrange them to fit the Flower API. First, we shall require a separate federated evaluation function which can be called outside the context of a specific client. It will use the centralised test set to be as simple as possible."
      ]
    },
    {
      "cell_type": "code",
      "execution_count": 46,
      "metadata": {
        "id": "OO7CqzaE3D1M"
      },
      "outputs": [],
      "source": [
        "def get_federated_evaluation_function(\n",
        "    batch_size: int,\n",
        "    num_workers: int,\n",
        "    model_generator: Callable[[], Module],\n",
        "    criterion: Module,\n",
        "    max_batches: int,\n",
        ") -> Callable[[int, NDArrays, Dict[str, Any]], Tuple[float, Dict[str, Scalar]]]:\n",
        "    \"\"\"Wrapper function for the external federated evaluation function.\n",
        "    It provides the external federated evaluation function with some\n",
        "    parameters for the dataloader, the model generator function, and\n",
        "    the criterion used in the evaluation.\n",
        "\n",
        "    Args:\n",
        "        batch_size (int): batch size of the test set to use.\n",
        "        num_workers (int): correspond to `num_workers` param in the Dataloader object.\n",
        "        model_generator (Callable[[], Module]):  model generator function.\n",
        "        criterion (Module): PyTorch Module containing the criterion for evaluating the model.\n",
        "\n",
        "    Returns\n",
        "    -------\n",
        "        Callable[[int, NDArrays, Dict[str, Any]], Tuple[float, Dict[str, Scalar]]]: external federated evaluation function.\n",
        "    \"\"\"\n",
        "\n",
        "    def federated_evaluation_function(\n",
        "        server_round: int,\n",
        "        parameters: NDArrays,\n",
        "        fed_eval_config: Dict[\n",
        "            str, Any\n",
        "        ],  # mandatory argument, even if it's not being used\n",
        "    ) -> Tuple[float, Dict[str, Scalar]]:\n",
        "        \"\"\"Evaluation function external to the federation.\n",
        "        It uses the centralized val set for sake of simplicity.\n",
        "\n",
        "        Args:\n",
        "            server_round (int): current federated round.\n",
        "            parameters (NDArrays): current model parameters.\n",
        "            fed_eval_config (Dict[str, Any]): mandatory argument in Flower, can contain some configuration info\n",
        "\n",
        "        Returns\n",
        "        -------\n",
        "            Tuple[float, Dict[str, Scalar]]: evaluation results\n",
        "        \"\"\"\n",
        "        device: str = get_device()\n",
        "        net: Module = set_model_parameters(model_generator(), parameters)\n",
        "        net.to(device)\n",
        "\n",
        "        full_file: Path = centralized_mapping\n",
        "        dataset: Dataset = load_FEMNIST_dataset(data_dir, full_file, \"val\")\n",
        "\n",
        "        valid_loader = DataLoader(\n",
        "            dataset=dataset,\n",
        "            batch_size=batch_size,\n",
        "            shuffle=False,\n",
        "            num_workers=num_workers,\n",
        "            drop_last=False,\n",
        "        )\n",
        "\n",
        "        loss, acc = test_FEMNIST(\n",
        "            net=net,\n",
        "            test_loader=valid_loader,\n",
        "            device=device,\n",
        "            criterion=criterion,\n",
        "            max_batches=max_batches,\n",
        "        )\n",
        "        return loss, {\"accuracy\": acc}\n",
        "\n",
        "    return federated_evaluation_function\n",
        "\n",
        "\n",
        "federated_evaluation_function = get_federated_evaluation_function(\n",
        "    batch_size=test_config[\"batch_size\"],\n",
        "    num_workers=test_config[\"num_workers\"],\n",
        "    model_generator=network_generator,\n",
        "    criterion=nn.CrossEntropyLoss(),\n",
        "    max_batches=test_config[\"max_batches\"],\n",
        ")"
      ]
    },
    {
      "cell_type": "code",
      "execution_count": 47,
      "metadata": {
        "id": "7D1cEkrB2B5r"
      },
      "outputs": [],
      "source": [
        "def aggregate_weighted_average(metrics: List[Tuple[int, dict]]) -> dict:\n",
        "    \"\"\"Generic function to combine results from multiple clients\n",
        "    following training or evaluation.\n",
        "\n",
        "    Args:\n",
        "        metrics (List[Tuple[int, dict]]): collected clients metrics\n",
        "\n",
        "    Returns\n",
        "    -------\n",
        "        dict: result dictionary containing the aggregate of the metrics passed.\n",
        "    \"\"\"\n",
        "    average_dict: dict = defaultdict(list)\n",
        "    total_examples: int = 0\n",
        "    for num_examples, metrics_dict in metrics:\n",
        "        for key, val in metrics_dict.items():\n",
        "            if isinstance(val, numbers.Number):\n",
        "                average_dict[key].append((num_examples, val))  # type:ignore\n",
        "        total_examples += num_examples\n",
        "    return {\n",
        "        key: {\n",
        "            \"avg\": float(\n",
        "                sum([num_examples * metr for num_examples, metr in val])\n",
        "                / float(total_examples)\n",
        "            ),\n",
        "            \"all\": val,\n",
        "        }\n",
        "        for key, val in average_dict.items()\n",
        "    }"
      ]
    },
    {
      "cell_type": "code",
      "execution_count": 48,
      "metadata": {
        "id": "-sxyPBQ0zSoD"
      },
      "outputs": [],
      "source": [
        "# Federated configuration dictionary\n",
        "federated_train_config: Dict[str, Any] = {\n",
        "    \"epochs\": 5,\n",
        "    \"batch_size\": 32,\n",
        "    \"client_learning_rate\": 0.01,\n",
        "    \"weight_decay\": 0.001,\n",
        "    \"num_workers\": 0,\n",
        "    \"max_batches\": 100,\n",
        "}"
      ]
    },
    {
      "cell_type": "markdown",
      "metadata": {
        "id": "JNLIfqk0xhDj"
      },
      "source": [
        "The only challenge left is the FL simulation itself. In `Flower`, a `Server` object handles this for us by using `Ray` and spawning many heavyweight worker process.\n",
        "\n",
        "Given the limited-resource scenario in which we find ourselves, we provide you with a slightly modified simulation function which uses a simple thread pool. Feel free to swap it out for the original simulation or replace it with your own implementation if so inclined.\n",
        "\n",
        "> The server we use is not the default `Flower` server as it returns the model parameters from every single round in a `(round, NDArrays)` tuple."
      ]
    },
    {
      "cell_type": "code",
      "execution_count": 49,
      "metadata": {
        "id": "1Fs5gtK-3D1M"
      },
      "outputs": [],
      "source": [
        "def save_history(hist: History, name: str):\n",
        "    time = int(datetime.now(timezone.utc).timestamp())\n",
        "    path = home_dir / \"histories\"\n",
        "    path.mkdir(exist_ok=True)\n",
        "    path = path / f\"hist_{time}_{name}.json\"\n",
        "    with open(path, \"w\", encoding=\"utf-8\") as f:\n",
        "        json.dump(hist.__dict__, f, ensure_ascii=False, indent=4, default=convert)\n",
        "\n",
        "\n",
        "def start_seeded_simulation(\n",
        "    client_fn: Callable[[int], Client],\n",
        "    num_clients: int,\n",
        "    config: ServerConfig,\n",
        "    strategy: Strategy,\n",
        "    name: str,\n",
        "    return_all_parameters: bool = False,\n",
        "    seed: int = Seeds.DEFAULT,\n",
        "    iteration: int = 0,\n",
        ") -> Tuple[List[Tuple[int, NDArrays]], History]:\n",
        "    \"\"\"Wrapper to always seed client selection.\"\"\"\n",
        "    np.random.seed(seed ^ iteration)\n",
        "    torch.manual_seed(seed ^ iteration)\n",
        "    random.seed(seed ^ iteration)\n",
        "    parameter_list, hist = fl.simulation.start_simulation_no_ray(\n",
        "        client_fn=client_fn,\n",
        "        num_clients=num_clients,\n",
        "        client_resources={},\n",
        "        config=config,\n",
        "        strategy=strategy,\n",
        "    )\n",
        "    save_history(hist, name)\n",
        "    return parameter_list, hist"
      ]
    },
    {
      "cell_type": "code",
      "execution_count": 53,
      "metadata": {
        "id": "JkqplxMXLm8K"
      },
      "outputs": [],
      "source": [
        "num_rounds = 10\n",
        "\n",
        "num_total_clients = 20\n",
        "\n",
        "num_evaluate_clients = 0\n",
        "num_clients_per_round = 5\n",
        "\n",
        "\n",
        "def run_simulation(\n",
        "    # How long the FL process runs for:\n",
        "    num_rounds: int = num_rounds,\n",
        "    # Number of clients available\n",
        "    num_total_clients: int = num_total_clients,\n",
        "    # Number of clients used for train/eval\n",
        "    num_clients_per_round: int = num_clients_per_round,\n",
        "    num_evaluate_clients: int = num_evaluate_clients,\n",
        "    # If less clients are overall available stop FL\n",
        "    min_available_clients: int = num_total_clients,\n",
        "    # If less clients are available for fit/eval stop FL\n",
        "    min_fit_clients: int = num_clients_per_round,\n",
        "    min_evaluate_clients: int = num_evaluate_clients,\n",
        "    # Function to test the federated model performance\n",
        "    # external to a client instantiation\n",
        "    evaluate_fn=federated_evaluation_function,\n",
        "    # Functions to generate a config for client fit/evaluate\n",
        "    # by-default the same config is shallow-copied to all clients in Flower\n",
        "    # this version simply uses the configs defined above\n",
        "    on_fit_config_fn: Callable[\n",
        "        [int], Dict[str, Scalar]\n",
        "    ] = lambda cid: federated_train_config,\n",
        "    on_evaluate_config_fn: Callable[[int], Dict[str, Scalar]] = lambda cid: test_config,\n",
        "    # The \"Parameters\" type is merely a more packed version\n",
        "    # of numpy array lists, used internally by Flower\n",
        "    initial_parameters: Parameters = ndarrays_to_parameters(seed_model_params),\n",
        "    # If this is set to True, aggregation will work even if some clients fail\n",
        "    accept_failures: bool = False,\n",
        "    # How to combine the metrics dictionary returned by all clients for fit/eval\n",
        "    fit_metrics_aggregation_fn: Callable | None = aggregate_weighted_average,\n",
        "    evaluate_metrics_aggregation_fn: Callable | None = aggregate_weighted_average,\n",
        "    federated_client_generator: Callable[\n",
        "        [int], fl.client.NumPyClient\n",
        "    ] = federated_client_generator,\n",
        "    # Aggregation learning rate for FedAvg\n",
        "    server_learning_rate: float = 1.0,\n",
        "    server_momentum: float = 0.0,\n",
        ") -> Tuple[List[Tuple[int, NDArrays]], History]:\n",
        "    print(num_rounds)\n",
        "\n",
        "    # Percentage of clients used for train/eval\n",
        "    fraction_fit: float = float(num_clients_per_round) / num_total_clients\n",
        "    fraction_evaluate: float = float(num_evaluate_clients) / num_total_clients\n",
        "\n",
        "    strategy = FedAvg(\n",
        "        fraction_fit=fraction_fit,\n",
        "        fraction_evaluate=fraction_evaluate,\n",
        "        min_fit_clients=num_clients_per_round,\n",
        "        min_evaluate_clients=num_evaluate_clients,\n",
        "        min_available_clients=num_total_clients,\n",
        "        on_fit_config_fn=on_fit_config_fn,\n",
        "        on_evaluate_config_fn=on_evaluate_config_fn,\n",
        "        evaluate_fn=evaluate_fn,\n",
        "        initial_parameters=initial_parameters,\n",
        "        accept_failures=accept_failures,\n",
        "        fit_metrics_aggregation_fn=fit_metrics_aggregation_fn,\n",
        "        evaluate_metrics_aggregation_fn=evaluate_metrics_aggregation_fn,\n",
        "        server_learning_rate=server_learning_rate,\n",
        "        server_momentum=server_momentum,\n",
        "    )\n",
        "    # resetting the seed for the random selection of clients\n",
        "    # this way the list of clients trained is guaranteed to be always the same\n",
        "\n",
        "    cfg = ServerConfig(num_rounds)\n",
        "\n",
        "    simulator_client_generator = lambda cid: federated_client_generator(cid).to_client()\n",
        "\n",
        "    parameters_for_each_round, hist = start_seeded_simulation(\n",
        "        client_fn=simulator_client_generator,\n",
        "        num_clients=num_total_clients,\n",
        "        config=cfg,\n",
        "        strategy=strategy,\n",
        "        name=\"fedavg\",\n",
        "        return_all_parameters=True,\n",
        "        seed=Seeds.DEFAULT,\n",
        "    )\n",
        "    return parameters_for_each_round, hist"
      ]
    },
    {
      "cell_type": "code",
      "execution_count": 51,
      "metadata": {
        "id": "i4HpswKXbDup",
        "outputId": "e5570c6b-4f59-42c3-f7cd-82fbc9a03c88",
        "colab": {
          "base_uri": "https://localhost:8080/"
        }
      },
      "outputs": [
        {
          "output_type": "stream",
          "name": "stderr",
          "text": [
            "INFO flwr 2024-02-03 17:49:49,815 | app.py:149 | Starting Flower simulation, config: ServerConfig(num_rounds=10, round_timeout=None)\n",
            "INFO:flwr:Starting Flower simulation, config: ServerConfig(num_rounds=10, round_timeout=None)\n",
            "INFO flwr 2024-02-03 17:49:49,838 | server_returns_parameters.py:81 | Initializing global parameters\n",
            "INFO:flwr:Initializing global parameters\n",
            "INFO flwr 2024-02-03 17:49:49,842 | server_returns_parameters.py:273 | Using initial parameters provided by strategy\n",
            "INFO:flwr:Using initial parameters provided by strategy\n",
            "INFO flwr 2024-02-03 17:49:49,857 | server_returns_parameters.py:84 | Evaluating initial parameters\n",
            "INFO:flwr:Evaluating initial parameters\n"
          ]
        },
        {
          "output_type": "stream",
          "name": "stdout",
          "text": [
            "10\n"
          ]
        },
        {
          "output_type": "stream",
          "name": "stderr",
          "text": [
            " 11%|█         | 100/891 [00:04<00:32, 24.47it/s]\n",
            "INFO flwr 2024-02-03 17:49:54,124 | server_returns_parameters.py:87 | initial parameters (loss, other metrics): 413.6842646598816, {'accuracy': 0.0065625}\n",
            "INFO:flwr:initial parameters (loss, other metrics): 413.6842646598816, {'accuracy': 0.0065625}\n",
            "INFO flwr 2024-02-03 17:49:54,135 | server_returns_parameters.py:97 | FL starting\n",
            "INFO:flwr:FL starting\n",
            "DEBUG flwr 2024-02-03 17:49:54,146 | server_returns_parameters.py:223 | fit_round 1: strategy sampled 5 clients (out of 20)\n",
            "DEBUG:flwr:fit_round 1: strategy sampled 5 clients (out of 20)\n"
          ]
        },
        {
          "output_type": "stream",
          "name": "stdout",
          "text": [
            "cid:  1494\n",
            "cid:  3119\n",
            "cid: cid:  2399\n",
            " 2600\n",
            "cid:  1571\n"
          ]
        },
        {
          "output_type": "stream",
          "name": "stderr",
          "text": [
            "DEBUG flwr 2024-02-03 17:49:57,384 | server_returns_parameters.py:237 | fit_round 1 received 5 results and 0 failures\n",
            "DEBUG:flwr:fit_round 1 received 5 results and 0 failures\n",
            " 11%|█         | 100/891 [00:01<00:12, 61.51it/s]\n",
            "INFO flwr 2024-02-03 17:49:59,067 | server_returns_parameters.py:120 | fit progress: (1, 355.14386439323425, {'accuracy': 0.069375}, 4.922572542000125)\n",
            "INFO:flwr:fit progress: (1, 355.14386439323425, {'accuracy': 0.069375}, 4.922572542000125)\n",
            "INFO flwr 2024-02-03 17:49:59,072 | server_returns_parameters.py:171 | evaluate_round 1: no clients selected, cancel\n",
            "INFO:flwr:evaluate_round 1: no clients selected, cancel\n",
            "DEBUG flwr 2024-02-03 17:49:59,076 | server_returns_parameters.py:223 | fit_round 2: strategy sampled 5 clients (out of 20)\n",
            "DEBUG:flwr:fit_round 2: strategy sampled 5 clients (out of 20)\n"
          ]
        },
        {
          "output_type": "stream",
          "name": "stdout",
          "text": [
            "cid:  1473\n",
            "cid:  2600\n",
            "cid:  1363\n",
            "cid:  1494\n",
            "cid:  2997\n"
          ]
        },
        {
          "output_type": "stream",
          "name": "stderr",
          "text": [
            "DEBUG flwr 2024-02-03 17:50:02,182 | server_returns_parameters.py:237 | fit_round 2 received 5 results and 0 failures\n",
            "DEBUG:flwr:fit_round 2 received 5 results and 0 failures\n",
            " 11%|█         | 100/891 [00:02<00:18, 42.93it/s]\n",
            "INFO flwr 2024-02-03 17:50:04,602 | server_returns_parameters.py:120 | fit progress: (2, 341.74300384521484, {'accuracy': 0.0709375}, 10.457783503999963)\n",
            "INFO:flwr:fit progress: (2, 341.74300384521484, {'accuracy': 0.0709375}, 10.457783503999963)\n",
            "INFO flwr 2024-02-03 17:50:04,609 | server_returns_parameters.py:171 | evaluate_round 2: no clients selected, cancel\n",
            "INFO:flwr:evaluate_round 2: no clients selected, cancel\n",
            "DEBUG flwr 2024-02-03 17:50:04,617 | server_returns_parameters.py:223 | fit_round 3: strategy sampled 5 clients (out of 20)\n",
            "DEBUG:flwr:fit_round 3: strategy sampled 5 clients (out of 20)\n"
          ]
        },
        {
          "output_type": "stream",
          "name": "stdout",
          "text": [
            "cid:  2600\n",
            "cid:  1498\n",
            "cid:  1260\n",
            "cid:  1473\n",
            "cid:  2907\n"
          ]
        },
        {
          "output_type": "stream",
          "name": "stderr",
          "text": [
            "DEBUG flwr 2024-02-03 17:50:08,036 | server_returns_parameters.py:237 | fit_round 3 received 5 results and 0 failures\n",
            "DEBUG:flwr:fit_round 3 received 5 results and 0 failures\n",
            " 11%|█         | 100/891 [00:01<00:12, 61.06it/s]\n",
            "INFO flwr 2024-02-03 17:50:09,723 | server_returns_parameters.py:120 | fit progress: (3, 339.31387734413147, {'accuracy': 0.126875}, 15.578467479999745)\n",
            "INFO:flwr:fit progress: (3, 339.31387734413147, {'accuracy': 0.126875}, 15.578467479999745)\n",
            "INFO flwr 2024-02-03 17:50:09,729 | server_returns_parameters.py:171 | evaluate_round 3: no clients selected, cancel\n",
            "INFO:flwr:evaluate_round 3: no clients selected, cancel\n",
            "DEBUG flwr 2024-02-03 17:50:09,734 | server_returns_parameters.py:223 | fit_round 4: strategy sampled 5 clients (out of 20)\n",
            "DEBUG:flwr:fit_round 4: strategy sampled 5 clients (out of 20)\n"
          ]
        },
        {
          "output_type": "stream",
          "name": "stdout",
          "text": [
            "cid:  839\n",
            "cid:  2600\n",
            "cid:  1473\n",
            "cid:  3119\n",
            "cid:  1363\n"
          ]
        },
        {
          "output_type": "stream",
          "name": "stderr",
          "text": [
            "DEBUG flwr 2024-02-03 17:50:12,380 | server_returns_parameters.py:237 | fit_round 4 received 5 results and 0 failures\n",
            "DEBUG:flwr:fit_round 4 received 5 results and 0 failures\n",
            " 11%|█         | 100/891 [00:01<00:13, 60.62it/s]\n",
            "INFO flwr 2024-02-03 17:50:14,078 | server_returns_parameters.py:120 | fit progress: (4, 328.0064036846161, {'accuracy': 0.1803125}, 19.93296547400041)\n",
            "INFO:flwr:fit progress: (4, 328.0064036846161, {'accuracy': 0.1803125}, 19.93296547400041)\n",
            "INFO flwr 2024-02-03 17:50:14,085 | server_returns_parameters.py:171 | evaluate_round 4: no clients selected, cancel\n",
            "INFO:flwr:evaluate_round 4: no clients selected, cancel\n",
            "DEBUG flwr 2024-02-03 17:50:14,091 | server_returns_parameters.py:223 | fit_round 5: strategy sampled 5 clients (out of 20)\n",
            "DEBUG:flwr:fit_round 5: strategy sampled 5 clients (out of 20)\n"
          ]
        },
        {
          "output_type": "stream",
          "name": "stdout",
          "text": [
            "cid:  2530\n",
            "cid:  2600\n",
            "cid:  1498cid:  1603\n",
            "\n",
            "cid:  678\n"
          ]
        },
        {
          "output_type": "stream",
          "name": "stderr",
          "text": [
            "DEBUG flwr 2024-02-03 17:50:17,224 | server_returns_parameters.py:237 | fit_round 5 received 5 results and 0 failures\n",
            "DEBUG:flwr:fit_round 5 received 5 results and 0 failures\n",
            " 11%|█         | 100/891 [00:02<00:18, 43.44it/s]\n",
            "INFO flwr 2024-02-03 17:50:19,603 | server_returns_parameters.py:120 | fit progress: (5, 298.3679301738739, {'accuracy': 0.220625}, 25.45877081100025)\n",
            "INFO:flwr:fit progress: (5, 298.3679301738739, {'accuracy': 0.220625}, 25.45877081100025)\n",
            "INFO flwr 2024-02-03 17:50:19,611 | server_returns_parameters.py:171 | evaluate_round 5: no clients selected, cancel\n",
            "INFO:flwr:evaluate_round 5: no clients selected, cancel\n",
            "DEBUG flwr 2024-02-03 17:50:19,617 | server_returns_parameters.py:223 | fit_round 6: strategy sampled 5 clients (out of 20)\n",
            "DEBUG:flwr:fit_round 6: strategy sampled 5 clients (out of 20)\n"
          ]
        },
        {
          "output_type": "stream",
          "name": "stdout",
          "text": [
            "cid:  2399\n",
            "cid:  1571\n",
            "cid: cid:  3175cid:  \n",
            " 1603\n",
            "2997\n"
          ]
        },
        {
          "output_type": "stream",
          "name": "stderr",
          "text": [
            "DEBUG flwr 2024-02-03 17:50:22,684 | server_returns_parameters.py:237 | fit_round 6 received 5 results and 0 failures\n",
            "DEBUG:flwr:fit_round 6 received 5 results and 0 failures\n",
            " 11%|█         | 100/891 [00:01<00:13, 59.52it/s]\n",
            "INFO flwr 2024-02-03 17:50:24,448 | server_returns_parameters.py:120 | fit progress: (6, 277.48294973373413, {'accuracy': 0.3015625}, 30.303231148000123)\n",
            "INFO:flwr:fit progress: (6, 277.48294973373413, {'accuracy': 0.3015625}, 30.303231148000123)\n",
            "INFO flwr 2024-02-03 17:50:24,452 | server_returns_parameters.py:171 | evaluate_round 6: no clients selected, cancel\n",
            "INFO:flwr:evaluate_round 6: no clients selected, cancel\n",
            "DEBUG flwr 2024-02-03 17:50:24,456 | server_returns_parameters.py:223 | fit_round 7: strategy sampled 5 clients (out of 20)\n",
            "DEBUG:flwr:fit_round 7: strategy sampled 5 clients (out of 20)\n"
          ]
        },
        {
          "output_type": "stream",
          "name": "stdout",
          "text": [
            "cid:  3119\n",
            "cid:  2907\n",
            "cid:  839\n",
            "cid:  2184\n",
            "cid:  2688\n"
          ]
        },
        {
          "output_type": "stream",
          "name": "stderr",
          "text": [
            "DEBUG flwr 2024-02-03 17:50:27,018 | server_returns_parameters.py:237 | fit_round 7 received 5 results and 0 failures\n",
            "DEBUG:flwr:fit_round 7 received 5 results and 0 failures\n",
            " 11%|█         | 100/891 [00:01<00:12, 61.66it/s]\n",
            "INFO flwr 2024-02-03 17:50:28,691 | server_returns_parameters.py:120 | fit progress: (7, 262.34104180336, {'accuracy': 0.301875}, 34.546774219000326)\n",
            "INFO:flwr:fit progress: (7, 262.34104180336, {'accuracy': 0.301875}, 34.546774219000326)\n",
            "INFO flwr 2024-02-03 17:50:28,695 | server_returns_parameters.py:171 | evaluate_round 7: no clients selected, cancel\n",
            "INFO:flwr:evaluate_round 7: no clients selected, cancel\n",
            "DEBUG flwr 2024-02-03 17:50:28,699 | server_returns_parameters.py:223 | fit_round 8: strategy sampled 5 clients (out of 20)\n",
            "DEBUG:flwr:fit_round 8: strategy sampled 5 clients (out of 20)\n"
          ]
        },
        {
          "output_type": "stream",
          "name": "stdout",
          "text": [
            "cid:  1260\n",
            "cid:  2184cid:  2530\n",
            "\n",
            "cid:  cid:  839\n",
            "2997\n"
          ]
        },
        {
          "output_type": "stream",
          "name": "stderr",
          "text": [
            "DEBUG flwr 2024-02-03 17:50:31,894 | server_returns_parameters.py:237 | fit_round 8 received 5 results and 0 failures\n",
            "DEBUG:flwr:fit_round 8 received 5 results and 0 failures\n",
            " 11%|█         | 100/891 [00:01<00:14, 53.48it/s]\n",
            "INFO flwr 2024-02-03 17:50:33,814 | server_returns_parameters.py:120 | fit progress: (8, 255.7397437095642, {'accuracy': 0.3584375}, 39.669407602999854)\n",
            "INFO:flwr:fit progress: (8, 255.7397437095642, {'accuracy': 0.3584375}, 39.669407602999854)\n",
            "INFO flwr 2024-02-03 17:50:33,818 | server_returns_parameters.py:171 | evaluate_round 8: no clients selected, cancel\n",
            "INFO:flwr:evaluate_round 8: no clients selected, cancel\n",
            "DEBUG flwr 2024-02-03 17:50:33,823 | server_returns_parameters.py:223 | fit_round 9: strategy sampled 5 clients (out of 20)\n",
            "DEBUG:flwr:fit_round 9: strategy sampled 5 clients (out of 20)\n"
          ]
        },
        {
          "output_type": "stream",
          "name": "stdout",
          "text": [
            "cid:  1498\n",
            "cid:  1363\n",
            "cid:  cid:  2997\n",
            "1603\n",
            "cid:  1571\n"
          ]
        },
        {
          "output_type": "stream",
          "name": "stderr",
          "text": [
            "DEBUG flwr 2024-02-03 17:50:36,778 | server_returns_parameters.py:237 | fit_round 9 received 5 results and 0 failures\n",
            "DEBUG:flwr:fit_round 9 received 5 results and 0 failures\n",
            " 11%|█         | 100/891 [00:02<00:18, 43.53it/s]\n",
            "INFO flwr 2024-02-03 17:50:39,153 | server_returns_parameters.py:120 | fit progress: (9, 240.61378276348114, {'accuracy': 0.4346875}, 45.00864428600016)\n",
            "INFO:flwr:fit progress: (9, 240.61378276348114, {'accuracy': 0.4346875}, 45.00864428600016)\n",
            "INFO flwr 2024-02-03 17:50:39,157 | server_returns_parameters.py:171 | evaluate_round 9: no clients selected, cancel\n",
            "INFO:flwr:evaluate_round 9: no clients selected, cancel\n",
            "DEBUG flwr 2024-02-03 17:50:39,162 | server_returns_parameters.py:223 | fit_round 10: strategy sampled 5 clients (out of 20)\n",
            "DEBUG:flwr:fit_round 10: strategy sampled 5 clients (out of 20)\n"
          ]
        },
        {
          "output_type": "stream",
          "name": "stdout",
          "text": [
            "cid:  2530\n",
            "cid:  1571\n",
            "cid:  1260\n",
            "cid:  678\n",
            "cid:  2184\n"
          ]
        },
        {
          "output_type": "stream",
          "name": "stderr",
          "text": [
            "DEBUG flwr 2024-02-03 17:50:42,537 | server_returns_parameters.py:237 | fit_round 10 received 5 results and 0 failures\n",
            "DEBUG:flwr:fit_round 10 received 5 results and 0 failures\n",
            " 11%|█         | 100/891 [00:01<00:12, 61.87it/s]\n",
            "INFO flwr 2024-02-03 17:50:44,215 | server_returns_parameters.py:120 | fit progress: (10, 247.3843080997467, {'accuracy': 0.396875}, 50.06995531299981)\n",
            "INFO:flwr:fit progress: (10, 247.3843080997467, {'accuracy': 0.396875}, 50.06995531299981)\n",
            "INFO flwr 2024-02-03 17:50:44,217 | server_returns_parameters.py:171 | evaluate_round 10: no clients selected, cancel\n",
            "INFO:flwr:evaluate_round 10: no clients selected, cancel\n",
            "INFO flwr 2024-02-03 17:50:44,221 | server_returns_parameters.py:150 | FL finished in 50.07618686200021\n",
            "INFO:flwr:FL finished in 50.07618686200021\n",
            "INFO flwr 2024-02-03 17:50:44,224 | app.py:250 | app_fit: losses_distributed []\n",
            "INFO:flwr:app_fit: losses_distributed []\n",
            "INFO flwr 2024-02-03 17:50:44,226 | app.py:251 | app_fit: metrics_distributed_fit {'train_loss': [(1, {'avg': 0.1036236428079151, 'all': [(4, 0.10288665629923344), (4, 0.10576717182993889), (4, 0.10362579859793186), (4, 0.10265536047518253), (5, 0.10327131003141403)]}), (2, {'avg': 0.10402437476884752, 'all': [(3, 0.1052887166539828), (5, 0.10341359823942184), (4, 0.10071603767573833), (5, 0.1054910510778427), (4, 0.1053145807236433)]}), (3, {'avg': 0.10358660171429317, 'all': [(4, 0.09963098727166653), (5, 0.10279095768928528), (8, 0.10767482034862041), (3, 0.10173498590787251), (4, 0.10174904577434063)]}), (4, {'avg': 0.08966553956270218, 'all': [(4, 0.07998502254486084), (5, 0.08850064873695374), (4, 0.09502780809998512), (4, 0.093058617785573), (3, 0.09284058461586635)]}), (5, {'avg': 0.07574533541565356, 'all': [(6, 0.08343439300855), (3, 0.07618158807357152), (5, 0.0706253096461296), (4, 0.08074358291924), (5, 0.06737814247608184)]}), (6, {'avg': 0.06344094183295965, 'all': [(3, 0.06635684271653493), (4, 0.06746369693428278), (4, 0.06583439745008945), (4, 0.06346315797418356), (5, 0.056540659815073016)]}), (7, {'avg': 0.06415418907999992, 'all': [(4, 0.06320538930594921), (4, 0.06464715395122766), (4, 0.07126211002469063), (4, 0.06525217555463314), (4, 0.056404116563498974)]}), (8, {'avg': 0.05471454503444525, 'all': [(5, 0.047530297935009), (4, 0.05837255343794823), (4, 0.06531733274459839), (8, 0.06027481285855174), (5, 0.041593726724386215)]}), (9, {'avg': 0.0399105854332447, 'all': [(4, 0.03582895454019308), (4, 0.040131956338882446), (5, 0.03665261641144753), (3, 0.048236098140478134), (4, 0.04159917216747999)]}), (10, {'avg': 0.044218566406656196, 'all': [(4, 0.03211663197726011), (4, 0.0528674703091383), (6, 0.05077236704528332), (5, 0.03754806220531463), (8, 0.045198796316981316)]})]}\n",
            "INFO:flwr:app_fit: metrics_distributed_fit {'train_loss': [(1, {'avg': 0.1036236428079151, 'all': [(4, 0.10288665629923344), (4, 0.10576717182993889), (4, 0.10362579859793186), (4, 0.10265536047518253), (5, 0.10327131003141403)]}), (2, {'avg': 0.10402437476884752, 'all': [(3, 0.1052887166539828), (5, 0.10341359823942184), (4, 0.10071603767573833), (5, 0.1054910510778427), (4, 0.1053145807236433)]}), (3, {'avg': 0.10358660171429317, 'all': [(4, 0.09963098727166653), (5, 0.10279095768928528), (8, 0.10767482034862041), (3, 0.10173498590787251), (4, 0.10174904577434063)]}), (4, {'avg': 0.08966553956270218, 'all': [(4, 0.07998502254486084), (5, 0.08850064873695374), (4, 0.09502780809998512), (4, 0.093058617785573), (3, 0.09284058461586635)]}), (5, {'avg': 0.07574533541565356, 'all': [(6, 0.08343439300855), (3, 0.07618158807357152), (5, 0.0706253096461296), (4, 0.08074358291924), (5, 0.06737814247608184)]}), (6, {'avg': 0.06344094183295965, 'all': [(3, 0.06635684271653493), (4, 0.06746369693428278), (4, 0.06583439745008945), (4, 0.06346315797418356), (5, 0.056540659815073016)]}), (7, {'avg': 0.06415418907999992, 'all': [(4, 0.06320538930594921), (4, 0.06464715395122766), (4, 0.07126211002469063), (4, 0.06525217555463314), (4, 0.056404116563498974)]}), (8, {'avg': 0.05471454503444525, 'all': [(5, 0.047530297935009), (4, 0.05837255343794823), (4, 0.06531733274459839), (8, 0.06027481285855174), (5, 0.041593726724386215)]}), (9, {'avg': 0.0399105854332447, 'all': [(4, 0.03582895454019308), (4, 0.040131956338882446), (5, 0.03665261641144753), (3, 0.048236098140478134), (4, 0.04159917216747999)]}), (10, {'avg': 0.044218566406656196, 'all': [(4, 0.03211663197726011), (4, 0.0528674703091383), (6, 0.05077236704528332), (5, 0.03754806220531463), (8, 0.045198796316981316)]})]}\n",
            "INFO flwr 2024-02-03 17:50:44,229 | app.py:252 | app_fit: metrics_distributed {}\n",
            "INFO:flwr:app_fit: metrics_distributed {}\n",
            "INFO flwr 2024-02-03 17:50:44,235 | app.py:253 | app_fit: losses_centralized [(0, 413.6842646598816), (1, 355.14386439323425), (2, 341.74300384521484), (3, 339.31387734413147), (4, 328.0064036846161), (5, 298.3679301738739), (6, 277.48294973373413), (7, 262.34104180336), (8, 255.7397437095642), (9, 240.61378276348114), (10, 247.3843080997467)]\n",
            "INFO:flwr:app_fit: losses_centralized [(0, 413.6842646598816), (1, 355.14386439323425), (2, 341.74300384521484), (3, 339.31387734413147), (4, 328.0064036846161), (5, 298.3679301738739), (6, 277.48294973373413), (7, 262.34104180336), (8, 255.7397437095642), (9, 240.61378276348114), (10, 247.3843080997467)]\n",
            "INFO flwr 2024-02-03 17:50:44,237 | app.py:254 | app_fit: metrics_centralized {'accuracy': [(0, 0.0065625), (1, 0.069375), (2, 0.0709375), (3, 0.126875), (4, 0.1803125), (5, 0.220625), (6, 0.3015625), (7, 0.301875), (8, 0.3584375), (9, 0.4346875), (10, 0.396875)]}\n",
            "INFO:flwr:app_fit: metrics_centralized {'accuracy': [(0, 0.0065625), (1, 0.069375), (2, 0.0709375), (3, 0.126875), (4, 0.1803125), (5, 0.220625), (6, 0.3015625), (7, 0.301875), (8, 0.3584375), (9, 0.4346875), (10, 0.396875)]}\n"
          ]
        }
      ],
      "source": [
        "parameters_for_each_round, hist = run_simulation()"
      ]
    },
    {
      "cell_type": "code",
      "execution_count": 52,
      "metadata": {
        "id": "1CMXI3Uz3D1M",
        "outputId": "b9cd3d63-a71f-406f-89aa-b94e4a323d3c",
        "colab": {
          "base_uri": "https://localhost:8080/"
        }
      },
      "outputs": [
        {
          "output_type": "stream",
          "name": "stdout",
          "text": [
            "11\n"
          ]
        }
      ],
      "source": [
        "print(len(parameters_for_each_round))"
      ]
    },
    {
      "cell_type": "markdown",
      "metadata": {
        "id": "pY9ELp7NuXEE"
      },
      "source": [
        "**Question 9 (Part II ✅ | Part III/MPhil ✅):**\n",
        "\n",
        "(You must provide the answer with **code** and **plots** for this question. A short written argumentation is recommended.)\n",
        "\n",
        "Now that an entire FL experiment can be trained, it is worth considering the relationship between the FL model across rounds. If we consider the final model $\\theta^N$ obtained after $N$ rounds to be the optimal model $\\theta^*$, we can ask how optimization step contributed to reaching $\\theta^*$.\n",
        "\n",
        "1. Run an FL simulation for at-least 50 rounds.\n",
        "2. Build a function which reconstitutes the update that must have been applied to model $\\theta^t$ in order to obtain $\\theta^{t+1}$, assume the `server_learning_rate` was 1.0. We shall call this update $g_t$ and treat it as a pseudo-gradient.\n",
        "3. For each round plot the cosine similarity between $g_t$ and the direction of improvement towards $\\theta^{*}$ calculated as $\\theta^{*} - \\theta_t$.\n",
        "4. What do you observe from the plots? Does every update point in the direction of the final model? If not, why do you think that is?\n"
      ]
    },
    {
      "cell_type": "code",
      "source": [
        "num_rounds = 50\n",
        "num_total_clients = 20\n",
        "num_evaluate_clients = 0\n",
        "num_clients_per_round = 5\n",
        "parameters_for_each_round, hist = run_simulation(num_rounds, num_total_clients, num_clients_per_round, num_evaluate_clients)"
      ],
      "metadata": {
        "id": "4Rdz0fQdHU-w",
        "outputId": "b9c1f181-e8b1-469f-c556-28a589fda6fe",
        "colab": {
          "base_uri": "https://localhost:8080/"
        }
      },
      "execution_count": 69,
      "outputs": [
        {
          "output_type": "stream",
          "name": "stderr",
          "text": [
            "INFO flwr 2024-02-03 18:12:37,623 | app.py:149 | Starting Flower simulation, config: ServerConfig(num_rounds=50, round_timeout=None)\n",
            "INFO:flwr:Starting Flower simulation, config: ServerConfig(num_rounds=50, round_timeout=None)\n",
            "INFO flwr 2024-02-03 18:12:37,630 | server_returns_parameters.py:81 | Initializing global parameters\n",
            "INFO:flwr:Initializing global parameters\n",
            "INFO flwr 2024-02-03 18:12:37,635 | server_returns_parameters.py:273 | Using initial parameters provided by strategy\n",
            "INFO:flwr:Using initial parameters provided by strategy\n",
            "INFO flwr 2024-02-03 18:12:37,645 | server_returns_parameters.py:84 | Evaluating initial parameters\n",
            "INFO:flwr:Evaluating initial parameters\n"
          ]
        },
        {
          "output_type": "stream",
          "name": "stdout",
          "text": [
            "50\n"
          ]
        },
        {
          "output_type": "stream",
          "name": "stderr",
          "text": [
            " 11%|█         | 100/891 [00:01<00:13, 57.62it/s]\n",
            "INFO flwr 2024-02-03 18:12:39,431 | server_returns_parameters.py:87 | initial parameters (loss, other metrics): 413.6842646598816, {'accuracy': 0.0065625}\n",
            "INFO:flwr:initial parameters (loss, other metrics): 413.6842646598816, {'accuracy': 0.0065625}\n",
            "INFO flwr 2024-02-03 18:12:39,435 | server_returns_parameters.py:97 | FL starting\n",
            "INFO:flwr:FL starting\n",
            "DEBUG flwr 2024-02-03 18:12:39,439 | server_returns_parameters.py:223 | fit_round 1: strategy sampled 5 clients (out of 20)\n",
            "DEBUG:flwr:fit_round 1: strategy sampled 5 clients (out of 20)\n"
          ]
        },
        {
          "output_type": "stream",
          "name": "stdout",
          "text": [
            "cid:  1494\n",
            "cid:  3119\n",
            "cid:  2600\n",
            "cid:  2399\n",
            "cid:  1571\n"
          ]
        },
        {
          "output_type": "stream",
          "name": "stderr",
          "text": [
            "DEBUG flwr 2024-02-03 18:12:42,198 | server_returns_parameters.py:237 | fit_round 1 received 5 results and 0 failures\n",
            "DEBUG:flwr:fit_round 1 received 5 results and 0 failures\n",
            " 11%|█         | 100/891 [00:01<00:13, 59.88it/s]\n",
            "INFO flwr 2024-02-03 18:12:43,924 | server_returns_parameters.py:120 | fit progress: (1, 361.4322280883789, {'accuracy': 0.074375}, 4.485446130000128)\n",
            "INFO:flwr:fit progress: (1, 361.4322280883789, {'accuracy': 0.074375}, 4.485446130000128)\n",
            "INFO flwr 2024-02-03 18:12:43,930 | server_returns_parameters.py:171 | evaluate_round 1: no clients selected, cancel\n",
            "INFO:flwr:evaluate_round 1: no clients selected, cancel\n",
            "DEBUG flwr 2024-02-03 18:12:43,934 | server_returns_parameters.py:223 | fit_round 2: strategy sampled 5 clients (out of 20)\n",
            "DEBUG:flwr:fit_round 2: strategy sampled 5 clients (out of 20)\n"
          ]
        },
        {
          "output_type": "stream",
          "name": "stdout",
          "text": [
            "cid:  1473\n",
            "cid:  cid:  1363\n",
            "2600cid: \n",
            " cid: 1494\n",
            " 2997\n"
          ]
        },
        {
          "output_type": "stream",
          "name": "stderr",
          "text": [
            "DEBUG flwr 2024-02-03 18:12:46,913 | server_returns_parameters.py:237 | fit_round 2 received 5 results and 0 failures\n",
            "DEBUG:flwr:fit_round 2 received 5 results and 0 failures\n",
            " 11%|█         | 100/891 [00:02<00:18, 43.45it/s]\n",
            "INFO flwr 2024-02-03 18:12:49,304 | server_returns_parameters.py:120 | fit progress: (2, 341.1219992637634, {'accuracy': 0.079375}, 9.865212652000082)\n",
            "INFO:flwr:fit progress: (2, 341.1219992637634, {'accuracy': 0.079375}, 9.865212652000082)\n",
            "INFO flwr 2024-02-03 18:12:49,308 | server_returns_parameters.py:171 | evaluate_round 2: no clients selected, cancel\n",
            "INFO:flwr:evaluate_round 2: no clients selected, cancel\n",
            "DEBUG flwr 2024-02-03 18:12:49,313 | server_returns_parameters.py:223 | fit_round 3: strategy sampled 5 clients (out of 20)\n",
            "DEBUG:flwr:fit_round 3: strategy sampled 5 clients (out of 20)\n"
          ]
        },
        {
          "output_type": "stream",
          "name": "stdout",
          "text": [
            "cid:  2600\n",
            "cid:  1498\n",
            "cid:  1260\n",
            "cid:  1473\n",
            "cid:  2907\n"
          ]
        },
        {
          "output_type": "stream",
          "name": "stderr",
          "text": [
            "DEBUG flwr 2024-02-03 18:12:52,734 | server_returns_parameters.py:237 | fit_round 3 received 5 results and 0 failures\n",
            "DEBUG:flwr:fit_round 3 received 5 results and 0 failures\n",
            " 11%|█         | 100/891 [00:01<00:13, 59.86it/s]\n",
            "INFO flwr 2024-02-03 18:12:54,461 | server_returns_parameters.py:120 | fit progress: (3, 342.09439635276794, {'accuracy': 0.0828125}, 15.021668954000233)\n",
            "INFO:flwr:fit progress: (3, 342.09439635276794, {'accuracy': 0.0828125}, 15.021668954000233)\n",
            "INFO flwr 2024-02-03 18:12:54,465 | server_returns_parameters.py:171 | evaluate_round 3: no clients selected, cancel\n",
            "INFO:flwr:evaluate_round 3: no clients selected, cancel\n",
            "DEBUG flwr 2024-02-03 18:12:54,470 | server_returns_parameters.py:223 | fit_round 4: strategy sampled 5 clients (out of 20)\n",
            "DEBUG:flwr:fit_round 4: strategy sampled 5 clients (out of 20)\n"
          ]
        },
        {
          "output_type": "stream",
          "name": "stdout",
          "text": [
            "cid:  839\n",
            "cid:  cid:  1473\n",
            "cid:  3119\n",
            "2600\n",
            "cid:  1363\n"
          ]
        },
        {
          "output_type": "stream",
          "name": "stderr",
          "text": [
            "DEBUG flwr 2024-02-03 18:12:57,035 | server_returns_parameters.py:237 | fit_round 4 received 5 results and 0 failures\n",
            "DEBUG:flwr:fit_round 4 received 5 results and 0 failures\n",
            " 11%|█         | 100/891 [00:01<00:13, 59.26it/s]\n",
            "INFO flwr 2024-02-03 18:12:58,776 | server_returns_parameters.py:120 | fit progress: (4, 342.32665944099426, {'accuracy': 0.0903125}, 19.33697258600023)\n",
            "INFO:flwr:fit progress: (4, 342.32665944099426, {'accuracy': 0.0903125}, 19.33697258600023)\n",
            "INFO flwr 2024-02-03 18:12:58,780 | server_returns_parameters.py:171 | evaluate_round 4: no clients selected, cancel\n",
            "INFO:flwr:evaluate_round 4: no clients selected, cancel\n",
            "DEBUG flwr 2024-02-03 18:12:58,784 | server_returns_parameters.py:223 | fit_round 5: strategy sampled 5 clients (out of 20)\n",
            "DEBUG:flwr:fit_round 5: strategy sampled 5 clients (out of 20)\n"
          ]
        },
        {
          "output_type": "stream",
          "name": "stdout",
          "text": [
            "cid:  2530\n",
            "cid:  2600\n",
            "cid:  1498\n",
            "cid: cid:  1603\n",
            " 678\n"
          ]
        },
        {
          "output_type": "stream",
          "name": "stderr",
          "text": [
            "DEBUG flwr 2024-02-03 18:13:01,929 | server_returns_parameters.py:237 | fit_round 5 received 5 results and 0 failures\n",
            "DEBUG:flwr:fit_round 5 received 5 results and 0 failures\n",
            " 11%|█         | 100/891 [00:02<00:21, 36.86it/s]\n",
            "INFO flwr 2024-02-03 18:13:04,740 | server_returns_parameters.py:120 | fit progress: (5, 311.9458875656128, {'accuracy': 0.206875}, 25.30088443600016)\n",
            "INFO:flwr:fit progress: (5, 311.9458875656128, {'accuracy': 0.206875}, 25.30088443600016)\n",
            "INFO flwr 2024-02-03 18:13:04,746 | server_returns_parameters.py:171 | evaluate_round 5: no clients selected, cancel\n",
            "INFO:flwr:evaluate_round 5: no clients selected, cancel\n",
            "DEBUG flwr 2024-02-03 18:13:04,752 | server_returns_parameters.py:223 | fit_round 6: strategy sampled 5 clients (out of 20)\n",
            "DEBUG:flwr:fit_round 6: strategy sampled 5 clients (out of 20)\n"
          ]
        },
        {
          "output_type": "stream",
          "name": "stdout",
          "text": [
            "cid: cid:  1571\n",
            " 2399\n",
            "cid:  1603\n",
            "cid:  3175\n",
            "cid:  2997\n"
          ]
        },
        {
          "output_type": "stream",
          "name": "stderr",
          "text": [
            "DEBUG flwr 2024-02-03 18:13:08,136 | server_returns_parameters.py:237 | fit_round 6 received 5 results and 0 failures\n",
            "DEBUG:flwr:fit_round 6 received 5 results and 0 failures\n",
            " 11%|█         | 100/891 [00:02<00:18, 41.83it/s]\n",
            "INFO flwr 2024-02-03 18:13:10,606 | server_returns_parameters.py:120 | fit progress: (6, 288.080006480217, {'accuracy': 0.278125}, 31.167335080000157)\n",
            "INFO:flwr:fit progress: (6, 288.080006480217, {'accuracy': 0.278125}, 31.167335080000157)\n",
            "INFO flwr 2024-02-03 18:13:10,611 | server_returns_parameters.py:171 | evaluate_round 6: no clients selected, cancel\n",
            "INFO:flwr:evaluate_round 6: no clients selected, cancel\n",
            "DEBUG flwr 2024-02-03 18:13:10,617 | server_returns_parameters.py:223 | fit_round 7: strategy sampled 5 clients (out of 20)\n",
            "DEBUG:flwr:fit_round 7: strategy sampled 5 clients (out of 20)\n"
          ]
        },
        {
          "output_type": "stream",
          "name": "stdout",
          "text": [
            "cid:  3119\n",
            "cid: cid:  839 2907\n",
            "\n",
            "cid:  2184\n",
            "cid:  2688\n"
          ]
        },
        {
          "output_type": "stream",
          "name": "stderr",
          "text": [
            "DEBUG flwr 2024-02-03 18:13:13,188 | server_returns_parameters.py:237 | fit_round 7 received 5 results and 0 failures\n",
            "DEBUG:flwr:fit_round 7 received 5 results and 0 failures\n",
            " 11%|█         | 100/891 [00:01<00:13, 58.53it/s]\n",
            "INFO flwr 2024-02-03 18:13:14,952 | server_returns_parameters.py:120 | fit progress: (7, 264.83173727989197, {'accuracy': 0.3375}, 35.51258254500044)\n",
            "INFO:flwr:fit progress: (7, 264.83173727989197, {'accuracy': 0.3375}, 35.51258254500044)\n",
            "INFO flwr 2024-02-03 18:13:14,960 | server_returns_parameters.py:171 | evaluate_round 7: no clients selected, cancel\n",
            "INFO:flwr:evaluate_round 7: no clients selected, cancel\n",
            "DEBUG flwr 2024-02-03 18:13:14,964 | server_returns_parameters.py:223 | fit_round 8: strategy sampled 5 clients (out of 20)\n",
            "DEBUG:flwr:fit_round 8: strategy sampled 5 clients (out of 20)\n"
          ]
        },
        {
          "output_type": "stream",
          "name": "stdout",
          "text": [
            "cid:  1260\n",
            "cid:  2184\n",
            "cid: cid:  2530\n",
            " 2997\n",
            "cid:  839\n"
          ]
        },
        {
          "output_type": "stream",
          "name": "stderr",
          "text": [
            "DEBUG flwr 2024-02-03 18:13:18,377 | server_returns_parameters.py:237 | fit_round 8 received 5 results and 0 failures\n",
            "DEBUG:flwr:fit_round 8 received 5 results and 0 failures\n",
            " 11%|█         | 100/891 [00:01<00:14, 55.65it/s]\n",
            "INFO flwr 2024-02-03 18:13:20,240 | server_returns_parameters.py:120 | fit progress: (8, 262.76416194438934, {'accuracy': 0.3790625}, 40.80071237199991)\n",
            "INFO:flwr:fit progress: (8, 262.76416194438934, {'accuracy': 0.3790625}, 40.80071237199991)\n",
            "INFO flwr 2024-02-03 18:13:20,243 | server_returns_parameters.py:171 | evaluate_round 8: no clients selected, cancel\n",
            "INFO:flwr:evaluate_round 8: no clients selected, cancel\n",
            "DEBUG flwr 2024-02-03 18:13:20,248 | server_returns_parameters.py:223 | fit_round 9: strategy sampled 5 clients (out of 20)\n",
            "DEBUG:flwr:fit_round 9: strategy sampled 5 clients (out of 20)\n"
          ]
        },
        {
          "output_type": "stream",
          "name": "stdout",
          "text": [
            "cid:  1498\n",
            "cid:  1363\n",
            "cid:  2997\n",
            "cid:  1603\n",
            "cid:  1571\n"
          ]
        },
        {
          "output_type": "stream",
          "name": "stderr",
          "text": [
            "DEBUG flwr 2024-02-03 18:13:23,413 | server_returns_parameters.py:237 | fit_round 9 received 5 results and 0 failures\n",
            "DEBUG:flwr:fit_round 9 received 5 results and 0 failures\n",
            " 11%|█         | 100/891 [00:02<00:20, 39.34it/s]\n",
            "INFO flwr 2024-02-03 18:13:26,065 | server_returns_parameters.py:120 | fit progress: (9, 233.32966899871826, {'accuracy': 0.4721875}, 46.62628372200015)\n",
            "INFO:flwr:fit progress: (9, 233.32966899871826, {'accuracy': 0.4721875}, 46.62628372200015)\n",
            "INFO flwr 2024-02-03 18:13:26,068 | server_returns_parameters.py:171 | evaluate_round 9: no clients selected, cancel\n",
            "INFO:flwr:evaluate_round 9: no clients selected, cancel\n",
            "DEBUG flwr 2024-02-03 18:13:26,070 | server_returns_parameters.py:223 | fit_round 10: strategy sampled 5 clients (out of 20)\n",
            "DEBUG:flwr:fit_round 10: strategy sampled 5 clients (out of 20)\n"
          ]
        },
        {
          "output_type": "stream",
          "name": "stdout",
          "text": [
            "cid:  2530\n",
            "cid: cid:  1260\n",
            " 1571\n",
            "cid: cid:  678\n",
            " 2184\n"
          ]
        },
        {
          "output_type": "stream",
          "name": "stderr",
          "text": [
            "DEBUG flwr 2024-02-03 18:13:29,807 | server_returns_parameters.py:237 | fit_round 10 received 5 results and 0 failures\n",
            "DEBUG:flwr:fit_round 10 received 5 results and 0 failures\n",
            " 11%|█         | 100/891 [00:01<00:14, 54.45it/s]\n",
            "INFO flwr 2024-02-03 18:13:31,700 | server_returns_parameters.py:120 | fit progress: (10, 246.4158741235733, {'accuracy': 0.4265625}, 52.2611351380001)\n",
            "INFO:flwr:fit progress: (10, 246.4158741235733, {'accuracy': 0.4265625}, 52.2611351380001)\n",
            "INFO flwr 2024-02-03 18:13:31,704 | server_returns_parameters.py:171 | evaluate_round 10: no clients selected, cancel\n",
            "INFO:flwr:evaluate_round 10: no clients selected, cancel\n",
            "DEBUG flwr 2024-02-03 18:13:31,708 | server_returns_parameters.py:223 | fit_round 11: strategy sampled 5 clients (out of 20)\n",
            "DEBUG:flwr:fit_round 11: strategy sampled 5 clients (out of 20)\n"
          ]
        },
        {
          "output_type": "stream",
          "name": "stdout",
          "text": [
            "cid:  3119\n",
            "cid:  1363\n",
            "cid:  2997\n",
            "cid: cid:   2399\n",
            "839\n"
          ]
        },
        {
          "output_type": "stream",
          "name": "stderr",
          "text": [
            "DEBUG flwr 2024-02-03 18:13:34,335 | server_returns_parameters.py:237 | fit_round 11 received 5 results and 0 failures\n",
            "DEBUG:flwr:fit_round 11 received 5 results and 0 failures\n",
            " 11%|█         | 100/891 [00:01<00:13, 58.98it/s]\n",
            "INFO flwr 2024-02-03 18:13:36,084 | server_returns_parameters.py:120 | fit progress: (11, 205.1952350139618, {'accuracy': 0.504375}, 56.645348159000605)\n",
            "INFO:flwr:fit progress: (11, 205.1952350139618, {'accuracy': 0.504375}, 56.645348159000605)\n",
            "INFO flwr 2024-02-03 18:13:36,090 | server_returns_parameters.py:171 | evaluate_round 11: no clients selected, cancel\n",
            "INFO:flwr:evaluate_round 11: no clients selected, cancel\n",
            "DEBUG flwr 2024-02-03 18:13:36,092 | server_returns_parameters.py:223 | fit_round 12: strategy sampled 5 clients (out of 20)\n",
            "DEBUG:flwr:fit_round 12: strategy sampled 5 clients (out of 20)\n"
          ]
        },
        {
          "output_type": "stream",
          "name": "stdout",
          "text": [
            "cid:  2184\n",
            "cid:  2855cid: \n",
            " 1603\n",
            "cid:  2530\n",
            "cid:  2688\n"
          ]
        },
        {
          "output_type": "stream",
          "name": "stderr",
          "text": [
            "DEBUG flwr 2024-02-03 18:13:38,994 | server_returns_parameters.py:237 | fit_round 12 received 5 results and 0 failures\n",
            "DEBUG:flwr:fit_round 12 received 5 results and 0 failures\n",
            " 11%|█         | 100/891 [00:02<00:18, 41.94it/s]\n",
            "INFO flwr 2024-02-03 18:13:41,465 | server_returns_parameters.py:120 | fit progress: (12, 204.92466169595718, {'accuracy': 0.5178125}, 62.02561771599994)\n",
            "INFO:flwr:fit progress: (12, 204.92466169595718, {'accuracy': 0.5178125}, 62.02561771599994)\n",
            "INFO flwr 2024-02-03 18:13:41,469 | server_returns_parameters.py:171 | evaluate_round 12: no clients selected, cancel\n",
            "INFO:flwr:evaluate_round 12: no clients selected, cancel\n",
            "DEBUG flwr 2024-02-03 18:13:41,473 | server_returns_parameters.py:223 | fit_round 13: strategy sampled 5 clients (out of 20)\n",
            "DEBUG:flwr:fit_round 13: strategy sampled 5 clients (out of 20)\n"
          ]
        },
        {
          "output_type": "stream",
          "name": "stdout",
          "text": [
            "cid:  3119\n",
            "cid:  2600\n",
            "cid:  1494\n",
            "cid:  3175\n",
            "cid:  839\n"
          ]
        },
        {
          "output_type": "stream",
          "name": "stderr",
          "text": [
            "DEBUG flwr 2024-02-03 18:13:44,837 | server_returns_parameters.py:237 | fit_round 13 received 5 results and 0 failures\n",
            "DEBUG:flwr:fit_round 13 received 5 results and 0 failures\n",
            " 11%|█         | 100/891 [00:01<00:14, 55.50it/s]\n",
            "INFO flwr 2024-02-03 18:13:46,693 | server_returns_parameters.py:120 | fit progress: (13, 176.84880524873734, {'accuracy': 0.56625}, 67.2540987830007)\n",
            "INFO:flwr:fit progress: (13, 176.84880524873734, {'accuracy': 0.56625}, 67.2540987830007)\n",
            "INFO flwr 2024-02-03 18:13:46,698 | server_returns_parameters.py:171 | evaluate_round 13: no clients selected, cancel\n",
            "INFO:flwr:evaluate_round 13: no clients selected, cancel\n",
            "DEBUG flwr 2024-02-03 18:13:46,703 | server_returns_parameters.py:223 | fit_round 14: strategy sampled 5 clients (out of 20)\n",
            "DEBUG:flwr:fit_round 14: strategy sampled 5 clients (out of 20)\n"
          ]
        },
        {
          "output_type": "stream",
          "name": "stdout",
          "text": [
            "cid:  2907\n",
            "cid:  2338\n",
            "cid:  cid:  2399\n",
            "cid:  1571\n",
            "2184\n"
          ]
        },
        {
          "output_type": "stream",
          "name": "stderr",
          "text": [
            "DEBUG flwr 2024-02-03 18:13:49,314 | server_returns_parameters.py:237 | fit_round 14 received 5 results and 0 failures\n",
            "DEBUG:flwr:fit_round 14 received 5 results and 0 failures\n",
            " 11%|█         | 100/891 [00:01<00:14, 55.57it/s]\n",
            "INFO flwr 2024-02-03 18:13:51,174 | server_returns_parameters.py:120 | fit progress: (14, 185.19272315502167, {'accuracy': 0.553125}, 71.73489040599998)\n",
            "INFO:flwr:fit progress: (14, 185.19272315502167, {'accuracy': 0.553125}, 71.73489040599998)\n",
            "INFO flwr 2024-02-03 18:13:51,180 | server_returns_parameters.py:171 | evaluate_round 14: no clients selected, cancel\n",
            "INFO:flwr:evaluate_round 14: no clients selected, cancel\n",
            "DEBUG flwr 2024-02-03 18:13:51,184 | server_returns_parameters.py:223 | fit_round 15: strategy sampled 5 clients (out of 20)\n",
            "DEBUG:flwr:fit_round 15: strategy sampled 5 clients (out of 20)\n"
          ]
        },
        {
          "output_type": "stream",
          "name": "stdout",
          "text": [
            "cid:  2907\n",
            "cid:  2997\n",
            "cid:  1603\n",
            "cid:  3175\n",
            "cid:  2184\n"
          ]
        },
        {
          "output_type": "stream",
          "name": "stderr",
          "text": [
            "DEBUG flwr 2024-02-03 18:13:53,667 | server_returns_parameters.py:237 | fit_round 15 received 5 results and 0 failures\n",
            "DEBUG:flwr:fit_round 15 received 5 results and 0 failures\n",
            " 11%|█         | 100/891 [00:02<00:16, 48.74it/s]\n",
            "INFO flwr 2024-02-03 18:13:55,772 | server_returns_parameters.py:120 | fit progress: (15, 192.86463430523872, {'accuracy': 0.5659375}, 76.33336863000022)\n",
            "INFO:flwr:fit progress: (15, 192.86463430523872, {'accuracy': 0.5659375}, 76.33336863000022)\n",
            "INFO flwr 2024-02-03 18:13:55,778 | server_returns_parameters.py:171 | evaluate_round 15: no clients selected, cancel\n",
            "INFO:flwr:evaluate_round 15: no clients selected, cancel\n",
            "DEBUG flwr 2024-02-03 18:13:55,784 | server_returns_parameters.py:223 | fit_round 16: strategy sampled 5 clients (out of 20)\n",
            "DEBUG:flwr:fit_round 16: strategy sampled 5 clients (out of 20)\n"
          ]
        },
        {
          "output_type": "stream",
          "name": "stdout",
          "text": [
            "cid:  3119\n",
            "cid:  2338\n",
            "cid:  1260\n",
            "cid:  2600\n",
            "cid:  2184\n"
          ]
        },
        {
          "output_type": "stream",
          "name": "stderr",
          "text": [
            "DEBUG flwr 2024-02-03 18:13:59,739 | server_returns_parameters.py:237 | fit_round 16 received 5 results and 0 failures\n",
            "DEBUG:flwr:fit_round 16 received 5 results and 0 failures\n",
            " 11%|█         | 100/891 [00:02<00:19, 41.44it/s]\n",
            "INFO flwr 2024-02-03 18:14:02,237 | server_returns_parameters.py:120 | fit progress: (16, 172.9945623278618, {'accuracy': 0.5709375}, 82.79808841800059)\n",
            "INFO:flwr:fit progress: (16, 172.9945623278618, {'accuracy': 0.5709375}, 82.79808841800059)\n",
            "INFO flwr 2024-02-03 18:14:02,242 | server_returns_parameters.py:171 | evaluate_round 16: no clients selected, cancel\n",
            "INFO:flwr:evaluate_round 16: no clients selected, cancel\n",
            "DEBUG flwr 2024-02-03 18:14:02,247 | server_returns_parameters.py:223 | fit_round 17: strategy sampled 5 clients (out of 20)\n",
            "DEBUG:flwr:fit_round 17: strategy sampled 5 clients (out of 20)\n"
          ]
        },
        {
          "output_type": "stream",
          "name": "stdout",
          "text": [
            "cid:  1260\n",
            "cid:  1363\n",
            "cid:  2338\n",
            "cid:  2184\n",
            "cid:  1603\n"
          ]
        },
        {
          "output_type": "stream",
          "name": "stderr",
          "text": [
            "DEBUG flwr 2024-02-03 18:14:05,090 | server_returns_parameters.py:237 | fit_round 17 received 5 results and 0 failures\n",
            "DEBUG:flwr:fit_round 17 received 5 results and 0 failures\n",
            " 11%|█         | 100/891 [00:01<00:13, 59.31it/s]\n",
            "INFO flwr 2024-02-03 18:14:06,829 | server_returns_parameters.py:120 | fit progress: (17, 174.5049204826355, {'accuracy': 0.5803125}, 87.38995582200005)\n",
            "INFO:flwr:fit progress: (17, 174.5049204826355, {'accuracy': 0.5803125}, 87.38995582200005)\n",
            "INFO flwr 2024-02-03 18:14:06,833 | server_returns_parameters.py:171 | evaluate_round 17: no clients selected, cancel\n",
            "INFO:flwr:evaluate_round 17: no clients selected, cancel\n",
            "DEBUG flwr 2024-02-03 18:14:06,842 | server_returns_parameters.py:223 | fit_round 18: strategy sampled 5 clients (out of 20)\n",
            "DEBUG:flwr:fit_round 18: strategy sampled 5 clients (out of 20)\n"
          ]
        },
        {
          "output_type": "stream",
          "name": "stdout",
          "text": [
            "cid:  2600\n",
            "cid:  1473\n",
            "cid:  2907\n",
            "cid:  2997\n",
            "cid:  1494\n"
          ]
        },
        {
          "output_type": "stream",
          "name": "stderr",
          "text": [
            "DEBUG flwr 2024-02-03 18:14:09,440 | server_returns_parameters.py:237 | fit_round 18 received 5 results and 0 failures\n",
            "DEBUG:flwr:fit_round 18 received 5 results and 0 failures\n",
            " 11%|█         | 100/891 [00:01<00:13, 60.20it/s]\n",
            "INFO flwr 2024-02-03 18:14:11,152 | server_returns_parameters.py:120 | fit progress: (18, 156.96501126885414, {'accuracy': 0.619375}, 91.71305136800038)\n",
            "INFO:flwr:fit progress: (18, 156.96501126885414, {'accuracy': 0.619375}, 91.71305136800038)\n",
            "INFO flwr 2024-02-03 18:14:11,157 | server_returns_parameters.py:171 | evaluate_round 18: no clients selected, cancel\n",
            "INFO:flwr:evaluate_round 18: no clients selected, cancel\n",
            "DEBUG flwr 2024-02-03 18:14:11,162 | server_returns_parameters.py:223 | fit_round 19: strategy sampled 5 clients (out of 20)\n",
            "DEBUG:flwr:fit_round 19: strategy sampled 5 clients (out of 20)\n"
          ]
        },
        {
          "output_type": "stream",
          "name": "stdout",
          "text": [
            "cid:  1494\n",
            "cid:  3175\n",
            "cid:  2997\n",
            "cid:  3119\n",
            "cid:  2338\n"
          ]
        },
        {
          "output_type": "stream",
          "name": "stderr",
          "text": [
            "DEBUG flwr 2024-02-03 18:14:14,354 | server_returns_parameters.py:237 | fit_round 19 received 5 results and 0 failures\n",
            "DEBUG:flwr:fit_round 19 received 5 results and 0 failures\n",
            " 11%|█         | 100/891 [00:02<00:19, 40.89it/s]\n",
            "INFO flwr 2024-02-03 18:14:16,883 | server_returns_parameters.py:120 | fit progress: (19, 167.41247481107712, {'accuracy': 0.6096875}, 97.44380416900003)\n",
            "INFO:flwr:fit progress: (19, 167.41247481107712, {'accuracy': 0.6096875}, 97.44380416900003)\n",
            "INFO flwr 2024-02-03 18:14:16,887 | server_returns_parameters.py:171 | evaluate_round 19: no clients selected, cancel\n",
            "INFO:flwr:evaluate_round 19: no clients selected, cancel\n",
            "DEBUG flwr 2024-02-03 18:14:16,894 | server_returns_parameters.py:223 | fit_round 20: strategy sampled 5 clients (out of 20)\n",
            "DEBUG:flwr:fit_round 20: strategy sampled 5 clients (out of 20)\n"
          ]
        },
        {
          "output_type": "stream",
          "name": "stdout",
          "text": [
            "cid:  2855\n",
            "cid:  1473\n",
            "cid:  1260\n",
            "cid:  3175\n",
            "cid:  2399\n"
          ]
        },
        {
          "output_type": "stream",
          "name": "stderr",
          "text": [
            "DEBUG flwr 2024-02-03 18:14:20,375 | server_returns_parameters.py:237 | fit_round 20 received 5 results and 0 failures\n",
            "DEBUG:flwr:fit_round 20 received 5 results and 0 failures\n",
            " 11%|█         | 100/891 [00:01<00:13, 58.77it/s]\n",
            "INFO flwr 2024-02-03 18:14:22,127 | server_returns_parameters.py:120 | fit progress: (20, 170.23314094543457, {'accuracy': 0.539375}, 102.68829291300062)\n",
            "INFO:flwr:fit progress: (20, 170.23314094543457, {'accuracy': 0.539375}, 102.68829291300062)\n",
            "INFO flwr 2024-02-03 18:14:22,134 | server_returns_parameters.py:171 | evaluate_round 20: no clients selected, cancel\n",
            "INFO:flwr:evaluate_round 20: no clients selected, cancel\n",
            "DEBUG flwr 2024-02-03 18:14:22,140 | server_returns_parameters.py:223 | fit_round 21: strategy sampled 5 clients (out of 20)\n",
            "DEBUG:flwr:fit_round 21: strategy sampled 5 clients (out of 20)\n"
          ]
        },
        {
          "output_type": "stream",
          "name": "stdout",
          "text": [
            "cid:  678\n",
            "cid:  1571\n",
            "cid:  cid:  2997\n",
            "1473\n",
            "cid:  1260\n"
          ]
        },
        {
          "output_type": "stream",
          "name": "stderr",
          "text": [
            "DEBUG flwr 2024-02-03 18:14:25,495 | server_returns_parameters.py:237 | fit_round 21 received 5 results and 0 failures\n",
            "DEBUG:flwr:fit_round 21 received 5 results and 0 failures\n",
            " 11%|█         | 100/891 [00:01<00:13, 59.24it/s]\n",
            "INFO flwr 2024-02-03 18:14:27,242 | server_returns_parameters.py:120 | fit progress: (21, 180.33515065908432, {'accuracy': 0.5303125}, 107.80340144799993)\n",
            "INFO:flwr:fit progress: (21, 180.33515065908432, {'accuracy': 0.5303125}, 107.80340144799993)\n",
            "INFO flwr 2024-02-03 18:14:27,247 | server_returns_parameters.py:171 | evaluate_round 21: no clients selected, cancel\n",
            "INFO:flwr:evaluate_round 21: no clients selected, cancel\n",
            "DEBUG flwr 2024-02-03 18:14:27,257 | server_returns_parameters.py:223 | fit_round 22: strategy sampled 5 clients (out of 20)\n",
            "DEBUG:flwr:fit_round 22: strategy sampled 5 clients (out of 20)\n"
          ]
        },
        {
          "output_type": "stream",
          "name": "stdout",
          "text": [
            "cid:  2399\n",
            "cid:  2855\n",
            "cid:  1571\n",
            "cid:  2184\n",
            "cid:  2530\n"
          ]
        },
        {
          "output_type": "stream",
          "name": "stderr",
          "text": [
            "DEBUG flwr 2024-02-03 18:14:30,418 | server_returns_parameters.py:237 | fit_round 22 received 5 results and 0 failures\n",
            "DEBUG:flwr:fit_round 22 received 5 results and 0 failures\n",
            " 11%|█         | 100/891 [00:02<00:20, 39.11it/s]\n",
            "INFO flwr 2024-02-03 18:14:33,062 | server_returns_parameters.py:120 | fit progress: (22, 153.46187728643417, {'accuracy': 0.6190625}, 113.62325861699992)\n",
            "INFO:flwr:fit progress: (22, 153.46187728643417, {'accuracy': 0.6190625}, 113.62325861699992)\n",
            "INFO flwr 2024-02-03 18:14:33,070 | server_returns_parameters.py:171 | evaluate_round 22: no clients selected, cancel\n",
            "INFO:flwr:evaluate_round 22: no clients selected, cancel\n",
            "DEBUG flwr 2024-02-03 18:14:33,074 | server_returns_parameters.py:223 | fit_round 23: strategy sampled 5 clients (out of 20)\n",
            "DEBUG:flwr:fit_round 23: strategy sampled 5 clients (out of 20)\n"
          ]
        },
        {
          "output_type": "stream",
          "name": "stdout",
          "text": [
            "cid:  3119\n",
            "cid: cid:  1260 2997\n",
            "\n",
            "cid:  1363\n",
            "cid:  1571\n"
          ]
        },
        {
          "output_type": "stream",
          "name": "stderr",
          "text": [
            "DEBUG flwr 2024-02-03 18:14:36,780 | server_returns_parameters.py:237 | fit_round 23 received 5 results and 0 failures\n",
            "DEBUG:flwr:fit_round 23 received 5 results and 0 failures\n",
            " 11%|█         | 100/891 [00:01<00:13, 58.68it/s]\n",
            "INFO flwr 2024-02-03 18:14:38,539 | server_returns_parameters.py:120 | fit progress: (23, 186.5402371287346, {'accuracy': 0.538125}, 119.09967229600079)\n",
            "INFO:flwr:fit progress: (23, 186.5402371287346, {'accuracy': 0.538125}, 119.09967229600079)\n",
            "INFO flwr 2024-02-03 18:14:38,542 | server_returns_parameters.py:171 | evaluate_round 23: no clients selected, cancel\n",
            "INFO:flwr:evaluate_round 23: no clients selected, cancel\n",
            "DEBUG flwr 2024-02-03 18:14:38,547 | server_returns_parameters.py:223 | fit_round 24: strategy sampled 5 clients (out of 20)\n",
            "DEBUG:flwr:fit_round 24: strategy sampled 5 clients (out of 20)\n"
          ]
        },
        {
          "output_type": "stream",
          "name": "stdout",
          "text": [
            "cid:  1473\n",
            "cid:  2600\n",
            "cid:  678\n",
            "cid:  1363\n",
            "cid:  1603\n"
          ]
        },
        {
          "output_type": "stream",
          "name": "stderr",
          "text": [
            "DEBUG flwr 2024-02-03 18:14:41,141 | server_returns_parameters.py:237 | fit_round 24 received 5 results and 0 failures\n",
            "DEBUG:flwr:fit_round 24 received 5 results and 0 failures\n",
            " 11%|█         | 100/891 [00:01<00:13, 57.83it/s]\n",
            "INFO flwr 2024-02-03 18:14:42,925 | server_returns_parameters.py:120 | fit progress: (24, 152.83864191174507, {'accuracy': 0.591875}, 123.48624836199997)\n",
            "INFO:flwr:fit progress: (24, 152.83864191174507, {'accuracy': 0.591875}, 123.48624836199997)\n",
            "INFO flwr 2024-02-03 18:14:42,929 | server_returns_parameters.py:171 | evaluate_round 24: no clients selected, cancel\n",
            "INFO:flwr:evaluate_round 24: no clients selected, cancel\n",
            "DEBUG flwr 2024-02-03 18:14:42,935 | server_returns_parameters.py:223 | fit_round 25: strategy sampled 5 clients (out of 20)\n",
            "DEBUG:flwr:fit_round 25: strategy sampled 5 clients (out of 20)\n"
          ]
        },
        {
          "output_type": "stream",
          "name": "stdout",
          "text": [
            "cid:  2688\n",
            "cid:  1473\n",
            "cid:  1494\n",
            "cid:  2338\n",
            "cid:  3175\n"
          ]
        },
        {
          "output_type": "stream",
          "name": "stderr",
          "text": [
            "DEBUG flwr 2024-02-03 18:14:45,364 | server_returns_parameters.py:237 | fit_round 25 received 5 results and 0 failures\n",
            "DEBUG:flwr:fit_round 25 received 5 results and 0 failures\n",
            " 11%|█         | 100/891 [00:02<00:16, 48.21it/s]\n",
            "INFO flwr 2024-02-03 18:14:47,496 | server_returns_parameters.py:120 | fit progress: (25, 134.61068606376648, {'accuracy': 0.638125}, 128.05665513500026)\n",
            "INFO:flwr:fit progress: (25, 134.61068606376648, {'accuracy': 0.638125}, 128.05665513500026)\n",
            "INFO flwr 2024-02-03 18:14:47,503 | server_returns_parameters.py:171 | evaluate_round 25: no clients selected, cancel\n",
            "INFO:flwr:evaluate_round 25: no clients selected, cancel\n",
            "DEBUG flwr 2024-02-03 18:14:47,510 | server_returns_parameters.py:223 | fit_round 26: strategy sampled 5 clients (out of 20)\n",
            "DEBUG:flwr:fit_round 26: strategy sampled 5 clients (out of 20)\n"
          ]
        },
        {
          "output_type": "stream",
          "name": "stdout",
          "text": [
            "cid:  678\n",
            "cid:  1473\n",
            "cid:  2907\n",
            "cid:  cid:  2530\n",
            "1603\n"
          ]
        },
        {
          "output_type": "stream",
          "name": "stderr",
          "text": [
            "DEBUG flwr 2024-02-03 18:14:50,699 | server_returns_parameters.py:237 | fit_round 26 received 5 results and 0 failures\n",
            "DEBUG:flwr:fit_round 26 received 5 results and 0 failures\n",
            " 11%|█         | 100/891 [00:02<00:17, 44.50it/s]\n",
            "INFO flwr 2024-02-03 18:14:53,033 | server_returns_parameters.py:120 | fit progress: (26, 156.0889964401722, {'accuracy': 0.6071875}, 133.59391390900055)\n",
            "INFO:flwr:fit progress: (26, 156.0889964401722, {'accuracy': 0.6071875}, 133.59391390900055)\n",
            "INFO flwr 2024-02-03 18:14:53,037 | server_returns_parameters.py:171 | evaluate_round 26: no clients selected, cancel\n",
            "INFO:flwr:evaluate_round 26: no clients selected, cancel\n",
            "DEBUG flwr 2024-02-03 18:14:53,039 | server_returns_parameters.py:223 | fit_round 27: strategy sampled 5 clients (out of 20)\n",
            "DEBUG:flwr:fit_round 27: strategy sampled 5 clients (out of 20)\n"
          ]
        },
        {
          "output_type": "stream",
          "name": "stdout",
          "text": [
            "cid:  1571\n",
            "cid: cid:  3175\n",
            " 2907\n",
            "cid: cid:   1473\n",
            "2855\n"
          ]
        },
        {
          "output_type": "stream",
          "name": "stderr",
          "text": [
            "DEBUG flwr 2024-02-03 18:14:55,589 | server_returns_parameters.py:237 | fit_round 27 received 5 results and 0 failures\n",
            "DEBUG:flwr:fit_round 27 received 5 results and 0 failures\n",
            " 11%|█         | 100/891 [00:01<00:13, 60.13it/s]\n",
            "INFO flwr 2024-02-03 18:14:57,310 | server_returns_parameters.py:120 | fit progress: (27, 154.1904871761799, {'accuracy': 0.6603125}, 137.87074241500068)\n",
            "INFO:flwr:fit progress: (27, 154.1904871761799, {'accuracy': 0.6603125}, 137.87074241500068)\n",
            "INFO flwr 2024-02-03 18:14:57,313 | server_returns_parameters.py:171 | evaluate_round 27: no clients selected, cancel\n",
            "INFO:flwr:evaluate_round 27: no clients selected, cancel\n",
            "DEBUG flwr 2024-02-03 18:14:57,321 | server_returns_parameters.py:223 | fit_round 28: strategy sampled 5 clients (out of 20)\n",
            "DEBUG:flwr:fit_round 28: strategy sampled 5 clients (out of 20)\n"
          ]
        },
        {
          "output_type": "stream",
          "name": "stdout",
          "text": [
            "cid:  2338\n",
            "cid:  2184\n",
            "cid:  839cid:  1473\n",
            "\n",
            "cid:  2997\n"
          ]
        },
        {
          "output_type": "stream",
          "name": "stderr",
          "text": [
            "DEBUG flwr 2024-02-03 18:14:59,900 | server_returns_parameters.py:237 | fit_round 28 received 5 results and 0 failures\n",
            "DEBUG:flwr:fit_round 28 received 5 results and 0 failures\n",
            " 11%|█         | 100/891 [00:01<00:13, 57.48it/s]\n",
            "INFO flwr 2024-02-03 18:15:01,693 | server_returns_parameters.py:120 | fit progress: (28, 147.16738042235374, {'accuracy': 0.6384375}, 142.25396236100005)\n",
            "INFO:flwr:fit progress: (28, 147.16738042235374, {'accuracy': 0.6384375}, 142.25396236100005)\n",
            "INFO flwr 2024-02-03 18:15:01,697 | server_returns_parameters.py:171 | evaluate_round 28: no clients selected, cancel\n",
            "INFO:flwr:evaluate_round 28: no clients selected, cancel\n",
            "DEBUG flwr 2024-02-03 18:15:01,701 | server_returns_parameters.py:223 | fit_round 29: strategy sampled 5 clients (out of 20)\n",
            "DEBUG:flwr:fit_round 29: strategy sampled 5 clients (out of 20)\n"
          ]
        },
        {
          "output_type": "stream",
          "name": "stdout",
          "text": [
            "cid:  1603\n",
            "cid:  1498\n",
            "cid:  678\n",
            "cid:  1363\n",
            "cid:  2184\n"
          ]
        },
        {
          "output_type": "stream",
          "name": "stderr",
          "text": [
            "DEBUG flwr 2024-02-03 18:15:04,957 | server_returns_parameters.py:237 | fit_round 29 received 5 results and 0 failures\n",
            "DEBUG:flwr:fit_round 29 received 5 results and 0 failures\n",
            " 11%|█         | 100/891 [00:02<00:20, 39.43it/s]\n",
            "INFO flwr 2024-02-03 18:15:07,585 | server_returns_parameters.py:120 | fit progress: (29, 151.13363254070282, {'accuracy': 0.6353125}, 148.1462898640002)\n",
            "INFO:flwr:fit progress: (29, 151.13363254070282, {'accuracy': 0.6353125}, 148.1462898640002)\n",
            "INFO flwr 2024-02-03 18:15:07,591 | server_returns_parameters.py:171 | evaluate_round 29: no clients selected, cancel\n",
            "INFO:flwr:evaluate_round 29: no clients selected, cancel\n",
            "DEBUG flwr 2024-02-03 18:15:07,598 | server_returns_parameters.py:223 | fit_round 30: strategy sampled 5 clients (out of 20)\n",
            "DEBUG:flwr:fit_round 30: strategy sampled 5 clients (out of 20)\n"
          ]
        },
        {
          "output_type": "stream",
          "name": "stdout",
          "text": [
            "cid:  2855\n",
            "cid: cid:  2997\n",
            " 2600\n",
            "cid:  1571cid:  3175\n",
            "\n"
          ]
        },
        {
          "output_type": "stream",
          "name": "stderr",
          "text": [
            "DEBUG flwr 2024-02-03 18:15:11,240 | server_returns_parameters.py:237 | fit_round 30 received 5 results and 0 failures\n",
            "DEBUG:flwr:fit_round 30 received 5 results and 0 failures\n",
            " 11%|█         | 100/891 [00:01<00:14, 56.38it/s]\n",
            "INFO flwr 2024-02-03 18:15:13,069 | server_returns_parameters.py:120 | fit progress: (30, 153.8148960620165, {'accuracy': 0.63125}, 153.62986699400062)\n",
            "INFO:flwr:fit progress: (30, 153.8148960620165, {'accuracy': 0.63125}, 153.62986699400062)\n",
            "INFO flwr 2024-02-03 18:15:13,073 | server_returns_parameters.py:171 | evaluate_round 30: no clients selected, cancel\n",
            "INFO:flwr:evaluate_round 30: no clients selected, cancel\n",
            "DEBUG flwr 2024-02-03 18:15:13,077 | server_returns_parameters.py:223 | fit_round 31: strategy sampled 5 clients (out of 20)\n",
            "DEBUG:flwr:fit_round 31: strategy sampled 5 clients (out of 20)\n"
          ]
        },
        {
          "output_type": "stream",
          "name": "stdout",
          "text": [
            "cid:  2688\n",
            "cid:  1498\n",
            "cid:  2338\n",
            "cid:  839\n",
            "cid:  2184\n"
          ]
        },
        {
          "output_type": "stream",
          "name": "stderr",
          "text": [
            "DEBUG flwr 2024-02-03 18:15:15,687 | server_returns_parameters.py:237 | fit_round 31 received 5 results and 0 failures\n",
            "DEBUG:flwr:fit_round 31 received 5 results and 0 failures\n",
            " 11%|█         | 100/891 [00:01<00:13, 57.20it/s]\n",
            "INFO flwr 2024-02-03 18:15:17,509 | server_returns_parameters.py:120 | fit progress: (31, 148.31043702363968, {'accuracy': 0.645625}, 158.0703982490004)\n",
            "INFO:flwr:fit progress: (31, 148.31043702363968, {'accuracy': 0.645625}, 158.0703982490004)\n",
            "INFO flwr 2024-02-03 18:15:17,513 | server_returns_parameters.py:171 | evaluate_round 31: no clients selected, cancel\n",
            "INFO:flwr:evaluate_round 31: no clients selected, cancel\n",
            "DEBUG flwr 2024-02-03 18:15:17,519 | server_returns_parameters.py:223 | fit_round 32: strategy sampled 5 clients (out of 20)\n",
            "DEBUG:flwr:fit_round 32: strategy sampled 5 clients (out of 20)\n"
          ]
        },
        {
          "output_type": "stream",
          "name": "stdout",
          "text": [
            "cid:  3119\n",
            "cid:  2855\n",
            "cid:  1363\n",
            "cid:  2530\n",
            "cid:  2338\n"
          ]
        },
        {
          "output_type": "stream",
          "name": "stderr",
          "text": [
            "DEBUG flwr 2024-02-03 18:15:20,379 | server_returns_parameters.py:237 | fit_round 32 received 5 results and 0 failures\n",
            "DEBUG:flwr:fit_round 32 received 5 results and 0 failures\n",
            " 11%|█         | 100/891 [00:02<00:18, 42.35it/s]\n",
            "INFO flwr 2024-02-03 18:15:22,792 | server_returns_parameters.py:120 | fit progress: (32, 143.02386248111725, {'accuracy': 0.6396875}, 163.35339602300064)\n",
            "INFO:flwr:fit progress: (32, 143.02386248111725, {'accuracy': 0.6396875}, 163.35339602300064)\n",
            "INFO flwr 2024-02-03 18:15:22,796 | server_returns_parameters.py:171 | evaluate_round 32: no clients selected, cancel\n",
            "INFO:flwr:evaluate_round 32: no clients selected, cancel\n",
            "DEBUG flwr 2024-02-03 18:15:22,801 | server_returns_parameters.py:223 | fit_round 33: strategy sampled 5 clients (out of 20)\n",
            "DEBUG:flwr:fit_round 33: strategy sampled 5 clients (out of 20)\n"
          ]
        },
        {
          "output_type": "stream",
          "name": "stdout",
          "text": [
            "cid:  2338\n",
            "cid:  1603\n",
            "cid:  2907\n",
            "cid:  2855\n",
            "cid:  2688\n"
          ]
        },
        {
          "output_type": "stream",
          "name": "stderr",
          "text": [
            "DEBUG flwr 2024-02-03 18:15:25,860 | server_returns_parameters.py:237 | fit_round 33 received 5 results and 0 failures\n",
            "DEBUG:flwr:fit_round 33 received 5 results and 0 failures\n",
            " 11%|█         | 100/891 [00:01<00:15, 50.35it/s]\n",
            "INFO flwr 2024-02-03 18:15:27,924 | server_returns_parameters.py:120 | fit progress: (33, 158.22810666263103, {'accuracy': 0.6646875}, 168.48518621900075)\n",
            "INFO:flwr:fit progress: (33, 158.22810666263103, {'accuracy': 0.6646875}, 168.48518621900075)\n",
            "INFO flwr 2024-02-03 18:15:27,928 | server_returns_parameters.py:171 | evaluate_round 33: no clients selected, cancel\n",
            "INFO:flwr:evaluate_round 33: no clients selected, cancel\n",
            "DEBUG flwr 2024-02-03 18:15:27,933 | server_returns_parameters.py:223 | fit_round 34: strategy sampled 5 clients (out of 20)\n",
            "DEBUG:flwr:fit_round 34: strategy sampled 5 clients (out of 20)\n"
          ]
        },
        {
          "output_type": "stream",
          "name": "stdout",
          "text": [
            "cid:  2530\n",
            "cid:  2399\n",
            "cid:  2997cid:  2688\n",
            "cid:  678\n",
            "\n"
          ]
        },
        {
          "output_type": "stream",
          "name": "stderr",
          "text": [
            "DEBUG flwr 2024-02-03 18:15:31,037 | server_returns_parameters.py:237 | fit_round 34 received 5 results and 0 failures\n",
            "DEBUG:flwr:fit_round 34 received 5 results and 0 failures\n",
            " 11%|█         | 100/891 [00:01<00:13, 60.56it/s]\n",
            "INFO flwr 2024-02-03 18:15:32,744 | server_returns_parameters.py:120 | fit progress: (34, 154.28435045480728, {'accuracy': 0.61}, 173.3051264700007)\n",
            "INFO:flwr:fit progress: (34, 154.28435045480728, {'accuracy': 0.61}, 173.3051264700007)\n",
            "INFO flwr 2024-02-03 18:15:32,747 | server_returns_parameters.py:171 | evaluate_round 34: no clients selected, cancel\n",
            "INFO:flwr:evaluate_round 34: no clients selected, cancel\n",
            "DEBUG flwr 2024-02-03 18:15:32,753 | server_returns_parameters.py:223 | fit_round 35: strategy sampled 5 clients (out of 20)\n",
            "DEBUG:flwr:fit_round 35: strategy sampled 5 clients (out of 20)\n"
          ]
        },
        {
          "output_type": "stream",
          "name": "stdout",
          "text": [
            "cid:  678\n",
            "cid:  cid:  1603\n",
            "2184\n",
            "cid:  3119\n",
            "cid:  1473\n"
          ]
        },
        {
          "output_type": "stream",
          "name": "stderr",
          "text": [
            "DEBUG flwr 2024-02-03 18:15:35,343 | server_returns_parameters.py:237 | fit_round 35 received 5 results and 0 failures\n",
            "DEBUG:flwr:fit_round 35 received 5 results and 0 failures\n",
            " 11%|█         | 100/891 [00:01<00:14, 53.32it/s]\n",
            "INFO flwr 2024-02-03 18:15:37,275 | server_returns_parameters.py:120 | fit progress: (35, 152.5923340022564, {'accuracy': 0.661875}, 177.8362008590002)\n",
            "INFO:flwr:fit progress: (35, 152.5923340022564, {'accuracy': 0.661875}, 177.8362008590002)\n",
            "INFO flwr 2024-02-03 18:15:37,281 | server_returns_parameters.py:171 | evaluate_round 35: no clients selected, cancel\n",
            "INFO:flwr:evaluate_round 35: no clients selected, cancel\n",
            "DEBUG flwr 2024-02-03 18:15:37,287 | server_returns_parameters.py:223 | fit_round 36: strategy sampled 5 clients (out of 20)\n",
            "DEBUG:flwr:fit_round 36: strategy sampled 5 clients (out of 20)\n"
          ]
        },
        {
          "output_type": "stream",
          "name": "stdout",
          "text": [
            "cid:  1363\n",
            "cid:  1571\n",
            "cid:  2530\n",
            "cid:  1260\n",
            "cid:  2600\n"
          ]
        },
        {
          "output_type": "stream",
          "name": "stderr",
          "text": [
            "DEBUG flwr 2024-02-03 18:15:41,328 | server_returns_parameters.py:237 | fit_round 36 received 5 results and 0 failures\n",
            "DEBUG:flwr:fit_round 36 received 5 results and 0 failures\n",
            " 11%|█         | 100/891 [00:02<00:18, 42.62it/s]\n",
            "INFO flwr 2024-02-03 18:15:43,774 | server_returns_parameters.py:120 | fit progress: (36, 155.31256711483002, {'accuracy': 0.6075}, 184.33478137200018)\n",
            "INFO:flwr:fit progress: (36, 155.31256711483002, {'accuracy': 0.6075}, 184.33478137200018)\n",
            "INFO flwr 2024-02-03 18:15:43,778 | server_returns_parameters.py:171 | evaluate_round 36: no clients selected, cancel\n",
            "INFO:flwr:evaluate_round 36: no clients selected, cancel\n",
            "DEBUG flwr 2024-02-03 18:15:43,782 | server_returns_parameters.py:223 | fit_round 37: strategy sampled 5 clients (out of 20)\n",
            "DEBUG:flwr:fit_round 37: strategy sampled 5 clients (out of 20)\n"
          ]
        },
        {
          "output_type": "stream",
          "name": "stdout",
          "text": [
            "cid:  1498\n",
            "cid:  2399\n",
            "cid:  2907\n",
            "cid:  2530\n",
            "cid:  1363\n"
          ]
        },
        {
          "output_type": "stream",
          "name": "stderr",
          "text": [
            "DEBUG flwr 2024-02-03 18:15:46,582 | server_returns_parameters.py:237 | fit_round 37 received 5 results and 0 failures\n",
            "DEBUG:flwr:fit_round 37 received 5 results and 0 failures\n",
            " 11%|█         | 100/891 [00:01<00:13, 60.04it/s]\n",
            "INFO flwr 2024-02-03 18:15:48,298 | server_returns_parameters.py:120 | fit progress: (37, 141.68704864382744, {'accuracy': 0.6709375}, 188.85935526899993)\n",
            "INFO:flwr:fit progress: (37, 141.68704864382744, {'accuracy': 0.6709375}, 188.85935526899993)\n",
            "INFO flwr 2024-02-03 18:15:48,303 | server_returns_parameters.py:171 | evaluate_round 37: no clients selected, cancel\n",
            "INFO:flwr:evaluate_round 37: no clients selected, cancel\n",
            "DEBUG flwr 2024-02-03 18:15:48,307 | server_returns_parameters.py:223 | fit_round 38: strategy sampled 5 clients (out of 20)\n",
            "DEBUG:flwr:fit_round 38: strategy sampled 5 clients (out of 20)\n"
          ]
        },
        {
          "output_type": "stream",
          "name": "stdout",
          "text": [
            "cid:  2997\n",
            "cid:  2399\n",
            "cid:  1494\n",
            "cid:  1498\n",
            "cid:  2907\n"
          ]
        },
        {
          "output_type": "stream",
          "name": "stderr",
          "text": [
            "DEBUG flwr 2024-02-03 18:15:50,964 | server_returns_parameters.py:237 | fit_round 38 received 5 results and 0 failures\n",
            "DEBUG:flwr:fit_round 38 received 5 results and 0 failures\n",
            " 11%|█         | 100/891 [00:01<00:14, 56.34it/s]\n",
            "INFO flwr 2024-02-03 18:15:52,791 | server_returns_parameters.py:120 | fit progress: (38, 153.15363809466362, {'accuracy': 0.6484375}, 193.352369231)\n",
            "INFO:flwr:fit progress: (38, 153.15363809466362, {'accuracy': 0.6484375}, 193.352369231)\n",
            "INFO flwr 2024-02-03 18:15:52,796 | server_returns_parameters.py:171 | evaluate_round 38: no clients selected, cancel\n",
            "INFO:flwr:evaluate_round 38: no clients selected, cancel\n",
            "DEBUG flwr 2024-02-03 18:15:52,805 | server_returns_parameters.py:223 | fit_round 39: strategy sampled 5 clients (out of 20)\n",
            "DEBUG:flwr:fit_round 39: strategy sampled 5 clients (out of 20)\n"
          ]
        },
        {
          "output_type": "stream",
          "name": "stdout",
          "text": [
            "cid:  2399\n",
            "cid: cid:  1473\n",
            " 3119\n",
            "cid:  678\n",
            "cid:  2184\n"
          ]
        },
        {
          "output_type": "stream",
          "name": "stderr",
          "text": [
            "DEBUG flwr 2024-02-03 18:15:55,968 | server_returns_parameters.py:237 | fit_round 39 received 5 results and 0 failures\n",
            "DEBUG:flwr:fit_round 39 received 5 results and 0 failures\n",
            " 11%|█         | 100/891 [00:02<00:19, 41.51it/s]\n",
            "INFO flwr 2024-02-03 18:15:58,464 | server_returns_parameters.py:120 | fit progress: (39, 155.62574195861816, {'accuracy': 0.66125}, 199.02477028400062)\n",
            "INFO:flwr:fit progress: (39, 155.62574195861816, {'accuracy': 0.66125}, 199.02477028400062)\n",
            "INFO flwr 2024-02-03 18:15:58,472 | server_returns_parameters.py:171 | evaluate_round 39: no clients selected, cancel\n",
            "INFO:flwr:evaluate_round 39: no clients selected, cancel\n",
            "DEBUG flwr 2024-02-03 18:15:58,479 | server_returns_parameters.py:223 | fit_round 40: strategy sampled 5 clients (out of 20)\n",
            "DEBUG:flwr:fit_round 40: strategy sampled 5 clients (out of 20)\n"
          ]
        },
        {
          "output_type": "stream",
          "name": "stdout",
          "text": [
            "cid:  1260\n",
            "cid:  678\n",
            "cid:  1494\n",
            "cid:  1571\n",
            "cid:  1603\n"
          ]
        },
        {
          "output_type": "stream",
          "name": "stderr",
          "text": [
            "DEBUG flwr 2024-02-03 18:16:02,107 | server_returns_parameters.py:237 | fit_round 40 received 5 results and 0 failures\n",
            "DEBUG:flwr:fit_round 40 received 5 results and 0 failures\n",
            " 11%|█         | 100/891 [00:01<00:13, 58.58it/s]\n",
            "INFO flwr 2024-02-03 18:16:03,871 | server_returns_parameters.py:120 | fit progress: (40, 174.7693737745285, {'accuracy': 0.5403125}, 204.43168835600045)\n",
            "INFO:flwr:fit progress: (40, 174.7693737745285, {'accuracy': 0.5403125}, 204.43168835600045)\n",
            "INFO flwr 2024-02-03 18:16:03,875 | server_returns_parameters.py:171 | evaluate_round 40: no clients selected, cancel\n",
            "INFO:flwr:evaluate_round 40: no clients selected, cancel\n",
            "DEBUG flwr 2024-02-03 18:16:03,880 | server_returns_parameters.py:223 | fit_round 41: strategy sampled 5 clients (out of 20)\n",
            "DEBUG:flwr:fit_round 41: strategy sampled 5 clients (out of 20)\n"
          ]
        },
        {
          "output_type": "stream",
          "name": "stdout",
          "text": [
            "cid:  2855\n",
            "cid:  2997\n",
            "cid:  2907\n",
            "cid:  3119\n",
            "cid:  839\n"
          ]
        },
        {
          "output_type": "stream",
          "name": "stderr",
          "text": [
            "DEBUG flwr 2024-02-03 18:16:06,782 | server_returns_parameters.py:237 | fit_round 41 received 5 results and 0 failures\n",
            "DEBUG:flwr:fit_round 41 received 5 results and 0 failures\n",
            " 11%|█         | 100/891 [00:01<00:14, 56.06it/s]\n",
            "INFO flwr 2024-02-03 18:16:08,618 | server_returns_parameters.py:120 | fit progress: (41, 157.47164791822433, {'accuracy': 0.6428125}, 209.17887660900033)\n",
            "INFO:flwr:fit progress: (41, 157.47164791822433, {'accuracy': 0.6428125}, 209.17887660900033)\n",
            "INFO flwr 2024-02-03 18:16:08,621 | server_returns_parameters.py:171 | evaluate_round 41: no clients selected, cancel\n",
            "INFO:flwr:evaluate_round 41: no clients selected, cancel\n",
            "DEBUG flwr 2024-02-03 18:16:08,626 | server_returns_parameters.py:223 | fit_round 42: strategy sampled 5 clients (out of 20)\n",
            "DEBUG:flwr:fit_round 42: strategy sampled 5 clients (out of 20)\n"
          ]
        },
        {
          "output_type": "stream",
          "name": "stdout",
          "text": [
            "cid:  2338\n",
            "cid:  2600\n",
            "cid:  3175\n",
            "cid: cid:   1473\n",
            "2530\n"
          ]
        },
        {
          "output_type": "stream",
          "name": "stderr",
          "text": [
            "DEBUG flwr 2024-02-03 18:16:11,696 | server_returns_parameters.py:237 | fit_round 42 received 5 results and 0 failures\n",
            "DEBUG:flwr:fit_round 42 received 5 results and 0 failures\n",
            " 11%|█         | 100/891 [00:02<00:19, 41.25it/s]\n",
            "INFO flwr 2024-02-03 18:16:14,224 | server_returns_parameters.py:120 | fit progress: (42, 133.98389742523432, {'accuracy': 0.6684375}, 214.7846768320005)\n",
            "INFO:flwr:fit progress: (42, 133.98389742523432, {'accuracy': 0.6684375}, 214.7846768320005)\n",
            "INFO flwr 2024-02-03 18:16:14,229 | server_returns_parameters.py:171 | evaluate_round 42: no clients selected, cancel\n",
            "INFO:flwr:evaluate_round 42: no clients selected, cancel\n",
            "DEBUG flwr 2024-02-03 18:16:14,234 | server_returns_parameters.py:223 | fit_round 43: strategy sampled 5 clients (out of 20)\n",
            "DEBUG:flwr:fit_round 43: strategy sampled 5 clients (out of 20)\n"
          ]
        },
        {
          "output_type": "stream",
          "name": "stdout",
          "text": [
            "cid:  2530\n",
            "cid:  678\n",
            "cid:  2184\n",
            "cid:  1498\n",
            "cid:  1473\n"
          ]
        },
        {
          "output_type": "stream",
          "name": "stderr",
          "text": [
            "DEBUG flwr 2024-02-03 18:16:17,779 | server_returns_parameters.py:237 | fit_round 43 received 5 results and 0 failures\n",
            "DEBUG:flwr:fit_round 43 received 5 results and 0 failures\n",
            " 11%|█         | 100/891 [00:01<00:14, 55.42it/s]\n",
            "INFO flwr 2024-02-03 18:16:19,671 | server_returns_parameters.py:120 | fit progress: (43, 147.4783234000206, {'accuracy': 0.675625}, 220.23172403800072)\n",
            "INFO:flwr:fit progress: (43, 147.4783234000206, {'accuracy': 0.675625}, 220.23172403800072)\n",
            "INFO flwr 2024-02-03 18:16:19,680 | server_returns_parameters.py:171 | evaluate_round 43: no clients selected, cancel\n",
            "INFO:flwr:evaluate_round 43: no clients selected, cancel\n",
            "DEBUG flwr 2024-02-03 18:16:19,684 | server_returns_parameters.py:223 | fit_round 44: strategy sampled 5 clients (out of 20)\n",
            "DEBUG:flwr:fit_round 44: strategy sampled 5 clients (out of 20)\n"
          ]
        },
        {
          "output_type": "stream",
          "name": "stdout",
          "text": [
            "cid:  3175\n",
            "cid:  839\n",
            "cid:  3119\n",
            "cid:  1363\n",
            "cid:  2338\n"
          ]
        },
        {
          "output_type": "stream",
          "name": "stderr",
          "text": [
            "DEBUG flwr 2024-02-03 18:16:22,286 | server_returns_parameters.py:237 | fit_round 44 received 5 results and 0 failures\n",
            "DEBUG:flwr:fit_round 44 received 5 results and 0 failures\n",
            " 11%|█         | 100/891 [00:01<00:12, 61.24it/s]\n",
            "INFO flwr 2024-02-03 18:16:23,971 | server_returns_parameters.py:120 | fit progress: (44, 138.557025000453, {'accuracy': 0.66875}, 224.53161583100064)\n",
            "INFO:flwr:fit progress: (44, 138.557025000453, {'accuracy': 0.66875}, 224.53161583100064)\n",
            "INFO flwr 2024-02-03 18:16:23,975 | server_returns_parameters.py:171 | evaluate_round 44: no clients selected, cancel\n",
            "INFO:flwr:evaluate_round 44: no clients selected, cancel\n",
            "DEBUG flwr 2024-02-03 18:16:23,979 | server_returns_parameters.py:223 | fit_round 45: strategy sampled 5 clients (out of 20)\n",
            "DEBUG:flwr:fit_round 45: strategy sampled 5 clients (out of 20)\n"
          ]
        },
        {
          "output_type": "stream",
          "name": "stdout",
          "text": [
            "cid:  2530\n",
            "cid:  1260\n",
            "cid:  1363\n",
            "cid:  2855\n",
            "cid:  2600\n"
          ]
        },
        {
          "output_type": "stream",
          "name": "stderr",
          "text": [
            "DEBUG flwr 2024-02-03 18:16:27,406 | server_returns_parameters.py:237 | fit_round 45 received 5 results and 0 failures\n",
            "DEBUG:flwr:fit_round 45 received 5 results and 0 failures\n",
            " 11%|█         | 100/891 [00:02<00:16, 46.95it/s]\n",
            "INFO flwr 2024-02-03 18:16:29,595 | server_returns_parameters.py:120 | fit progress: (45, 169.97158586978912, {'accuracy': 0.605625}, 230.1556962780005)\n",
            "INFO:flwr:fit progress: (45, 169.97158586978912, {'accuracy': 0.605625}, 230.1556962780005)\n",
            "INFO flwr 2024-02-03 18:16:29,601 | server_returns_parameters.py:171 | evaluate_round 45: no clients selected, cancel\n",
            "INFO:flwr:evaluate_round 45: no clients selected, cancel\n",
            "DEBUG flwr 2024-02-03 18:16:29,607 | server_returns_parameters.py:223 | fit_round 46: strategy sampled 5 clients (out of 20)\n",
            "DEBUG:flwr:fit_round 46: strategy sampled 5 clients (out of 20)\n"
          ]
        },
        {
          "output_type": "stream",
          "name": "stdout",
          "text": [
            "cid:  2184\n",
            "cid: cid:  1571\n",
            " 2530\n",
            "cid: cid:  2907\n",
            " 1494\n"
          ]
        },
        {
          "output_type": "stream",
          "name": "stderr",
          "text": [
            "DEBUG flwr 2024-02-03 18:16:32,933 | server_returns_parameters.py:237 | fit_round 46 received 5 results and 0 failures\n",
            "DEBUG:flwr:fit_round 46 received 5 results and 0 failures\n",
            " 11%|█         | 100/891 [00:02<00:18, 42.24it/s]\n",
            "INFO flwr 2024-02-03 18:16:35,388 | server_returns_parameters.py:120 | fit progress: (46, 158.09033739566803, {'accuracy': 0.663125}, 235.94887202600057)\n",
            "INFO:flwr:fit progress: (46, 158.09033739566803, {'accuracy': 0.663125}, 235.94887202600057)\n",
            "INFO flwr 2024-02-03 18:16:35,391 | server_returns_parameters.py:171 | evaluate_round 46: no clients selected, cancel\n",
            "INFO:flwr:evaluate_round 46: no clients selected, cancel\n",
            "DEBUG flwr 2024-02-03 18:16:35,395 | server_returns_parameters.py:223 | fit_round 47: strategy sampled 5 clients (out of 20)\n",
            "DEBUG:flwr:fit_round 47: strategy sampled 5 clients (out of 20)\n"
          ]
        },
        {
          "output_type": "stream",
          "name": "stdout",
          "text": [
            "cid:  2184\n",
            "cid:  2600\n",
            "cid:  1260\n",
            "cid:  3119\n",
            "cid:  1473\n"
          ]
        },
        {
          "output_type": "stream",
          "name": "stderr",
          "text": [
            "DEBUG flwr 2024-02-03 18:16:38,349 | server_returns_parameters.py:237 | fit_round 47 received 5 results and 0 failures\n",
            "DEBUG:flwr:fit_round 47 received 5 results and 0 failures\n",
            " 11%|█         | 100/891 [00:01<00:13, 58.03it/s]\n",
            "INFO flwr 2024-02-03 18:16:40,127 | server_returns_parameters.py:120 | fit progress: (47, 152.5158703327179, {'accuracy': 0.660625}, 240.68774882400066)\n",
            "INFO:flwr:fit progress: (47, 152.5158703327179, {'accuracy': 0.660625}, 240.68774882400066)\n",
            "INFO flwr 2024-02-03 18:16:40,132 | server_returns_parameters.py:171 | evaluate_round 47: no clients selected, cancel\n",
            "INFO:flwr:evaluate_round 47: no clients selected, cancel\n",
            "DEBUG flwr 2024-02-03 18:16:40,136 | server_returns_parameters.py:223 | fit_round 48: strategy sampled 5 clients (out of 20)\n",
            "DEBUG:flwr:fit_round 48: strategy sampled 5 clients (out of 20)\n"
          ]
        },
        {
          "output_type": "stream",
          "name": "stdout",
          "text": [
            "cid:  2855\n",
            "cid:  2399\n",
            "cid:  2530\n",
            "cid:  1494\n",
            "cid:  2688\n"
          ]
        },
        {
          "output_type": "stream",
          "name": "stderr",
          "text": [
            "DEBUG flwr 2024-02-03 18:16:42,905 | server_returns_parameters.py:237 | fit_round 48 received 5 results and 0 failures\n",
            "DEBUG:flwr:fit_round 48 received 5 results and 0 failures\n",
            " 11%|█         | 100/891 [00:01<00:13, 58.64it/s]\n",
            "INFO flwr 2024-02-03 18:16:44,663 | server_returns_parameters.py:120 | fit progress: (48, 143.73019905388355, {'accuracy': 0.650625}, 245.2243987010006)\n",
            "INFO:flwr:fit progress: (48, 143.73019905388355, {'accuracy': 0.650625}, 245.2243987010006)\n",
            "INFO flwr 2024-02-03 18:16:44,671 | server_returns_parameters.py:171 | evaluate_round 48: no clients selected, cancel\n",
            "INFO:flwr:evaluate_round 48: no clients selected, cancel\n",
            "DEBUG flwr 2024-02-03 18:16:44,676 | server_returns_parameters.py:223 | fit_round 49: strategy sampled 5 clients (out of 20)\n",
            "DEBUG:flwr:fit_round 49: strategy sampled 5 clients (out of 20)\n"
          ]
        },
        {
          "output_type": "stream",
          "name": "stdout",
          "text": [
            "cid:  2997\n",
            "cid:  2907\n",
            "cid:  1260\n",
            "cid:  1494\n",
            "cid:  2688\n"
          ]
        },
        {
          "output_type": "stream",
          "name": "stderr",
          "text": [
            "DEBUG flwr 2024-02-03 18:16:48,622 | server_returns_parameters.py:237 | fit_round 49 received 5 results and 0 failures\n",
            "DEBUG:flwr:fit_round 49 received 5 results and 0 failures\n",
            " 11%|█         | 100/891 [00:02<00:19, 39.72it/s]\n",
            "INFO flwr 2024-02-03 18:16:51,231 | server_returns_parameters.py:120 | fit progress: (49, 166.48653443157673, {'accuracy': 0.62125}, 251.79206111800067)\n",
            "INFO:flwr:fit progress: (49, 166.48653443157673, {'accuracy': 0.62125}, 251.79206111800067)\n",
            "INFO flwr 2024-02-03 18:16:51,238 | server_returns_parameters.py:171 | evaluate_round 49: no clients selected, cancel\n",
            "INFO:flwr:evaluate_round 49: no clients selected, cancel\n",
            "DEBUG flwr 2024-02-03 18:16:51,242 | server_returns_parameters.py:223 | fit_round 50: strategy sampled 5 clients (out of 20)\n",
            "DEBUG:flwr:fit_round 50: strategy sampled 5 clients (out of 20)\n"
          ]
        },
        {
          "output_type": "stream",
          "name": "stdout",
          "text": [
            "cid:  3119\n",
            "cid:  839\n",
            "cid:  2399\n",
            "cid:  1260cid:  \n",
            "678\n"
          ]
        },
        {
          "output_type": "stream",
          "name": "stderr",
          "text": [
            "DEBUG flwr 2024-02-03 18:16:54,847 | server_returns_parameters.py:237 | fit_round 50 received 5 results and 0 failures\n",
            "DEBUG:flwr:fit_round 50 received 5 results and 0 failures\n",
            " 11%|█         | 100/891 [00:01<00:13, 59.94it/s]\n",
            "INFO flwr 2024-02-03 18:16:56,567 | server_returns_parameters.py:120 | fit progress: (50, 186.29698264598846, {'accuracy': 0.5696875}, 257.12836613700074)\n",
            "INFO:flwr:fit progress: (50, 186.29698264598846, {'accuracy': 0.5696875}, 257.12836613700074)\n",
            "INFO flwr 2024-02-03 18:16:56,573 | server_returns_parameters.py:171 | evaluate_round 50: no clients selected, cancel\n",
            "INFO:flwr:evaluate_round 50: no clients selected, cancel\n",
            "INFO flwr 2024-02-03 18:16:56,577 | server_returns_parameters.py:150 | FL finished in 257.13761224800055\n",
            "INFO:flwr:FL finished in 257.13761224800055\n",
            "INFO flwr 2024-02-03 18:16:56,579 | app.py:250 | app_fit: losses_distributed []\n",
            "INFO:flwr:app_fit: losses_distributed []\n",
            "INFO flwr 2024-02-03 18:16:56,582 | app.py:251 | app_fit: metrics_distributed_fit {'train_loss': [(1, {'avg': 0.10457001094307218, 'all': [(4, 0.10569965653121471), (4, 0.10376395657658577), (4, 0.10462952591478825), (4, 0.105412308126688), (5, 0.10358968824148178)]}), (2, {'avg': 0.10434792297227043, 'all': [(4, 0.1017841286957264), (4, 0.10357582941651344), (3, 0.1079376886288325), (5, 0.10549080818891525), (5, 0.10371988862752915)]}), (3, {'avg': 0.10437756621589263, 'all': [(3, 0.10240166634321213), (4, 0.10310450941324234), (5, 0.10308728069067001), (8, 0.1090995678678155), (4, 0.09930140152573586)]}), (4, {'avg': 0.092203613743186, 'all': [(5, 0.0925570234656334), (4, 0.08911311812698841), (4, 0.0906379446387291), (4, 0.09692973643541336), (3, 0.0915213202436765)]}), (5, {'avg': 0.08765860258237175, 'all': [(5, 0.07774207293987274), (5, 0.0823471039533615), (4, 0.08019286021590233), (3, 0.08721757183472316), (6, 0.10554630309343338)]}), (6, {'avg': 0.07068293411284685, 'all': [(4, 0.07490772008895874), (5, 0.06292383074760437), (4, 0.0693415580317378), (3, 0.07333172609408696), (4, 0.07551180943846703)]}), (7, {'avg': 0.0641275493428111, 'all': [(4, 0.05460139736533165), (4, 0.07770978473126888), (4, 0.05862710811197758), (4, 0.07344716601073742), (4, 0.05625229049474001)]}), (8, {'avg': 0.05497709375161391, 'all': [(5, 0.03866908177733421), (8, 0.06680863024666905), (5, 0.044617293030023576), (4, 0.06438300851732492), (4, 0.05524287186563015)]}), (9, {'avg': 0.03499876391142607, 'all': [(5, 0.030605721473693847), (3, 0.04180808241168658), (4, 0.03428014274686575), (4, 0.035324422642588615), (4, 0.03577604051679373)]}), (10, {'avg': 0.03876852809830948, 'all': [(5, 0.032637139409780504), (4, 0.04592976253479719), (6, 0.05247382943828901), (8, 0.03437126590870321), (4, 0.027508101891726255)]}), (11, {'avg': 0.03017866252256291, 'all': [(4, 0.042446902953088284), (4, 0.026757047977298498), (4, 0.02991699893027544), (5, 0.021145221032202243), (4, 0.032885502092540264)]}), (12, {'avg': 0.02874296060985043, 'all': [(4, 0.026277927681803703), (4, 0.039046261459589005), (3, 0.026148903494079907), (5, 0.027837181836366652), (5, 0.024934559315443038)]}), (13, {'avg': 0.026611006375224816, 'all': [(4, 0.034101510886102915), (4, 0.03038400737568736), (4, 0.023111566435545683), (4, 0.01799362408928573), (5, 0.02729365974664688)]}), (14, {'avg': 0.023834821488708257, 'all': [(4, 0.03367791464552283), (4, 0.015576837817206979), (4, 0.017927445704117417), (4, 0.023001395165920258), (4, 0.028990514110773802)]}), (15, {'avg': 0.01787399931345135, 'all': [(5, 0.0148475575260818), (4, 0.015384285943582654), (4, 0.018411999102681875), (3, 0.01881073446323474), (4, 0.022906213765963912)]}), (16, {'avg': 0.019715004470199346, 'all': [(5, 0.016043099109083414), (4, 0.013346957741305232), (8, 0.02089415630325675), (4, 0.023341840133070946), (4, 0.02468779357150197)]}), (17, {'avg': 0.015532037627923748, 'all': [(4, 0.018004198092967272), (8, 0.011772301921155304), (4, 0.02142600668594241), (3, 0.014141722271839777), (4, 0.015728116035461426)]}), (18, {'avg': 0.01478621946825158, 'all': [(5, 0.009688032884150743), (3, 0.026310523971915245), (4, 0.02370992163196206), (4, 0.01221744017675519), (5, 0.007885885052382946)]}), (19, {'avg': 0.011147174136047917, 'all': [(4, 0.014623572118580341), (4, 0.01496637414675206), (4, 0.012044867035001516), (4, 0.008097828947938979), (5, 0.007032017572782934)]}), (20, {'avg': 0.013935296495522683, 'all': [(3, 0.01491016491005818), (8, 0.008626313734566793), (5, 0.016096414159983398), (4, 0.01587231014855206), (4, 0.01918369997292757)]}), (21, {'avg': 0.010644270339980721, 'all': [(5, 0.005775996716693044), (3, 0.01702353109916051), (8, 0.009797086036996916), (4, 0.0059087753761559725), (6, 0.015798110359658796)]}), (22, {'avg': 0.013628835832192139, 'all': [(5, 0.009482407942414284), (4, 0.01654501911252737), (5, 0.011430927366018296), (4, 0.026373505126684904), (4, 0.005898403702303767)]}), (23, {'avg': 0.007908193012699485, 'all': [(8, 0.008365045126993209), (4, 0.013504872331395745), (4, 0.006402240716852248), (5, 0.004339037137106061), (4, 0.007365206605754793)]}), (24, {'avg': 0.012526890041217917, 'all': [(3, 0.016821652029951412), (5, 0.008350216504186391), (4, 0.011292768991552293), (3, 0.012180125961701075), (6, 0.014856199733912945)]}), (25, {'avg': 0.011771057438301412, 'all': [(4, 0.0118936647195369), (3, 0.007802499458193779), (4, 0.011939397430978715), (4, 0.013347059953957796), (4, 0.012880526133812964)]}), (26, {'avg': 0.009068627265237626, 'all': [(6, 0.01137040687414507), (4, 0.009583252482116222), (3, 0.007225224282592535), (5, 0.007744036428630352), (3, 0.007829955468575159)]}), (27, {'avg': 0.007705922750756144, 'all': [(4, 0.0055156691232696176), (5, 0.006037340220063925), (4, 0.012526465114206076), (3, 0.008009439799934626), (4, 0.006933724391274154)]}), (28, {'avg': 0.0093184455181472, 'all': [(4, 0.012827760423533618), (5, 0.003238997352309525), (4, 0.011180395376868546), (4, 0.01395351649262011), (3, 0.006109078143102427)]}), (29, {'avg': 0.007872896396466308, 'all': [(6, 0.007306324240441124), (3, 0.004822201367157201), (4, 0.004822712740860879), (4, 0.014100561733357608), (4, 0.007833294221200049)]}), (30, {'avg': 0.006952709062834797, 'all': [(4, 0.007022271514870226), (4, 0.005914068780839443), (5, 0.010610036365687848), (5, 0.0021737315226346256), (5, 0.008849621564149857)]}), (31, {'avg': 0.00822896949830465, 'all': [(4, 0.007649435923667625), (4, 0.009392795385792851), (4, 0.002661528473254293), (4, 0.011793683865107596), (4, 0.009647403843700886)]}), (32, {'avg': 0.007167550766925243, 'all': [(4, 0.009337494731880724), (5, 0.004274815134704113), (4, 0.007300968572963029), (4, 0.0070446248864755034), (5, 0.00831593768671155)]}), (33, {'avg': 0.006176681892247871, 'all': [(4, 0.0075952340848743916), (5, 0.0037315944442525505), (4, 0.008409650530666113), (3, 0.005323681669930617), (4, 0.006221270537935197)]}), (34, {'avg': 0.007601424212528703, 'all': [(5, 0.005060620466247201), (4, 0.015467094723135233), (4, 0.0057009359006769955), (6, 0.010388258767003814), (5, 0.002025880734436214)]}), (35, {'avg': 0.008398907165974379, 'all': [(3, 0.002005955825249354), (6, 0.0071228372398763895), (4, 0.00876155833248049), (4, 0.01389061682857573), (3, 0.00953818392008543)]}), (36, {'avg': 0.006082363932644232, 'all': [(4, 0.003820897691184655), (5, 0.00672538299113512), (8, 0.006562519818544388), (5, 0.005497818347066641), (4, 0.007310426561161876)]}), (37, {'avg': 0.007093987970923384, 'all': [(4, 0.0028359327698126435), (5, 0.0043429215904325245), (4, 0.005256838980130851), (4, 0.008349446696229279), (4, 0.015372566413134336)]}), (38, {'avg': 0.006531125463966635, 'all': [(4, 0.010809836443513632), (4, 0.006822107010520995), (5, 0.003084802406374365), (4, 0.010942862834781408), (4, 0.0018575993890408427)]}), (39, {'avg': 0.007716702302873489, 'all': [(3, 0.008238386983672777), (6, 0.006988884706515819), (4, 0.00982266163919121), (4, 0.00878834119066596), (4, 0.005239566962700337)]}), (40, {'avg': 0.007161031193099916, 'all': [(6, 0.006590563997936745), (8, 0.008635049365693703), (4, 0.004087631212314591), (3, 0.0032040136866271496), (4, 0.011109858751296997)]}), (41, {'avg': 0.006678289125292477, 'all': [(4, 0.011884061736054718), (4, 0.006000486784614623), (5, 0.0063498519826680425), (4, 0.007347460137680173), (5, 0.0028490132419392465)]}), (42, {'avg': 0.007262360814604021, 'all': [(4, 0.009744962211698294), (4, 0.010571012855507433), (5, 0.0047210071235895155), (5, 0.004689491540193558), (3, 0.00806439450631539)]}), (43, {'avg': 0.0054372365385378625, 'all': [(6, 0.005739658294866483), (3, 0.0026303917014350495), (4, 0.0033052480139303952), (4, 0.009813312441110611), (5, 0.004963167430832982)]}), (44, {'avg': 0.00783674968406558, 'all': [(4, 0.004598188446834683), (4, 0.006953495088964701), (4, 0.006540431873872876), (4, 0.010785917984321713), (4, 0.010305715026333928)]}), (45, {'avg': 0.006352892076527631, 'all': [(5, 0.002981761051341891), (5, 0.008057394856587052), (5, 0.0032727891579270364), (8, 0.008657992642838508), (4, 0.0076761048985645175)]}), (46, {'avg': 0.008010961847113711, 'all': [(4, 0.00849353545345366), (5, 0.0031340293120592833), (4, 0.014840222429484129), (4, 0.007233958051074296), (4, 0.007572297123260796)]}), (47, {'avg': 0.007857762820397815, 'all': [(5, 0.0038539509754627944), (4, 0.013568393420428038), (3, 0.009358210023492575), (4, 0.00873287278227508), (8, 0.006504607241367921)]}), (48, {'avg': 0.0074713780354200435, 'all': [(4, 0.014345128322020173), (4, 0.005562661797739565), (5, 0.004355140007100999), (5, 0.004870161577127874), (4, 0.009653162094764411)]}), (49, {'avg': 0.005535742300562561, 'all': [(4, 0.0063555624801665545), (8, 0.004217432622681372), (5, 0.005023138551041484), (4, 0.006947155809029937), (4, 0.006581882655154914)]}), (50, {'avg': 0.008037374274303706, 'all': [(4, 0.015809229342266917), (4, 0.010766250314190984), (8, 0.004843215661821887), (6, 0.0063773484046881395), (4, 0.00641499919584021)]})]}\n",
            "INFO:flwr:app_fit: metrics_distributed_fit {'train_loss': [(1, {'avg': 0.10457001094307218, 'all': [(4, 0.10569965653121471), (4, 0.10376395657658577), (4, 0.10462952591478825), (4, 0.105412308126688), (5, 0.10358968824148178)]}), (2, {'avg': 0.10434792297227043, 'all': [(4, 0.1017841286957264), (4, 0.10357582941651344), (3, 0.1079376886288325), (5, 0.10549080818891525), (5, 0.10371988862752915)]}), (3, {'avg': 0.10437756621589263, 'all': [(3, 0.10240166634321213), (4, 0.10310450941324234), (5, 0.10308728069067001), (8, 0.1090995678678155), (4, 0.09930140152573586)]}), (4, {'avg': 0.092203613743186, 'all': [(5, 0.0925570234656334), (4, 0.08911311812698841), (4, 0.0906379446387291), (4, 0.09692973643541336), (3, 0.0915213202436765)]}), (5, {'avg': 0.08765860258237175, 'all': [(5, 0.07774207293987274), (5, 0.0823471039533615), (4, 0.08019286021590233), (3, 0.08721757183472316), (6, 0.10554630309343338)]}), (6, {'avg': 0.07068293411284685, 'all': [(4, 0.07490772008895874), (5, 0.06292383074760437), (4, 0.0693415580317378), (3, 0.07333172609408696), (4, 0.07551180943846703)]}), (7, {'avg': 0.0641275493428111, 'all': [(4, 0.05460139736533165), (4, 0.07770978473126888), (4, 0.05862710811197758), (4, 0.07344716601073742), (4, 0.05625229049474001)]}), (8, {'avg': 0.05497709375161391, 'all': [(5, 0.03866908177733421), (8, 0.06680863024666905), (5, 0.044617293030023576), (4, 0.06438300851732492), (4, 0.05524287186563015)]}), (9, {'avg': 0.03499876391142607, 'all': [(5, 0.030605721473693847), (3, 0.04180808241168658), (4, 0.03428014274686575), (4, 0.035324422642588615), (4, 0.03577604051679373)]}), (10, {'avg': 0.03876852809830948, 'all': [(5, 0.032637139409780504), (4, 0.04592976253479719), (6, 0.05247382943828901), (8, 0.03437126590870321), (4, 0.027508101891726255)]}), (11, {'avg': 0.03017866252256291, 'all': [(4, 0.042446902953088284), (4, 0.026757047977298498), (4, 0.02991699893027544), (5, 0.021145221032202243), (4, 0.032885502092540264)]}), (12, {'avg': 0.02874296060985043, 'all': [(4, 0.026277927681803703), (4, 0.039046261459589005), (3, 0.026148903494079907), (5, 0.027837181836366652), (5, 0.024934559315443038)]}), (13, {'avg': 0.026611006375224816, 'all': [(4, 0.034101510886102915), (4, 0.03038400737568736), (4, 0.023111566435545683), (4, 0.01799362408928573), (5, 0.02729365974664688)]}), (14, {'avg': 0.023834821488708257, 'all': [(4, 0.03367791464552283), (4, 0.015576837817206979), (4, 0.017927445704117417), (4, 0.023001395165920258), (4, 0.028990514110773802)]}), (15, {'avg': 0.01787399931345135, 'all': [(5, 0.0148475575260818), (4, 0.015384285943582654), (4, 0.018411999102681875), (3, 0.01881073446323474), (4, 0.022906213765963912)]}), (16, {'avg': 0.019715004470199346, 'all': [(5, 0.016043099109083414), (4, 0.013346957741305232), (8, 0.02089415630325675), (4, 0.023341840133070946), (4, 0.02468779357150197)]}), (17, {'avg': 0.015532037627923748, 'all': [(4, 0.018004198092967272), (8, 0.011772301921155304), (4, 0.02142600668594241), (3, 0.014141722271839777), (4, 0.015728116035461426)]}), (18, {'avg': 0.01478621946825158, 'all': [(5, 0.009688032884150743), (3, 0.026310523971915245), (4, 0.02370992163196206), (4, 0.01221744017675519), (5, 0.007885885052382946)]}), (19, {'avg': 0.011147174136047917, 'all': [(4, 0.014623572118580341), (4, 0.01496637414675206), (4, 0.012044867035001516), (4, 0.008097828947938979), (5, 0.007032017572782934)]}), (20, {'avg': 0.013935296495522683, 'all': [(3, 0.01491016491005818), (8, 0.008626313734566793), (5, 0.016096414159983398), (4, 0.01587231014855206), (4, 0.01918369997292757)]}), (21, {'avg': 0.010644270339980721, 'all': [(5, 0.005775996716693044), (3, 0.01702353109916051), (8, 0.009797086036996916), (4, 0.0059087753761559725), (6, 0.015798110359658796)]}), (22, {'avg': 0.013628835832192139, 'all': [(5, 0.009482407942414284), (4, 0.01654501911252737), (5, 0.011430927366018296), (4, 0.026373505126684904), (4, 0.005898403702303767)]}), (23, {'avg': 0.007908193012699485, 'all': [(8, 0.008365045126993209), (4, 0.013504872331395745), (4, 0.006402240716852248), (5, 0.004339037137106061), (4, 0.007365206605754793)]}), (24, {'avg': 0.012526890041217917, 'all': [(3, 0.016821652029951412), (5, 0.008350216504186391), (4, 0.011292768991552293), (3, 0.012180125961701075), (6, 0.014856199733912945)]}), (25, {'avg': 0.011771057438301412, 'all': [(4, 0.0118936647195369), (3, 0.007802499458193779), (4, 0.011939397430978715), (4, 0.013347059953957796), (4, 0.012880526133812964)]}), (26, {'avg': 0.009068627265237626, 'all': [(6, 0.01137040687414507), (4, 0.009583252482116222), (3, 0.007225224282592535), (5, 0.007744036428630352), (3, 0.007829955468575159)]}), (27, {'avg': 0.007705922750756144, 'all': [(4, 0.0055156691232696176), (5, 0.006037340220063925), (4, 0.012526465114206076), (3, 0.008009439799934626), (4, 0.006933724391274154)]}), (28, {'avg': 0.0093184455181472, 'all': [(4, 0.012827760423533618), (5, 0.003238997352309525), (4, 0.011180395376868546), (4, 0.01395351649262011), (3, 0.006109078143102427)]}), (29, {'avg': 0.007872896396466308, 'all': [(6, 0.007306324240441124), (3, 0.004822201367157201), (4, 0.004822712740860879), (4, 0.014100561733357608), (4, 0.007833294221200049)]}), (30, {'avg': 0.006952709062834797, 'all': [(4, 0.007022271514870226), (4, 0.005914068780839443), (5, 0.010610036365687848), (5, 0.0021737315226346256), (5, 0.008849621564149857)]}), (31, {'avg': 0.00822896949830465, 'all': [(4, 0.007649435923667625), (4, 0.009392795385792851), (4, 0.002661528473254293), (4, 0.011793683865107596), (4, 0.009647403843700886)]}), (32, {'avg': 0.007167550766925243, 'all': [(4, 0.009337494731880724), (5, 0.004274815134704113), (4, 0.007300968572963029), (4, 0.0070446248864755034), (5, 0.00831593768671155)]}), (33, {'avg': 0.006176681892247871, 'all': [(4, 0.0075952340848743916), (5, 0.0037315944442525505), (4, 0.008409650530666113), (3, 0.005323681669930617), (4, 0.006221270537935197)]}), (34, {'avg': 0.007601424212528703, 'all': [(5, 0.005060620466247201), (4, 0.015467094723135233), (4, 0.0057009359006769955), (6, 0.010388258767003814), (5, 0.002025880734436214)]}), (35, {'avg': 0.008398907165974379, 'all': [(3, 0.002005955825249354), (6, 0.0071228372398763895), (4, 0.00876155833248049), (4, 0.01389061682857573), (3, 0.00953818392008543)]}), (36, {'avg': 0.006082363932644232, 'all': [(4, 0.003820897691184655), (5, 0.00672538299113512), (8, 0.006562519818544388), (5, 0.005497818347066641), (4, 0.007310426561161876)]}), (37, {'avg': 0.007093987970923384, 'all': [(4, 0.0028359327698126435), (5, 0.0043429215904325245), (4, 0.005256838980130851), (4, 0.008349446696229279), (4, 0.015372566413134336)]}), (38, {'avg': 0.006531125463966635, 'all': [(4, 0.010809836443513632), (4, 0.006822107010520995), (5, 0.003084802406374365), (4, 0.010942862834781408), (4, 0.0018575993890408427)]}), (39, {'avg': 0.007716702302873489, 'all': [(3, 0.008238386983672777), (6, 0.006988884706515819), (4, 0.00982266163919121), (4, 0.00878834119066596), (4, 0.005239566962700337)]}), (40, {'avg': 0.007161031193099916, 'all': [(6, 0.006590563997936745), (8, 0.008635049365693703), (4, 0.004087631212314591), (3, 0.0032040136866271496), (4, 0.011109858751296997)]}), (41, {'avg': 0.006678289125292477, 'all': [(4, 0.011884061736054718), (4, 0.006000486784614623), (5, 0.0063498519826680425), (4, 0.007347460137680173), (5, 0.0028490132419392465)]}), (42, {'avg': 0.007262360814604021, 'all': [(4, 0.009744962211698294), (4, 0.010571012855507433), (5, 0.0047210071235895155), (5, 0.004689491540193558), (3, 0.00806439450631539)]}), (43, {'avg': 0.0054372365385378625, 'all': [(6, 0.005739658294866483), (3, 0.0026303917014350495), (4, 0.0033052480139303952), (4, 0.009813312441110611), (5, 0.004963167430832982)]}), (44, {'avg': 0.00783674968406558, 'all': [(4, 0.004598188446834683), (4, 0.006953495088964701), (4, 0.006540431873872876), (4, 0.010785917984321713), (4, 0.010305715026333928)]}), (45, {'avg': 0.006352892076527631, 'all': [(5, 0.002981761051341891), (5, 0.008057394856587052), (5, 0.0032727891579270364), (8, 0.008657992642838508), (4, 0.0076761048985645175)]}), (46, {'avg': 0.008010961847113711, 'all': [(4, 0.00849353545345366), (5, 0.0031340293120592833), (4, 0.014840222429484129), (4, 0.007233958051074296), (4, 0.007572297123260796)]}), (47, {'avg': 0.007857762820397815, 'all': [(5, 0.0038539509754627944), (4, 0.013568393420428038), (3, 0.009358210023492575), (4, 0.00873287278227508), (8, 0.006504607241367921)]}), (48, {'avg': 0.0074713780354200435, 'all': [(4, 0.014345128322020173), (4, 0.005562661797739565), (5, 0.004355140007100999), (5, 0.004870161577127874), (4, 0.009653162094764411)]}), (49, {'avg': 0.005535742300562561, 'all': [(4, 0.0063555624801665545), (8, 0.004217432622681372), (5, 0.005023138551041484), (4, 0.006947155809029937), (4, 0.006581882655154914)]}), (50, {'avg': 0.008037374274303706, 'all': [(4, 0.015809229342266917), (4, 0.010766250314190984), (8, 0.004843215661821887), (6, 0.0063773484046881395), (4, 0.00641499919584021)]})]}\n",
            "INFO flwr 2024-02-03 18:16:56,587 | app.py:252 | app_fit: metrics_distributed {}\n",
            "INFO:flwr:app_fit: metrics_distributed {}\n",
            "INFO flwr 2024-02-03 18:16:56,591 | app.py:253 | app_fit: losses_centralized [(0, 413.6842646598816), (1, 361.4322280883789), (2, 341.1219992637634), (3, 342.09439635276794), (4, 342.32665944099426), (5, 311.9458875656128), (6, 288.080006480217), (7, 264.83173727989197), (8, 262.76416194438934), (9, 233.32966899871826), (10, 246.4158741235733), (11, 205.1952350139618), (12, 204.92466169595718), (13, 176.84880524873734), (14, 185.19272315502167), (15, 192.86463430523872), (16, 172.9945623278618), (17, 174.5049204826355), (18, 156.96501126885414), (19, 167.41247481107712), (20, 170.23314094543457), (21, 180.33515065908432), (22, 153.46187728643417), (23, 186.5402371287346), (24, 152.83864191174507), (25, 134.61068606376648), (26, 156.0889964401722), (27, 154.1904871761799), (28, 147.16738042235374), (29, 151.13363254070282), (30, 153.8148960620165), (31, 148.31043702363968), (32, 143.02386248111725), (33, 158.22810666263103), (34, 154.28435045480728), (35, 152.5923340022564), (36, 155.31256711483002), (37, 141.68704864382744), (38, 153.15363809466362), (39, 155.62574195861816), (40, 174.7693737745285), (41, 157.47164791822433), (42, 133.98389742523432), (43, 147.4783234000206), (44, 138.557025000453), (45, 169.97158586978912), (46, 158.09033739566803), (47, 152.5158703327179), (48, 143.73019905388355), (49, 166.48653443157673), (50, 186.29698264598846)]\n",
            "INFO:flwr:app_fit: losses_centralized [(0, 413.6842646598816), (1, 361.4322280883789), (2, 341.1219992637634), (3, 342.09439635276794), (4, 342.32665944099426), (5, 311.9458875656128), (6, 288.080006480217), (7, 264.83173727989197), (8, 262.76416194438934), (9, 233.32966899871826), (10, 246.4158741235733), (11, 205.1952350139618), (12, 204.92466169595718), (13, 176.84880524873734), (14, 185.19272315502167), (15, 192.86463430523872), (16, 172.9945623278618), (17, 174.5049204826355), (18, 156.96501126885414), (19, 167.41247481107712), (20, 170.23314094543457), (21, 180.33515065908432), (22, 153.46187728643417), (23, 186.5402371287346), (24, 152.83864191174507), (25, 134.61068606376648), (26, 156.0889964401722), (27, 154.1904871761799), (28, 147.16738042235374), (29, 151.13363254070282), (30, 153.8148960620165), (31, 148.31043702363968), (32, 143.02386248111725), (33, 158.22810666263103), (34, 154.28435045480728), (35, 152.5923340022564), (36, 155.31256711483002), (37, 141.68704864382744), (38, 153.15363809466362), (39, 155.62574195861816), (40, 174.7693737745285), (41, 157.47164791822433), (42, 133.98389742523432), (43, 147.4783234000206), (44, 138.557025000453), (45, 169.97158586978912), (46, 158.09033739566803), (47, 152.5158703327179), (48, 143.73019905388355), (49, 166.48653443157673), (50, 186.29698264598846)]\n",
            "INFO flwr 2024-02-03 18:16:56,596 | app.py:254 | app_fit: metrics_centralized {'accuracy': [(0, 0.0065625), (1, 0.074375), (2, 0.079375), (3, 0.0828125), (4, 0.0903125), (5, 0.206875), (6, 0.278125), (7, 0.3375), (8, 0.3790625), (9, 0.4721875), (10, 0.4265625), (11, 0.504375), (12, 0.5178125), (13, 0.56625), (14, 0.553125), (15, 0.5659375), (16, 0.5709375), (17, 0.5803125), (18, 0.619375), (19, 0.6096875), (20, 0.539375), (21, 0.5303125), (22, 0.6190625), (23, 0.538125), (24, 0.591875), (25, 0.638125), (26, 0.6071875), (27, 0.6603125), (28, 0.6384375), (29, 0.6353125), (30, 0.63125), (31, 0.645625), (32, 0.6396875), (33, 0.6646875), (34, 0.61), (35, 0.661875), (36, 0.6075), (37, 0.6709375), (38, 0.6484375), (39, 0.66125), (40, 0.5403125), (41, 0.6428125), (42, 0.6684375), (43, 0.675625), (44, 0.66875), (45, 0.605625), (46, 0.663125), (47, 0.660625), (48, 0.650625), (49, 0.62125), (50, 0.5696875)]}\n",
            "INFO:flwr:app_fit: metrics_centralized {'accuracy': [(0, 0.0065625), (1, 0.074375), (2, 0.079375), (3, 0.0828125), (4, 0.0903125), (5, 0.206875), (6, 0.278125), (7, 0.3375), (8, 0.3790625), (9, 0.4721875), (10, 0.4265625), (11, 0.504375), (12, 0.5178125), (13, 0.56625), (14, 0.553125), (15, 0.5659375), (16, 0.5709375), (17, 0.5803125), (18, 0.619375), (19, 0.6096875), (20, 0.539375), (21, 0.5303125), (22, 0.6190625), (23, 0.538125), (24, 0.591875), (25, 0.638125), (26, 0.6071875), (27, 0.6603125), (28, 0.6384375), (29, 0.6353125), (30, 0.63125), (31, 0.645625), (32, 0.6396875), (33, 0.6646875), (34, 0.61), (35, 0.661875), (36, 0.6075), (37, 0.6709375), (38, 0.6484375), (39, 0.66125), (40, 0.5403125), (41, 0.6428125), (42, 0.6684375), (43, 0.675625), (44, 0.66875), (45, 0.605625), (46, 0.663125), (47, 0.660625), (48, 0.650625), (49, 0.62125), (50, 0.5696875)]}\n"
          ]
        }
      ]
    },
    {
      "cell_type": "code",
      "source": [
        "def compute_parameter_update(params1, params2):\n",
        "  _, p1 = params1\n",
        "  _, p2 = params2\n",
        "  update = []\n",
        "  for i in range(len(p1)):\n",
        "    update.append(p2[i] - p1[i])\n",
        "\n",
        "  return update\n",
        "\n",
        "print(len(parameters_for_each_round))\n",
        "\n",
        "theta_ts = [compute_parameter_update(parameters_for_each_round[i], parameters_for_each_round[-1]) for i in range(len(parameters_for_each_round) - 1)]\n",
        "updates = []\n",
        "for i in range(1, len(parameters_for_each_round)):\n",
        "  updates.append(compute_parameter_update(parameters_for_each_round[i-1], parameters_for_each_round[i]))\n",
        "\n",
        "cosine_similarities = [compute_similarity(update, theta_t) for update, theta_t in zip(updates, theta_ts)]\n",
        "\n",
        "plt.plot(np.arange(len(updates)), cosine_similarities)\n",
        "\n",
        "plt.title(\"Cosine similarity between update in each round and overall update\")\n",
        "\n",
        "plt.xlabel('Round')\n",
        "plt.ylabel('Cosine score')\n",
        "plt.legend()\n",
        "plt.show()"
      ],
      "metadata": {
        "id": "yUrLKMTDHvAC",
        "outputId": "9289fe20-f7c8-4387-f702-bd5ceb480dcc",
        "colab": {
          "base_uri": "https://localhost:8080/",
          "height": 527
        }
      },
      "execution_count": 70,
      "outputs": [
        {
          "output_type": "stream",
          "name": "stdout",
          "text": [
            "51\n"
          ]
        },
        {
          "output_type": "stream",
          "name": "stderr",
          "text": [
            "WARNING:matplotlib.legend:No artists with labels found to put in legend.  Note that artists whose label start with an underscore are ignored when legend() is called with no argument.\n"
          ]
        },
        {
          "output_type": "display_data",
          "data": {
            "text/plain": [
              "<Figure size 640x480 with 1 Axes>"
            ],
            "image/png": "[encoded data removed]"
          },
          "metadata": {}
        }
      ]
    },
    {
      "cell_type": "markdown",
      "source": [
        "Question 9\n",
        "\n",
        "4. From the plot, we observe that the direction of optimization throughout the rounds is not similar to the overall direction of optimization. In fact, the cosine similarity between each round update and overall optimization direction starts off very low, and gradually increases throughout the rounds. This is because we sample 5 clients out of 20 clients to use per round, and initially each model update is very different from the overall direction because in each round the model is trained on a different subset of data, such that the model updates may point in varying directions. As we go through the rounds, the cosine similarity gradually converges to around 0.8 (except the last round which will always have a cosine similarity of 1) as the model has been trained on a large portion of the entire dataset, and thus the direction of update stabilizes as the model converges towards the optimal model with lower and lower loss. However oscillations in the model updates per round still mean that the updates do not truly point in the overall optimization direction."
      ],
      "metadata": {
        "id": "bxk1BPpSWNC2"
      }
    },
    {
      "cell_type": "markdown",
      "metadata": {
        "id": "l6ofvhZqDSnA"
      },
      "source": [
        "**Question 10 (Part III/MPhil ✅):**\n",
        "\n",
        "(You must provide the answer with **code** and **plots** for this question. A short written argumentation is recommended.)\n",
        "\n",
        " and then for\n",
        "\n",
        "1.   Read about server momentum in FL [here](https://arxiv.org/abs/2003.00295) and repeat the previous experiments using `server_learning_rate=1.0` and `server_momentum=0.9`. Discuss how the momentum impacts the direction of optimization.\n",
        "\n",
        "\n"
      ]
    },
    {
      "cell_type": "code",
      "source": [
        "num_rounds = 50\n",
        "num_total_clients = 20\n",
        "num_evaluate_clients = 0\n",
        "num_clients_per_round = 5\n",
        "parameters_for_each_round, hist = run_simulation(num_rounds, num_total_clients, num_clients_per_round, num_evaluate_clients, server_learning_rate = 1.0, server_momentum=0.9)"
      ],
      "metadata": {
        "id": "LDRPoB2lWFPh",
        "outputId": "63af4eb2-4719-4dae-b88c-dfbb79e7540a",
        "colab": {
          "base_uri": "https://localhost:8080/"
        }
      },
      "execution_count": 71,
      "outputs": [
        {
          "output_type": "stream",
          "name": "stderr",
          "text": [
            "INFO flwr 2024-02-03 19:01:12,692 | app.py:149 | Starting Flower simulation, config: ServerConfig(num_rounds=50, round_timeout=None)\n",
            "INFO:flwr:Starting Flower simulation, config: ServerConfig(num_rounds=50, round_timeout=None)\n",
            "INFO flwr 2024-02-03 19:01:12,705 | server_returns_parameters.py:81 | Initializing global parameters\n",
            "INFO:flwr:Initializing global parameters\n",
            "INFO flwr 2024-02-03 19:01:12,709 | server_returns_parameters.py:273 | Using initial parameters provided by strategy\n",
            "INFO:flwr:Using initial parameters provided by strategy\n",
            "INFO flwr 2024-02-03 19:01:12,717 | server_returns_parameters.py:84 | Evaluating initial parameters\n",
            "INFO:flwr:Evaluating initial parameters\n"
          ]
        },
        {
          "output_type": "stream",
          "name": "stdout",
          "text": [
            "50\n"
          ]
        },
        {
          "output_type": "stream",
          "name": "stderr",
          "text": [
            " 11%|█         | 100/891 [00:02<00:17, 45.67it/s]\n",
            "INFO flwr 2024-02-03 19:01:14,970 | server_returns_parameters.py:87 | initial parameters (loss, other metrics): 413.6842646598816, {'accuracy': 0.0065625}\n",
            "INFO:flwr:initial parameters (loss, other metrics): 413.6842646598816, {'accuracy': 0.0065625}\n",
            "INFO flwr 2024-02-03 19:01:14,975 | server_returns_parameters.py:97 | FL starting\n",
            "INFO:flwr:FL starting\n",
            "DEBUG flwr 2024-02-03 19:01:14,982 | server_returns_parameters.py:223 | fit_round 1: strategy sampled 5 clients (out of 20)\n",
            "DEBUG:flwr:fit_round 1: strategy sampled 5 clients (out of 20)\n"
          ]
        },
        {
          "output_type": "stream",
          "name": "stdout",
          "text": [
            "cid:  1494\n",
            "cid:  3119\n",
            "cid:  2600\n",
            "cid:  2399\n",
            "cid:  1571\n"
          ]
        },
        {
          "output_type": "stream",
          "name": "stderr",
          "text": [
            "DEBUG flwr 2024-02-03 19:01:17,779 | server_returns_parameters.py:237 | fit_round 1 received 5 results and 0 failures\n",
            "DEBUG:flwr:fit_round 1 received 5 results and 0 failures\n",
            " 11%|█         | 100/891 [00:03<00:29, 26.41it/s]\n",
            "INFO flwr 2024-02-03 19:01:21,635 | server_returns_parameters.py:120 | fit progress: (1, 366.1624448299408, {'accuracy': 0.079375}, 6.653289510999457)\n",
            "INFO:flwr:fit progress: (1, 366.1624448299408, {'accuracy': 0.079375}, 6.653289510999457)\n",
            "INFO flwr 2024-02-03 19:01:21,641 | server_returns_parameters.py:171 | evaluate_round 1: no clients selected, cancel\n",
            "INFO:flwr:evaluate_round 1: no clients selected, cancel\n",
            "DEBUG flwr 2024-02-03 19:01:21,647 | server_returns_parameters.py:223 | fit_round 2: strategy sampled 5 clients (out of 20)\n",
            "DEBUG:flwr:fit_round 2: strategy sampled 5 clients (out of 20)\n"
          ]
        },
        {
          "output_type": "stream",
          "name": "stdout",
          "text": [
            "cid:  1473\n",
            "cid:  2600\n",
            "cid:  1363\n",
            "cid:  1494\n",
            "cid:  2997\n"
          ]
        },
        {
          "output_type": "stream",
          "name": "stderr",
          "text": [
            "DEBUG flwr 2024-02-03 19:01:24,817 | server_returns_parameters.py:237 | fit_round 2 received 5 results and 0 failures\n",
            "DEBUG:flwr:fit_round 2 received 5 results and 0 failures\n",
            " 11%|█         | 100/891 [00:02<00:17, 44.33it/s]\n",
            "INFO flwr 2024-02-03 19:01:27,157 | server_returns_parameters.py:120 | fit progress: (2, 493.1829402446747, {'accuracy': 0.079375}, 12.174889576999703)\n",
            "INFO:flwr:fit progress: (2, 493.1829402446747, {'accuracy': 0.079375}, 12.174889576999703)\n",
            "INFO flwr 2024-02-03 19:01:27,173 | server_returns_parameters.py:171 | evaluate_round 2: no clients selected, cancel\n",
            "INFO:flwr:evaluate_round 2: no clients selected, cancel\n",
            "DEBUG flwr 2024-02-03 19:01:27,181 | server_returns_parameters.py:223 | fit_round 3: strategy sampled 5 clients (out of 20)\n",
            "DEBUG:flwr:fit_round 3: strategy sampled 5 clients (out of 20)\n"
          ]
        },
        {
          "output_type": "stream",
          "name": "stdout",
          "text": [
            "cid:  2600\n",
            "cid:  1498\n",
            "cid:  1260\n",
            "cid:  1473\n",
            "cid:  2907\n"
          ]
        },
        {
          "output_type": "stream",
          "name": "stderr",
          "text": [
            "DEBUG flwr 2024-02-03 19:01:30,568 | server_returns_parameters.py:237 | fit_round 3 received 5 results and 0 failures\n",
            "DEBUG:flwr:fit_round 3 received 5 results and 0 failures\n",
            " 11%|█         | 100/891 [00:01<00:12, 60.88it/s]\n",
            "INFO flwr 2024-02-03 19:01:32,266 | server_returns_parameters.py:120 | fit progress: (3, 364.22232580184937, {'accuracy': 0.070625}, 17.283803697999247)\n",
            "INFO:flwr:fit progress: (3, 364.22232580184937, {'accuracy': 0.070625}, 17.283803697999247)\n",
            "INFO flwr 2024-02-03 19:01:32,270 | server_returns_parameters.py:171 | evaluate_round 3: no clients selected, cancel\n",
            "INFO:flwr:evaluate_round 3: no clients selected, cancel\n",
            "DEBUG flwr 2024-02-03 19:01:32,276 | server_returns_parameters.py:223 | fit_round 4: strategy sampled 5 clients (out of 20)\n",
            "DEBUG:flwr:fit_round 4: strategy sampled 5 clients (out of 20)\n"
          ]
        },
        {
          "output_type": "stream",
          "name": "stdout",
          "text": [
            "cid:  839\n",
            "cid:  2600\n",
            "cid:  1473\n",
            "cid:  cid:  1363\n",
            "3119\n"
          ]
        },
        {
          "output_type": "stream",
          "name": "stderr",
          "text": [
            "DEBUG flwr 2024-02-03 19:01:34,895 | server_returns_parameters.py:237 | fit_round 4 received 5 results and 0 failures\n",
            "DEBUG:flwr:fit_round 4 received 5 results and 0 failures\n",
            " 11%|█         | 100/891 [00:02<00:16, 46.95it/s]\n",
            "INFO flwr 2024-02-03 19:01:37,097 | server_returns_parameters.py:120 | fit progress: (4, 366.90958285331726, {'accuracy': 0.0709375}, 22.11487932899945)\n",
            "INFO:flwr:fit progress: (4, 366.90958285331726, {'accuracy': 0.0709375}, 22.11487932899945)\n",
            "INFO flwr 2024-02-03 19:01:37,102 | server_returns_parameters.py:171 | evaluate_round 4: no clients selected, cancel\n",
            "INFO:flwr:evaluate_round 4: no clients selected, cancel\n",
            "DEBUG flwr 2024-02-03 19:01:37,107 | server_returns_parameters.py:223 | fit_round 5: strategy sampled 5 clients (out of 20)\n",
            "DEBUG:flwr:fit_round 5: strategy sampled 5 clients (out of 20)\n"
          ]
        },
        {
          "output_type": "stream",
          "name": "stdout",
          "text": [
            "cid:  2530\n",
            "cid:  2600\n",
            "cid:  1498\n",
            "cid:  1603\n",
            "cid:  678\n"
          ]
        },
        {
          "output_type": "stream",
          "name": "stderr",
          "text": [
            "DEBUG flwr 2024-02-03 19:01:40,974 | server_returns_parameters.py:237 | fit_round 5 received 5 results and 0 failures\n",
            "DEBUG:flwr:fit_round 5 received 5 results and 0 failures\n",
            " 11%|█         | 100/891 [00:02<00:17, 46.40it/s]\n",
            "INFO flwr 2024-02-03 19:01:43,223 | server_returns_parameters.py:120 | fit progress: (5, 343.7302083969116, {'accuracy': 0.0709375}, 28.24100871399969)\n",
            "INFO:flwr:fit progress: (5, 343.7302083969116, {'accuracy': 0.0709375}, 28.24100871399969)\n",
            "INFO flwr 2024-02-03 19:01:43,227 | server_returns_parameters.py:171 | evaluate_round 5: no clients selected, cancel\n",
            "INFO:flwr:evaluate_round 5: no clients selected, cancel\n",
            "DEBUG flwr 2024-02-03 19:01:43,234 | server_returns_parameters.py:223 | fit_round 6: strategy sampled 5 clients (out of 20)\n",
            "DEBUG:flwr:fit_round 6: strategy sampled 5 clients (out of 20)\n"
          ]
        },
        {
          "output_type": "stream",
          "name": "stdout",
          "text": [
            "cid:  2399\n",
            "cid: cid:  1603\n",
            " 1571\n",
            "cid:  cid:  3175\n",
            "2997\n"
          ]
        },
        {
          "output_type": "stream",
          "name": "stderr",
          "text": [
            "DEBUG flwr 2024-02-03 19:01:46,041 | server_returns_parameters.py:237 | fit_round 6 received 5 results and 0 failures\n",
            "DEBUG:flwr:fit_round 6 received 5 results and 0 failures\n",
            " 11%|█         | 100/891 [00:01<00:13, 58.34it/s]\n",
            "INFO flwr 2024-02-03 19:01:47,828 | server_returns_parameters.py:120 | fit progress: (6, 389.10349321365356, {'accuracy': 0.079375}, 32.8461456369987)\n",
            "INFO:flwr:fit progress: (6, 389.10349321365356, {'accuracy': 0.079375}, 32.8461456369987)\n",
            "INFO flwr 2024-02-03 19:01:47,832 | server_returns_parameters.py:171 | evaluate_round 6: no clients selected, cancel\n",
            "INFO:flwr:evaluate_round 6: no clients selected, cancel\n",
            "DEBUG flwr 2024-02-03 19:01:47,837 | server_returns_parameters.py:223 | fit_round 7: strategy sampled 5 clients (out of 20)\n",
            "DEBUG:flwr:fit_round 7: strategy sampled 5 clients (out of 20)\n"
          ]
        },
        {
          "output_type": "stream",
          "name": "stdout",
          "text": [
            "cid:  3119\n",
            "cid:  2907\n",
            "cid:  839\n",
            "cid:  2184\n",
            "cid:  2688\n"
          ]
        },
        {
          "output_type": "stream",
          "name": "stderr",
          "text": [
            "DEBUG flwr 2024-02-03 19:01:51,430 | server_returns_parameters.py:237 | fit_round 7 received 5 results and 0 failures\n",
            "DEBUG:flwr:fit_round 7 received 5 results and 0 failures\n",
            " 11%|█         | 100/891 [00:02<00:15, 49.50it/s]\n",
            "INFO flwr 2024-02-03 19:01:53,509 | server_returns_parameters.py:120 | fit progress: (7, 447.4872314929962, {'accuracy': 0.079375}, 38.52685853999901)\n",
            "INFO:flwr:fit progress: (7, 447.4872314929962, {'accuracy': 0.079375}, 38.52685853999901)\n",
            "INFO flwr 2024-02-03 19:01:53,513 | server_returns_parameters.py:171 | evaluate_round 7: no clients selected, cancel\n",
            "INFO:flwr:evaluate_round 7: no clients selected, cancel\n",
            "DEBUG flwr 2024-02-03 19:01:53,517 | server_returns_parameters.py:223 | fit_round 8: strategy sampled 5 clients (out of 20)\n",
            "DEBUG:flwr:fit_round 8: strategy sampled 5 clients (out of 20)\n"
          ]
        },
        {
          "output_type": "stream",
          "name": "stdout",
          "text": [
            "cid:  1260\n",
            "cid:  2184\n",
            "cid:  2530\n",
            "cid:  2997\n",
            "cid:  839\n"
          ]
        },
        {
          "output_type": "stream",
          "name": "stderr",
          "text": [
            "DEBUG flwr 2024-02-03 19:01:57,479 | server_returns_parameters.py:237 | fit_round 8 received 5 results and 0 failures\n",
            "DEBUG:flwr:fit_round 8 received 5 results and 0 failures\n",
            " 11%|█         | 100/891 [00:01<00:15, 52.32it/s]\n",
            "INFO flwr 2024-02-03 19:01:59,482 | server_returns_parameters.py:120 | fit progress: (8, 341.9533886909485, {'accuracy': 0.070625}, 44.50055129199973)\n",
            "INFO:flwr:fit progress: (8, 341.9533886909485, {'accuracy': 0.070625}, 44.50055129199973)\n",
            "INFO flwr 2024-02-03 19:01:59,487 | server_returns_parameters.py:171 | evaluate_round 8: no clients selected, cancel\n",
            "INFO:flwr:evaluate_round 8: no clients selected, cancel\n",
            "DEBUG flwr 2024-02-03 19:01:59,490 | server_returns_parameters.py:223 | fit_round 9: strategy sampled 5 clients (out of 20)\n",
            "DEBUG:flwr:fit_round 9: strategy sampled 5 clients (out of 20)\n"
          ]
        },
        {
          "output_type": "stream",
          "name": "stdout",
          "text": [
            "cid:  1498\n",
            "cid:  1363\n",
            "cid:  2997\n",
            "cid:  1603\n",
            "cid:  1571\n"
          ]
        },
        {
          "output_type": "stream",
          "name": "stderr",
          "text": [
            "DEBUG flwr 2024-02-03 19:02:02,333 | server_returns_parameters.py:237 | fit_round 9 received 5 results and 0 failures\n",
            "DEBUG:flwr:fit_round 9 received 5 results and 0 failures\n",
            " 11%|█         | 100/891 [00:01<00:15, 51.16it/s]\n",
            "INFO flwr 2024-02-03 19:02:04,343 | server_returns_parameters.py:120 | fit progress: (9, 343.4836597442627, {'accuracy': 0.0709375}, 49.3609456389986)\n",
            "INFO:flwr:fit progress: (9, 343.4836597442627, {'accuracy': 0.0709375}, 49.3609456389986)\n",
            "INFO flwr 2024-02-03 19:02:04,346 | server_returns_parameters.py:171 | evaluate_round 9: no clients selected, cancel\n",
            "INFO:flwr:evaluate_round 9: no clients selected, cancel\n",
            "DEBUG flwr 2024-02-03 19:02:04,350 | server_returns_parameters.py:223 | fit_round 10: strategy sampled 5 clients (out of 20)\n",
            "DEBUG:flwr:fit_round 10: strategy sampled 5 clients (out of 20)\n"
          ]
        },
        {
          "output_type": "stream",
          "name": "stdout",
          "text": [
            "cid:  2530\n",
            "cid:  1571\n",
            "cid:  1260\n",
            "cid:  678\n",
            "cid:  2184\n"
          ]
        },
        {
          "output_type": "stream",
          "name": "stderr",
          "text": [
            "DEBUG flwr 2024-02-03 19:02:08,125 | server_returns_parameters.py:237 | fit_round 10 received 5 results and 0 failures\n",
            "DEBUG:flwr:fit_round 10 received 5 results and 0 failures\n",
            " 11%|█         | 100/891 [00:02<00:16, 47.53it/s]\n",
            "INFO flwr 2024-02-03 19:02:10,289 | server_returns_parameters.py:120 | fit progress: (10, 346.36473512649536, {'accuracy': 0.0709375}, 55.30721800699939)\n",
            "INFO:flwr:fit progress: (10, 346.36473512649536, {'accuracy': 0.0709375}, 55.30721800699939)\n",
            "INFO flwr 2024-02-03 19:02:10,296 | server_returns_parameters.py:171 | evaluate_round 10: no clients selected, cancel\n",
            "INFO:flwr:evaluate_round 10: no clients selected, cancel\n",
            "DEBUG flwr 2024-02-03 19:02:10,306 | server_returns_parameters.py:223 | fit_round 11: strategy sampled 5 clients (out of 20)\n",
            "DEBUG:flwr:fit_round 11: strategy sampled 5 clients (out of 20)\n"
          ]
        },
        {
          "output_type": "stream",
          "name": "stdout",
          "text": [
            "cid:  3119\n",
            "cid:  1363\n",
            "cid:  2997\n",
            "cid:  2399\n",
            "cid:  839\n"
          ]
        },
        {
          "output_type": "stream",
          "name": "stderr",
          "text": [
            "DEBUG flwr 2024-02-03 19:02:13,429 | server_returns_parameters.py:237 | fit_round 11 received 5 results and 0 failures\n",
            "DEBUG:flwr:fit_round 11 received 5 results and 0 failures\n",
            " 11%|█         | 100/891 [00:02<00:22, 35.86it/s]\n",
            "INFO flwr 2024-02-03 19:02:16,308 | server_returns_parameters.py:120 | fit progress: (11, 346.23002004623413, {'accuracy': 0.079375}, 61.326536238999324)\n",
            "INFO:flwr:fit progress: (11, 346.23002004623413, {'accuracy': 0.079375}, 61.326536238999324)\n",
            "INFO flwr 2024-02-03 19:02:16,312 | server_returns_parameters.py:171 | evaluate_round 11: no clients selected, cancel\n",
            "INFO:flwr:evaluate_round 11: no clients selected, cancel\n",
            "DEBUG flwr 2024-02-03 19:02:16,316 | server_returns_parameters.py:223 | fit_round 12: strategy sampled 5 clients (out of 20)\n",
            "DEBUG:flwr:fit_round 12: strategy sampled 5 clients (out of 20)\n"
          ]
        },
        {
          "output_type": "stream",
          "name": "stdout",
          "text": [
            "cid:  2184\n",
            "cid:  2855\n",
            "cid:  1603\n",
            "cid:  2530\n",
            "cid:  2688\n"
          ]
        },
        {
          "output_type": "stream",
          "name": "stderr",
          "text": [
            "DEBUG flwr 2024-02-03 19:02:19,401 | server_returns_parameters.py:237 | fit_round 12 received 5 results and 0 failures\n",
            "DEBUG:flwr:fit_round 12 received 5 results and 0 failures\n",
            " 11%|█         | 100/891 [00:02<00:21, 37.30it/s]\n",
            "INFO flwr 2024-02-03 19:02:22,156 | server_returns_parameters.py:120 | fit progress: (12, 343.36998748779297, {'accuracy': 0.074375}, 67.17437961699943)\n",
            "INFO:flwr:fit progress: (12, 343.36998748779297, {'accuracy': 0.074375}, 67.17437961699943)\n",
            "INFO flwr 2024-02-03 19:02:22,161 | server_returns_parameters.py:171 | evaluate_round 12: no clients selected, cancel\n",
            "INFO:flwr:evaluate_round 12: no clients selected, cancel\n",
            "DEBUG flwr 2024-02-03 19:02:22,164 | server_returns_parameters.py:223 | fit_round 13: strategy sampled 5 clients (out of 20)\n",
            "DEBUG:flwr:fit_round 13: strategy sampled 5 clients (out of 20)\n"
          ]
        },
        {
          "output_type": "stream",
          "name": "stdout",
          "text": [
            "cid:  3119\n",
            "cid:  2600\n",
            "cid:  1494\n",
            "cid:  3175\n",
            "cid:  839\n"
          ]
        },
        {
          "output_type": "stream",
          "name": "stderr",
          "text": [
            "DEBUG flwr 2024-02-03 19:02:25,024 | server_returns_parameters.py:237 | fit_round 13 received 5 results and 0 failures\n",
            "DEBUG:flwr:fit_round 13 received 5 results and 0 failures\n",
            " 11%|█         | 100/891 [00:02<00:20, 37.68it/s]\n",
            "INFO flwr 2024-02-03 19:02:27,775 | server_returns_parameters.py:120 | fit progress: (13, 343.3090720176697, {'accuracy': 0.069375}, 72.79349269699924)\n",
            "INFO:flwr:fit progress: (13, 343.3090720176697, {'accuracy': 0.069375}, 72.79349269699924)\n",
            "INFO flwr 2024-02-03 19:02:27,779 | server_returns_parameters.py:171 | evaluate_round 13: no clients selected, cancel\n",
            "INFO:flwr:evaluate_round 13: no clients selected, cancel\n",
            "DEBUG flwr 2024-02-03 19:02:27,786 | server_returns_parameters.py:223 | fit_round 14: strategy sampled 5 clients (out of 20)\n",
            "DEBUG:flwr:fit_round 14: strategy sampled 5 clients (out of 20)\n"
          ]
        },
        {
          "output_type": "stream",
          "name": "stdout",
          "text": [
            "cid:  2907\n",
            "cid: cid:  2338\n",
            " 2184\n",
            "cid:  2399\n",
            "cid:  1571\n"
          ]
        },
        {
          "output_type": "stream",
          "name": "stderr",
          "text": [
            "DEBUG flwr 2024-02-03 19:02:30,874 | server_returns_parameters.py:237 | fit_round 14 received 5 results and 0 failures\n",
            "DEBUG:flwr:fit_round 14 received 5 results and 0 failures\n",
            " 11%|█         | 100/891 [00:02<00:16, 47.68it/s]\n",
            "INFO flwr 2024-02-03 19:02:33,076 | server_returns_parameters.py:120 | fit progress: (14, 344.2949161529541, {'accuracy': 0.079375}, 78.09436901799927)\n",
            "INFO:flwr:fit progress: (14, 344.2949161529541, {'accuracy': 0.079375}, 78.09436901799927)\n",
            "INFO flwr 2024-02-03 19:02:33,080 | server_returns_parameters.py:171 | evaluate_round 14: no clients selected, cancel\n",
            "INFO:flwr:evaluate_round 14: no clients selected, cancel\n",
            "DEBUG flwr 2024-02-03 19:02:33,086 | server_returns_parameters.py:223 | fit_round 15: strategy sampled 5 clients (out of 20)\n",
            "DEBUG:flwr:fit_round 15: strategy sampled 5 clients (out of 20)\n"
          ]
        },
        {
          "output_type": "stream",
          "name": "stdout",
          "text": [
            "cid:  2907\n",
            "cid:  2997cid:  1603\n",
            "\n",
            "cid:  3175\n",
            "cid:  2184\n"
          ]
        },
        {
          "output_type": "stream",
          "name": "stderr",
          "text": [
            "DEBUG flwr 2024-02-03 19:02:35,826 | server_returns_parameters.py:237 | fit_round 15 received 5 results and 0 failures\n",
            "DEBUG:flwr:fit_round 15 received 5 results and 0 failures\n",
            " 11%|█         | 100/891 [00:02<00:18, 43.43it/s]\n",
            "INFO flwr 2024-02-03 19:02:38,204 | server_returns_parameters.py:120 | fit progress: (15, 346.5241553783417, {'accuracy': 0.079375}, 83.22221359200012)\n",
            "INFO:flwr:fit progress: (15, 346.5241553783417, {'accuracy': 0.079375}, 83.22221359200012)\n",
            "INFO flwr 2024-02-03 19:02:38,225 | server_returns_parameters.py:171 | evaluate_round 15: no clients selected, cancel\n",
            "INFO:flwr:evaluate_round 15: no clients selected, cancel\n",
            "DEBUG flwr 2024-02-03 19:02:38,232 | server_returns_parameters.py:223 | fit_round 16: strategy sampled 5 clients (out of 20)\n",
            "DEBUG:flwr:fit_round 16: strategy sampled 5 clients (out of 20)\n"
          ]
        },
        {
          "output_type": "stream",
          "name": "stdout",
          "text": [
            "cid:  3119\n",
            "cid:  2338\n",
            "cid:  1260\n",
            "cid:  2600\n",
            "cid:  2184\n"
          ]
        },
        {
          "output_type": "stream",
          "name": "stderr",
          "text": [
            "DEBUG flwr 2024-02-03 19:02:41,562 | server_returns_parameters.py:237 | fit_round 16 received 5 results and 0 failures\n",
            "DEBUG:flwr:fit_round 16 received 5 results and 0 failures\n",
            " 11%|█         | 100/891 [00:02<00:18, 43.90it/s]\n",
            "INFO flwr 2024-02-03 19:02:43,899 | server_returns_parameters.py:120 | fit progress: (16, 348.2825810909271, {'accuracy': 0.079375}, 88.91728592999971)\n",
            "INFO:flwr:fit progress: (16, 348.2825810909271, {'accuracy': 0.079375}, 88.91728592999971)\n",
            "INFO flwr 2024-02-03 19:02:43,907 | server_returns_parameters.py:171 | evaluate_round 16: no clients selected, cancel\n",
            "INFO:flwr:evaluate_round 16: no clients selected, cancel\n",
            "DEBUG flwr 2024-02-03 19:02:43,915 | server_returns_parameters.py:223 | fit_round 17: strategy sampled 5 clients (out of 20)\n",
            "DEBUG:flwr:fit_round 17: strategy sampled 5 clients (out of 20)\n"
          ]
        },
        {
          "output_type": "stream",
          "name": "stdout",
          "text": [
            "cid:  1260\n",
            "cid:  1363\n",
            "cid:  2338\n",
            "cid:  2184\n",
            "cid:  1603\n"
          ]
        },
        {
          "output_type": "stream",
          "name": "stderr",
          "text": [
            "DEBUG flwr 2024-02-03 19:02:47,333 | server_returns_parameters.py:237 | fit_round 17 received 5 results and 0 failures\n",
            "DEBUG:flwr:fit_round 17 received 5 results and 0 failures\n",
            " 11%|█         | 100/891 [00:01<00:14, 52.79it/s]\n",
            "INFO flwr 2024-02-03 19:02:49,317 | server_returns_parameters.py:120 | fit progress: (17, 349.1183466911316, {'accuracy': 0.079375}, 94.33500096199896)\n",
            "INFO:flwr:fit progress: (17, 349.1183466911316, {'accuracy': 0.079375}, 94.33500096199896)\n",
            "INFO flwr 2024-02-03 19:02:49,320 | server_returns_parameters.py:171 | evaluate_round 17: no clients selected, cancel\n",
            "INFO:flwr:evaluate_round 17: no clients selected, cancel\n",
            "DEBUG flwr 2024-02-03 19:02:49,325 | server_returns_parameters.py:223 | fit_round 18: strategy sampled 5 clients (out of 20)\n",
            "DEBUG:flwr:fit_round 18: strategy sampled 5 clients (out of 20)\n"
          ]
        },
        {
          "output_type": "stream",
          "name": "stdout",
          "text": [
            "cid:  2600\n",
            "cid:  1473cid:  2907\n",
            "\n",
            "cid:  cid:  1494\n",
            "2997\n"
          ]
        },
        {
          "output_type": "stream",
          "name": "stderr",
          "text": [
            "DEBUG flwr 2024-02-03 19:02:52,036 | server_returns_parameters.py:237 | fit_round 18 received 5 results and 0 failures\n",
            "DEBUG:flwr:fit_round 18 received 5 results and 0 failures\n",
            " 11%|█         | 100/891 [00:01<00:12, 61.91it/s]\n",
            "INFO flwr 2024-02-03 19:02:53,711 | server_returns_parameters.py:120 | fit progress: (18, 349.51515913009644, {'accuracy': 0.079375}, 98.72877874099868)\n",
            "INFO:flwr:fit progress: (18, 349.51515913009644, {'accuracy': 0.079375}, 98.72877874099868)\n",
            "INFO flwr 2024-02-03 19:02:53,716 | server_returns_parameters.py:171 | evaluate_round 18: no clients selected, cancel\n",
            "INFO:flwr:evaluate_round 18: no clients selected, cancel\n",
            "DEBUG flwr 2024-02-03 19:02:53,720 | server_returns_parameters.py:223 | fit_round 19: strategy sampled 5 clients (out of 20)\n",
            "DEBUG:flwr:fit_round 19: strategy sampled 5 clients (out of 20)\n"
          ]
        },
        {
          "output_type": "stream",
          "name": "stdout",
          "text": [
            "cid:  1494\n",
            "cid:  3175\n",
            "cid:  2997\n",
            "cid:  3119\n",
            "cid:  2338\n"
          ]
        },
        {
          "output_type": "stream",
          "name": "stderr",
          "text": [
            "DEBUG flwr 2024-02-03 19:02:56,455 | server_returns_parameters.py:237 | fit_round 19 received 5 results and 0 failures\n",
            "DEBUG:flwr:fit_round 19 received 5 results and 0 failures\n",
            " 11%|█         | 100/891 [00:02<00:17, 44.37it/s]\n",
            "INFO flwr 2024-02-03 19:02:58,765 | server_returns_parameters.py:120 | fit progress: (19, 350.0044252872467, {'accuracy': 0.070625}, 103.7830096259986)\n",
            "INFO:flwr:fit progress: (19, 350.0044252872467, {'accuracy': 0.070625}, 103.7830096259986)\n",
            "INFO flwr 2024-02-03 19:02:58,769 | server_returns_parameters.py:171 | evaluate_round 19: no clients selected, cancel\n",
            "INFO:flwr:evaluate_round 19: no clients selected, cancel\n",
            "DEBUG flwr 2024-02-03 19:02:58,773 | server_returns_parameters.py:223 | fit_round 20: strategy sampled 5 clients (out of 20)\n",
            "DEBUG:flwr:fit_round 20: strategy sampled 5 clients (out of 20)\n"
          ]
        },
        {
          "output_type": "stream",
          "name": "stdout",
          "text": [
            "cid:  2855\n",
            "cid:  1473\n",
            "cid:  1260\n",
            "cid:  3175\n",
            "cid:  2399\n"
          ]
        },
        {
          "output_type": "stream",
          "name": "stderr",
          "text": [
            "DEBUG flwr 2024-02-03 19:03:02,593 | server_returns_parameters.py:237 | fit_round 20 received 5 results and 0 failures\n",
            "DEBUG:flwr:fit_round 20 received 5 results and 0 failures\n",
            " 11%|█         | 100/891 [00:03<00:30, 26.30it/s]\n",
            "INFO flwr 2024-02-03 19:03:06,481 | server_returns_parameters.py:120 | fit progress: (20, 351.0363461971283, {'accuracy': 0.074375}, 111.49920263199965)\n",
            "INFO:flwr:fit progress: (20, 351.0363461971283, {'accuracy': 0.074375}, 111.49920263199965)\n",
            "INFO flwr 2024-02-03 19:03:06,485 | server_returns_parameters.py:171 | evaluate_round 20: no clients selected, cancel\n",
            "INFO:flwr:evaluate_round 20: no clients selected, cancel\n",
            "DEBUG flwr 2024-02-03 19:03:06,489 | server_returns_parameters.py:223 | fit_round 21: strategy sampled 5 clients (out of 20)\n",
            "DEBUG:flwr:fit_round 21: strategy sampled 5 clients (out of 20)\n"
          ]
        },
        {
          "output_type": "stream",
          "name": "stdout",
          "text": [
            "cid:  678\n",
            "cid:  1571\n",
            "cid: cid:  2997\n",
            " cid:  1260\n",
            "1473\n"
          ]
        },
        {
          "output_type": "stream",
          "name": "stderr",
          "text": [
            "DEBUG flwr 2024-02-03 19:03:10,042 | server_returns_parameters.py:237 | fit_round 21 received 5 results and 0 failures\n",
            "DEBUG:flwr:fit_round 21 received 5 results and 0 failures\n",
            " 11%|█         | 100/891 [00:01<00:14, 55.51it/s]\n",
            "INFO flwr 2024-02-03 19:03:11,899 | server_returns_parameters.py:120 | fit progress: (21, 353.9350619316101, {'accuracy': 0.074375}, 116.91699245899872)\n",
            "INFO:flwr:fit progress: (21, 353.9350619316101, {'accuracy': 0.074375}, 116.91699245899872)\n",
            "INFO flwr 2024-02-03 19:03:11,904 | server_returns_parameters.py:171 | evaluate_round 21: no clients selected, cancel\n",
            "INFO:flwr:evaluate_round 21: no clients selected, cancel\n",
            "DEBUG flwr 2024-02-03 19:03:11,909 | server_returns_parameters.py:223 | fit_round 22: strategy sampled 5 clients (out of 20)\n",
            "DEBUG:flwr:fit_round 22: strategy sampled 5 clients (out of 20)\n"
          ]
        },
        {
          "output_type": "stream",
          "name": "stdout",
          "text": [
            "cid: cid:  2855\n",
            "cid:  1571\n",
            " 2399\n",
            "cid:  2184\n",
            "cid:  2530\n"
          ]
        },
        {
          "output_type": "stream",
          "name": "stderr",
          "text": [
            "DEBUG flwr 2024-02-03 19:03:15,258 | server_returns_parameters.py:237 | fit_round 22 received 5 results and 0 failures\n",
            "DEBUG:flwr:fit_round 22 received 5 results and 0 failures\n",
            " 11%|█         | 100/891 [00:02<00:19, 39.91it/s]\n",
            "INFO flwr 2024-02-03 19:03:17,909 | server_returns_parameters.py:120 | fit progress: (22, 357.01129031181335, {'accuracy': 0.074375}, 122.92727347699838)\n",
            "INFO:flwr:fit progress: (22, 357.01129031181335, {'accuracy': 0.074375}, 122.92727347699838)\n",
            "INFO flwr 2024-02-03 19:03:17,914 | server_returns_parameters.py:171 | evaluate_round 22: no clients selected, cancel\n",
            "INFO:flwr:evaluate_round 22: no clients selected, cancel\n",
            "DEBUG flwr 2024-02-03 19:03:17,918 | server_returns_parameters.py:223 | fit_round 23: strategy sampled 5 clients (out of 20)\n",
            "DEBUG:flwr:fit_round 23: strategy sampled 5 clients (out of 20)\n"
          ]
        },
        {
          "output_type": "stream",
          "name": "stdout",
          "text": [
            "cid:  3119\n",
            "cid:  2997\n",
            "cid: cid:  1363\n",
            " 1260\n",
            "cid:  1571\n"
          ]
        },
        {
          "output_type": "stream",
          "name": "stderr",
          "text": [
            "DEBUG flwr 2024-02-03 19:03:21,721 | server_returns_parameters.py:237 | fit_round 23 received 5 results and 0 failures\n",
            "DEBUG:flwr:fit_round 23 received 5 results and 0 failures\n",
            " 11%|█         | 100/891 [00:01<00:12, 60.85it/s]\n",
            "INFO flwr 2024-02-03 19:03:23,448 | server_returns_parameters.py:120 | fit progress: (23, 360.5373878479004, {'accuracy': 0.069375}, 128.4657491099988)\n",
            "INFO:flwr:fit progress: (23, 360.5373878479004, {'accuracy': 0.069375}, 128.4657491099988)\n",
            "INFO flwr 2024-02-03 19:03:23,452 | server_returns_parameters.py:171 | evaluate_round 23: no clients selected, cancel\n",
            "INFO:flwr:evaluate_round 23: no clients selected, cancel\n",
            "DEBUG flwr 2024-02-03 19:03:23,457 | server_returns_parameters.py:223 | fit_round 24: strategy sampled 5 clients (out of 20)\n",
            "DEBUG:flwr:fit_round 24: strategy sampled 5 clients (out of 20)\n"
          ]
        },
        {
          "output_type": "stream",
          "name": "stdout",
          "text": [
            "cid:  1473\n",
            "cid:  2600\n",
            "cid:  678\n",
            "cid:  1363cid:  1603\n",
            "\n"
          ]
        },
        {
          "output_type": "stream",
          "name": "stderr",
          "text": [
            "DEBUG flwr 2024-02-03 19:03:26,090 | server_returns_parameters.py:237 | fit_round 24 received 5 results and 0 failures\n",
            "DEBUG:flwr:fit_round 24 received 5 results and 0 failures\n",
            " 11%|█         | 100/891 [00:01<00:13, 60.54it/s]\n",
            "INFO flwr 2024-02-03 19:03:27,810 | server_returns_parameters.py:120 | fit progress: (24, 362.44862484931946, {'accuracy': 0.079375}, 132.82838503499988)\n",
            "INFO:flwr:fit progress: (24, 362.44862484931946, {'accuracy': 0.079375}, 132.82838503499988)\n",
            "INFO flwr 2024-02-03 19:03:27,814 | server_returns_parameters.py:171 | evaluate_round 24: no clients selected, cancel\n",
            "INFO:flwr:evaluate_round 24: no clients selected, cancel\n",
            "DEBUG flwr 2024-02-03 19:03:27,818 | server_returns_parameters.py:223 | fit_round 25: strategy sampled 5 clients (out of 20)\n",
            "DEBUG:flwr:fit_round 25: strategy sampled 5 clients (out of 20)\n"
          ]
        },
        {
          "output_type": "stream",
          "name": "stdout",
          "text": [
            "cid:  2688\n",
            "cid:  1473\n",
            "cid:  1494\n",
            "cid:  2338\n",
            "cid:  3175\n"
          ]
        },
        {
          "output_type": "stream",
          "name": "stderr",
          "text": [
            "DEBUG flwr 2024-02-03 19:03:30,203 | server_returns_parameters.py:237 | fit_round 25 received 5 results and 0 failures\n",
            "DEBUG:flwr:fit_round 25 received 5 results and 0 failures\n",
            " 11%|█         | 100/891 [00:01<00:13, 60.67it/s]\n",
            "INFO flwr 2024-02-03 19:03:31,925 | server_returns_parameters.py:120 | fit progress: (25, 361.28728437423706, {'accuracy': 0.079375}, 136.9435450689998)\n",
            "INFO:flwr:fit progress: (25, 361.28728437423706, {'accuracy': 0.079375}, 136.9435450689998)\n",
            "INFO flwr 2024-02-03 19:03:31,934 | server_returns_parameters.py:171 | evaluate_round 25: no clients selected, cancel\n",
            "INFO:flwr:evaluate_round 25: no clients selected, cancel\n",
            "DEBUG flwr 2024-02-03 19:03:31,940 | server_returns_parameters.py:223 | fit_round 26: strategy sampled 5 clients (out of 20)\n",
            "DEBUG:flwr:fit_round 26: strategy sampled 5 clients (out of 20)\n"
          ]
        },
        {
          "output_type": "stream",
          "name": "stdout",
          "text": [
            "cid:  678\n",
            "cid:  1473\n",
            "cid:  2907\n",
            "cid:  1603\n",
            "cid:  2530\n"
          ]
        },
        {
          "output_type": "stream",
          "name": "stderr",
          "text": [
            "DEBUG flwr 2024-02-03 19:03:35,117 | server_returns_parameters.py:237 | fit_round 26 received 5 results and 0 failures\n",
            "DEBUG:flwr:fit_round 26 received 5 results and 0 failures\n",
            " 11%|█         | 100/891 [00:02<00:18, 43.06it/s]\n",
            "INFO flwr 2024-02-03 19:03:37,529 | server_returns_parameters.py:120 | fit progress: (26, 359.7333936691284, {'accuracy': 0.079375}, 142.54730108199874)\n",
            "INFO:flwr:fit progress: (26, 359.7333936691284, {'accuracy': 0.079375}, 142.54730108199874)\n",
            "INFO flwr 2024-02-03 19:03:37,538 | server_returns_parameters.py:171 | evaluate_round 26: no clients selected, cancel\n",
            "INFO:flwr:evaluate_round 26: no clients selected, cancel\n",
            "DEBUG flwr 2024-02-03 19:03:37,543 | server_returns_parameters.py:223 | fit_round 27: strategy sampled 5 clients (out of 20)\n",
            "DEBUG:flwr:fit_round 27: strategy sampled 5 clients (out of 20)\n"
          ]
        },
        {
          "output_type": "stream",
          "name": "stdout",
          "text": [
            "cid:  1571\n",
            "cid:  2907\n",
            "cid:  3175\n",
            "cid:  2855\n",
            "cid:  1473\n"
          ]
        },
        {
          "output_type": "stream",
          "name": "stderr",
          "text": [
            "DEBUG flwr 2024-02-03 19:03:40,309 | server_returns_parameters.py:237 | fit_round 27 received 5 results and 0 failures\n",
            "DEBUG:flwr:fit_round 27 received 5 results and 0 failures\n",
            " 11%|█         | 100/891 [00:01<00:12, 62.29it/s]\n",
            "INFO flwr 2024-02-03 19:03:41,971 | server_returns_parameters.py:120 | fit progress: (27, 357.9387300014496, {'accuracy': 0.079375}, 146.98865820899846)\n",
            "INFO:flwr:fit progress: (27, 357.9387300014496, {'accuracy': 0.079375}, 146.98865820899846)\n",
            "INFO flwr 2024-02-03 19:03:41,975 | server_returns_parameters.py:171 | evaluate_round 27: no clients selected, cancel\n",
            "INFO:flwr:evaluate_round 27: no clients selected, cancel\n",
            "DEBUG flwr 2024-02-03 19:03:41,979 | server_returns_parameters.py:223 | fit_round 28: strategy sampled 5 clients (out of 20)\n",
            "DEBUG:flwr:fit_round 28: strategy sampled 5 clients (out of 20)\n"
          ]
        },
        {
          "output_type": "stream",
          "name": "stdout",
          "text": [
            "cid:  2338\n",
            "cid:  2184\n",
            "cid:  839\n",
            "cid:  1473\n",
            "cid:  2997\n"
          ]
        },
        {
          "output_type": "stream",
          "name": "stderr",
          "text": [
            "DEBUG flwr 2024-02-03 19:03:44,541 | server_returns_parameters.py:237 | fit_round 28 received 5 results and 0 failures\n",
            "DEBUG:flwr:fit_round 28 received 5 results and 0 failures\n",
            " 11%|█         | 100/891 [00:01<00:12, 61.18it/s]\n",
            "INFO flwr 2024-02-03 19:03:46,233 | server_returns_parameters.py:120 | fit progress: (28, 357.00821018218994, {'accuracy': 0.079375}, 151.25117417699948)\n",
            "INFO:flwr:fit progress: (28, 357.00821018218994, {'accuracy': 0.079375}, 151.25117417699948)\n",
            "INFO flwr 2024-02-03 19:03:46,237 | server_returns_parameters.py:171 | evaluate_round 28: no clients selected, cancel\n",
            "INFO:flwr:evaluate_round 28: no clients selected, cancel\n",
            "DEBUG flwr 2024-02-03 19:03:46,241 | server_returns_parameters.py:223 | fit_round 29: strategy sampled 5 clients (out of 20)\n",
            "DEBUG:flwr:fit_round 29: strategy sampled 5 clients (out of 20)\n"
          ]
        },
        {
          "output_type": "stream",
          "name": "stdout",
          "text": [
            "cid:  1603\n",
            "cid:  1498\n",
            "cid:  678\n",
            "cid:  1363\n",
            "cid:  2184\n"
          ]
        },
        {
          "output_type": "stream",
          "name": "stderr",
          "text": [
            "DEBUG flwr 2024-02-03 19:03:49,056 | server_returns_parameters.py:237 | fit_round 29 received 5 results and 0 failures\n",
            "DEBUG:flwr:fit_round 29 received 5 results and 0 failures\n",
            " 11%|█         | 100/891 [00:02<00:18, 43.28it/s]\n",
            "INFO flwr 2024-02-03 19:03:51,450 | server_returns_parameters.py:120 | fit progress: (29, 357.4580054283142, {'accuracy': 0.079375}, 156.46787877799943)\n",
            "INFO:flwr:fit progress: (29, 357.4580054283142, {'accuracy': 0.079375}, 156.46787877799943)\n",
            "INFO flwr 2024-02-03 19:03:51,456 | server_returns_parameters.py:171 | evaluate_round 29: no clients selected, cancel\n",
            "INFO:flwr:evaluate_round 29: no clients selected, cancel\n",
            "DEBUG flwr 2024-02-03 19:03:51,463 | server_returns_parameters.py:223 | fit_round 30: strategy sampled 5 clients (out of 20)\n",
            "DEBUG:flwr:fit_round 30: strategy sampled 5 clients (out of 20)\n"
          ]
        },
        {
          "output_type": "stream",
          "name": "stdout",
          "text": [
            "cid:  2855\n",
            "cid:  2997\n",
            "cid:  2600\n",
            "cid:  1571\n",
            "cid:  3175\n"
          ]
        },
        {
          "output_type": "stream",
          "name": "stderr",
          "text": [
            "DEBUG flwr 2024-02-03 19:03:54,901 | server_returns_parameters.py:237 | fit_round 30 received 5 results and 0 failures\n",
            "DEBUG:flwr:fit_round 30 received 5 results and 0 failures\n",
            " 11%|█         | 100/891 [00:01<00:13, 58.37it/s]\n",
            "INFO flwr 2024-02-03 19:03:56,673 | server_returns_parameters.py:120 | fit progress: (30, 358.0527288913727, {'accuracy': 0.070625}, 161.69078861099842)\n",
            "INFO:flwr:fit progress: (30, 358.0527288913727, {'accuracy': 0.070625}, 161.69078861099842)\n",
            "INFO flwr 2024-02-03 19:03:56,675 | server_returns_parameters.py:171 | evaluate_round 30: no clients selected, cancel\n",
            "INFO:flwr:evaluate_round 30: no clients selected, cancel\n",
            "DEBUG flwr 2024-02-03 19:03:56,682 | server_returns_parameters.py:223 | fit_round 31: strategy sampled 5 clients (out of 20)\n",
            "DEBUG:flwr:fit_round 31: strategy sampled 5 clients (out of 20)\n"
          ]
        },
        {
          "output_type": "stream",
          "name": "stdout",
          "text": [
            "cid:  2688\n",
            "cid:  1498\n",
            "cid:  2338\n",
            "cid:  839\n",
            "cid:  2184\n"
          ]
        },
        {
          "output_type": "stream",
          "name": "stderr",
          "text": [
            "DEBUG flwr 2024-02-03 19:03:59,364 | server_returns_parameters.py:237 | fit_round 31 received 5 results and 0 failures\n",
            "DEBUG:flwr:fit_round 31 received 5 results and 0 failures\n",
            " 11%|█         | 100/891 [00:01<00:12, 61.30it/s]\n",
            "INFO flwr 2024-02-03 19:04:01,051 | server_returns_parameters.py:120 | fit progress: (31, 358.87835025787354, {'accuracy': 0.070625}, 166.06914500399944)\n",
            "INFO:flwr:fit progress: (31, 358.87835025787354, {'accuracy': 0.070625}, 166.06914500399944)\n",
            "INFO flwr 2024-02-03 19:04:01,059 | server_returns_parameters.py:171 | evaluate_round 31: no clients selected, cancel\n",
            "INFO:flwr:evaluate_round 31: no clients selected, cancel\n",
            "DEBUG flwr 2024-02-03 19:04:01,062 | server_returns_parameters.py:223 | fit_round 32: strategy sampled 5 clients (out of 20)\n",
            "DEBUG:flwr:fit_round 32: strategy sampled 5 clients (out of 20)\n"
          ]
        },
        {
          "output_type": "stream",
          "name": "stdout",
          "text": [
            "cid:  3119\n",
            "cid:  2855\n",
            "cid:  1363\n",
            "cid:  2530\n",
            "cid:  2338\n"
          ]
        },
        {
          "output_type": "stream",
          "name": "stderr",
          "text": [
            "DEBUG flwr 2024-02-03 19:04:03,874 | server_returns_parameters.py:237 | fit_round 32 received 5 results and 0 failures\n",
            "DEBUG:flwr:fit_round 32 received 5 results and 0 failures\n",
            " 11%|█         | 100/891 [00:01<00:15, 51.51it/s]\n",
            "INFO flwr 2024-02-03 19:04:05,872 | server_returns_parameters.py:120 | fit progress: (32, 359.6644341945648, {'accuracy': 0.069375}, 170.8903779709999)\n",
            "INFO:flwr:fit progress: (32, 359.6644341945648, {'accuracy': 0.069375}, 170.8903779709999)\n",
            "INFO flwr 2024-02-03 19:04:05,876 | server_returns_parameters.py:171 | evaluate_round 32: no clients selected, cancel\n",
            "INFO:flwr:evaluate_round 32: no clients selected, cancel\n",
            "DEBUG flwr 2024-02-03 19:04:05,880 | server_returns_parameters.py:223 | fit_round 33: strategy sampled 5 clients (out of 20)\n",
            "DEBUG:flwr:fit_round 33: strategy sampled 5 clients (out of 20)\n"
          ]
        },
        {
          "output_type": "stream",
          "name": "stdout",
          "text": [
            "cid:  2338\n",
            "cid:  1603\n",
            "cid:  2907\n",
            "cid:  2855\n",
            "cid:  2688\n"
          ]
        },
        {
          "output_type": "stream",
          "name": "stderr",
          "text": [
            "DEBUG flwr 2024-02-03 19:04:09,007 | server_returns_parameters.py:237 | fit_round 33 received 5 results and 0 failures\n",
            "DEBUG:flwr:fit_round 33 received 5 results and 0 failures\n",
            " 11%|█         | 100/891 [00:02<00:18, 42.27it/s]\n",
            "INFO flwr 2024-02-03 19:04:11,465 | server_returns_parameters.py:120 | fit progress: (33, 360.177344083786, {'accuracy': 0.069375}, 176.4829957439997)\n",
            "INFO:flwr:fit progress: (33, 360.177344083786, {'accuracy': 0.069375}, 176.4829957439997)\n",
            "INFO flwr 2024-02-03 19:04:11,468 | server_returns_parameters.py:171 | evaluate_round 33: no clients selected, cancel\n",
            "INFO:flwr:evaluate_round 33: no clients selected, cancel\n",
            "DEBUG flwr 2024-02-03 19:04:11,472 | server_returns_parameters.py:223 | fit_round 34: strategy sampled 5 clients (out of 20)\n",
            "DEBUG:flwr:fit_round 34: strategy sampled 5 clients (out of 20)\n"
          ]
        },
        {
          "output_type": "stream",
          "name": "stdout",
          "text": [
            "cid:  2530\n",
            "cid:  cid:  2997\n",
            "cid:  2688\n",
            "2399\n",
            "cid:  678\n"
          ]
        },
        {
          "output_type": "stream",
          "name": "stderr",
          "text": [
            "DEBUG flwr 2024-02-03 19:04:15,106 | server_returns_parameters.py:237 | fit_round 34 received 5 results and 0 failures\n",
            "DEBUG:flwr:fit_round 34 received 5 results and 0 failures\n",
            " 11%|█         | 100/891 [00:01<00:12, 61.80it/s]\n",
            "INFO flwr 2024-02-03 19:04:16,783 | server_returns_parameters.py:120 | fit progress: (34, 359.4507176876068, {'accuracy': 0.069375}, 181.80067545199927)\n",
            "INFO:flwr:fit progress: (34, 359.4507176876068, {'accuracy': 0.069375}, 181.80067545199927)\n",
            "INFO flwr 2024-02-03 19:04:16,787 | server_returns_parameters.py:171 | evaluate_round 34: no clients selected, cancel\n",
            "INFO:flwr:evaluate_round 34: no clients selected, cancel\n",
            "DEBUG flwr 2024-02-03 19:04:16,792 | server_returns_parameters.py:223 | fit_round 35: strategy sampled 5 clients (out of 20)\n",
            "DEBUG:flwr:fit_round 35: strategy sampled 5 clients (out of 20)\n"
          ]
        },
        {
          "output_type": "stream",
          "name": "stdout",
          "text": [
            "cid:  678\n",
            "cid:  2184\n",
            "cid:  1603\n",
            "cid:  3119\n",
            "cid:  1473\n"
          ]
        },
        {
          "output_type": "stream",
          "name": "stderr",
          "text": [
            "DEBUG flwr 2024-02-03 19:04:19,373 | server_returns_parameters.py:237 | fit_round 35 received 5 results and 0 failures\n",
            "DEBUG:flwr:fit_round 35 received 5 results and 0 failures\n",
            " 11%|█         | 100/891 [00:01<00:12, 62.29it/s]\n",
            "INFO flwr 2024-02-03 19:04:21,034 | server_returns_parameters.py:120 | fit progress: (35, 358.1442918777466, {'accuracy': 0.069375}, 186.05228415999954)\n",
            "INFO:flwr:fit progress: (35, 358.1442918777466, {'accuracy': 0.069375}, 186.05228415999954)\n",
            "INFO flwr 2024-02-03 19:04:21,038 | server_returns_parameters.py:171 | evaluate_round 35: no clients selected, cancel\n",
            "INFO:flwr:evaluate_round 35: no clients selected, cancel\n",
            "DEBUG flwr 2024-02-03 19:04:21,042 | server_returns_parameters.py:223 | fit_round 36: strategy sampled 5 clients (out of 20)\n",
            "DEBUG:flwr:fit_round 36: strategy sampled 5 clients (out of 20)\n"
          ]
        },
        {
          "output_type": "stream",
          "name": "stdout",
          "text": [
            "cid:  1363\n",
            "cid:  1571\n",
            "cid:  2530\n",
            "cid: cid:  1260\n",
            " 2600\n"
          ]
        },
        {
          "output_type": "stream",
          "name": "stderr",
          "text": [
            "DEBUG flwr 2024-02-03 19:04:24,944 | server_returns_parameters.py:237 | fit_round 36 received 5 results and 0 failures\n",
            "DEBUG:flwr:fit_round 36 received 5 results and 0 failures\n",
            " 11%|█         | 100/891 [00:02<00:18, 43.09it/s]\n",
            "INFO flwr 2024-02-03 19:04:27,359 | server_returns_parameters.py:120 | fit progress: (36, 356.775443315506, {'accuracy': 0.079375}, 192.37758774299982)\n",
            "INFO:flwr:fit progress: (36, 356.775443315506, {'accuracy': 0.079375}, 192.37758774299982)\n",
            "INFO flwr 2024-02-03 19:04:27,363 | server_returns_parameters.py:171 | evaluate_round 36: no clients selected, cancel\n",
            "INFO:flwr:evaluate_round 36: no clients selected, cancel\n",
            "DEBUG flwr 2024-02-03 19:04:27,365 | server_returns_parameters.py:223 | fit_round 37: strategy sampled 5 clients (out of 20)\n",
            "DEBUG:flwr:fit_round 37: strategy sampled 5 clients (out of 20)\n"
          ]
        },
        {
          "output_type": "stream",
          "name": "stdout",
          "text": [
            "cid:  1498\n",
            "cid: cid:  2399\n",
            " 2907\n",
            "cid:  2530\n",
            "cid:  1363\n"
          ]
        },
        {
          "output_type": "stream",
          "name": "stderr",
          "text": [
            "DEBUG flwr 2024-02-03 19:04:30,557 | server_returns_parameters.py:237 | fit_round 37 received 5 results and 0 failures\n",
            "DEBUG:flwr:fit_round 37 received 5 results and 0 failures\n",
            " 11%|█         | 100/891 [00:02<00:17, 44.97it/s]\n",
            "INFO flwr 2024-02-03 19:04:32,888 | server_returns_parameters.py:120 | fit progress: (37, 356.8251495361328, {'accuracy': 0.079375}, 197.9063831709991)\n",
            "INFO:flwr:fit progress: (37, 356.8251495361328, {'accuracy': 0.079375}, 197.9063831709991)\n",
            "INFO flwr 2024-02-03 19:04:32,894 | server_returns_parameters.py:171 | evaluate_round 37: no clients selected, cancel\n",
            "INFO:flwr:evaluate_round 37: no clients selected, cancel\n",
            "DEBUG flwr 2024-02-03 19:04:32,900 | server_returns_parameters.py:223 | fit_round 38: strategy sampled 5 clients (out of 20)\n",
            "DEBUG:flwr:fit_round 38: strategy sampled 5 clients (out of 20)\n"
          ]
        },
        {
          "output_type": "stream",
          "name": "stdout",
          "text": [
            "cid:  2997\n",
            "cid:  cid:  2399\n",
            "1494cid:  1498\n",
            "\n",
            "cid:  2907\n"
          ]
        },
        {
          "output_type": "stream",
          "name": "stderr",
          "text": [
            "DEBUG flwr 2024-02-03 19:04:36,471 | server_returns_parameters.py:237 | fit_round 38 received 5 results and 0 failures\n",
            "DEBUG:flwr:fit_round 38 received 5 results and 0 failures\n",
            " 11%|█         | 100/891 [00:02<00:19, 41.41it/s]\n",
            "INFO flwr 2024-02-03 19:04:39,032 | server_returns_parameters.py:120 | fit progress: (38, 357.71801471710205, {'accuracy': 0.079375}, 204.0502193429984)\n",
            "INFO:flwr:fit progress: (38, 357.71801471710205, {'accuracy': 0.079375}, 204.0502193429984)\n",
            "INFO flwr 2024-02-03 19:04:39,036 | server_returns_parameters.py:171 | evaluate_round 38: no clients selected, cancel\n",
            "INFO:flwr:evaluate_round 38: no clients selected, cancel\n",
            "DEBUG flwr 2024-02-03 19:04:39,042 | server_returns_parameters.py:223 | fit_round 39: strategy sampled 5 clients (out of 20)\n",
            "DEBUG:flwr:fit_round 39: strategy sampled 5 clients (out of 20)\n"
          ]
        },
        {
          "output_type": "stream",
          "name": "stdout",
          "text": [
            "cid:  2399\n",
            "cid:  3119\n",
            "cid:  1473\n",
            "cid:  678\n",
            "cid:  2184\n"
          ]
        },
        {
          "output_type": "stream",
          "name": "stderr",
          "text": [
            "DEBUG flwr 2024-02-03 19:04:42,300 | server_returns_parameters.py:237 | fit_round 39 received 5 results and 0 failures\n",
            "DEBUG:flwr:fit_round 39 received 5 results and 0 failures\n",
            " 11%|█         | 100/891 [00:02<00:17, 45.56it/s]\n",
            "INFO flwr 2024-02-03 19:04:44,591 | server_returns_parameters.py:120 | fit progress: (39, 359.38439536094666, {'accuracy': 0.079375}, 209.6091265369996)\n",
            "INFO:flwr:fit progress: (39, 359.38439536094666, {'accuracy': 0.079375}, 209.6091265369996)\n",
            "INFO flwr 2024-02-03 19:04:44,595 | server_returns_parameters.py:171 | evaluate_round 39: no clients selected, cancel\n",
            "INFO:flwr:evaluate_round 39: no clients selected, cancel\n",
            "DEBUG flwr 2024-02-03 19:04:44,601 | server_returns_parameters.py:223 | fit_round 40: strategy sampled 5 clients (out of 20)\n",
            "DEBUG:flwr:fit_round 40: strategy sampled 5 clients (out of 20)\n"
          ]
        },
        {
          "output_type": "stream",
          "name": "stdout",
          "text": [
            "cid:  1260\n",
            "cid: cid:  1494\n",
            " 678cid:  1571\n",
            "\n",
            "cid:  1603\n"
          ]
        },
        {
          "output_type": "stream",
          "name": "stderr",
          "text": [
            "DEBUG flwr 2024-02-03 19:04:47,911 | server_returns_parameters.py:237 | fit_round 40 received 5 results and 0 failures\n",
            "DEBUG:flwr:fit_round 40 received 5 results and 0 failures\n",
            " 11%|█         | 100/891 [00:01<00:12, 61.82it/s]\n",
            "INFO flwr 2024-02-03 19:04:49,585 | server_returns_parameters.py:120 | fit progress: (40, 361.5620195865631, {'accuracy': 0.070625}, 214.603364306)\n",
            "INFO:flwr:fit progress: (40, 361.5620195865631, {'accuracy': 0.070625}, 214.603364306)\n",
            "INFO flwr 2024-02-03 19:04:49,589 | server_returns_parameters.py:171 | evaluate_round 40: no clients selected, cancel\n",
            "INFO:flwr:evaluate_round 40: no clients selected, cancel\n",
            "DEBUG flwr 2024-02-03 19:04:49,593 | server_returns_parameters.py:223 | fit_round 41: strategy sampled 5 clients (out of 20)\n",
            "DEBUG:flwr:fit_round 41: strategy sampled 5 clients (out of 20)\n"
          ]
        },
        {
          "output_type": "stream",
          "name": "stdout",
          "text": [
            "cid:  2855\n",
            "cid:  2997\n",
            "cid:  2907\n",
            "cid:  3119\n",
            "cid:  839\n"
          ]
        },
        {
          "output_type": "stream",
          "name": "stderr",
          "text": [
            "DEBUG flwr 2024-02-03 19:04:52,323 | server_returns_parameters.py:237 | fit_round 41 received 5 results and 0 failures\n",
            "DEBUG:flwr:fit_round 41 received 5 results and 0 failures\n",
            " 11%|█         | 100/891 [00:01<00:13, 59.93it/s]\n",
            "INFO flwr 2024-02-03 19:04:54,048 | server_returns_parameters.py:120 | fit progress: (41, 362.04366397857666, {'accuracy': 0.070625}, 219.0656552879991)\n",
            "INFO:flwr:fit progress: (41, 362.04366397857666, {'accuracy': 0.070625}, 219.0656552879991)\n",
            "INFO flwr 2024-02-03 19:04:54,051 | server_returns_parameters.py:171 | evaluate_round 41: no clients selected, cancel\n",
            "INFO:flwr:evaluate_round 41: no clients selected, cancel\n",
            "DEBUG flwr 2024-02-03 19:04:54,056 | server_returns_parameters.py:223 | fit_round 42: strategy sampled 5 clients (out of 20)\n",
            "DEBUG:flwr:fit_round 42: strategy sampled 5 clients (out of 20)\n"
          ]
        },
        {
          "output_type": "stream",
          "name": "stdout",
          "text": [
            "cid:  2338\n",
            "cid:  2600\n",
            "cid:  3175\n",
            "cid:  1473\n",
            "cid:  2530\n"
          ]
        },
        {
          "output_type": "stream",
          "name": "stderr",
          "text": [
            "DEBUG flwr 2024-02-03 19:04:57,096 | server_returns_parameters.py:237 | fit_round 42 received 5 results and 0 failures\n",
            "DEBUG:flwr:fit_round 42 received 5 results and 0 failures\n",
            " 11%|█         | 100/891 [00:02<00:18, 43.22it/s]\n",
            "INFO flwr 2024-02-03 19:04:59,506 | server_returns_parameters.py:120 | fit progress: (42, 360.51122212409973, {'accuracy': 0.070625}, 224.52457923099973)\n",
            "INFO:flwr:fit progress: (42, 360.51122212409973, {'accuracy': 0.070625}, 224.52457923099973)\n",
            "INFO flwr 2024-02-03 19:04:59,510 | server_returns_parameters.py:171 | evaluate_round 42: no clients selected, cancel\n",
            "INFO:flwr:evaluate_round 42: no clients selected, cancel\n",
            "DEBUG flwr 2024-02-03 19:04:59,515 | server_returns_parameters.py:223 | fit_round 43: strategy sampled 5 clients (out of 20)\n",
            "DEBUG:flwr:fit_round 43: strategy sampled 5 clients (out of 20)\n"
          ]
        },
        {
          "output_type": "stream",
          "name": "stdout",
          "text": [
            "cid:  2530\n",
            "cid: cid:   678\n",
            "2184\n",
            "cid:  1498\n",
            "cid:  1473\n"
          ]
        },
        {
          "output_type": "stream",
          "name": "stderr",
          "text": [
            "DEBUG flwr 2024-02-03 19:05:02,618 | server_returns_parameters.py:237 | fit_round 43 received 5 results and 0 failures\n",
            "DEBUG:flwr:fit_round 43 received 5 results and 0 failures\n",
            " 11%|█         | 100/891 [00:01<00:15, 52.66it/s]\n",
            "INFO flwr 2024-02-03 19:05:04,582 | server_returns_parameters.py:120 | fit progress: (43, 358.83952832221985, {'accuracy': 0.0709375}, 229.59965980699963)\n",
            "INFO:flwr:fit progress: (43, 358.83952832221985, {'accuracy': 0.0709375}, 229.59965980699963)\n",
            "INFO flwr 2024-02-03 19:05:04,588 | server_returns_parameters.py:171 | evaluate_round 43: no clients selected, cancel\n",
            "INFO:flwr:evaluate_round 43: no clients selected, cancel\n",
            "DEBUG flwr 2024-02-03 19:05:04,592 | server_returns_parameters.py:223 | fit_round 44: strategy sampled 5 clients (out of 20)\n",
            "DEBUG:flwr:fit_round 44: strategy sampled 5 clients (out of 20)\n"
          ]
        },
        {
          "output_type": "stream",
          "name": "stdout",
          "text": [
            "cid:  3175\n",
            "cid:  839\n",
            "cid:  3119\n",
            "cid:  1363\n",
            "cid:  2338\n"
          ]
        },
        {
          "output_type": "stream",
          "name": "stderr",
          "text": [
            "DEBUG flwr 2024-02-03 19:05:07,504 | server_returns_parameters.py:237 | fit_round 44 received 5 results and 0 failures\n",
            "DEBUG:flwr:fit_round 44 received 5 results and 0 failures\n",
            " 11%|█         | 100/891 [00:02<00:16, 46.81it/s]\n",
            "INFO flwr 2024-02-03 19:05:09,745 | server_returns_parameters.py:120 | fit progress: (44, 356.9429383277893, {'accuracy': 0.0709375}, 234.763053785)\n",
            "INFO:flwr:fit progress: (44, 356.9429383277893, {'accuracy': 0.0709375}, 234.763053785)\n",
            "INFO flwr 2024-02-03 19:05:09,766 | server_returns_parameters.py:171 | evaluate_round 44: no clients selected, cancel\n",
            "INFO:flwr:evaluate_round 44: no clients selected, cancel\n",
            "DEBUG flwr 2024-02-03 19:05:09,775 | server_returns_parameters.py:223 | fit_round 45: strategy sampled 5 clients (out of 20)\n",
            "DEBUG:flwr:fit_round 45: strategy sampled 5 clients (out of 20)\n"
          ]
        },
        {
          "output_type": "stream",
          "name": "stdout",
          "text": [
            "cid:  2530\n",
            "cid:  1260\n",
            "cid:  1363\n",
            "cid:  2855\n",
            "cid:  2600\n"
          ]
        },
        {
          "output_type": "stream",
          "name": "stderr",
          "text": [
            "DEBUG flwr 2024-02-03 19:05:14,709 | server_returns_parameters.py:237 | fit_round 45 received 5 results and 0 failures\n",
            "DEBUG:flwr:fit_round 45 received 5 results and 0 failures\n",
            " 11%|█         | 100/891 [00:02<00:21, 36.46it/s]\n",
            "INFO flwr 2024-02-03 19:05:17,554 | server_returns_parameters.py:120 | fit progress: (45, 356.4196026325226, {'accuracy': 0.069375}, 242.5725964659996)\n",
            "INFO:flwr:fit progress: (45, 356.4196026325226, {'accuracy': 0.069375}, 242.5725964659996)\n",
            "INFO flwr 2024-02-03 19:05:17,562 | server_returns_parameters.py:171 | evaluate_round 45: no clients selected, cancel\n",
            "INFO:flwr:evaluate_round 45: no clients selected, cancel\n",
            "DEBUG flwr 2024-02-03 19:05:17,566 | server_returns_parameters.py:223 | fit_round 46: strategy sampled 5 clients (out of 20)\n",
            "DEBUG:flwr:fit_round 46: strategy sampled 5 clients (out of 20)\n"
          ]
        },
        {
          "output_type": "stream",
          "name": "stdout",
          "text": [
            "cid:  2184\n",
            "cid: cid:  1571\n",
            "cid:  1494\n",
            " 2530\n",
            "cid:  2907\n"
          ]
        },
        {
          "output_type": "stream",
          "name": "stderr",
          "text": [
            "DEBUG flwr 2024-02-03 19:05:20,583 | server_returns_parameters.py:237 | fit_round 46 received 5 results and 0 failures\n",
            "DEBUG:flwr:fit_round 46 received 5 results and 0 failures\n",
            " 11%|█         | 100/891 [00:03<00:25, 31.33it/s]\n",
            "INFO flwr 2024-02-03 19:05:23,837 | server_returns_parameters.py:120 | fit progress: (46, 356.3651204109192, {'accuracy': 0.069375}, 248.85551418699833)\n",
            "INFO:flwr:fit progress: (46, 356.3651204109192, {'accuracy': 0.069375}, 248.85551418699833)\n",
            "INFO flwr 2024-02-03 19:05:23,841 | server_returns_parameters.py:171 | evaluate_round 46: no clients selected, cancel\n",
            "INFO:flwr:evaluate_round 46: no clients selected, cancel\n",
            "DEBUG flwr 2024-02-03 19:05:23,846 | server_returns_parameters.py:223 | fit_round 47: strategy sampled 5 clients (out of 20)\n",
            "DEBUG:flwr:fit_round 47: strategy sampled 5 clients (out of 20)\n"
          ]
        },
        {
          "output_type": "stream",
          "name": "stdout",
          "text": [
            "cid:  2184\n",
            "cid:  2600\n",
            "cid: cid:  3119\n",
            " 1260cid:  1473\n",
            "\n"
          ]
        },
        {
          "output_type": "stream",
          "name": "stderr",
          "text": [
            "DEBUG flwr 2024-02-03 19:05:26,873 | server_returns_parameters.py:237 | fit_round 47 received 5 results and 0 failures\n",
            "DEBUG:flwr:fit_round 47 received 5 results and 0 failures\n",
            " 11%|█         | 100/891 [00:02<00:16, 47.02it/s]\n",
            "INFO flwr 2024-02-03 19:05:29,058 | server_returns_parameters.py:120 | fit progress: (47, 356.83060574531555, {'accuracy': 0.069375}, 254.07646687299894)\n",
            "INFO:flwr:fit progress: (47, 356.83060574531555, {'accuracy': 0.069375}, 254.07646687299894)\n",
            "INFO flwr 2024-02-03 19:05:29,063 | server_returns_parameters.py:171 | evaluate_round 47: no clients selected, cancel\n",
            "INFO:flwr:evaluate_round 47: no clients selected, cancel\n",
            "DEBUG flwr 2024-02-03 19:05:29,067 | server_returns_parameters.py:223 | fit_round 48: strategy sampled 5 clients (out of 20)\n",
            "DEBUG:flwr:fit_round 48: strategy sampled 5 clients (out of 20)\n"
          ]
        },
        {
          "output_type": "stream",
          "name": "stdout",
          "text": [
            "cid:  2855\n",
            "cid:  2399\n",
            "cid:  2530\n",
            "cid:  1494\n",
            "cid:  2688\n"
          ]
        },
        {
          "output_type": "stream",
          "name": "stderr",
          "text": [
            "DEBUG flwr 2024-02-03 19:05:32,390 | server_returns_parameters.py:237 | fit_round 48 received 5 results and 0 failures\n",
            "DEBUG:flwr:fit_round 48 received 5 results and 0 failures\n",
            " 11%|█         | 100/891 [00:02<00:16, 47.58it/s]\n",
            "INFO flwr 2024-02-03 19:05:34,585 | server_returns_parameters.py:120 | fit progress: (48, 357.03506350517273, {'accuracy': 0.079375}, 259.60281290499915)\n",
            "INFO:flwr:fit progress: (48, 357.03506350517273, {'accuracy': 0.079375}, 259.60281290499915)\n",
            "INFO flwr 2024-02-03 19:05:34,588 | server_returns_parameters.py:171 | evaluate_round 48: no clients selected, cancel\n",
            "INFO:flwr:evaluate_round 48: no clients selected, cancel\n",
            "DEBUG flwr 2024-02-03 19:05:34,593 | server_returns_parameters.py:223 | fit_round 49: strategy sampled 5 clients (out of 20)\n",
            "DEBUG:flwr:fit_round 49: strategy sampled 5 clients (out of 20)\n"
          ]
        },
        {
          "output_type": "stream",
          "name": "stdout",
          "text": [
            "cid:  2997\n",
            "cid:  2907\n",
            "cid:  1260\n",
            "cid:  1494\n",
            "cid:  2688\n"
          ]
        },
        {
          "output_type": "stream",
          "name": "stderr",
          "text": [
            "DEBUG flwr 2024-02-03 19:05:37,821 | server_returns_parameters.py:237 | fit_round 49 received 5 results and 0 failures\n",
            "DEBUG:flwr:fit_round 49 received 5 results and 0 failures\n",
            " 11%|█         | 100/891 [00:01<00:15, 52.60it/s]\n",
            "INFO flwr 2024-02-03 19:05:39,798 | server_returns_parameters.py:120 | fit progress: (49, 357.2059237957001, {'accuracy': 0.079375}, 264.8165802079984)\n",
            "INFO:flwr:fit progress: (49, 357.2059237957001, {'accuracy': 0.079375}, 264.8165802079984)\n",
            "INFO flwr 2024-02-03 19:05:39,801 | server_returns_parameters.py:171 | evaluate_round 49: no clients selected, cancel\n",
            "INFO:flwr:evaluate_round 49: no clients selected, cancel\n",
            "DEBUG flwr 2024-02-03 19:05:39,819 | server_returns_parameters.py:223 | fit_round 50: strategy sampled 5 clients (out of 20)\n",
            "DEBUG:flwr:fit_round 50: strategy sampled 5 clients (out of 20)\n"
          ]
        },
        {
          "output_type": "stream",
          "name": "stdout",
          "text": [
            "cid:  3119\n",
            "cid: cid:  2399\n",
            " 839\n",
            "cid:  1260\n",
            "cid:  678\n"
          ]
        },
        {
          "output_type": "stream",
          "name": "stderr",
          "text": [
            "DEBUG flwr 2024-02-03 19:05:43,571 | server_returns_parameters.py:237 | fit_round 50 received 5 results and 0 failures\n",
            "DEBUG:flwr:fit_round 50 received 5 results and 0 failures\n",
            " 11%|█         | 100/891 [00:02<00:18, 43.35it/s]\n",
            "INFO flwr 2024-02-03 19:05:45,934 | server_returns_parameters.py:120 | fit progress: (50, 357.9398374557495, {'accuracy': 0.079375}, 270.95195201299975)\n",
            "INFO:flwr:fit progress: (50, 357.9398374557495, {'accuracy': 0.079375}, 270.95195201299975)\n",
            "INFO flwr 2024-02-03 19:05:45,941 | server_returns_parameters.py:171 | evaluate_round 50: no clients selected, cancel\n",
            "INFO:flwr:evaluate_round 50: no clients selected, cancel\n",
            "INFO flwr 2024-02-03 19:05:45,945 | server_returns_parameters.py:150 | FL finished in 270.96268817499913\n",
            "INFO:flwr:FL finished in 270.96268817499913\n",
            "INFO flwr 2024-02-03 19:05:45,947 | app.py:250 | app_fit: losses_distributed []\n",
            "INFO:flwr:app_fit: losses_distributed []\n",
            "INFO flwr 2024-02-03 19:05:45,950 | app.py:251 | app_fit: metrics_distributed_fit {'train_loss': [(1, {'avg': 0.10582837675298963, 'all': [(4, 0.10289588198065758), (5, 0.1072576105594635), (4, 0.10323533602058887), (4, 0.10523335821926594), (4, 0.1101623885333538)]}), (2, {'avg': 0.10406400866451718, 'all': [(5, 0.10690417438745499), (4, 0.10299648530781269), (3, 0.10588139047225316), (5, 0.10102799087762833), (4, 0.10401331074535847)]}), (3, {'avg': 0.10786529226849477, 'all': [(4, 0.10429932177066803), (8, 0.11465538293123245), (3, 0.1065385068456332), (5, 0.1043970987200737), (4, 0.10318141244351864)]}), (4, {'avg': 0.10347048453986644, 'all': [(4, 0.10646961070597172), (4, 0.10488718003034592), (5, 0.10443343669176101), (3, 0.10145893692970276), (4, 0.09935963340103626)]}), (5, {'avg': 0.1076400976466096, 'all': [(3, 0.10575349628925323), (6, 0.1144119141002496), (5, 0.10456558167934418), (4, 0.1020893044769764), (5, 0.10816102921962738)]}), (6, {'avg': 0.10304580777883529, 'all': [(3, 0.10300678263107936), (5, 0.10388855785131454), (4, 0.10147987864911556), (4, 0.10297246277332306), (4, 0.10366091318428516)]}), (7, {'avg': 0.10639911703765392, 'all': [(4, 0.10534687340259552), (4, 0.10637730173766613), (4, 0.10975859500467777), (4, 0.10480804368853569), (4, 0.1057047713547945)]}), (8, {'avg': 0.11066083810650386, 'all': [(8, 0.11899921484291553), (4, 0.1046949103474617), (5, 0.10507380366325378), (4, 0.10943294875323772), (5, 0.10866152346134186)]}), (9, {'avg': 0.10338829942047596, 'all': [(5, 0.10392358303070068), (4, 0.1042215321213007), (4, 0.10274240747094154), (4, 0.10224304720759392), (3, 0.10377337535222371)]}), (10, {'avg': 0.11034064436400379, 'all': [(4, 0.10047146864235401), (6, 0.11531168346603711), (8, 0.11667250283062458), (5, 0.10790078043937683), (4, 0.10313937440514565)]}), (11, {'avg': 0.1048833593016579, 'all': [(5, 0.10427510589361191), (4, 0.10419938899576664), (4, 0.10898739472031593), (4, 0.10372632555663586), (4, 0.10338064469397068)]}), (12, {'avg': 0.10645937068121773, 'all': [(4, 0.10523924045264721), (5, 0.1070244088768959), (4, 0.10476286895573139), (5, 0.10860878378152847), (3, 0.10582412779331207)]}), (13, {'avg': 0.10656521150044032, 'all': [(4, 0.10594434849917889), (4, 0.10274455137550831), (4, 0.11044450290501118), (5, 0.1068154290318489), (4, 0.1068146713078022)]}), (14, {'avg': 0.10678023211658001, 'all': [(4, 0.10474157519638538), (4, 0.1067258920520544), (4, 0.10648322850465775), (4, 0.10938603058457375), (4, 0.10656443424522877)]}), (15, {'avg': 0.10502939336001874, 'all': [(4, 0.10255717672407627), (4, 0.10855434276163578), (4, 0.10427520982921124), (3, 0.10591461757818858), (5, 0.10425941944122315)]}), (16, {'avg': 0.11385917633771897, 'all': [(4, 0.1062929667532444), (5, 0.10714112520217896), (4, 0.10887869261205196), (4, 0.10674532875418663), (8, 0.12788822874426842)]}), (17, {'avg': 0.1137334995943567, 'all': [(8, 0.12842777743935585), (4, 0.10604855790734291), (3, 0.10813060899575551), (4, 0.10905422829091549), (4, 0.1009113248437643)]}), (18, {'avg': 0.1082765967363403, 'all': [(5, 0.10587218552827835), (3, 0.1135470022757848), (5, 0.10820285379886627), (4, 0.10737612843513489), (4, 0.10832195356488228)]}), (19, {'avg': 0.10540876111813954, 'all': [(4, 0.10550813376903534), (5, 0.10537524819374085), (4, 0.10393698513507843), (4, 0.10562315210700035), (4, 0.1066086646169424)]}), (20, {'avg': 0.11422241106629372, 'all': [(4, 0.10501852072775364), (5, 0.11019481420516967), (8, 0.1265871711075306), (4, 0.10556633397936821), (3, 0.11177566895882289)]}), (21, {'avg': 0.11715821090799111, 'all': [(4, 0.10607308894395828), (3, 0.11309394240379333), (8, 0.12548329215496778), (5, 0.1061755895614624), (6, 0.1246325025955836)]}), (22, {'avg': 0.10941351442174478, 'all': [(4, 0.10807705484330654), (5, 0.11112648397684097), (4, 0.10761351883411407), (5, 0.11229900121688843), (4, 0.10680189915001392)]}), (23, {'avg': 0.11157356262207031, 'all': [(8, 0.12112587783485651), (4, 0.10295218974351883), (4, 0.10987665317952633), (5, 0.10736438930034638), (4, 0.1080486811697483)]}), (24, {'avg': 0.11399999438297181, 'all': [(6, 0.12342275306582451), (3, 0.11088045438130696), (3, 0.11096444229284923), (5, 0.11016945242881775), (4, 0.1092703528702259)]}), (25, {'avg': 0.11209849934828908, 'all': [(3, 0.1115993857383728), (4, 0.11463235504925251), (4, 0.11289292760193348), (4, 0.11008944362401962), (4, 0.11115360632538795)]}), (26, {'avg': 0.11489634215831757, 'all': [(6, 0.12124932929873466), (5, 0.1145581766963005), (4, 0.11165021732449532), (3, 0.11151722570260365), (3, 0.11046125988165538)]}), (27, {'avg': 0.1101671539247036, 'all': [(3, 0.11425741761922836), (4, 0.11092540621757507), (4, 0.10666335187852383), (5, 0.11260920912027358), (4, 0.10679243691265583)]}), (28, {'avg': 0.10971603766083718, 'all': [(4, 0.10705376602709293), (5, 0.10798227190971374), (4, 0.10969790443778038), (3, 0.10913168142239253), (4, 0.11500191688537598)]}), (29, {'avg': 0.11216365758861814, 'all': [(6, 0.12383425856630008), (4, 0.1078275740146637), (4, 0.10798627696931362), (4, 0.1045971792191267), (3, 0.11026237905025482)]}), (30, {'avg': 0.10924525105434915, 'all': [(5, 0.11247541159391403), (4, 0.10713663883507252), (5, 0.11113985031843185), (4, 0.10677292943000793), (5, 0.10778523832559586)]}), (31, {'avg': 0.1108114555478096, 'all': [(4, 0.10533319227397442), (4, 0.11173160187900066), (4, 0.11642537266016006), (4, 0.11171124130487442), (4, 0.10885586962103844)]}), (32, {'avg': 0.10937119139866396, 'all': [(4, 0.11132640391588211), (4, 0.10061926953494549), (5, 0.11282214373350144), (4, 0.10824807733297348), (5, 0.1122560977935791)]}), (33, {'avg': 0.11121057830750943, 'all': [(4, 0.10951854661107063), (3, 0.10903848459323247), (5, 0.11292326748371125), (4, 0.1106626633554697), (4, 0.11293873377144337)]}), (34, {'avg': 0.11725565542777379, 'all': [(4, 0.11190319806337357), (4, 0.11683682352304459), (6, 0.13160702834526697), (5, 0.1138286605477333), (5, 0.108078034222126)]}), (35, {'avg': 0.11723988652229309, 'all': [(4, 0.10958482883870602), (3, 0.11443466693162918), (6, 0.13144019370277724), (3, 0.11169873674710591), (4, 0.10985426045954227)]}), (36, {'avg': 0.11783763164511094, 'all': [(5, 0.11100431680679321), (4, 0.10649200715124607), (4, 0.10814481601119041), (8, 0.13461413141340017), (5, 0.11465929895639419)]}), (37, {'avg': 0.10928801340716225, 'all': [(4, 0.10933808796107769), (5, 0.11241926550865174), (4, 0.10793261229991913), (4, 0.10800464078783989), (4, 0.10796264745295048)]}), (38, {'avg': 0.10804068297147751, 'all': [(4, 0.10920771211385727), (4, 0.10751903988420963), (4, 0.11065963841974735), (4, 0.1056087464094162), (5, 0.10737475901842117)]}), (39, {'avg': 0.1136071855823199, 'all': [(3, 0.10981646676858266), (6, 0.12623178089658418), (4, 0.10902516730129719), (4, 0.10787921585142612), (4, 0.10782331973314285)]}), (40, {'avg': 0.11913419246673584, 'all': [(4, 0.11043314263224602), (3, 0.1092572088042895), (6, 0.12588278204202652), (8, 0.12807856779545546), (4, 0.10723134502768517)]}), (41, {'avg': 0.1104627786712213, 'all': [(5, 0.1087679460644722), (4, 0.11411035992205143), (5, 0.11293106377124787), (4, 0.10804557800292969), (4, 0.10826558247208595)]}), (42, {'avg': 0.11132792915616717, 'all': [(4, 0.1078470628708601), (5, 0.11181298643350601), (3, 0.1134780024488767), (4, 0.1076775211840868), (5, 0.11525784730911255)]}), (43, {'avg': 0.11314193498004567, 'all': [(4, 0.10739755071699619), (6, 0.11998425175746281), (3, 0.11471979568401973), (5, 0.11475906372070313), (4, 0.10541803762316704)]}), (44, {'avg': 0.10893165059387684, 'all': [(4, 0.10993655025959015), (4, 0.10797037743031979), (4, 0.10875983349978924), (4, 0.10359800606966019), (4, 0.11439348571002483)]}), (45, {'avg': 0.11536391576131184, 'all': [(5, 0.11122353225946427), (5, 0.11204673796892166), (4, 0.1096936222165823), (8, 0.12368511687964201), (5, 0.11404379010200501)]}), (46, {'avg': 0.10933985667569297, 'all': [(4, 0.10817833617329597), (5, 0.11402489840984345), (4, 0.1092284731566906), (4, 0.10747284442186356), (4, 0.10662347078323364)]}), (47, {'avg': 0.11439984509100516, 'all': [(4, 0.10803520865738392), (3, 0.1123511791229248), (8, 0.12316501047462225), (4, 0.10903985612094402), (5, 0.11098448038101197)]}), (48, {'avg': 0.1119433610954068, 'all': [(4, 0.10889938473701477), (5, 0.1118267223238945), (4, 0.1156327873468399), (4, 0.10971471667289734), (5, 0.11332655549049378)]}), (49, {'avg': 0.1155921459197998, 'all': [(4, 0.11469567939639091), (4, 0.110234584659338), (4, 0.10927395336329937), (5, 0.10833090096712113), (8, 0.12641653418540955)]}), (50, {'avg': 0.11900048387738374, 'all': [(4, 0.10923637077212334), (8, 0.12471821904182434), (4, 0.1084065455943346), (4, 0.1147149857133627), (6, 0.12780587002635002)]})]}\n",
            "INFO:flwr:app_fit: metrics_distributed_fit {'train_loss': [(1, {'avg': 0.10582837675298963, 'all': [(4, 0.10289588198065758), (5, 0.1072576105594635), (4, 0.10323533602058887), (4, 0.10523335821926594), (4, 0.1101623885333538)]}), (2, {'avg': 0.10406400866451718, 'all': [(5, 0.10690417438745499), (4, 0.10299648530781269), (3, 0.10588139047225316), (5, 0.10102799087762833), (4, 0.10401331074535847)]}), (3, {'avg': 0.10786529226849477, 'all': [(4, 0.10429932177066803), (8, 0.11465538293123245), (3, 0.1065385068456332), (5, 0.1043970987200737), (4, 0.10318141244351864)]}), (4, {'avg': 0.10347048453986644, 'all': [(4, 0.10646961070597172), (4, 0.10488718003034592), (5, 0.10443343669176101), (3, 0.10145893692970276), (4, 0.09935963340103626)]}), (5, {'avg': 0.1076400976466096, 'all': [(3, 0.10575349628925323), (6, 0.1144119141002496), (5, 0.10456558167934418), (4, 0.1020893044769764), (5, 0.10816102921962738)]}), (6, {'avg': 0.10304580777883529, 'all': [(3, 0.10300678263107936), (5, 0.10388855785131454), (4, 0.10147987864911556), (4, 0.10297246277332306), (4, 0.10366091318428516)]}), (7, {'avg': 0.10639911703765392, 'all': [(4, 0.10534687340259552), (4, 0.10637730173766613), (4, 0.10975859500467777), (4, 0.10480804368853569), (4, 0.1057047713547945)]}), (8, {'avg': 0.11066083810650386, 'all': [(8, 0.11899921484291553), (4, 0.1046949103474617), (5, 0.10507380366325378), (4, 0.10943294875323772), (5, 0.10866152346134186)]}), (9, {'avg': 0.10338829942047596, 'all': [(5, 0.10392358303070068), (4, 0.1042215321213007), (4, 0.10274240747094154), (4, 0.10224304720759392), (3, 0.10377337535222371)]}), (10, {'avg': 0.11034064436400379, 'all': [(4, 0.10047146864235401), (6, 0.11531168346603711), (8, 0.11667250283062458), (5, 0.10790078043937683), (4, 0.10313937440514565)]}), (11, {'avg': 0.1048833593016579, 'all': [(5, 0.10427510589361191), (4, 0.10419938899576664), (4, 0.10898739472031593), (4, 0.10372632555663586), (4, 0.10338064469397068)]}), (12, {'avg': 0.10645937068121773, 'all': [(4, 0.10523924045264721), (5, 0.1070244088768959), (4, 0.10476286895573139), (5, 0.10860878378152847), (3, 0.10582412779331207)]}), (13, {'avg': 0.10656521150044032, 'all': [(4, 0.10594434849917889), (4, 0.10274455137550831), (4, 0.11044450290501118), (5, 0.1068154290318489), (4, 0.1068146713078022)]}), (14, {'avg': 0.10678023211658001, 'all': [(4, 0.10474157519638538), (4, 0.1067258920520544), (4, 0.10648322850465775), (4, 0.10938603058457375), (4, 0.10656443424522877)]}), (15, {'avg': 0.10502939336001874, 'all': [(4, 0.10255717672407627), (4, 0.10855434276163578), (4, 0.10427520982921124), (3, 0.10591461757818858), (5, 0.10425941944122315)]}), (16, {'avg': 0.11385917633771897, 'all': [(4, 0.1062929667532444), (5, 0.10714112520217896), (4, 0.10887869261205196), (4, 0.10674532875418663), (8, 0.12788822874426842)]}), (17, {'avg': 0.1137334995943567, 'all': [(8, 0.12842777743935585), (4, 0.10604855790734291), (3, 0.10813060899575551), (4, 0.10905422829091549), (4, 0.1009113248437643)]}), (18, {'avg': 0.1082765967363403, 'all': [(5, 0.10587218552827835), (3, 0.1135470022757848), (5, 0.10820285379886627), (4, 0.10737612843513489), (4, 0.10832195356488228)]}), (19, {'avg': 0.10540876111813954, 'all': [(4, 0.10550813376903534), (5, 0.10537524819374085), (4, 0.10393698513507843), (4, 0.10562315210700035), (4, 0.1066086646169424)]}), (20, {'avg': 0.11422241106629372, 'all': [(4, 0.10501852072775364), (5, 0.11019481420516967), (8, 0.1265871711075306), (4, 0.10556633397936821), (3, 0.11177566895882289)]}), (21, {'avg': 0.11715821090799111, 'all': [(4, 0.10607308894395828), (3, 0.11309394240379333), (8, 0.12548329215496778), (5, 0.1061755895614624), (6, 0.1246325025955836)]}), (22, {'avg': 0.10941351442174478, 'all': [(4, 0.10807705484330654), (5, 0.11112648397684097), (4, 0.10761351883411407), (5, 0.11229900121688843), (4, 0.10680189915001392)]}), (23, {'avg': 0.11157356262207031, 'all': [(8, 0.12112587783485651), (4, 0.10295218974351883), (4, 0.10987665317952633), (5, 0.10736438930034638), (4, 0.1080486811697483)]}), (24, {'avg': 0.11399999438297181, 'all': [(6, 0.12342275306582451), (3, 0.11088045438130696), (3, 0.11096444229284923), (5, 0.11016945242881775), (4, 0.1092703528702259)]}), (25, {'avg': 0.11209849934828908, 'all': [(3, 0.1115993857383728), (4, 0.11463235504925251), (4, 0.11289292760193348), (4, 0.11008944362401962), (4, 0.11115360632538795)]}), (26, {'avg': 0.11489634215831757, 'all': [(6, 0.12124932929873466), (5, 0.1145581766963005), (4, 0.11165021732449532), (3, 0.11151722570260365), (3, 0.11046125988165538)]}), (27, {'avg': 0.1101671539247036, 'all': [(3, 0.11425741761922836), (4, 0.11092540621757507), (4, 0.10666335187852383), (5, 0.11260920912027358), (4, 0.10679243691265583)]}), (28, {'avg': 0.10971603766083718, 'all': [(4, 0.10705376602709293), (5, 0.10798227190971374), (4, 0.10969790443778038), (3, 0.10913168142239253), (4, 0.11500191688537598)]}), (29, {'avg': 0.11216365758861814, 'all': [(6, 0.12383425856630008), (4, 0.1078275740146637), (4, 0.10798627696931362), (4, 0.1045971792191267), (3, 0.11026237905025482)]}), (30, {'avg': 0.10924525105434915, 'all': [(5, 0.11247541159391403), (4, 0.10713663883507252), (5, 0.11113985031843185), (4, 0.10677292943000793), (5, 0.10778523832559586)]}), (31, {'avg': 0.1108114555478096, 'all': [(4, 0.10533319227397442), (4, 0.11173160187900066), (4, 0.11642537266016006), (4, 0.11171124130487442), (4, 0.10885586962103844)]}), (32, {'avg': 0.10937119139866396, 'all': [(4, 0.11132640391588211), (4, 0.10061926953494549), (5, 0.11282214373350144), (4, 0.10824807733297348), (5, 0.1122560977935791)]}), (33, {'avg': 0.11121057830750943, 'all': [(4, 0.10951854661107063), (3, 0.10903848459323247), (5, 0.11292326748371125), (4, 0.1106626633554697), (4, 0.11293873377144337)]}), (34, {'avg': 0.11725565542777379, 'all': [(4, 0.11190319806337357), (4, 0.11683682352304459), (6, 0.13160702834526697), (5, 0.1138286605477333), (5, 0.108078034222126)]}), (35, {'avg': 0.11723988652229309, 'all': [(4, 0.10958482883870602), (3, 0.11443466693162918), (6, 0.13144019370277724), (3, 0.11169873674710591), (4, 0.10985426045954227)]}), (36, {'avg': 0.11783763164511094, 'all': [(5, 0.11100431680679321), (4, 0.10649200715124607), (4, 0.10814481601119041), (8, 0.13461413141340017), (5, 0.11465929895639419)]}), (37, {'avg': 0.10928801340716225, 'all': [(4, 0.10933808796107769), (5, 0.11241926550865174), (4, 0.10793261229991913), (4, 0.10800464078783989), (4, 0.10796264745295048)]}), (38, {'avg': 0.10804068297147751, 'all': [(4, 0.10920771211385727), (4, 0.10751903988420963), (4, 0.11065963841974735), (4, 0.1056087464094162), (5, 0.10737475901842117)]}), (39, {'avg': 0.1136071855823199, 'all': [(3, 0.10981646676858266), (6, 0.12623178089658418), (4, 0.10902516730129719), (4, 0.10787921585142612), (4, 0.10782331973314285)]}), (40, {'avg': 0.11913419246673584, 'all': [(4, 0.11043314263224602), (3, 0.1092572088042895), (6, 0.12588278204202652), (8, 0.12807856779545546), (4, 0.10723134502768517)]}), (41, {'avg': 0.1104627786712213, 'all': [(5, 0.1087679460644722), (4, 0.11411035992205143), (5, 0.11293106377124787), (4, 0.10804557800292969), (4, 0.10826558247208595)]}), (42, {'avg': 0.11132792915616717, 'all': [(4, 0.1078470628708601), (5, 0.11181298643350601), (3, 0.1134780024488767), (4, 0.1076775211840868), (5, 0.11525784730911255)]}), (43, {'avg': 0.11314193498004567, 'all': [(4, 0.10739755071699619), (6, 0.11998425175746281), (3, 0.11471979568401973), (5, 0.11475906372070313), (4, 0.10541803762316704)]}), (44, {'avg': 0.10893165059387684, 'all': [(4, 0.10993655025959015), (4, 0.10797037743031979), (4, 0.10875983349978924), (4, 0.10359800606966019), (4, 0.11439348571002483)]}), (45, {'avg': 0.11536391576131184, 'all': [(5, 0.11122353225946427), (5, 0.11204673796892166), (4, 0.1096936222165823), (8, 0.12368511687964201), (5, 0.11404379010200501)]}), (46, {'avg': 0.10933985667569297, 'all': [(4, 0.10817833617329597), (5, 0.11402489840984345), (4, 0.1092284731566906), (4, 0.10747284442186356), (4, 0.10662347078323364)]}), (47, {'avg': 0.11439984509100516, 'all': [(4, 0.10803520865738392), (3, 0.1123511791229248), (8, 0.12316501047462225), (4, 0.10903985612094402), (5, 0.11098448038101197)]}), (48, {'avg': 0.1119433610954068, 'all': [(4, 0.10889938473701477), (5, 0.1118267223238945), (4, 0.1156327873468399), (4, 0.10971471667289734), (5, 0.11332655549049378)]}), (49, {'avg': 0.1155921459197998, 'all': [(4, 0.11469567939639091), (4, 0.110234584659338), (4, 0.10927395336329937), (5, 0.10833090096712113), (8, 0.12641653418540955)]}), (50, {'avg': 0.11900048387738374, 'all': [(4, 0.10923637077212334), (8, 0.12471821904182434), (4, 0.1084065455943346), (4, 0.1147149857133627), (6, 0.12780587002635002)]})]}\n",
            "INFO flwr 2024-02-03 19:05:45,954 | app.py:252 | app_fit: metrics_distributed {}\n",
            "INFO:flwr:app_fit: metrics_distributed {}\n",
            "INFO flwr 2024-02-03 19:05:45,957 | app.py:253 | app_fit: losses_centralized [(0, 413.6842646598816), (1, 366.1624448299408), (2, 493.1829402446747), (3, 364.22232580184937), (4, 366.90958285331726), (5, 343.7302083969116), (6, 389.10349321365356), (7, 447.4872314929962), (8, 341.9533886909485), (9, 343.4836597442627), (10, 346.36473512649536), (11, 346.23002004623413), (12, 343.36998748779297), (13, 343.3090720176697), (14, 344.2949161529541), (15, 346.5241553783417), (16, 348.2825810909271), (17, 349.1183466911316), (18, 349.51515913009644), (19, 350.0044252872467), (20, 351.0363461971283), (21, 353.9350619316101), (22, 357.01129031181335), (23, 360.5373878479004), (24, 362.44862484931946), (25, 361.28728437423706), (26, 359.7333936691284), (27, 357.9387300014496), (28, 357.00821018218994), (29, 357.4580054283142), (30, 358.0527288913727), (31, 358.87835025787354), (32, 359.6644341945648), (33, 360.177344083786), (34, 359.4507176876068), (35, 358.1442918777466), (36, 356.775443315506), (37, 356.8251495361328), (38, 357.71801471710205), (39, 359.38439536094666), (40, 361.5620195865631), (41, 362.04366397857666), (42, 360.51122212409973), (43, 358.83952832221985), (44, 356.9429383277893), (45, 356.4196026325226), (46, 356.3651204109192), (47, 356.83060574531555), (48, 357.03506350517273), (49, 357.2059237957001), (50, 357.9398374557495)]\n",
            "INFO:flwr:app_fit: losses_centralized [(0, 413.6842646598816), (1, 366.1624448299408), (2, 493.1829402446747), (3, 364.22232580184937), (4, 366.90958285331726), (5, 343.7302083969116), (6, 389.10349321365356), (7, 447.4872314929962), (8, 341.9533886909485), (9, 343.4836597442627), (10, 346.36473512649536), (11, 346.23002004623413), (12, 343.36998748779297), (13, 343.3090720176697), (14, 344.2949161529541), (15, 346.5241553783417), (16, 348.2825810909271), (17, 349.1183466911316), (18, 349.51515913009644), (19, 350.0044252872467), (20, 351.0363461971283), (21, 353.9350619316101), (22, 357.01129031181335), (23, 360.5373878479004), (24, 362.44862484931946), (25, 361.28728437423706), (26, 359.7333936691284), (27, 357.9387300014496), (28, 357.00821018218994), (29, 357.4580054283142), (30, 358.0527288913727), (31, 358.87835025787354), (32, 359.6644341945648), (33, 360.177344083786), (34, 359.4507176876068), (35, 358.1442918777466), (36, 356.775443315506), (37, 356.8251495361328), (38, 357.71801471710205), (39, 359.38439536094666), (40, 361.5620195865631), (41, 362.04366397857666), (42, 360.51122212409973), (43, 358.83952832221985), (44, 356.9429383277893), (45, 356.4196026325226), (46, 356.3651204109192), (47, 356.83060574531555), (48, 357.03506350517273), (49, 357.2059237957001), (50, 357.9398374557495)]\n",
            "INFO flwr 2024-02-03 19:05:45,960 | app.py:254 | app_fit: metrics_centralized {'accuracy': [(0, 0.0065625), (1, 0.079375), (2, 0.079375), (3, 0.070625), (4, 0.0709375), (5, 0.0709375), (6, 0.079375), (7, 0.079375), (8, 0.070625), (9, 0.0709375), (10, 0.0709375), (11, 0.079375), (12, 0.074375), (13, 0.069375), (14, 0.079375), (15, 0.079375), (16, 0.079375), (17, 0.079375), (18, 0.079375), (19, 0.070625), (20, 0.074375), (21, 0.074375), (22, 0.074375), (23, 0.069375), (24, 0.079375), (25, 0.079375), (26, 0.079375), (27, 0.079375), (28, 0.079375), (29, 0.079375), (30, 0.070625), (31, 0.070625), (32, 0.069375), (33, 0.069375), (34, 0.069375), (35, 0.069375), (36, 0.079375), (37, 0.079375), (38, 0.079375), (39, 0.079375), (40, 0.070625), (41, 0.070625), (42, 0.070625), (43, 0.0709375), (44, 0.0709375), (45, 0.069375), (46, 0.069375), (47, 0.069375), (48, 0.079375), (49, 0.079375), (50, 0.079375)]}\n",
            "INFO:flwr:app_fit: metrics_centralized {'accuracy': [(0, 0.0065625), (1, 0.079375), (2, 0.079375), (3, 0.070625), (4, 0.0709375), (5, 0.0709375), (6, 0.079375), (7, 0.079375), (8, 0.070625), (9, 0.0709375), (10, 0.0709375), (11, 0.079375), (12, 0.074375), (13, 0.069375), (14, 0.079375), (15, 0.079375), (16, 0.079375), (17, 0.079375), (18, 0.079375), (19, 0.070625), (20, 0.074375), (21, 0.074375), (22, 0.074375), (23, 0.069375), (24, 0.079375), (25, 0.079375), (26, 0.079375), (27, 0.079375), (28, 0.079375), (29, 0.079375), (30, 0.070625), (31, 0.070625), (32, 0.069375), (33, 0.069375), (34, 0.069375), (35, 0.069375), (36, 0.079375), (37, 0.079375), (38, 0.079375), (39, 0.079375), (40, 0.070625), (41, 0.070625), (42, 0.070625), (43, 0.0709375), (44, 0.0709375), (45, 0.069375), (46, 0.069375), (47, 0.069375), (48, 0.079375), (49, 0.079375), (50, 0.079375)]}\n"
          ]
        }
      ]
    },
    {
      "cell_type": "code",
      "source": [
        "print(len(parameters_for_each_round))\n",
        "\n",
        "theta_ts = [compute_parameter_update(parameters_for_each_round[i], parameters_for_each_round[-1]) for i in range(len(parameters_for_each_round) - 1)]\n",
        "updates = []\n",
        "for i in range(1, len(parameters_for_each_round)):\n",
        "  updates.append(compute_parameter_update(parameters_for_each_round[i-1], parameters_for_each_round[i]))\n",
        "\n",
        "cosine_similarities = [compute_similarity(update, theta_t) for update, theta_t in zip(updates, theta_ts)]\n",
        "\n",
        "plt.plot(np.arange(len(updates)), cosine_similarities)\n",
        "\n",
        "plt.title(\"Cosine similarity between update in each round and overall update\")\n",
        "\n",
        "plt.xlabel('Round')\n",
        "plt.ylabel('Cosine score')\n",
        "plt.legend()\n",
        "plt.show()"
      ],
      "metadata": {
        "id": "Vg470SLyWJ-G",
        "outputId": "d1f58b2f-8e4f-4701-cde9-d8efb2bd4763",
        "colab": {
          "base_uri": "https://localhost:8080/",
          "height": 527
        }
      },
      "execution_count": 72,
      "outputs": [
        {
          "output_type": "stream",
          "name": "stdout",
          "text": [
            "51\n"
          ]
        },
        {
          "output_type": "stream",
          "name": "stderr",
          "text": [
            "WARNING:matplotlib.legend:No artists with labels found to put in legend.  Note that artists whose label start with an underscore are ignored when legend() is called with no argument.\n"
          ]
        },
        {
          "output_type": "display_data",
          "data": {
            "text/plain": [
              "<Figure size 640x480 with 1 Axes>"
            ],
            "image/png": "[encoded data removed]"
          },
          "metadata": {}
        }
      ]
    },
    {
      "cell_type": "markdown",
      "source": [
        "From the graph we can see that the cosine similarity converges much quicker and converge to 1, the overall optimization direction, as opposed to only converging to a value of 0.8 in the last question. This is because it utilizes server momentum, which is similar to a Federated Learning version of momentum in SGD. This helps the global model converge quicker, via momentum which changes the update per round to be a multiple of the past gradient plus the original term in FedAvg . This helps dampen the effects of oscillating gradient updates per round and helps the model converge quicker by pointing each update in the overall gradient update direction, which is especially useful in Federated Learning as the different clients and datasets used for training per round mean that the model updates oscillate a lot and diverge from previous update directions (as seen in previous questions). Therefore we get a result as shown from the graph that the gradient updates converge quicker and reaches values close to 1 quickly, and the models converge quicker."
      ],
      "metadata": {
        "id": "ZVEE7pwIYdfP"
      }
    },
    {
      "cell_type": "markdown",
      "metadata": {
        "id": "-WfWeMqLQ0oT"
      },
      "source": [
        "(c) 2024 Alexandru-Andrei Iacob, Lorenzo Sani"
      ]
    }
  ],
  "metadata": {
    "colab": {
      "provenance": []
    },
    "kernelspec": {
      "display_name": "Python 3",
      "name": "python3"
    },
    "language_info": {
      "codemirror_mode": {
        "name": "ipython",
        "version": 3
      },
      "file_extension": ".py",
      "mimetype": "text/x-python",
      "name": "python",
      "nbconvert_exporter": "python",
      "pygments_lexer": "ipython3",
      "version": "3.10.8"
    },
    "vscode": {
      "interpreter": {
        "hash": "224d0ab12de28608c5a4d7a39646ed9b98595177ad290f2912bfa68781d77d65"
      }
    }
  },
  "nbformat": 4,
  "nbformat_minor": 0
}
